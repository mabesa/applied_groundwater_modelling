{
 "cells": [
  {
   "cell_type": "code",
   "execution_count": 1,
   "metadata": {
    "tags": [
     "auto"
    ]
   },
   "outputs": [
    {
     "data": {
      "text/html": [
       "<div style=\"display: flex; justify-content: space-between; padding: 20px;\">\n",
       "<a href=\"02_assess_groundwater_reservoir.ipynb\" style=\"text-decoration: none; color: #2196F3;\">← Previous: Groundwater as a Reservoir</a>\n",
       "</div>"
      ],
      "text/plain": [
       "<IPython.core.display.HTML object>"
      ]
     },
     "metadata": {},
     "output_type": "display_data"
    }
   ],
   "source": [
    "import sys\n",
    "import os\n",
    "# Import local libraries\n",
    "sys.path.append('../../src')\n",
    "from notebook_navigation import NotebookNavigation\n",
    "nav = NotebookNavigation()\n",
    "nav.display_navigation('darcy')"
   ]
  },
  {
   "cell_type": "markdown",
   "metadata": {},
   "source": [
    "# Self-Assessment: Darcy's Law\n",
    "\n",
    "Welcome to this interactive self-assessment on Darcy's Law! This notebook will help you evaluate your understanding of one of the fundamental principles in hydrogeology.\n",
    "\n",
    "## Learning Objectives\n",
    "By the end of this assessment, you should be able to:\n",
    "1. Define and explain Darcy's Law (Remember/Understand)\n",
    "2. Calculate flow rates using Darcy's Law (Apply)\n",
    "3. Analyze how different parameters affect groundwater flow (Analyze)\n",
    "4. Evaluate the applicability of Darcy's Law in different scenarios (Evaluate)\n",
    "\n",
    "Let's begin!"
   ]
  },
  {
   "cell_type": "code",
   "execution_count": 2,
   "metadata": {},
   "outputs": [
    {
     "data": {
      "text/html": [
       "\n",
       "<script src=\"https://cdnjs.cloudflare.com/ajax/libs/mathjax/2.7.7/MathJax.js?config=TeX-AMS_HTML\"></script>\n"
      ],
      "text/plain": [
       "<IPython.core.display.HTML object>"
      ]
     },
     "metadata": {},
     "output_type": "display_data"
    }
   ],
   "source": [
    "# Import required libraries\n",
    "import numpy as np\n",
    "import matplotlib.pyplot as plt\n",
    "from ipywidgets import interact, interactive, fixed, interact_manual\n",
    "from IPython.display import display, HTML\n",
    "\n",
    "import ipywidgets as widgets\n",
    "import random\n",
    "import sys\n",
    "\n",
    "# Import local libraries\n",
    "sys.path.append('../../src')\n",
    "from multiplechoice import MultipleChoice\n",
    "\n",
    "display(HTML(\"\"\"\n",
    "<script src=\"https://cdnjs.cloudflare.com/ajax/libs/mathjax/2.7.7/MathJax.js?config=TeX-AMS_HTML\"></script>\n",
    "\"\"\"))"
   ]
  },
  {
   "cell_type": "markdown",
   "metadata": {},
   "source": [
    "## Part 1: Understanding the Basics (Remember/Understand)\n",
    "First, let's test your basic understanding of Darcy's Law. Choose the correct answers below:"
   ]
  },
  {
   "cell_type": "code",
   "execution_count": 3,
   "metadata": {},
   "outputs": [
    {
     "data": {
      "text/markdown": [
       "What does Darcy's Law primarily describe?"
      ],
      "text/plain": [
       "<IPython.core.display.Markdown object>"
      ]
     },
     "metadata": {},
     "output_type": "display_data"
    },
    {
     "data": {
      "text/markdown": [
       "1. The relationship between hydraulic gradient and flow rate in porous media"
      ],
      "text/plain": [
       "<IPython.core.display.Markdown object>"
      ]
     },
     "metadata": {},
     "output_type": "display_data"
    },
    {
     "data": {
      "text/markdown": [
       "2. The relationship between pressure and volume in gases"
      ],
      "text/plain": [
       "<IPython.core.display.Markdown object>"
      ]
     },
     "metadata": {},
     "output_type": "display_data"
    },
    {
     "data": {
      "text/markdown": [
       "3. The relationship between temperature and groundwater flow"
      ],
      "text/plain": [
       "<IPython.core.display.Markdown object>"
      ]
     },
     "metadata": {},
     "output_type": "display_data"
    },
    {
     "data": {
      "text/markdown": [
       "4. The relationship between porosity and permeability"
      ],
      "text/plain": [
       "<IPython.core.display.Markdown object>"
      ]
     },
     "metadata": {},
     "output_type": "display_data"
    },
    {
     "data": {
      "application/vnd.jupyter.widget-view+json": {
       "model_id": "5ed66ca9a93144cab60246ffa0650d8f",
       "version_major": 2,
       "version_minor": 0
      },
      "text/plain": [
       "VBox(children=(RadioButtons(description='Select:', options=(1, 2, 3, 4), value=1), Button(description='Submit'…"
      ]
     },
     "execution_count": 3,
     "metadata": {},
     "output_type": "execute_result"
    }
   ],
   "source": [
    "# Question 1\n",
    "q1 = MultipleChoice(\n",
    "    question = \"What does Darcy's Law primarily describe?\",\n",
    "    options = [\n",
    "        \"The relationship between hydraulic gradient and flow rate in porous media\",\n",
    "        \"The relationship between pressure and volume in gases\",\n",
    "        \"The relationship between temperature and groundwater flow\",\n",
    "        \"The relationship between porosity and permeability\"\n",
    "    ],\n",
    "    correct_answer = 1,\n",
    "    learning_resource=\"../content/01_content_darcys_law.ipynb\"\n",
    "    )\n",
    "q1.ask()"
   ]
  },
  {
   "cell_type": "code",
   "execution_count": 4,
   "metadata": {},
   "outputs": [
    {
     "data": {
      "text/markdown": [
       "What is the formula describing Darcy's Law?"
      ],
      "text/plain": [
       "<IPython.core.display.Markdown object>"
      ]
     },
     "metadata": {},
     "output_type": "display_data"
    },
    {
     "data": {
      "text/markdown": [
       "1. $n = \\frac{V_{pores}}{V_{total}}$"
      ],
      "text/plain": [
       "<IPython.core.display.Markdown object>"
      ]
     },
     "metadata": {},
     "output_type": "display_data"
    },
    {
     "data": {
      "text/markdown": [
       "2. $u = \\frac{v}{n}$"
      ],
      "text/plain": [
       "<IPython.core.display.Markdown object>"
      ]
     },
     "metadata": {},
     "output_type": "display_data"
    },
    {
     "data": {
      "text/markdown": [
       "3. $v = K \\cdot \\frac{\\Delta h}{L}$"
      ],
      "text/plain": [
       "<IPython.core.display.Markdown object>"
      ]
     },
     "metadata": {},
     "output_type": "display_data"
    },
    {
     "data": {
      "application/vnd.jupyter.widget-view+json": {
       "model_id": "da6145f77c2e40b0a443ccefe5395ae0",
       "version_major": 2,
       "version_minor": 0
      },
      "text/plain": [
       "VBox(children=(RadioButtons(description='Select:', options=(1, 2, 3), value=1), Button(description='Submit', s…"
      ]
     },
     "execution_count": 4,
     "metadata": {},
     "output_type": "execute_result"
    }
   ],
   "source": [
    "# Question 2\n",
    "q2 = MultipleChoice(\n",
    "    question = \"What is the formula describing Darcy's Law?\",\n",
    "    options = [\n",
    "        \"$n = \\\\frac{V_{pores}}{V_{total}}$\",\n",
    "        \"$u = \\\\frac{v}{n}$\",\n",
    "        \"$v = K \\\\cdot \\\\frac{\\\\Delta h}{L}$\"\n",
    "    ],\n",
    "    correct_answer = 3,\n",
    "    learning_resource=\"../content/01_content_darcys_law.ipynb\"\n",
    "    )\n",
    "q2.ask()"
   ]
  },
  {
   "cell_type": "markdown",
   "metadata": {},
   "source": [
    "## Part 2: Applying Darcy's Law (Apply)\n",
    "Now let's practice calculating flow rates using Darcy's Law. You'll be given different scenarios to work with."
   ]
  },
  {
   "cell_type": "code",
   "execution_count": 5,
   "metadata": {},
   "outputs": [
    {
     "data": {
      "application/vnd.jupyter.widget-view+json": {
       "model_id": "96058953d0ab43189db0d9cf0c4e8fe2",
       "version_major": 2,
       "version_minor": 0
      },
      "text/plain": [
       "interactive(children=(FloatSlider(value=1.0, description='K (m/day):', max=10.0, min=0.1), FloatSlider(value=0…"
      ]
     },
     "metadata": {},
     "output_type": "display_data"
    }
   ],
   "source": [
    "def calculate_flow(K, i, A):\n",
    "    \"\"\"Calculate flow rate using Darcy's Law\n",
    "\n",
    "    Parameters:\n",
    "    K (float): Hydraulic conductivity (m/day)\n",
    "    i (float): Hydraulic gradient (dimensionless)\n",
    "    A (float): Cross-sectional area (m²)\n",
    "\n",
    "    Returns:\n",
    "    float: Flow rate (m³/day)\n",
    "    \"\"\"\n",
    "    return K * i * A\n",
    "\n",
    "def interactive_darcy():\n",
    "    @interact\n",
    "    def plot_darcy(K=widgets.FloatSlider(min=0.1, max=10, step=0.1, value=1, description='K (m/day):'),\n",
    "                   i=widgets.FloatSlider(min=0.001, max=0.1, step=0.001, value=0.01, description='i:'),\n",
    "                   A=widgets.FloatSlider(min=1, max=100, step=1, value=10, description='A (m²):')):\n",
    "        Q = calculate_flow(K, i, A)\n",
    "        print(f\"Flow rate (Q) = {Q:.2f} m³/day\")\n",
    "\n",
    "        # Create a simple visualization\n",
    "        fig, ax = plt.subplots(figsize=(8, 4))\n",
    "        x = np.linspace(0, 10, 100)\n",
    "        y = K * i * x  # Flow rate vs. area\n",
    "        ax.plot(x, y)\n",
    "        ax.set_xlabel('Cross-sectional Area (m²)')\n",
    "        ax.set_ylabel('Flow Rate (m³/day)')\n",
    "        ax.set_title('Flow Rate vs. Cross-sectional Area')\n",
    "        plt.grid(True)\n",
    "        plt.show()\n",
    "\n",
    "interactive_darcy()"
   ]
  },
  {
   "cell_type": "markdown",
   "metadata": {},
   "source": [
    "## Part 3: Analysis Challenge (Analyze)\n",
    "Let's analyze how changes in different parameters affect groundwater flow. You'll be presented with a real-world scenario and need to analyze the impacts of various changes."
   ]
  },
  {
   "cell_type": "code",
   "execution_count": 6,
   "metadata": {},
   "outputs": [
    {
     "name": "stdout",
     "output_type": "stream",
     "text": [
      "\n",
      "        You are a hydrogeologist working on a contamination problem. A chemical spill has occurred\n",
      "        upgradient of a drinking water well. The aquifer has the following characteristics:\n",
      "        - Hydraulic conductivity (K) = 5 m/day\n",
      "        - Hydraulic gradient (i) = 0.005\n",
      "        - Effective porosity = 0.3\n",
      "        - Distance to well = 500 m\n",
      "        \n"
     ]
    },
    {
     "data": {
      "application/vnd.jupyter.widget-view+json": {
       "model_id": "6583b243f28f4391950815c86feb5e27",
       "version_major": 2,
       "version_minor": 0
      },
      "text/plain": [
       "interactive(children=(FloatSlider(value=5.0, description='K (m/day):', max=10.0, min=1.0), FloatSlider(value=0…"
      ]
     },
     "metadata": {},
     "output_type": "display_data"
    }
   ],
   "source": [
    "class AnalysisChallenge:\n",
    "    def __init__(self):\n",
    "        self.scenario = \"\"\"\n",
    "        You are a hydrogeologist working on a contamination problem. A chemical spill has occurred\n",
    "        upgradient of a drinking water well. The aquifer has the following characteristics:\n",
    "        - Hydraulic conductivity (K) = 5 m/day\n",
    "        - Hydraulic gradient (i) = 0.005\n",
    "        - Effective porosity = 0.3\n",
    "        - Distance to well = 500 m\n",
    "        \"\"\"\n",
    "\n",
    "    def present_challenge(self):\n",
    "        print(self.scenario)\n",
    "\n",
    "        def calculate_velocity(K, i, n):\n",
    "            return (K * i) / n\n",
    "\n",
    "        @interact\n",
    "        def analyze_parameters(K=widgets.FloatSlider(min=1, max=10, step=0.1, value=5, description='K (m/day):'),\n",
    "                              i=widgets.FloatSlider(min=0.001, max=0.01, step=0.001, value=0.005, description='i:'),\n",
    "                              n=widgets.FloatSlider(min=0.1, max=0.5, step=0.01, value=0.3, description='Porosity:')):\n",
    "            v = calculate_velocity(K, i, n)\n",
    "            travel_time = 500 / v  # days\n",
    "\n",
    "            print(f\"\\nResults:\")\n",
    "            print(f\"Groundwater velocity = {v:.2f} m/day\")\n",
    "            print(f\"Travel time to well = {travel_time:.1f} days ({travel_time/365:.1f} years)\")\n",
    "\n",
    "challenge = AnalysisChallenge()\n",
    "challenge.present_challenge()"
   ]
  },
  {
   "cell_type": "markdown",
   "metadata": {},
   "source": [
    "## Part 4: Evaluation (Evaluate)\n",
    "Now, let's evaluate the applicability of Darcy's Law in different situations. You'll need to consider the assumptions and limitations of the law."
   ]
  },
  {
   "cell_type": "code",
   "execution_count": 7,
   "metadata": {},
   "outputs": [
    {
     "name": "stdout",
     "output_type": "stream",
     "text": [
      "\n",
      "Scenario 1:\n",
      "Scenario: Flow through a fractured granite bedrock with large apertures\n",
      "\n",
      "Does Darcy's Law apply to this scenario?\n"
     ]
    },
    {
     "data": {
      "application/vnd.jupyter.widget-view+json": {
       "model_id": "5202833ab5a54468aebbe051624303c2",
       "version_major": 2,
       "version_minor": 0
      },
      "text/plain": [
       "VBox(children=(RadioButtons(description='Select:', options=('Yes', 'No'), value='Yes'), Button(description='Su…"
      ]
     },
     "metadata": {},
     "output_type": "display_data"
    },
    {
     "name": "stdout",
     "output_type": "stream",
     "text": [
      "\n",
      "Scenario 2:\n",
      "Scenario: Flow through a homogeneous sand aquifer\n",
      "\n",
      "Does Darcy's Law apply to this scenario?\n"
     ]
    },
    {
     "data": {
      "application/vnd.jupyter.widget-view+json": {
       "model_id": "c78e5232f0ca4ca19ad8b2036068b518",
       "version_major": 2,
       "version_minor": 0
      },
      "text/plain": [
       "VBox(children=(RadioButtons(description='Select:', options=('Yes', 'No'), value='Yes'), Button(description='Su…"
      ]
     },
     "metadata": {},
     "output_type": "display_data"
    },
    {
     "name": "stdout",
     "output_type": "stream",
     "text": [
      "\n",
      "Scenario 3:\n",
      "Scenario: Flow in a karst aquifer with large solution channels\n",
      "\n",
      "Does Darcy's Law apply to this scenario?\n"
     ]
    },
    {
     "data": {
      "application/vnd.jupyter.widget-view+json": {
       "model_id": "59bf82cf5a29405689a66801348d590d",
       "version_major": 2,
       "version_minor": 0
      },
      "text/plain": [
       "VBox(children=(RadioButtons(description='Select:', options=('Yes', 'No'), value='Yes'), Button(description='Su…"
      ]
     },
     "metadata": {},
     "output_type": "display_data"
    }
   ],
   "source": [
    "class EvaluationExercise:\n",
    "    def __init__(self):\n",
    "        self.scenarios = [\n",
    "            {\n",
    "                'description': \"Flow through a fractured granite bedrock with large apertures\",\n",
    "                'correct': False,\n",
    "                'explanation': \"Darcy's Law assumes laminar flow through porous media. In large fractures, flow may be turbulent.\"\n",
    "            },\n",
    "            {\n",
    "                'description': \"Flow through a homogeneous sand aquifer\",\n",
    "                'correct': True,\n",
    "                'explanation': \"This is an ideal scenario for Darcy's Law - homogeneous porous media with laminar flow.\"\n",
    "            },\n",
    "            {\n",
    "                'description': \"Flow in a karst aquifer with large solution channels\",\n",
    "                'correct': False,\n",
    "                'explanation': \"Karst aquifers often exhibit turbulent flow in solution channels, violating Darcy's Law assumptions.\"\n",
    "            }\n",
    "        ]\n",
    "\n",
    "    def present_scenario(self, index):\n",
    "        scenario = self.scenarios[index]\n",
    "        print(f\"Scenario: {scenario['description']}\")\n",
    "        print(\"\\nDoes Darcy's Law apply to this scenario?\")\n",
    "\n",
    "        answer = widgets.RadioButtons(\n",
    "            options=['Yes', 'No'],\n",
    "            description='Select:',\n",
    "            disabled=False\n",
    "        )\n",
    "\n",
    "        submit = widgets.Button(description='Submit')\n",
    "        output = widgets.Output()\n",
    "\n",
    "        def check_answer(b):\n",
    "            with output:\n",
    "                output.clear_output()\n",
    "                user_correct = (answer.value == 'Yes') == scenario['correct']\n",
    "                if user_correct:\n",
    "                    print(\"✅ Correct!\")\n",
    "                else:\n",
    "                    print(\"❌ Incorrect.\")\n",
    "                print(f\"\\nExplanation: {scenario['explanation']}\")\n",
    "\n",
    "        submit.on_click(check_answer)\n",
    "        return widgets.VBox([answer, submit, output])\n",
    "\n",
    "evaluation = EvaluationExercise()\n",
    "for i in range(len(evaluation.scenarios)):\n",
    "    print(f\"\\nScenario {i+1}:\")\n",
    "    display(evaluation.present_scenario(i))"
   ]
  },
  {
   "cell_type": "markdown",
   "metadata": {},
   "source": [
    "## Final Assessment\n",
    "Congratulations on completing the self-assessment! Here's a summary of what you've learned:    \n",
    "   \n",
    "1. Basic understanding of Darcy's Law and its components    \n",
    "2. Ability to calculate flow rates using the law    \n",
    "3. Analysis of parameter sensitivity and their effects on groundwater flow    \n",
    "4. Evaluation of when Darcy's Law is applicable    \n",
    "\n",
    "If you'd like to review any section, feel free to go back and retry the exercises. Remember that this self-assessment is meant to help you identify areas where you might need more practice.    \n",
    "\n",
    "### Next Steps    \n",
    "- Review any concepts you found challenging by working through the [Darcy's Law content notebook](../content/01_content_darcys_law.ipynb)   \n",
    "- Try creating your own scenarios and solving them    \n",
    "- Apply these concepts to real-world problems in your coursework    \n",
    "\n",
    "Good luck with your studies!"
   ]
  },
  {
   "cell_type": "code",
   "execution_count": 8,
   "metadata": {
    "tags": [
     "auto"
    ]
   },
   "outputs": [
    {
     "data": {
      "text/html": [
       "<div style=\"display: flex; justify-content: space-between; padding: 20px;\">\n",
       "<a href=\"02_assess_groundwater_reservoir.ipynb\" style=\"text-decoration: none; color: #2196F3;\">← Previous: Groundwater as a Reservoir</a>\n",
       "</div>"
      ],
      "text/plain": [
       "<IPython.core.display.HTML object>"
      ]
     },
     "metadata": {},
     "output_type": "display_data"
    }
   ],
   "source": [
    "nav.display_navigation('darcy')"
   ]
  }
 ],
 "metadata": {
  "kernelspec": {
   "display_name": "gw_course",
   "language": "python",
   "name": "python3"
  },
  "language_info": {
   "codemirror_mode": {
    "name": "ipython",
    "version": 3
   },
   "file_extension": ".py",
   "mimetype": "text/x-python",
   "name": "python",
   "nbconvert_exporter": "python",
   "pygments_lexer": "ipython3",
   "version": "3.13.0"
  }
 },
 "nbformat": 4,
 "nbformat_minor": 2
}
