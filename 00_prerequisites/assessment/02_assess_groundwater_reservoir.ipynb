{
 "cells": [
  {
   "cell_type": "code",
   "execution_count": 1,
   "metadata": {},
   "outputs": [
    {
     "data": {
      "text/html": [
       "<div style=\"display: flex; justify-content: space-between; padding: 20px;\">\n",
       "<a href=\"01_assess_porosity.ipynb\" style=\"text-decoration: none; color: #2196F3;\">← Previous: Porosity</a>\n",
       "</div>"
      ],
      "text/plain": [
       "<IPython.core.display.HTML object>"
      ]
     },
     "metadata": {},
     "output_type": "display_data"
    }
   ],
   "source": [
    "import sys\n",
    "import os\n",
    "# Import local libraries\n",
    "sys.path.append('../../src')\n",
    "from notebook_navigation import NotebookNavigation\n",
    "nav = NotebookNavigation()\n",
    "nav.display_navigation('groundwater_reservoir')"
   ]
  },
  {
   "cell_type": "code",
   "execution_count": null,
   "metadata": {},
   "outputs": [],
   "source": []
  },
  {
   "cell_type": "markdown",
   "metadata": {},
   "source": [
    "# Groundwater as Reservoir"
   ]
  },
  {
   "cell_type": "code",
   "execution_count": 2,
   "metadata": {},
   "outputs": [
    {
     "data": {
      "text/html": [
       "<div style=\"display: flex; justify-content: space-between; padding: 20px;\">\n",
       "<a href=\"01_assess_porosity.ipynb\" style=\"text-decoration: none; color: #2196F3;\">← Previous: Porosity</a>\n",
       "</div>"
      ],
      "text/plain": [
       "<IPython.core.display.HTML object>"
      ]
     },
     "metadata": {},
     "output_type": "display_data"
    }
   ],
   "source": [
    "\n",
    "nav.display_navigation('groundwater_reservoir')"
   ]
  }
 ],
 "metadata": {
  "kernelspec": {
   "display_name": "gw_course",
   "language": "python",
   "name": "python3"
  },
  "language_info": {
   "codemirror_mode": {
    "name": "ipython",
    "version": 3
   },
   "file_extension": ".py",
   "mimetype": "text/x-python",
   "name": "python",
   "nbconvert_exporter": "python",
   "pygments_lexer": "ipython3",
   "version": "3.13.0"
  }
 },
 "nbformat": 4,
 "nbformat_minor": 2
}
