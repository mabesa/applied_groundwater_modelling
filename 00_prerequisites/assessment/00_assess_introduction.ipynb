{
 "cells": [
  {
   "cell_type": "code",
   "execution_count": 1,
   "metadata": {
    "tags": [
     "auto"
    ]
   },
   "outputs": [
    {
     "data": {
      "text/html": [
       "<div style=\"display: flex; justify-content: space-between; padding: 20px;\">\n",
       "<span></span>\n",
       "<a href=\"01_assess_porosity.ipynb\" style=\"text-decoration: none; color: #2196F3;\">Next: Porosity →</a>\n",
       "</div>"
      ],
      "text/plain": [
       "<IPython.core.display.HTML object>"
      ]
     },
     "metadata": {},
     "output_type": "display_data"
    }
   ],
   "source": [
    "import sys\n",
    "import os\n",
    "# Import local libraries\n",
    "sys.path.append('../../src')\n",
    "from notebook_navigation import NotebookNavigation\n",
    "nav = NotebookNavigation()\n",
    "nav.display_navigation('intro')"
   ]
  },
  {
   "cell_type": "markdown",
   "metadata": {},
   "source": [
    "# Introducing the prerequisites for this course\n",
    "We assume that you have a basic understanding of Python programming. If you are new to Python, we recommend that you take a python tutorial before starting this course. You can find a good Python tutorial for example at [Python.org](https://docs.python.org/3/tutorial/index.html).\n",
    "\n",
    "Further, this course assumes that you have a basic understanding of the  hydrological cycle and of the basic concepts of hydrology and hydrogeology. \n",
    "\n",
    "This module provides self-assessments which can be taken in the first week of the course to check your understanding of the prerequisites. If you are not familiar with the topics covered in the self-assessments, we urge that you take a look at the resources provided in the self-assessments as soon as possible as the rest of the course will build on these foundational concepts.\n",
    "\n",
    "# Up for discussion:\n",
    "- Implement existing exercises for topic 2 for assessing the understanding of the prerequisites?"
   ]
  },
  {
   "cell_type": "code",
   "execution_count": 2,
   "metadata": {
    "tags": [
     "auto"
    ]
   },
   "outputs": [
    {
     "data": {
      "text/html": [
       "<div style=\"display: flex; justify-content: space-between; padding: 20px;\">\n",
       "<span></span>\n",
       "<a href=\"01_assess_porosity.ipynb\" style=\"text-decoration: none; color: #2196F3;\">Next: Porosity →</a>\n",
       "</div>"
      ],
      "text/plain": [
       "<IPython.core.display.HTML object>"
      ]
     },
     "metadata": {},
     "output_type": "display_data"
    }
   ],
   "source": [
    "nav.display_navigation('intro')"
   ]
  }
 ],
 "metadata": {
  "kernelspec": {
   "display_name": "gw_course",
   "language": "python",
   "name": "python3"
  },
  "language_info": {
   "codemirror_mode": {
    "name": "ipython",
    "version": 3
   },
   "file_extension": ".py",
   "mimetype": "text/x-python",
   "name": "python",
   "nbconvert_exporter": "python",
   "pygments_lexer": "ipython3",
   "version": "3.13.0"
  }
 },
 "nbformat": 4,
 "nbformat_minor": 2
}
