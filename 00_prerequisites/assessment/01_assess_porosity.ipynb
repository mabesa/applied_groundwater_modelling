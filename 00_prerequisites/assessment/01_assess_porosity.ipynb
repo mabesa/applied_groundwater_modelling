{
 "cells": [
  {
   "cell_type": "code",
   "execution_count": 1,
   "metadata": {},
   "outputs": [
    {
     "data": {
      "text/html": [
       "<div style=\"display: flex; justify-content: space-between; padding: 20px;\">\n",
       "<a href=\"00_assess_introduction.ipynb\" style=\"text-decoration: none; color: #2196F3;\">← Previous: Introduction to the self assessment of the course prerequisites</a>\n",
       "<a href=\"02_assess_groundwater_reservoir.ipynb\" style=\"text-decoration: none; color: #2196F3;\">Next: Groundwater as a Reservoir →</a>\n",
       "</div>"
      ],
      "text/plain": [
       "<IPython.core.display.HTML object>"
      ]
     },
     "metadata": {},
     "output_type": "display_data"
    }
   ],
   "source": [
    "import sys\n",
    "import os\n",
    "# Import local libraries\n",
    "sys.path.append('../../src')\n",
    "from notebook_navigation import NotebookNavigation\n",
    "nav = NotebookNavigation()\n",
    "nav.display_navigation('porosity')"
   ]
  },
  {
   "cell_type": "markdown",
   "metadata": {},
   "source": [
    "# Porosity\n",
    "\n",
    "## Introduction\n",
    "Welcome to the porosity self-assessment module! This notebook will help you evaluate your understanding of porous materials and the concept of porosity. The assessment includes both theoretical questions and practical calculations.\n",
    "\n",
    "## Prerequisites\n",
    "\n",
    "- Basic understanding of soil and rock properties\n",
    "- Familiarity with fundamental volumetric relationships\n",
    "- Basic Python knowledge"
   ]
  },
  {
   "cell_type": "code",
   "execution_count": null,
   "metadata": {},
   "outputs": [],
   "source": [
    "import numpy as np\n",
    "import matplotlib.pyplot as plt\n",
    "from IPython.display import display, Markdown"
   ]
  },
  {
   "cell_type": "markdown",
   "metadata": {},
   "source": [
    "## Knowledge Check: Basic Concepts\n",
    "Let's start with some fundamental questions about porosity. Run the following cell to begin the assessment:"
   ]
  },
  {
   "cell_type": "code",
   "execution_count": 3,
   "metadata": {},
   "outputs": [
    {
     "name": "stdout",
     "output_type": "stream",
     "text": [
      "\n",
      "Question 1:\n",
      "Which of the following best defines porosity?\n",
      "a) The ratio of void space to total volume\n",
      "b) The ratio of solid space to total volume\n",
      "c) The ratio of water content to total volume\n",
      "d) The ratio of air space to total volume\n",
      "Incorrect. The correct answer is a\n",
      "\n",
      "Question 2:\n",
      "What is the typical range of porosity for well-sorted sand?\n",
      "a) 0-10%\n",
      "b) 25-50%\n",
      "c) 60-80%\n",
      "d) 90-100%\n",
      "Correct!\n",
      "\n",
      "Question 3:\n",
      "Which factors affect the porosity of a material? (Multiple correct answers)\n",
      "a) Grain size distribution\n",
      "b) Grain shape\n",
      "c) Degree of compaction\n",
      "d) Color of the material\n",
      "Enter your answers separated by commas (e.g., a,b,c)\n",
      "Correct!\n",
      "\n",
      "Final Score: 2/3\n"
     ]
    }
   ],
   "source": [
    "def check_basic_concepts():\n",
    "    questions = {\n",
    "        1: \"Which of the following best defines porosity?\\n\"\n",
    "           \"a) The ratio of void space to total volume\\n\"\n",
    "           \"b) The ratio of solid space to total volume\\n\"\n",
    "           \"c) The ratio of water content to total volume\\n\"\n",
    "           \"d) The ratio of air space to total volume\",\n",
    "\n",
    "        2: \"What is the typical range of porosity for well-sorted sand?\\n\"\n",
    "           \"a) 0-10%\\n\"\n",
    "           \"b) 25-50%\\n\"\n",
    "           \"c) 60-80%\\n\"\n",
    "           \"d) 90-100%\",\n",
    "\n",
    "        3: \"Which factors affect the porosity of a material? (Multiple correct answers)\\n\"\n",
    "           \"a) Grain size distribution\\n\"\n",
    "           \"b) Grain shape\\n\"\n",
    "           \"c) Degree of compaction\\n\"\n",
    "           \"d) Color of the material\"\n",
    "    }\n",
    "\n",
    "    correct_answers = {\n",
    "        1: 'a',\n",
    "        2: 'b',\n",
    "        3: ['a', 'b', 'c']\n",
    "    }\n",
    "\n",
    "    score = 0\n",
    "    for q_num, question in questions.items():\n",
    "        print(f\"\\nQuestion {q_num}:\")\n",
    "        print(question)\n",
    "\n",
    "        if q_num != 3:\n",
    "            answer = input(\"Your answer (a/b/c/d): \").lower().strip()\n",
    "            if answer == correct_answers[q_num]:\n",
    "                print(\"Correct!\")\n",
    "                score += 1\n",
    "            else:\n",
    "                print(f\"Incorrect. The correct answer is {correct_answers[q_num]}\")\n",
    "        else:\n",
    "            print(\"Enter your answers separated by commas (e.g., a,b,c)\")\n",
    "            answers = [a.strip().lower() for a in input(\"Your answers: \").split(',')]\n",
    "            if set(answers) == set(correct_answers[q_num]):\n",
    "                print(\"Correct!\")\n",
    "                score += 1\n",
    "            else:\n",
    "                print(f\"Incorrect. The correct answers are {', '.join(correct_answers[q_num])}\")\n",
    "\n",
    "    print(f\"\\nFinal Score: {score}/{len(questions)}\")\n",
    "    return score\n",
    "\n",
    "# Run the basic concepts check\n",
    "score = check_basic_concepts()"
   ]
  },
  {
   "cell_type": "markdown",
   "metadata": {},
   "source": [
    "If you are unsure about the answer, we urge you to follow up on \n",
    "\n",
    "## Practical Application: Porosity Calculations\n",
    "Now let's apply your knowledge to some practical calculations. Run the following cell to practice calculating porosity:"
   ]
  },
  {
   "cell_type": "code",
   "execution_count": 2,
   "metadata": {},
   "outputs": [
    {
     "data": {
      "text/html": [
       "<div style=\"display: flex; justify-content: space-between; padding: 20px;\">\n",
       "<a href=\"00_assess_introduction.ipynb\" style=\"text-decoration: none; color: #2196F3;\">← Previous: Introduction to the self assessment of the course prerequisites</a>\n",
       "<a href=\"02_assess_groundwater_reservoir.ipynb\" style=\"text-decoration: none; color: #2196F3;\">Next: Groundwater as a Reservoir →</a>\n",
       "</div>"
      ],
      "text/plain": [
       "<IPython.core.display.HTML object>"
      ]
     },
     "metadata": {},
     "output_type": "display_data"
    }
   ],
   "source": [
    "nav.display_navigation('porosity')"
   ]
  }
 ],
 "metadata": {
  "kernelspec": {
   "display_name": "gw_course",
   "language": "python",
   "name": "python3"
  },
  "language_info": {
   "codemirror_mode": {
    "name": "ipython",
    "version": 3
   },
   "file_extension": ".py",
   "mimetype": "text/x-python",
   "name": "python",
   "nbconvert_exporter": "python",
   "pygments_lexer": "ipython3",
   "version": "3.13.0"
  }
 },
 "nbformat": 4,
 "nbformat_minor": 2
}
