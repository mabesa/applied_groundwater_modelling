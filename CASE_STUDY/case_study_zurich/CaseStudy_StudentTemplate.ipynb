{
 "cells": [
  {
   "cell_type": "markdown",
   "id": "e9fe2595",
   "metadata": {},
   "source": [
    "# Case Study — Student Template\n",
    "_Generated 2025-09-04_\n",
    "\n",
    "This notebook shows the **expected workflow** and **deliverables** for your steady-state case study.\n",
    "You will:\n",
    "1) Load the **baseline** MODFLOW-2005 model (Flopy)\n",
    "2) Define and apply your **scenario** from `case_student.yaml`\n",
    "3) Run **baseline** and **scenario** (steady)\n",
    "4) Produce **standard outputs**: head map, drawdown, observation heads, compact budget\n",
    "5) Perform an **analytical check** (e.g., Thiem)\n",
    "6) Write short **interpretation** and **sensitivity** notes\n"
   ]
  },
  {
   "cell_type": "markdown",
   "id": "2e92795c",
   "metadata": {},
   "source": [
    "## 0. Environment\n",
    "If needed, install packages (uncomment in a terminal or a cell):\n",
    "```bash\n",
    "# %pip install flopy pyyaml matplotlib numpy\n",
    "```\n"
   ]
  },
  {
   "cell_type": "code",
   "execution_count": null,
   "id": "588a6da7",
   "metadata": {},
   "outputs": [],
   "source": [
    "import os, pprint\n",
    "from pathlib import Path\n",
    "import numpy as np\n",
    "import matplotlib.pyplot as plt\n",
    "import yaml\n",
    "import flopy\n",
    "from flopy.utils import HeadFile, CellBudgetFile\n",
    "\n",
    "plt.rcParams['figure.figsize'] = (8, 6)\n",
    "def ensure_dir(p):\n",
    "    Path(p).mkdir(parents=True, exist_ok=True)\n",
    "\n",
    "def load_yaml(path):\n",
    "    with open(path, 'r', encoding='utf-8') as f:\n",
    "        return yaml.safe_load(f)\n",
    "\n",
    "def recarray_from_wells(wells):\n",
    "    dtype = [('k', int), ('i', int), ('j', int), ('flux', float)]\n",
    "    arr = np.zeros((len(wells),), dtype=dtype)\n",
    "    for idx, w in enumerate(wells):\n",
    "        arr[idx] = (w['layer'], w['row'], w['col'], w['rate'])\n",
    "    return arr\n",
    "\n",
    "def summarize_budget(cbc_path, terms, kstpkper=(0,0)):\n",
    "    cbc = CellBudgetFile(cbc_path)\n",
    "    out = {}\n",
    "    for t in terms:\n",
    "        try:\n",
    "            data = cbc.get_data(text=t, kstpkper=kstpkper)\n",
    "            if data:\n",
    "                out[t] = float(np.sum(data[0]))\n",
    "            else:\n",
    "                out[t] = None\n",
    "        except Exception:\n",
    "            out[t] = None\n",
    "    return out\n",
    "\n",
    "def sample_heads(hds_path, lrc_list, kstpkper=None):\n",
    "    hf = HeadFile(hds_path)\n",
    "    arr = hf.get_data(kstpkper=kstpkper) if kstpkper is not None else hf.get_data()[-1]\n",
    "    samples = []\n",
    "    for (k,i,j) in lrc_list:\n",
    "        samples.append({'k':k, 'i':i, 'j':j, 'head': float(arr[k, i, j])})\n",
    "    return samples\n",
    "\n",
    "def thiem_confined_drawdown(Q_abs_m3d, T_m2d, r_obs_m, r_ref_m):\n",
    "    # s = (Q / (2πT)) * ln(r_obs/r_ref); Q_abs_m3d is positive magnitude\n",
    "    return (Q_abs_m3d / (2.0 * np.pi * T_m2d)) * np.log(r_obs_m / r_ref_m)\n",
    "\n",
    "print('Imports OK')\n"
   ]
  },
  {
   "cell_type": "markdown",
   "id": "7b1c0262",
   "metadata": {},
   "source": [
    "## 1. Load your scenario from YAML\n",
    "Edit `case_student.yaml` (in the same folder) to define your case. Replace TODOs.\n"
   ]
  },
  {
   "cell_type": "code",
   "execution_count": null,
   "id": "7780a044",
   "metadata": {},
   "outputs": [],
   "source": [
    "CASE_YAML = 'case_student.yaml'\n",
    "cfg = load_yaml(CASE_YAML)\n",
    "pprint.pprint(cfg)\n",
    "\n",
    "# basic checks (fail early if TODOs left)\n",
    "assert 'csXX' not in cfg['name'], 'Please set a proper case id in yaml.'\n",
    "assert '<your_case_id>' not in cfg['output']['workspace'], 'Please set output.workspace in yaml.'\n",
    "assert '<your_case_id>' not in cfg['output']['modelname_suffix'], 'Please set output.modelname_suffix in yaml.'\n",
    "\n",
    "base_ws   = cfg['model']['workspace']\n",
    "namefile  = cfg['model']['namefile']\n",
    "out_ws    = cfg['output']['workspace']\n",
    "suffix    = cfg['output'].get('modelname_suffix', '')\n",
    "ensure_dir(out_ws)\n"
   ]
  },
  {
   "cell_type": "markdown",
   "id": "f508aa2c",
   "metadata": {},
   "source": [
    "## 2. Load baseline model and duplicate to case workspace\n",
    "We will run the **baseline** once (no changes), then your **scenario**.\n"
   ]
  },
  {
   "cell_type": "code",
   "execution_count": null,
   "id": "17183eca",
   "metadata": {},
   "outputs": [],
   "source": [
    "m_base = flopy.modflow.Modflow.load(namefile=namefile, model_ws=base_ws,\n",
    "                                    forgive=True, check=False, exe_name='mf2005')\n",
    "assert m_base is not None, 'Failed to load base model — check model.workspace and namefile in YAML.'\n",
    "print('Loaded base model:', m_base.name)\n",
    "\n",
    "m = m_base  # work on a clone moved to output\n",
    "if suffix:\n",
    "    m.name = f\"{m.name}_{suffix}\"\n",
    "m.change_model_ws(out_ws)\n",
    "print('Case model name:', m.name)\n",
    "print('Workspace     :', m.model_ws)\n"
   ]
  },
  {
   "cell_type": "markdown",
   "id": "fd809cf3",
   "metadata": {},
   "source": [
    "## 3. Solver and steady settings\n",
    "We keep a steady run; `NSTP=1`, `TSMULT=1`. Adjust solver tolerances and damping per YAML.\n"
   ]
  },
  {
   "cell_type": "code",
   "execution_count": null,
   "id": "65d9e5b2",
   "metadata": {},
   "outputs": [],
   "source": [
    "solv = cfg['settings'].get('solver', {})\n",
    "pcg = m.get_package('PCG')\n",
    "if pcg is None:\n",
    "    pcg = flopy.modflow.ModflowPcg(m)\n",
    "pcg.mxiter = int(solv.get('mxiter', pcg.mxiter))\n",
    "pcg.iter1  = int(solv.get('iter1',  pcg.iter1))\n",
    "pcg.hclose = float(solv.get('hclose', pcg.hclose))\n",
    "pcg.rclose = float(solv.get('rclose', pcg.rclose))\n",
    "pcg.damp   = float(solv.get('damp',   getattr(pcg, 'damp', 0.0)))\n",
    "m.dis.steady = [True] * m.dis.nper\n",
    "m.dis.nstp   = [1] * m.dis.nper\n",
    "m.dis.tsmult = [1.0] * m.dis.nper\n",
    "print('Steady periods:', m.dis.steady)\n"
   ]
  },
  {
   "cell_type": "markdown",
   "id": "94dcb0e7",
   "metadata": {},
   "source": [
    "## 4. BASELINE run (no scenario edits yet)\n",
    "This captures heads for later **drawdown** maps. If your baseline already has wells or rivers, that’s fine — the scenario will compare against whatever the baseline is.\n"
   ]
  },
  {
   "cell_type": "code",
   "execution_count": null,
   "id": "934137e6",
   "metadata": {},
   "outputs": [],
   "source": [
    "m.write_input()\n",
    "success_base, buff = m.run_model(report=True)\n",
    "print('Baseline success:', success_base)\n",
    "if not success_base:\n",
    "    print('\\n'.join(buff[-60:]))\n",
    "\n",
    "hds_base_path = os.path.join(m.model_ws, m.name + '.hds')\n",
    "hf_base = HeadFile(hds_base_path)\n",
    "H_base = hf_base.get_data()[-1]\n",
    "print('Baseline heads loaded:', H_base.shape)\n"
   ]
  },
  {
   "cell_type": "markdown",
   "id": "7980b01f",
   "metadata": {},
   "source": [
    "## 5. Scenario edits (from YAML): wells, recharge patches, river tweaks, parameter multipliers\n",
    "Keep scenario small and clearly documented.\n"
   ]
  },
  {
   "cell_type": "code",
   "execution_count": null,
   "id": "915ebe68",
   "metadata": {},
   "outputs": [],
   "source": [
    "# Wells\n",
    "wel_cfg = cfg['stresses'].get('wells', {})\n",
    "wel = m.get_package('WEL')\n",
    "if wel_cfg and wel_cfg.get('entries'):\n",
    "    entries = wel_cfg['entries']\n",
    "    mode = wel_cfg.get('mode', 'replace').lower()\n",
    "    arr = recarray_from_wells(entries)\n",
    "    if wel is None:\n",
    "        wel = flopy.modflow.ModflowWel(m, stress_period_data={0: arr})\n",
    "        print('Created WEL with', len(entries), 'entries')\n",
    "    else:\n",
    "        if mode == 'append':\n",
    "            old = wel.stress_period_data\n",
    "            base = old[0] if 0 in old else list(old.data.values())[0]\n",
    "            merged = np.concatenate([base, arr])\n",
    "            wel.stress_period_data = {0: merged}\n",
    "            print('Appended wells; total entries:', len(merged))\n",
    "        else:\n",
    "            wel.stress_period_data = {0: arr}\n",
    "            print('Replaced wells with', len(entries), 'entries')\n",
    "else:\n",
    "    print('No new wells specified.')\n",
    "\n",
    "# Recharge\n",
    "rch_cfg = cfg['stresses'].get('recharge', {})\n",
    "rch = m.get_package('RCH')\n",
    "if rch is not None and rch_cfg:\n",
    "    base_r = rch.rech.array\n",
    "    if isinstance(base_r, list):\n",
    "        base_r = base_r[0]\n",
    "    base_r = np.array(base_r, dtype=float)\n",
    "    scale = float(rch_cfg.get('scale', 1.0))\n",
    "    base_r *= scale\n",
    "    # patches (optional)\n",
    "    for p in rch_cfg.get('patches', []):\n",
    "        if p.get('kind','rect') == 'rect':\n",
    "            r0,r1 = int(p['row_min']), int(p['row_max'])\n",
    "            c0,c1 = int(p['col_min']), int(p['col_max'])\n",
    "            base_r[r0:r1+1, c0:c1+1] *= float(p.get('factor', 1.0))\n",
    "    rch.rech = base_r\n",
    "    print('Recharge edited. New mean R:', float(np.mean(base_r)))\n",
    "else:\n",
    "    print('No recharge edits.')\n",
    "\n",
    "# Rivers\n",
    "riv_cfg = cfg['stresses'].get('rivers', {})\n",
    "riv = m.get_package('RIV')\n",
    "if riv is not None and riv_cfg:\n",
    "    spd = riv.stress_period_data\n",
    "    key0 = 0 if 0 in spd else list(spd.data.keys())[0]\n",
    "    arr = spd[key0].copy()\n",
    "    if 'stage_offset' in riv_cfg:\n",
    "        arr['stage'] = arr['stage'] + float(riv_cfg['stage_offset'])\n",
    "    if 'conductance_factor' in riv_cfg:\n",
    "        arr['cond']  = arr['cond']  * float(riv_cfg['conductance_factor'])\n",
    "    riv.stress_period_data = {0: arr}\n",
    "    print('RIV edits applied')\n",
    "else:\n",
    "    print('No river edits.')\n",
    "\n",
    "# Parameter multipliers\n",
    "par = cfg.get('parameters', {})\n",
    "lpf = m.get_package('LPF')\n",
    "if lpf is not None:\n",
    "    if 'hk_factor' in par and hasattr(lpf, 'hk'):\n",
    "        lpf.hk = np.array(lpf.hk.array, dtype=float) * float(par['hk_factor'])\n",
    "    if 'vk_factor' in par:\n",
    "        if hasattr(lpf, 'vka') and lpf.vka is not None:\n",
    "            lpf.vka = np.array(lpf.vka.array, dtype=float) * float(par['vk_factor'])\n",
    "        elif hasattr(lpf, 'vk') and lpf.vk is not None:\n",
    "            lpf.vk  = np.array(lpf.vk.array,  dtype=float) * float(par['vk_factor'])\n",
    "print('Scenario edits complete.')\n"
   ]
  },
  {
   "cell_type": "markdown",
   "id": "1192c229",
   "metadata": {},
   "source": [
    "## 6. Scenario run\n",
    "Now write inputs and run the scenario in the case workspace."
   ]
  },
  {
   "cell_type": "code",
   "execution_count": null,
   "id": "93849239",
   "metadata": {},
   "outputs": [],
   "source": [
    "m.write_input()\n",
    "success, buff = m.run_model(report=True)\n",
    "print('Scenario success:', success)\n",
    "if not success:\n",
    "    print('\\n'.join(buff[-60:]))\n",
    "\n",
    "lst_path = os.path.join(m.model_ws, m.name + '.lst')\n",
    "hds_path = os.path.join(m.model_ws, m.name + '.hds')\n",
    "cbc_path = os.path.join(m.model_ws, m.name + '.cbc')\n",
    "print('Outputs:', lst_path, hds_path, cbc_path)\n",
    "\n",
    "hf = HeadFile(hds_path)\n",
    "H = hf.get_data()[-1]\n",
    "print('Scenario heads shape:', H.shape)\n"
   ]
  },
  {
   "cell_type": "markdown",
   "id": "a7b04656",
   "metadata": {},
   "source": [
    "## 7. Standard outputs\n",
    "Produce a head map (layer 1), a **drawdown map** (scenario − baseline), sampled heads, and a compact water budget. These are required in every report."
   ]
  },
  {
   "cell_type": "code",
   "execution_count": null,
   "id": "b1461247",
   "metadata": {},
   "outputs": [],
   "source": [
    "# Head map (layer 1)\n",
    "plt.figure()\n",
    "plt.imshow(H[0], origin='lower')\n",
    "plt.colorbar(label='Head (m)')\n",
    "plt.title('Scenario Heads — Layer 1')\n",
    "plt.xlabel('col'); plt.ylabel('row')\n",
    "plt.show()\n",
    "\n",
    "# Drawdown map vs baseline\n",
    "DD = H[0] - H_base[0]\n",
    "plt.figure()\n",
    "plt.imshow(DD, origin='lower')\n",
    "plt.colorbar(label='Drawdown (m)')\n",
    "plt.title('Drawdown (Scenario − Baseline) — Layer 1')\n",
    "plt.xlabel('col'); plt.ylabel('row')\n",
    "plt.show()\n",
    "\n",
    "# Head samples\n",
    "lrc = cfg['observations'].get('heads_lrc', [])\n",
    "samples_base = [{'k':k,'i':i,'j':j,'head': float(H_base[k,i,j])} for (k,i,j) in lrc]\n",
    "samples_scen = [{'k':k,'i':i,'j':j,'head': float(H[k,i,j])} for (k,i,j) in lrc]\n",
    "print('Observation heads (baseline vs scenario):')\n",
    "for sb, ss in zip(samples_base, samples_scen):\n",
    "    dh = ss['head'] - sb['head']\n",
    "    print(f\"(k,i,j)=({sb['k']},{sb['i']},{sb['j']})  H_base={sb['head']:.3f}  H_scen={ss['head']:.3f}  dH={dh:.3f}\")\n",
    "\n",
    "# Budget summary\n",
    "terms = cfg['observations'].get('budget_terms', [])\n",
    "bud = summarize_budget(cbc_path, terms, kstpkper=(0,0)) if terms else {}\n",
    "print('\\nBudget summary (sum over cells, SP0/TS0):')\n",
    "for k,v in bud.items():\n",
    "    print(f'  {k:>16}: {v}')\n"
   ]
  },
  {
   "cell_type": "markdown",
   "id": "422f967b",
   "metadata": {},
   "source": [
    "## 8. Analytical check (required)\n",
    "Compare your modeled drawdown to a simple analytical expectation at a chosen observation radius; document assumptions."
   ]
  },
  {
   "cell_type": "code",
   "execution_count": null,
   "id": "4149d1ce",
   "metadata": {},
   "outputs": [],
   "source": [
    "ap = cfg['analysis_plan']\n",
    "method = ap.get('method', 'Thiem_confined')\n",
    "Q_abs = float(ap.get('Q_abs_m3d', 0.0))\n",
    "r_obs = float(ap.get('r_obs_m', 1.0))\n",
    "r_ref = float(ap.get('r_ref_m', 0.1))\n",
    "if method == 'Thiem_confined':\n",
    "    T = float(ap.get('T_m2d', 1.0))\n",
    "    s_thiem = thiem_confined_drawdown(Q_abs, T, r_obs, r_ref)\n",
    "    print('Thiem confined drawdown (m):', s_thiem)\n",
    "else:\n",
    "    # Simple Dupuit-like approximation if desired\n",
    "    K = float(ap.get('K_mpd', 10.0))\n",
    "    b = float(ap.get('b_m', 50.0))\n",
    "    T = K * b\n",
    "    s_thiem = thiem_confined_drawdown(Q_abs, T, r_obs, r_ref)\n",
    "    print('Dupuit (using T=K*b) drawdown (m):', s_thiem)\n",
    "\n",
    "print('Reminder: choose an observation point near r_obs for comparison and discuss discrepancies.')\n"
   ]
  },
  {
   "cell_type": "markdown",
   "id": "83fe0e82",
   "metadata": {},
   "source": [
    "## 9. Interpretation (write here)\n",
    "**Required bullets:**\n",
    "- Brief restatement of the question and key assumptions\n",
    "- Head/drawdown patterns and physical interpretation\n",
    "- River/well budget changes and stream depletion fraction (if applicable)\n",
    "- Comparison to analytical expectation (agree? why/why not?)\n",
    "- One sensitivity (e.g., halve/double K or river conductance) — describe the effect qualitatively/quantitatively\n"
   ]
  },
  {
   "cell_type": "markdown",
   "id": "4c709a68",
   "metadata": {},
   "source": [
    "## 10. Checklist for submission\n",
    "- [ ] `case_student.yaml` filled (no TODOs)\n",
    "- [ ] Notebook runs top-to-bottom without errors\n",
    "- [ ] Required figures: head map, drawdown map\n",
    "- [ ] Observation heads table\n",
    "- [ ] Budget summary table\n",
    "- [ ] Analytical check with clearly stated parameters\n",
    "- [ ] 1–2 paragraph interpretation & sensitivity notes\n"
   ]
  }
 ],
 "metadata": {
  "kernelspec": {
   "display_name": "Python 3",
   "language": "python",
   "name": "python3"
  },
  "language_info": {
   "name": "python",
   "version": "3.x"
  }
 },
 "nbformat": 4,
 "nbformat_minor": 5
}
