{
 "cells": [
  {
   "cell_type": "markdown",
   "metadata": {},
   "source": [
    "week 4 | Groundwater\n",
    "\n",
    "# Topic 4 : Solute Transport in Groundwater  \n",
    "\n",
    "Dr. Xiang-Zhao Kong & Dr. Beatrice Marti"
   ]
  },
  {
   "cell_type": "code",
   "execution_count": null,
   "metadata": {},
   "outputs": [],
   "source": [
    "# Setting up the notebook\n",
    "import sys\n",
    "import os\n"
   ]
  },
  {
   "cell_type": "markdown",
   "metadata": {},
   "source": [
    "Quizzes about lecture content\n",
    "\n",
    "Formulation of the transport equation\n",
    "...\n",
    "When to use which analytical solution?"
   ]
  }
 ],
 "metadata": {
  "kernelspec": {
   "display_name": "gw_course",
   "language": "python",
   "name": "python3"
  },
  "language_info": {
   "codemirror_mode": {
    "name": "ipython",
    "version": 3
   },
   "file_extension": ".py",
   "mimetype": "text/x-python",
   "name": "python",
   "nbconvert_exporter": "python",
   "pygments_lexer": "ipython3",
   "version": "3.13.0"
  }
 },
 "nbformat": 4,
 "nbformat_minor": 2
}
