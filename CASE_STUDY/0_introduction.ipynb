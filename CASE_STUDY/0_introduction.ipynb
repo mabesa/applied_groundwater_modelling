{
 "cells": [
  {
   "cell_type": "code",
   "execution_count": null,
   "metadata": {},
   "outputs": [],
   "source": [
    "import sys\n",
    "\n",
    "sys.path.append('../../../SUPPORT_REPO/src')\n",
    "sys.path.append('../../../SUPPORT_REPO/src/scripts/scripts_exercises')\n",
    "\n",
    "# Import core functionality\n",
    "from progress_tracking import (\n",
    "    create_introduction_progress_tracker,\n",
    "    create_step_completion_marker, \n",
    "    reset_course_progress\n",
    ")"
   ]
  },
  {
   "cell_type": "markdown",
   "metadata": {},
   "source": [
    "Groundwater | Case Study\n",
    "\n",
    "# Topic 1 : Introduction to the Groundwater course\n",
    "\n",
    "Dr. Xiang-Zhao Kong & Dr. Beatrice Marti & Louise Noel du Prat"
   ]
  },
  {
   "cell_type": "markdown",
   "metadata": {},
   "source": [
    "# Introduction to Groundwater Modeling: Your Journey Begins\n",
    "Welcome future groundwater modeler! In this interactive course, you'll embark on a journey to understand and master the fundamentals of groundwater flow and transport modeling. \n",
    "\n",
    "This course is designed to provide you with a solid foundation in groundwater modeling, equipping you with the knowledge and skills needed to tackle real-world challenges in engineering tasks in groundwater, groundwater management and environmental protection.\n",
    "\n",
    "## Why this course?\n",
    "In your future career, you will be faced with a variety of challenges related to groundwater. You might work in a government agency, a consulting firm, or an environmental organization. You might be involved in groundwater management, remediation of contaminated sites, or the design of groundwater monitoring systems. This course will provide you with the tools and techniques needed to address these challenges. "
   ]
  },
  {
   "cell_type": "markdown",
   "metadata": {
    "collapsed": false,
    "hide_input": true,
    "jupyter": {
     "outputs_hidden": false
    },
    "nbconvert": {
     "hide_input": true,
     "remove_input": true
    },
    "slideshow": {
     "slide_type": "skip"
    }
   },
   "source": [
    "> 💡 **Example: A bad groundwater model triggers the Swedish \"cement crisis\"**\n",
    "> \n",
    "> In 2021, Sweden's Land and Environmental Court of Appeals rejected the permit renewal of the country's largest cement producer, citing major flaws in the groundwater impact model. The model suffered from inadequate scale, poor calibration, and compounding assumptions, rendering it unreliable. The decision had significant repercussions for the construction sector and national economy. See Höglund et al. (2025) for a discussion of this case.\n",
    "> \n",
    "> The exceptional case highlights the importance of using reliable and accurate groundwater models in decision-making processes. And you are here to learn how to build such models!"
   ]
  },
  {
   "cell_type": "markdown",
   "metadata": {},
   "source": [
    "## AI in this course?\n",
    "Specialists in groundwater modelling have designed this course and the content. AI tools were used to generate visualizations and to refine ideas to maximize your learning experience. \n",
    "\n",
    "We are aware that AI tools are currently transforming our learning and working environments and we will discuss the implications of this transformation in the course. \n",
    "\n",
    "## How to use this material\n",
    "In-person lectures for each topic will be complemented by this online material.\n",
    "\n",
    "You are expected to read and understand the material and to complete the tasks in the violet boxes in your own time. The tasks are short thinking exercises which help you reflect and apply what you just learned from reading through the material. You are *not required to hand in* the tasks, but you are encouraged to discuss them with your peers and with your tutors during the in-person lectures as you will be expected to be able to answer these questions in the *exams*. \n",
    "\n",
    "Here is an example of an *exercise* task:"
   ]
  },
  {
   "cell_type": "markdown",
   "metadata": {},
   "source": [
    "> ✏️ **Exercise: Limmat Valley Aquifer Analysis**\n",
    "> \n",
    "> What are the major hydrological processes in the Limmat valley aquifer?\n",
    "> \n",
    "> Where would you set the boundaries of the Limmat valley aquifer?"
   ]
  },
  {
   "cell_type": "markdown",
   "metadata": {},
   "source": [
    "Optional exercises or tasks that allow you to explore a topic which will not be tested in the exam are marked with the following boxes. These tasks are here to introduce you to relevant topics for applied groundwater modelling which are relevant for practice but not required for passing this course. Here is an example of a *further thinking* task:"
   ]
  },
  {
   "cell_type": "markdown",
   "metadata": {
    "tags": [
     "hide-input"
    ]
   },
   "source": [
    "> 🤔 **Further Thinking: River Flow Analysis**\n",
    "> \n",
    "> Please take some time to familiarize yourself with the yearbook sheets.\n",
    "> \n",
    "> Did you notice the different shapes of the flow duration curves? What does this tell you about the hydrological regime of the rivers?\n",
    "> \n",
    "> Can you find the highest ever measured discharge in both rivers? Which one might be the more difficult to manage?"
   ]
  },
  {
   "cell_type": "markdown",
   "metadata": {},
   "source": [
    "Green boxes are used to highlight important concepts or terms. Here is an example:"
   ]
  },
  {
   "cell_type": "markdown",
   "metadata": {
    "tags": [
     "hide-input"
    ]
   },
   "source": [
    "> 📚 **Theory: Groundwater Flow Equation**\n",
    "> \n",
    "> The groundwater flow equation is a partial differential equation that describes the movement of groundwater through porous media. It is based on Darcy's law and the principle of mass conservation."
   ]
  },
  {
   "cell_type": "markdown",
   "metadata": {},
   "source": [
    "Examples are given in orange boxes. Here is an example of an *example* task:"
   ]
  },
  {
   "cell_type": "markdown",
   "metadata": {
    "tags": [
     "hide-input"
    ]
   },
   "source": [
    "> 💡 **Example: Simple Classification**\n",
    "> \n",
    "> A mouse is an example of a mammal."
   ]
  },
  {
   "cell_type": "markdown",
   "metadata": {},
   "source": [
    "## The groundwater modelling process\n",
    "The groundwater modeling process consists of ten interconnected steps that form an iterative cycle rather than a linear progression. While presented sequentially, modelers frequently revisit earlier steps as new insights emerge. Each step builds upon previous ones, with the understanding that modifications in one area often necessitate adjustments elsewhere in the modeling process.\n",
    "\n",
    "This course will introduce you to applied groundwater modeling. If you want a more comprehensive introduction to the groundwater modelling process, we recommend the book \"Applied Groundwater Modeling: Simulation of Flow and Advective Transport\" by Anderson et al. (2015) ([DOI: https://doi.org/10.1016/B978-0-08-091638-5.00002-X](https://doi.org/10.1016/B978-0-08-091638-5.00002-X)). A more general and concise discussion of the how to deal with uncertainty in environmental modelling (including groundwater models) is the paper \"Uncertainty in the environmental modelling process - A framework and guidance\" by Refsgaard and colleagues (2007) ([https://doi.org/10.1016/j.envsoft.2007.02.004](https://doi.org/10.1016/j.envsoft.2007.02.004))\n",
    "\n",
    "You'll need a solid understanding of the principles of groundwater flow and transport in order to implement these steps effectively. With this case study, you will apply the principles of groundwater deepend in the first part of the course to a real-world problem. If you need to recap some principles, you can refer to the course material on groundwater flow and transport or read up in the book \"Groundwater\" by Allan Freeze and John Cherry (1979) available via [The Groundwater Project](https://fc79.gw-project.org/english/).\n",
    "\n",
    "Below you find the steps of the groundwater modelling process. Although they are represented as a linear sequence, you can go back to any of the previous steps at any time. Of course, as the modelling proceeds, going back becomes more expensive. Go through the steps and read the summaries below. You will learn more about each step in the course. Feel free to tick the boxes below to mark the steps you have already worked through. "
   ]
  },
  {
   "cell_type": "code",
   "execution_count": null,
   "metadata": {},
   "outputs": [],
   "source": [
    "create_introduction_progress_tracker()"
   ]
  },
  {
   "cell_type": "markdown",
   "metadata": {},
   "source": [
    "Lets go through the steps of the modelling process one by one. We'll use the example of the Limmat valley aquifer to illustrate the steps but we'll cover each step in more detail further along this course. Here is what we need from the model: "
   ]
  },
  {
   "cell_type": "markdown",
   "metadata": {
    "tags": [
     "hide-input"
    ]
   },
   "source": [
    "> 💡 **Example: A model for case study work**\n",
    "> \n",
    "> We require a numerical groundwater and transport model of the Limmat valley aquifer to demonstrate the modelling process and to be used to answer a wide variety of case study questions on common flow and transport problems. The modelling software should be open-source and compatible with the JupyterHub environment. The model should be fast and easy to run."
   ]
  },
  {
   "cell_type": "markdown",
   "metadata": {},
   "source": [
    "### From Concept to Groundwater Insight – Step 1: Defining the Problem\n",
    "Before we dive into coding or running simulations, every robust groundwater model starts with a sharp definition of the problem. Think of this as laying the foundation for a field station—if it's off by even a few degrees, everything downstream misaligns.\n",
    "\n",
    "🎯 Mission Objectives – What Are We Solving?\n",
    "What exactly do we want our model to answer? Is it about predicting aquifer drawdown under increased pumping? Or simulating seasonal recharge under climate variability? Clearly defined objectives ensure your model serves a purpose and remains scientifically defensible.\n",
    "Example: In the Limmat Valley case, the goal was to build an educational model that can support various groundwater case studies.\n",
    "\n",
    "🗺️ Setting the Scene – Where and When?\n",
    "Models don’t exist in a vacuum. Choose a meaningful spatial and temporal scale. Are you modeling daily fluctuations in a confined aquifer or long-term recharge in an unconfined one?\n",
    "Example: The Limmat Valley model focuses on aquifer dynamics within specific hydrogeological boundaries, with a resolution from daily to monthly.\n",
    "\n",
    "📊 Essential Intel – What Do We Need?\n",
    "Start compiling your data wishlist early. You’ll likely need groundwater level time series, abstraction rates, recharge estimates, and soil properties—ideally over a decade or more. Check both availability and quality before committing to complex scenarios.\n",
    "\n",
    "👥 Key Players – Who Cares About the Results?\n",
    "A model’s value depends on its relevance. Whether your end users are policymakers, researchers, or students, their needs should guide your design decisions.\n",
    "Example: The Limmat Valley model is built primarily for educational use, serving students and instructors."
   ]
  },
  {
   "cell_type": "markdown",
   "metadata": {},
   "source": [
    "> **Summary step 1: Blueprinting the Model - Defining the Problem**\n",
    "> \n",
    "> **🎯 Mission Objectives**\n",
    "> \n",
    "> Clearly state what the model aims to achieve and the specific questions it will answer.\n",
    ">\n",
    "> *Limmat Valley Example:* Create an educational model for various case studies.\n",
    ">\n",
    "> **🗺️ Setting the Scene**\n",
    ">\n",
    "> Models don’t exist in a vacuum. Choose a meaningful spatial and temporal scale. Are you modeling daily fluctuations in a confined aquifer or long-term recharge in an unconfined one?\n",
    ">\n",
    "> *Limmat Valley Example:* Focus on aquifer dynamics within specific hydrogeological boundaries, with a resolution from daily to monthly.\n",
    "> \n",
    "> **📊 Essential Intel**\n",
    ">\n",
    "> What data do we need? Identify necessary data types and assess if they are obtainable.\n",
    ">\n",
    "> *Limmat Valley Example:* Groundwater level time series (10 years or more), abstraction rates, recharge estimates, etc.\n",
    ">\n",
    "> **👥 Key Players**\n",
    ">\n",
    "> Who will use the model? Identify the end users and their needs.\n",
    "> \n",
    "> *Limmat Valley Example:* The model is built primarily for educational use, serving students and instructors."
   ]
  },
  {
   "cell_type": "code",
   "execution_count": null,
   "metadata": {},
   "outputs": [],
   "source": [
    "# Mark step 1 as complete\n",
    "create_step_completion_marker(1)"
   ]
  },
  {
   "cell_type": "markdown",
   "metadata": {},
   "source": [
    "### Building a Mental Map of the Subsurface - Step 2: The perceptual model\n",
    "Creating a groundwater model isn’t just about data and code—it’s about thinking like a hydrogeologist. This step challenges you to assemble a coherent picture of the unseen subsurface system, using both field data and scientific intuition.\n",
    "\n",
    "🏔️ System Characterization – What Are We Working With?\n",
    "Start by defining hydrogeological units: are we dealing with layered fluvial sediments, fractured bedrock, or a complex mix? Establishing boundaries, thicknesses, and material properties is foundational.\n",
    "Example: In the Limmat Valley case, this means consulting hydrogeological maps and literature to define aquifer extents and hydraulic properties.\n",
    "\n",
    "💧 Main Processes & Interactions – How Does It Work?\n",
    "Think of the system as a living network: where does the water come from, where does it go, and what does it interact with on the way? Recharge, discharge, contaminant transport, and surface–groundwater interactions must be understood conceptually before modeling numerically.\n",
    "Example: Limmat Valley groundwater flow includes recharge from rainfall and riverbank infiltration, discharge to springs and wells, and potential contaminant migration.\n",
    "\n",
    "🔍 Data Collection & Processing – What’s the Evidence?\n",
    "Gathering reliable field data is both a science and a logistical challenge. Focus on geological logs, water level measurements, chemical analyses, and pumping records—and don't forget to vet data for consistency and gaps.\n",
    "Example: Collecting datasets from utilities and authorities in the Limmat Valley helps ground the model in reality.\n",
    "\n",
    "🧩 Comprehensive Physical Understanding – How Does It All Fit Together?\n",
    "Bring it all together into a conceptual model—a clear narrative or diagram that explains how water moves, stores, and responds within the system. This becomes the mental blueprint for later numerical modeling.\n",
    "Example: For the Limmat Valley, this synthesis explains key flow paths, controls (e.g. topography, lithology), and expected responses to stresses like pumping or recharge variability."
   ]
  },
  {
   "cell_type": "markdown",
   "metadata": {},
   "source": [
    "> **Summary step 2: Unveiling the Subsurface – Crafting the Perceptual Model**\n",
    ">\n",
    "> ⛰️ **System Characterization**\n",
    "> \n",
    "> Defining hydrogeological units, their boundaries, and inherent properties based on existing knowledge and data.\n",
    "> \n",
    "> *Limmat Valley Example:* Consult hydrogeology literature to identify the boundaries and properties of the Limmat aquifer units.\n",
    ">\n",
    "> 💧 **Main Processes & Interactions**\n",
    "> \n",
    "> Identifying crucial groundwater flow paths, recharge/discharge mechanisms, and interactions with surface water or contaminants.\n",
    "> \n",
    "> *Limmat Valley Example:* Groundwater flow (recharge, discharge), transport (contaminant sources, pathways), surface water interaction.\n",
    ">\n",
    "> 🔍 **Data Collection & Processing**\n",
    "> \n",
    "> Systematically collecting, verifying, and processing geological, hydrological, and chemical data from various sources.\n",
    "> \n",
    "> *Limmat Valley Example:* Collect relevant data from local authorities, water suppliers; process for consistency and reliability.\n",
    ">\n",
    "> 🧩 **Comprehensive Physical Understanding**\n",
    "> \n",
    "> Synthesizing all gathered information into a coherent, descriptive model of how the groundwater system functions.\n",
    "> \n",
    "> *Limmat Valley Example:* Synthesize data into a coherent description of Limmat system functions, key pathways, storage, and controls."
   ]
  },
  {
   "cell_type": "code",
   "execution_count": null,
   "metadata": {},
   "outputs": [],
   "source": [
    "create_step_completion_marker(2)"
   ]
  },
  {
   "cell_type": "markdown",
   "metadata": {},
   "source": [
    "### From Concept to Code – Step 3: The conceptual model\n",
    "From Reality to Representation – Building the Conceptual Model\n",
    "At this point, you’ve shaped a solid perceptual understanding of the system. Now it’s time to translate it into a working model—not by jumping into code just yet, but by outlining the logic and math that will govern your system. This is where scientific intuition meets structured representation.\n",
    "\n",
    "This step is about choosing the right tool for the job—you don’t always need a fully coupled 3D model. Sometimes, a clever simplification or analytical insight gives you the answer faster, with more transparency. \n",
    "\n",
    "⚖️ Simplification & Abstraction – What Really Matters?\n",
    "No model can capture everything. Focus on processes that matter for your objective: is unsaturated flow critical, or can you assume saturated conditions? Should you include heterogeneity, or stick to averaged values?\n",
    "Example: In the Limmat Valley model, flow is simplified to saturated conditions, with generalized aquifer layers and average hydraulic properties.\n",
    "🔍 Sometimes a simple box model or analytical solution (e.g., Theis curve, 1D advection) is all you need to answer your question effectively.\n",
    "\n",
    "🧮 Mathematical Formulation – How Do We Describe It?\n",
    "Choose the right mathematical tools. This could be the full 3D groundwater flow equation, or a simple analytical expression. The complexity should match the purpose.\n",
    "Example: Limmat Valley uses the saturated flow equation (Darcy’s Law and continuity) in 3D form—but simpler systems might use a 1D solution to a plume transport equation.\n",
    "\n",
    "🗺️ Boundary & Initial Conditions – Where Does It Start and End?\n",
    "Every model needs edges—both spatial and temporal. Define where water can enter or leave (rivers, recharge, no-flow boundaries), and set your initial head conditions.\n",
    "Example: No-flow boundaries along valley sides, river boundaries at the Limmat and Sihl, initial heads assumed from steady-state.\n",
    "\n",
    "🔢 Initial Parameter Estimation – What Values Do We Use First?\n",
    "Assign realistic starting values to parameters like hydraulic conductivity, porosity, and recharge. Use pumping tests, literature values, or regional knowledge—and be prepared to refine later.\n",
    "Example: Initial values for conductivity (K) from local tests, porosity from lithological databases, recharge from simple water balance estimates."
   ]
  },
  {
   "cell_type": "markdown",
   "metadata": {},
   "source": [
    "> **Summary step 3: From Reality to Representation – Building the Conceptual Model**\n",
    ">\n",
    "> ⚖️ **Simplification & Abstraction**\n",
    "> \n",
    "> Distill the perceptual model into its essential components, deciding which processes and features are critical for the model's objectives.\n",
    "> \n",
    "> *Limmat Valley Example:* Focus on saturated flow, simplify geological layers, assume average hydraulic properties for key units.\n",
    "> \n",
    "> 🧮 **Mathematical Formulation**\n",
    "> \n",
    "> Select appropriate mathematical equations (e.g., groundwater flow equation) to describe the system's behavior and interactions.\n",
    "> \n",
    "> *Limmat Valley Example:* Employ 3D saturated flow equation (Darcy's Law & continuity).\n",
    "> \n",
    "> 🧊 **Boundary & Initial Conditions**\n",
    "> \n",
    "> Specify the model domain's edges (no-flow, fixed head, river) and the starting state of the system (e.g., initial water levels).\n",
    "> \n",
    "> *Limmat Valley Example:* No-flow boundaries at valley sides, river boundaries for Limmat/Sihl, initial head from steady-state.\n",
    "> \n",
    "> 🔢 **Initial Parameter Estimation**\n",
    "> \n",
    "> Assign initial values to model parameters (hydraulic conductivity, porosity, recharge rates) based on literature, field data, or expert judgment.\n",
    "> \n",
    "> *Limmat Valley Example:* Initial K values from pumping tests, porosity from literature, recharge from water balance."
   ]
  },
  {
   "cell_type": "markdown",
   "metadata": {},
   "source": [
    "#### A quick reference on the choice of the model type\n",
    "When deciding on the type of model to use, follow the wording *as simple as possible, as complex as necessary*. Often you will start out with a simple model and build up complexity as new information becomes available. Consider the following:\n",
    "- **Analytical models**: Use these for simple, well-defined problems where you can derive a solution mathematically. They are fast and transparent but limited to specific conditions.\n",
    "- **Conceptual models**: Great for conceptualizing flow and transport in a simplified manner, especially when you can assume uniform conditions across a region. Commonly used in water balance studies.\n",
    "- **Time series models**: Ideal for problems where you have good historical data and want to predict future conditions at the observation location, based on past trends. They are useful for forecasting but may not capture spatial variability.\n",
    "- **Distributed models**: Use these when you need to capture spatial and temporal variability in flow and transport processes. They are more complex and computationally intensive but provide detailed insights into the system."
   ]
  },
  {
   "cell_type": "markdown",
   "metadata": {},
   "source": [
    "| Model Type            | Description                                                                 | Data Requirement         | Spatial Resolution     | Use Cases                                          | Tools / Examples                  |\n",
    "|-----------------------|-----------------------------------------------------------------------------|---------------------------|------------------------|----------------------------------------------------|------------------------------------|\n",
    "| **Analytical Model**  | Closed-form solution to idealized problems (e.g., well drawdown)            | Low                      | Point-based            | Pumping test analysis, drawdown curves             | Theis, Glover-Balmer, Ogata-Banks |\n",
    "| **Time Series Model** | Uses historical data trends to forecast future values                       | Moderate to High         | None / lumped          | Water level forecasting, baseflow estimation       | ARIMA, Prophet, LSTM               |\n",
    "| **Conceptual Model**  | Simplified representation based on water balance and system understanding   | Low                      | Lumped or compartmental| Planning, education, scoping scenarios             | Box model, reservoir models        |\n",
    "| **Distributed Model** | Simulates 2D/3D spatial variation of flow and transport in grids            | High                     | High                   | Impact assessments, flow paths, groundwater–surface water interaction | MODFLOW, FEFLOW, OGS              |\n"
   ]
  },
  {
   "cell_type": "code",
   "execution_count": null,
   "metadata": {},
   "outputs": [],
   "source": [
    "create_step_completion_marker(3)"
   ]
  },
  {
   "cell_type": "markdown",
   "metadata": {},
   "source": [
    "### Bringing the Model to Life - Step 4: Model implementation\n",
    "After all the planning and conceptual work, it’s time to build your model into a working numerical tool. Step 4 is where you turn ideas into code, carefully translating system understanding into a discretized, computational form.\n",
    "\n",
    "🧠 Code Selection – Picking the Right Engine\n",
    "Every model needs a numerical engine that fits the job. MODFLOW, FEFLOW, or COMSOL? Consider things like open-source availability, Python integration (e.g., with FloPy), support for transport processes, or GUI vs. script-driven workflows.\n",
    "Limmat Valley Example: The team chose MODFLOW/MT3D via FloPy, allowing for open-source flexibility, full control through Python, and good documentation.\n",
    "\n",
    "📐 Grid Design & Discretization – Slicing the Subsurface\n",
    "How you cut up space and time matters. Should your grid be coarse or fine? Uniform or adaptive? A well-designed grid balances model accuracy and computational effort.\n",
    "Limmat Valley Example: A structured grid with finer resolution near rivers and wells, and coarser cells elsewhere to save computation.\n",
    "\n",
    "⚙️ Model Setup – Defining the System in Numbers\n",
    "With code and grid in place, now define how the system behaves: enter aquifer properties, boundary conditions, recharge, pumping, and initial heads. Make sure your setup reflects your earlier conceptual design!\n",
    "Limmat Valley Example: The team created FloPy input files with boundary conditions, hydraulic properties, and simulation periods based on prior analysis."
   ]
  },
  {
   "cell_type": "markdown",
   "metadata": {},
   "source": [
    "> **Summary step 4: Bringing the Model to Life – Implementation**\n",
    ">\n",
    "> 🧠 **Code Selection**\n",
    "> \n",
    "> Choose numerical software balancing process representation, efficiency, usability, and data compatibility.\n",
    "> \n",
    "> *Limmat Valley Example:* MODFLOW/MT3D via FloPy for open-source, Python integration, and robust documentation.\n",
    ">\n",
    "> ▦ **Grid Design & Discretization**\n",
    "> \n",
    "> Design the model grid (uniform/non-uniform, structured/unstructured) based on spatial scale and required detail.\n",
    "> \n",
    "> *Limmat Valley Example:* Structured grid with finer resolution near rivers and wells, coarser elsewhere.\n",
    ">\n",
    "> ⚙️ **Model Setup**\n",
    "> \n",
    "> Prepare input files, assign parameters, and configure settings according to the chosen code and grid design.\n",
    "> \n",
    "> *Limmat Valley Example:* Create FloPy input files for boundary conditions, hydraulic properties, and simulation periods."
   ]
  },
  {
   "cell_type": "markdown",
   "metadata": {},
   "source": [
    "> 💡 **Tip**\n",
    "> \n",
    "> Be meticulous in your implementation. Small errors in boundary conditions, parameter values, or grid orientation can lead to significant discrepancies in model results. Always double-check your input files and run preliminary tests to validate your setup."
   ]
  },
  {
   "cell_type": "code",
   "execution_count": null,
   "metadata": {},
   "outputs": [],
   "source": [
    "create_step_completion_marker(4)"
   ]
  },
  {
   "cell_type": "markdown",
   "metadata": {},
   "source": [
    "### Fine-Tuning the model - Step 5: Model Calibration\n",
    "After building your model and defining its structure, the next step is to make it behave like reality. Calibration is where your model is adjusted to match observed data—and where hydrological intuition meets statistical rigor.\n",
    "\n",
    "🎯 Targets & Metrics – What Should the Model Match?\n",
    "Choose what your model should reproduce: hydraulic heads, river baseflow, contaminant plumes? Define quantitative performance metrics (e.g. RMSE, Nash–Sutcliffe efficiency) to assess fit.\n",
    "Key Tip: Reserve part of the data for independent validation—never use all your observations for calibration!\n",
    "\n",
    "⚙️ Calibration Approach – Manual or Automatic?\n",
    "Should you adjust parameters by hand or use optimization tools? Manual calibration allows for geological insight and judgment, while automated approaches (e.g. PEST, pyEMU) handle large parameter spaces efficiently.\n",
    "Best practice: Use a hybrid approach—let automation do the heavy lifting, but interpret and refine based on system understanding.\n",
    "\n",
    "📈 Performance Evaluation – Does the Model Make Sense?\n",
    "A good calibration isn't just about good statistics—it must be physically reasonable. Are calibrated parameters within realistic ranges? Are spatial patterns plausible?\n",
    "Quick check: If parameters are hitting their upper or lower bounds, the model might be overconstrained or missing key processes."
   ]
  },
  {
   "cell_type": "markdown",
   "metadata": {},
   "source": [
    "> **Summary step 5: Fine-Tuning the Model – Calibration**\n",
    ">\n",
    "> 🎯 **Targets & Metrics**\n",
    "> \n",
    "> Identify specific measurable quantities (e.g., hydraulic heads, flows, concentrations) and quantitative criteria for evaluating model performance.\n",
    "> \n",
    "> *Key Task:* Reserve independent validation data at this stage that will not be used for calibration.\n",
    "> \n",
    "> ⚙️ **Calibration Approach**\n",
    "> \n",
    "> Choose the calibration method (manual, automatic, or hybrid) based on model objectives and data availability.\n",
    "> \n",
    "> *Consideration:* Often a combination of manual insights and automated tools yields the best results.\n",
    "> \n",
    "> 📊 **Performance Evaluation**\n",
    "> \n",
    "> Evaluate calibration performance using selected targets and metrics. Ensure results are physically reasonable.\n",
    "> \n",
    "> *Check:* Calibrated parameters should not be stuck at the boundaries of their allowed range.\n",
    "> \n",
    "> *Check:* The long-term water balance should be reasonable.\n"
   ]
  },
  {
   "cell_type": "code",
   "execution_count": null,
   "metadata": {},
   "outputs": [],
   "source": [
    "create_step_completion_marker(5)"
   ]
  },
  {
   "cell_type": "markdown",
   "metadata": {},
   "source": [
    "### 6. Model verification & validation\n",
    "Ensuring Model Reliability – Verification & Validation\n",
    "A calibrated model may fit past data—but can you trust it to simulate real-world scenarios? Verification and validation are crucial final steps that test your model’s correctness and credibility.\n",
    "\n",
    "🛠️ Model Verification – Did We Build It Right?\n",
    "Verification checks whether the model behaves as intended and the code is error-free. This includes reviewing input files, running known test cases, and ensuring numerical routines are functioning logically.\n",
    "Limmat Valley Example: The team performed code reviews and synthetic test cases to verify calculations.\n",
    "\n",
    "🔎 Independent Data Testing (Validation) – Can It Predict?\n",
    "Once the model is verified, test it against independent data not used in calibration (e.g., different years, wells, or locations). This evaluates whether the model has predictive power, not just good fit.\n",
    "Limmat Valley Example: A 25% subset of time series was held back to test the model's temporal generalization ability.\n",
    "\n",
    "📈 Validation Performance Evaluation – Is It Good Enough?\n",
    "Use the same performance metrics as in calibration (e.g., RMSE, NSE) to assess how well the model simulates new, unseen data. But also go further: does the model hold up under different conditions? Are the results physically realistic and consistent with your conceptual understanding?\n",
    "Key Focus: A model that validates well is more trustworthy for decision support and scenario testing."
   ]
  },
  {
   "cell_type": "markdown",
   "metadata": {},
   "source": [
    "> **Summary step 6: Ensuring Model Reliability – Verification & Validation**\n",
    ">\n",
    "> 🛡️ **Model Verification**\n",
    "> \n",
    "> Ensure the model is built correctly and the code is functioning as intended. This includes code testing and checking for logical consistency.\n",
    "> \n",
    "> *Limmat Example:* Code reviews and synthetic test cases to confirm calculations are correct.\n",
    ">\n",
    "> 🔍 **Independent Data Testing (Validation)**\n",
    "> \n",
    "> Test the calibrated model against an independent dataset that was not used during the calibration process.\n",
    "> \n",
    "> *Limmat Example:* Use the reserved 25% of temporal observations to assess predictive performance.\n",
    ">\n",
    "> 📈 **Validation Performance Evaluation**\n",
    "> \n",
    "> Evaluate how well the model performs on the independent validation dataset, using similar metrics as in calibration.\n",
    "> \n",
    "> *Focus:* Assess if the model generalizes well to new data, indicating robust predictive capability."
   ]
  },
  {
   "cell_type": "code",
   "execution_count": null,
   "metadata": {},
   "outputs": [],
   "source": [
    "create_step_completion_marker(6)"
   ]
  },
  {
   "cell_type": "markdown",
   "metadata": {},
   "source": [
    "### 7. Sensitivity and uncertainty analysis\n",
    "Assessing Model Robustness – Sensitivity & Uncertainty Analysis\n",
    "No model is perfect—but a good model tells you how wrong it might be, and where it's most sensitive. This final step builds confidence in your predictions and informs decisions under uncertainty.\n",
    "\n",
    "🧪 Parameter Sensitivity Assessment – What Really Drives the Model?\n",
    "Which parameters have the biggest impact on model outcomes? Running sensitivity tests (e.g., by varying K, recharge, or porosity) helps you prioritize calibration, identify critical uncertainties, and optimize data collection.\n",
    "Example: Varying hydraulic conductivity by ±20% and observing how much predicted drawdown changes.\n",
    "\n",
    "📉 Predictive Uncertainty Quantification – How Sure Are We?\n",
    "All models have uncertainty—quantifying it is key. Use Monte Carlo simulations, Bayesian methods, or error propagation to produce confidence intervals or probability ranges for key outputs.\n",
    "Example: Reporting that a contaminant is likely to arrive in 5–10 years with 90% confidence.\n",
    "\n",
    "🌍 Scenario Uncertainty Quantification – What If Conditions Change?\n",
    "Explore how future scenarios (e.g., climate change, land use, pumping policy) influence predictions. Test your model under multiple plausible futures and quantify how each scenario affects results.\n",
    "Example: Comparing groundwater levels under low, medium, and high recharge scenarios due to climate change.\n",
    "\n",
    "> 💡 **Decision Support Under Uncertainty – How Do We Act Responsibly?**\n",
    "> \n",
    "> Even with uncertainty, decisions must be made. Use your model to guide robust, risk-aware decisions, and identify where additional data could reduce uncertainty most effectively.\n",
    "> \n",
    "> Example: Setting a conservative pumping limit because recharge estimates are highly uncertain."
   ]
  },
  {
   "cell_type": "markdown",
   "metadata": {},
   "source": [
    "> **Summary step 7: Assessing Model Robustness – Sensitivity & Uncertainty Analysis**\n",
    ">\n",
    "> 🔬 **Parameter Sensitivity Assessment**\n",
    "> \n",
    "> Identify which parameters most strongly influence model outcomes. This helps focus data collection and calibration efforts.\n",
    "> \n",
    "> *Example:* Varying hydraulic conductivity by ±20% to see its impact on predicted drawdown.\n",
    ">\n",
    "> 📉 **Predictive Uncertainty Quantification**\n",
    "> \n",
    "> Propagate uncertainties from parameters, inputs, and model structure to model predictions, generating confidence intervals or probability distributions.\n",
    "> \n",
    "> *Example:* Stating that predicted contaminant arrival time has a 90% chance of being between 5 and 10 years.\n",
    ">\n",
    "> 🌍 **Scenario Uncertainty Quantification**\n",
    "> \n",
    "> Assess how different future conditions (e.g., climate change, pumping rates) affect model predictions and their uncertainty.\n",
    "> \n",
    "> *Example:* Evaluating groundwater level changes under low, medium, and high future recharge scenarios.\n",
    ">\n",
    "> 💡 **Decision Support Under Uncertainty**\n",
    "> \n",
    "> Develop robust conclusions and recommendations that acknowledge and incorporate uncertainty. Identify where more data could best reduce critical uncertainties.\n",
    "> \n",
    "> *Example:* Recommending a conservative pumping limit due to high uncertainty in recharge estimates."
   ]
  },
  {
   "cell_type": "code",
   "execution_count": null,
   "metadata": {},
   "outputs": [],
   "source": [
    "create_step_completion_marker(7)"
   ]
  },
  {
   "cell_type": "markdown",
   "metadata": {},
   "source": [
    "### Putting the Model to Work – Step 8: Application\n",
    "This is the moment you've been working toward: actually using your groundwater model to generate insights, test hypotheses, and support real-world decisions.\n",
    "\n",
    "🔮 Predictive Simulations – What Might the Future Look Like?\n",
    "Use your calibrated and validated model to forecast future conditions—whether it’s predicting drawdown, contaminant spread, or aquifer recovery.\n",
    "Example: Forecasting aquifer levels over the next 20 years under current pumping rates.\n",
    "\n",
    "✍️ Scenario Testing – What If Conditions Change?\n",
    "Change one or more inputs and observe the system’s response. Test “what if” situations like reduced recharge, increased abstraction, land use change, or drought conditions.\n",
    "Example: Simulating the impact of a 30% reduction in recharge on stream–aquifer interaction.\n",
    "\n",
    "🧰 Management & Remediation – How Can We Solve Problems?\n",
    "Go beyond simulation—optimize interventions. Use the model to design and evaluate groundwater protection strategies, pumping regimes, or cleanup approaches.\n",
    "Example: Designing an optimized pump-and-treat system for a contaminated site.\n",
    "\n",
    "⚖️ Decision & Policy Support – How Can We Use This for Action?\n",
    "Translate technical outputs into policy-relevant insights. Use the model to guide regulatory decisions, stakeholder negotiations, or sustainable allocation strategies.\n",
    "Example: Evaluating the impact of proposed water use restrictions on different groundwater users."
   ]
  },
  {
   "cell_type": "markdown",
   "metadata": {},
   "source": [
    "> **Summary step 8: Putting the Model to Work – Application**\n",
    ">\n",
    "> 🔮 **Predictive Simulations**\n",
    "> \n",
    "> Use the model to forecast future conditions or predict outcomes of specific events (e.g., impact of a new well).\n",
    "> \n",
    "> *Example:* Predicting aquifer drawdown over the next 20 years under current pumping rates.\n",
    "> \n",
    "> 🧪 **Scenario Testing**\n",
    "> \n",
    "> Explore \"what-if\" situations by changing model inputs or stresses (e.g., climate change impacts, different management rules).\n",
    "> \n",
    "> *Example:* Simulating the effect of a 30% reduction in recharge on stream depletion.\n",
    "> \n",
    "> 🛠️ **Management & Remediation**\n",
    "> \n",
    "> Design and evaluate strategies for sustainable resource management or contaminant cleanup.\n",
    "> \n",
    "> *Example:* Optimizing a pump-and-treat system for a contaminated aquifer.\n",
    "> \n",
    "> ⚖️ **Decision & Policy Support**\n",
    "> \n",
    "> Provide quantitative insights to inform policy-making, resource allocation, and regulatory decisions.\n",
    "> \n",
    "> *Example:* Assessing the impact of proposed water use restrictions on different stakeholders."
   ]
  },
  {
   "cell_type": "code",
   "execution_count": null,
   "metadata": {},
   "outputs": [],
   "source": [
    "create_step_completion_marker(8)"
   ]
  },
  {
   "cell_type": "markdown",
   "metadata": {},
   "source": [
    "### Ensuring Longevity – Step 9: Documentation & Maintenance\n",
    "You’ve built, calibrated, and applied your model—but without proper documentation and versioning, all your work risks becoming opaque or obsolete. This final step ensures your model is transparent, reusable, and future-proof.\n",
    "\n",
    "💾 Code Versioning & Archiving – Keep Track, Reproducibly\n",
    "Track every change to input files, scripts, and configurations. Use tools like Git to version your model and back it up securely. This ensures reproducibility and allows you (and others!) to return to a previous model state if needed.\n",
    "Best practice: Archive complete model snapshots with input/output data and a README on a secure server or repository (e.g., GitHub, GitLab, institutional servers).\n",
    "\n",
    "🔁 Model Update Protocols – When and How to Recalibrate\n",
    "Establish rules for when and how the model should be updated. This includes identifying triggers (e.g., new monitoring wells, land-use change, climate trends) and documenting recalibration steps to reflect new knowledge.\n",
    "Guideline: Clearly define update cycles and assign responsibilities within teams or institutions.\n",
    "\n",
    "📝 Comprehensive Documentation – Write Down Everything That Matters\n",
    "A reliable model is transparent. Document all assumptions, data sources, parameter values, rationale for decisions, and limitations. Think of it as the model’s “lab notebook”—essential for future updates, handovers, or audits.\n",
    "Best practice: Maintain a modeling report and a decision logbook covering what was done, why, and with what confidence."
   ]
  },
  {
   "cell_type": "markdown",
   "metadata": {},
   "source": [
    "> **Summary step 9: Ensuring Longevity – Documentation & Maintenance**\n",
    "> \n",
    "> 💾 **Code Versioning & Archiving**\n",
    "> \n",
    "> Track all changes to model code, input files, and processing scripts. Archive everything needed for reproducibility.\n",
    "> \n",
    "> *Practice:* Use Git for version control. Archive model versions with input/output data on a secure server or repository.\n",
    ">\n",
    "> 🔄 **Model Update Protocols**\n",
    "> \n",
    "> Establish clear procedures for updating the model when new data becomes available or the system understanding evolves.\n",
    "> \n",
    "> *Guideline:* Define triggers for model updates (e.g., new monitoring data, significant land-use change) and outline the re-calibration/validation steps.\n",
    ">\n",
    "> 📝 **Comprehensive Documentation**\n",
    "> \n",
    "> Thoroughly document all assumptions, conceptualizations, data sources, parameters, limitations, and any changes made during the model lifecycle.\n",
    "> \n",
    "> *Best Practice:* Maintain a detailed modeling report and a logbook of decisions, justifications, and encountered issues."
   ]
  },
  {
   "cell_type": "code",
   "execution_count": null,
   "metadata": {},
   "outputs": [],
   "source": [
    "create_step_completion_marker(9)"
   ]
  },
  {
   "cell_type": "markdown",
   "metadata": {},
   "source": [
    "### Sharing Your Insights – Step 10: Effective Result Communication\n",
    "After all the analysis, modeling, and uncertainty quantification, this is the step that brings your work to life for others. Whether you're presenting to stakeholders, peers, or decision-makers—how you communicate your results matters as much as what you found.\n",
    "\n",
    "📊 Visualizing Insights – Make the Invisible Clear\n",
    "A good plot is worth a thousand equations. Use clean, focused, and audience-appropriate visuals—maps, hydrographs, cross-sections, conceptual sketches—to highlight key findings and patterns.\n",
    "Example: Show simplified conceptual diagrams for policymakers, and detailed head time series or plume contours for technical audiences.\n",
    "\n",
    "❓ Communicating Uncertainty – Be Honest and Transparent\n",
    "No model is without limitations. Clearly communicate the confidence and uncertainty in your results—use error bars, confidence intervals, or probability maps, and always explain their implications.\n",
    "Example: Showing a contaminant arrival time as “5–10 years at 90% confidence” or mapping regions of high parameter sensitivity.\n",
    "\n",
    "📝 Documenting & Reporting – Tell the Full Story\n",
    "Your final report should clearly and concisely explain the entire modeling process—from objectives and data to assumptions, results, and recommendations. Use a structured, reproducible format that supports both transparency and collaboration.\n",
    "Best Practice: Tailor the level of technical detail to your target audience—policymakers, regulators, engineers, or researchers."
   ]
  },
  {
   "cell_type": "markdown",
   "metadata": {},
   "source": [
    "> **Summary step 10: Sharing Your Insights – Effective Result Communication**\n",
    "> \n",
    "> 📊 **Visualizing Insights**\n",
    "> \n",
    "> Create clear, compelling, and audience-appropriate visualizations (maps, graphs, diagrams) to convey key findings and complex relationships.\n",
    "> \n",
    "> *Example:* Using simplified conceptual diagrams for policymakers, and detailed hydrographs or plume maps for technical teams.\n",
    "> \n",
    "> ❓ **Communicating Uncertainty**\n",
    "> \n",
    "> Transparently discuss the uncertainties inherent in the model, its predictions, and data. Explain how these uncertainties might impact conclusions.\n",
    "> \n",
    "> *Example:* Presenting results with confidence intervals, probability maps, or discussing sensitivity analysis outcomes.\n",
    "> \n",
    "> ✍️ **Documenting & Reporting**\n",
    "> \n",
    "> Produce comprehensive technical reports that clearly document the entire modeling process, including objectives, methods, data, assumptions, results, and conclusions.\n",
    "> \n",
    "> *Best Practice:* Tailor reports to the audience, ensuring clarity, conciseness, and reproducibility of the work."
   ]
  },
  {
   "cell_type": "code",
   "execution_count": null,
   "metadata": {},
   "outputs": [],
   "source": [
    "create_step_completion_marker(10)"
   ]
  },
  {
   "cell_type": "markdown",
   "metadata": {},
   "source": [
    "We have, above, already covered the first step of the modelling process: problem definition. \n",
    "\n",
    "Before we move on to the perceptual model, we would like you to remember the main hydrogeological processes governing groundwater flow (we'll cover transport at a later stage). \n",
    "\n",
    "Please visit the website of the USGS water cycle visualization and revisit the important hydrogeological processes.\n",
    "[USGS Water Cycle Visualization](https://labs.waterdata.usgs.gov/visualizations/water-cycle/index.html#/)\n",
    "\n",
    "When working on the hydrogeolgoical framework, we will assess the availability of data to quantify these processes. \n",
    "\n",
    "Proceed to the notebook 1_case_study_limmat_valley_aquifer.ipynb to learn more about the Limmat valley aquifer and to start work on the perceptual model. "
   ]
  },
  {
   "cell_type": "markdown",
   "metadata": {},
   "source": [
    "# References\n",
    "Höglund, N.B., Sparrenbom, C., Barthel, R. et al. Groundwater modelling for decision-support in practice: Insights from Sweden. Ambio 54, 105–121 (2025). https://doi.org/10.1007/s13280-024-02068-7\n",
    "\n"
   ]
  }
 ],
 "metadata": {
  "kernelspec": {
   "display_name": "Python 3 (ipykernel)",
   "language": "python",
   "name": "python3"
  },
  "language_info": {
   "codemirror_mode": {
    "name": "ipython",
    "version": 3
   },
   "file_extension": ".py",
   "mimetype": "text/x-python",
   "name": "python",
   "nbconvert_exporter": "python",
   "pygments_lexer": "ipython3",
   "version": "3.12.10"
  }
 },
 "nbformat": 4,
 "nbformat_minor": 4
}
