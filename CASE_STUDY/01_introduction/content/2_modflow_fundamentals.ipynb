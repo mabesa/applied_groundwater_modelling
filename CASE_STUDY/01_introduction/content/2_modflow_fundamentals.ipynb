{
 "cells": [
  {
   "cell_type": "markdown",
   "metadata": {},
   "source": [
    "week 1 | Groundwater\n",
    "\n",
    "# Topic 1 : Introduction to the Groundwater course - Modflow fundamentals \n",
    "\n",
    "Dr. Xiang-Zhao Kong & Dr. Beatrice Marti"
   ]
  },
  {
   "cell_type": "code",
   "execution_count": 1,
   "metadata": {},
   "outputs": [],
   "source": [
    "# Setting up the notebook\n",
    "import sys\n",
    "import os"
   ]
  },
  {
   "cell_type": "markdown",
   "metadata": {},
   "source": [
    "# Modflow \n",
    "What is `Modflow` in general terms? Why do we teach it? Why do we introduce it in the first lesson of the course?\n",
    "\n",
    "Modflow is widely used in the groundwater community as it is stable, free of charge, and open-source. It is a numerical model that simulates groundwater flow. It is a powerful tool to understand groundwater flow and to predict the impact of different scenarios on groundwater flow. \n",
    "\n",
    "There are several versions of Modflow, and the most recent one is `Modflow6` but it is not yet compatible with the transport module `MT3D`. Therefore we will use `Modflow2005`. \n",
    "\n",
    "You will find the documentation of `Modflow2005` on [https://water.usgs.gov/ogw/modflow/MODFLOW-2005-Guide/index.html](https://water.usgs.gov/ogw/modflow/MODFLOW-2005-Guide/index.html). \n",
    "\n",
    "You will learn how to use `Modflow2005` in this course. This implies that you understand how hydrogeological processes are implemented in the model, how to set up the model, how to run the model, and how to post-process the results. Once you have done this for `Modflow2005`, you will find it easy to learn other groundwater modelling software as well. \n",
    "\n",
    "# Mt3D\n",
    "`MT3D` is a modular three-dimensional transport model which can be used in combination with `Modflow` to simulate the transport of solutes in groundwater. By using the analogy between heat and solute transport, `MT3D` can be used to simulate the transport of heat in groundwater as well.\n",
    "You will find the documentation of `MT3D` on [https://www.xmswiki.com/wiki/MT3D](https://www.xmswiki.com/wiki/MT3D).\n",
    "\n",
    "# FloPy\n",
    "FloPy is a Python package to create, run, and post-process `Modflow` models (and other groundwater-related software maintained by the USGS). It is free of charge, open-source and also a great tool to learn `Modflow`. As it is a Python package, it is easy to use and to integrate with other Python packages and to maintain a reproducible workflow which is an issue with most commercial modelling software currently available. \n",
    "\n",
    "You find the documentation of FloPy on [https://flopy.readthedocs.io/en/stable/](https://flopy.readthedocs.io/en/stable/).\n",
    "\n",
    "<div style=\"padding: 1em; margin: 1em 0; border-left: 3px solid #0075b0; background-color: #f8f9fa;\">\n",
    "<strong>💡 Before you go any further:</strong><br>\n",
    "Save the links to the documentation of Modflow2005 and FloPy in your bookmarks. You will need them throughout the course.\n",
    "</div>\n",
    "\n",
    "# Other groundwater software\n",
    "Optional: Geospatial interpollation (Kriging), time series modelling with PASTAS, Introducing GroundHog?"
   ]
  }
 ],
 "metadata": {
  "kernelspec": {
   "display_name": "gw_course_development",
   "language": "python",
   "name": "python3"
  },
  "language_info": {
   "codemirror_mode": {
    "name": "ipython",
    "version": 3
   },
   "file_extension": ".py",
   "mimetype": "text/x-python",
   "name": "python",
   "nbconvert_exporter": "python",
   "pygments_lexer": "ipython3",
   "version": "3.12.10"
  }
 },
 "nbformat": 4,
 "nbformat_minor": 2
}
