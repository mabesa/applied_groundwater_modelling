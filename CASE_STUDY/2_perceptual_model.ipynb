{
 "cells": [
  {
   "cell_type": "markdown",
   "metadata": {},
   "source": [
    "Groundwater | Case Study\n",
    "\n",
    "# Topic 1 : Introduction to the Groundwater course - The Limmat Vally Aquifer \n",
    "\n",
    "Dr. Xiang-Zhao Kong & Dr. Beatrice Marti & Louise Noel du Prat"
   ]
  },
  {
   "cell_type": "code",
   "execution_count": null,
   "metadata": {},
   "outputs": [],
   "source": [
    "# Setting up the notebook\n",
    "import sys\n",
    "import os\n",
    "import pandas as pd\n",
    "import numpy as np\n",
    "\n",
    "from IPython.display import display\n",
    "import rasterio\n",
    "import geopandas as gpd\n",
    "import plotly.graph_objects as go\n",
    "import plotly.express as px\n",
    "\n",
    "import matplotlib.pyplot as plt\n",
    "import matplotlib.lines as mlines\n",
    "import matplotlib.patches as mpatches\n",
    "\n",
    "# Load local modules\n",
    "sys.path.append('../SUPPORT_REPO/src')\n",
    "sys.path.append('../SUPPORT_REPO/src/scripts/scripts_exercises')\n",
    "import climate_utils as cu\n",
    "import print_images as du\n",
    "import river_utils as ru\n",
    "from data_utils import download_named_file\n",
    "from map_utils import (\n",
    "    display_groundwater_resources_map, \n",
    "    plot_model_area_map, \n",
    "    display_concessions_map\n",
    ")\n",
    "from progress_tracking import (\n",
    "    create_perceptual_model_progress_tracker,\n",
    "    create_section_completion_marker,\n",
    ")"
   ]
  },
  {
   "cell_type": "markdown",
   "metadata": {},
   "source": [
    "## Introducing the Case Study & Building a Perceptual Model\n",
    "Most exercises as well as the final project in this course are based on case studies. Case studies are real-world scenarios that provide you with an opportunity to apply your knowledge and skills to solve complex groundwater problems. In this first year we choose the Limmat valley aquifer in Zurich, Switzerland. \n",
    "\n",
    "We will follow the actual steps a professional groundwater modeler might take to set up a numerical model to answer a specific question. In a first step, the modelers familiarize themselves with the Limmat valley aquifer and its hydrological and hydrogeological properties. We start out with a very generic perceptual model of the aquifer (see Figure 1), which we'll refine as we uncover new information. "
   ]
  },
  {
   "cell_type": "code",
   "execution_count": null,
   "metadata": {},
   "outputs": [],
   "source": [
    "du.display_image(\n",
    "    image_filename='perceptual_model_00_initial.png', \n",
    "    image_folder='1_perceptual_model', \n",
    "    caption='Figure 1: Initial perceptual model which will be refined and used as a basis for a first long-term average water balance estimation.'\n",
    ")"
   ]
  },
  {
   "cell_type": "markdown",
   "metadata": {},
   "source": [
    "We first try to get an understanding of the hydrogeology of the Limmat valley aquifer. And then go through each water balance component and try to get a first rough understanding of the most important fluxes in the system. At a later stage, we will re-use and refine the perceptual model to set up a numerical model of the Limmat valley aquifer."
   ]
  },
  {
   "cell_type": "markdown",
   "metadata": {},
   "source": [
    "## The Limmat Valley Aquifer\n",
    "The Limmat valley aquifer is a well-studied groundwater reservoir beneath the city of Zurich, Switzerland. Doppler and colleagues write, that it was formed during the last ice age, when the Lindt glacier retreated. The Limmat valley aquifer has no direct hydraulic connection to lake Zurich in the east where it is bound by impermeable lake sediments and moraine material. The aquifer is further confined in the north and south by the side morains of the Lindth glacier. Lateral inflow of groundwater from the hills in the north and south is to be expected. The groundwater body is further in connection with the river Sihl in the east and the river Limmat in the north. The hydraulic properties of the aquifer are higly heterogenic because of its complex geological history formed through various sedimentation and erosion events from the rivers Sihl and Limmat. [\\[1, 2\\]](#references)\n",
    "\n",
    "In Figure 2 you see a prinscreen of the [GIS-browser](https://www.gis.zh.ch/) of the canton of Zurich [\\[3\\]](#references). The cyanide blue area in the center of the map shows the Limmat valley aquifer. The darker the color, the larger the thickness of the aquifer. The GIS-Browser is only available in German. You can use the translation feature of your browser to translate the page into your preferred language."
   ]
  },
  {
   "cell_type": "code",
   "execution_count": null,
   "metadata": {},
   "outputs": [],
   "source": [
    "du.display_image(\n",
    "    image_filename='GIS-browser_canton_Zurich.png', \n",
    "    image_folder='1_perceptual_model',\n",
    "    caption='Figure 2: Printscreen of the GIS-browser of the canton of Zurich displaying the cantonal groundwater map. Source: https://www.gis.zh.ch/, accessed 2024-05-01'\n",
    ")"
   ]
  },
  {
   "cell_type": "markdown",
   "metadata": {},
   "source": [
    "We now start working through the available information to refine our perceptual model of the Limmat valley aquifer. We will use the GIS-browser to refine our understanding of the geometry of the aquifer and how we want to represent it in the model. \n",
    "\n",
    "You can use the list below to track your progress through the perceptual model construction. "
   ]
  },
  {
   "cell_type": "code",
   "execution_count": null,
   "metadata": {},
   "outputs": [],
   "source": [
    "create_perceptual_model_progress_tracker()"
   ]
  },
  {
   "cell_type": "markdown",
   "metadata": {},
   "source": [
    "## Aquifer Geometry\n",
    "Most of the layers in the GIS-Browser of the Canton of Zurich are available to the general public for download (button \"Datenbezug\" in the upper right corner of the map pane). We use this feature and import the relevant parts of the map into our JupyterHub environment. \n",
    "\n",
    "### Bottom Topography\n",
    "We have downloaded the aquifer thickness layer for you from the GIS-browser and clipped it to the area of interest (AOI) of the Limmat valley aquifer. Let's have a look at the bottom topography of the aquifer in Figure 3."
   ]
  },
  {
   "cell_type": "code",
   "execution_count": null,
   "metadata": {},
   "outputs": [],
   "source": [
    "# This function downloads the groundwater map of the canton of Zurich and saves \n",
    "# it to the folder applied_groundwater_modelling_data in your home directory. \n",
    "gw_map_path = download_named_file(\n",
    "    name='groundwater_map_norm', \n",
    "    data_type='gis', \n",
    ")\n"
   ]
  },
  {
   "cell_type": "code",
   "execution_count": null,
   "metadata": {},
   "outputs": [],
   "source": [
    "# Create and display the interactive map\n",
    "interactive_map = display_groundwater_resources_map(\n",
    "    gw_map_path, zoom_level=11, \n",
    "    map_title=\"Figure 3: Groundwater resources map of the canton of Zurich\",)\n",
    "interactive_map"
   ]
  },
  {
   "cell_type": "markdown",
   "metadata": {},
   "source": [
    "We can use these contours of the aquifer thickness to build the bottom of the aquifer in our model later on.  "
   ]
  },
  {
   "cell_type": "markdown",
   "metadata": {},
   "source": [
    "### Top Topography\n",
    "The Limmat valley aquifer is unconfined. We can use the topography of the Limmat valley to represent the top of the aquifer. swisstopo provides digital elevation models (DEMs) of Switzerland in various resolutions. We use the 25m resolution DEM for our case study. We have downloaded the DEM from the [website of the Federal Office of Topography swisstopo](https://www.swisstopo.admin.ch/en/geodata/height/dhm25.html)[\\[4\\]](#references) and clipped it to the area of interest (AOI) of the Limmat valley aquifer (Figure 4). If you are interested to learn more about the DEM and how to clip it to the AOI, you can read the [processing_DEM.ipynb](../SUPPORT_REPO/src/scripts/scripts_limmat_data_preprocessing/processing_DEM.ipynb) notebook."
   ]
  },
  {
   "cell_type": "code",
   "execution_count": null,
   "metadata": {},
   "outputs": [],
   "source": [
    "dem_path = download_named_file(\n",
    "    name='dem',\n",
    "    data_type='gis'\n",
    ")"
   ]
  },
  {
   "cell_type": "code",
   "execution_count": null,
   "metadata": {},
   "outputs": [],
   "source": [
    "# Open the DEM file\n",
    "with rasterio.open(dem_path) as dem_src:\n",
    "    dem_data = dem_src.read(1)  # Read the first band\n",
    "    transform = dem_src.transform\n",
    "    height, width = dem_src.height, dem_src.width\n",
    "    x_coords = [transform.c + i * transform.a for i in range(width)]\n",
    "    y_coords = [transform.f + i * transform.e for i in range(height)]\n",
    "\n",
    "# Use the clipped and masked DEM from the previous steps\n",
    "fig = go.Figure(data=go.Heatmap(\n",
    "    z=dem_data,\n",
    "    x=x_coords,\n",
    "    y=y_coords,\n",
    "    colorscale='earth',\n",
    "    zmin=0,\n",
    "    colorbar=dict(title='Elevation (m)'), \n",
    "))\n",
    "\n",
    "fig.update_layout(\n",
    "    title='Figure 4: Elevation model DHM25 (©swisstopo) of the Limmat Valley (Clipped Area).',\n",
    "    xaxis_title='Easting (m)',\n",
    "    yaxis_title='Northing (m)',\n",
    "    # Keep aspect ratio correct\n",
    "    yaxis_scaleanchor=\"x\",\n",
    "    yaxis_scaleratio=1,\n",
    "    xaxis_tickformat='d',\n",
    "    yaxis_tickformat='d'\n",
    ")\n",
    "fig.update_layout(title_font_size=15)\n",
    "\n",
    "fig.show()"
   ]
  },
  {
   "cell_type": "markdown",
   "metadata": {},
   "source": [
    "The topography of the Limmat valley is quite flat, with a maximum elevation of about 400 m above sea level. As we use a rather coarse DEM resolution of 25 m, we can not see the small topographic features in the Limmat valley, like for example the river beds. As we would like to model the river-aquifer interaction, we need to find a suitable compromise between DEM (and model grid) resolution and computational capacities to represent the river beds in our model.  \n",
    "\n",
    "River-aquifer interaction is predominantly driven by the stream bed elevation relative to the groundwater table. Therefore, an accurate representation of the streambed elevation in the numerical groundwater flow model is crucial. With a spatial resolution of 20 m, the DEM is not sufficient to represent the river beds in the Limmat valley aquifer. We will discuss the river-aquifer interaction in a later chapter, where we will also discuss how to represent the river beds in our model for different modelling purposes in the case studies. \n",
    "\n",
    "### Lateral Model Boundaries\n",
    "The groundwater map of the Limmat valley aquifer shows that the aquifer is not hydraulically connected to the lake Zurich in the east, but that it is bounded by impermeable lake sediments and moraine material. We will neglect aquifer parts east of the river Sihl as it is not the focus of the model goal and we expect the recharge from the river to dominate the flow from the east. The aquifer is further confined in the north and south by the side morains of the Lindth glacier. Lateral inflow of groundwater from the hills in the north and south is to be expected. The most common approach is to use a water balance approach on the hill sides to estimate the sub-surface inflow from the hills. We'll address this in the chapter on [climate data](#climate). We do not consider the lateral inflow from the Sihl valley aquifer into the Limmat valley aquifer, as the inflow is rather small and parallel to the general flow direction in the Limmat valley. \n",
    "\n",
    "Should you have to estimate the lateral inflow from the Sihl valley aquifer, you can apply Darcy's law under the Dupuit assumption. In practice, the organization tasking you to produce a groundwater flow model will typically provide you with estimates of hydraulic conductivities from field measurements. As a first estimate, you can use the hydraulic conductivities from the literature (e.g. Freeze and Cherry, 1979, shown in Figure 5)[\\[5\\]](#references).   "
   ]
  },
  {
   "cell_type": "code",
   "execution_count": null,
   "metadata": {},
   "outputs": [],
   "source": [
    "print(10**(-2)*3600*24)"
   ]
  },
  {
   "cell_type": "code",
   "execution_count": null,
   "metadata": {},
   "outputs": [],
   "source": [
    "du.display_image(\n",
    "    image_filename='hydraulic_conductivities_by_Freeze.png', \n",
    "    image_folder='1_perceptual_model',\n",
    "    caption='Figure 5: Hydraulic conductivity ranges as presented in the book <<Groundwater>> by Freeze and Cherry (1979). The ranges are based on the hydraulic conductivity of unconsolidated sediments. Hydraulic conductivity is typically known only in approximate orders of magnitude.'\n",
    ")"
   ]
  },
  {
   "cell_type": "markdown",
   "metadata": {},
   "source": [
    "\n",
    "> 📚 **Theory reminder**: Applying Darcy's Law in Unconfined Aquifers: The Dupuit Approximation\n",
    ">\n",
    "> To apply Darcy's Law for calculating the total discharge through an unconfined aquifer, we often rely on a set of simplifying assumptions known as the *Dupuit approximation* (or Dupuit-Forchheimer assumption). These assumptions allow us to treat the complex three-dimensional flow problem as a simpler two-dimensional one by integrating flow over the entire aquifer thickness.\n",
    "> \n",
    "> The key conditions that must be met for the Dupuit approximation to be valid are:\n",
    "> \n",
    "> *   *The water table gradient is small:* The slope of the phreatic surface must be gentle. This is the most critical assumption, as it implies that flow is almost entirely horizontal.\n",
    "> *   *Flow is horizontal:* It is assumed that the hydraulic head is constant with depth for any given vertical line. This means equipotential lines are vertical, and consequently, the flow lines are horizontal.\n",
    "> *   *The hydraulic gradient is equal to the slope of the water table:* The slope of the water table is assumed to be the hydraulic gradient (`i`) for the entire saturated thickness of the aquifer.\n",
    "> \n",
    "> When these conditions hold, we can use a modified form of Darcy's Law to calculate the discharge `Q` of the aquifer:\n",
    "> \n",
    "> `Q = -K * h * B * (dh/dx)`\n",
    "> \n",
    "> Where:\n",
    "> *   `Q` is the discharge (e.g., m3/s)\n",
    "> *   `K` is the hydraulic conductivity (e.g., m/s)\n",
    "> *   `h` is the saturated thickness (m)\n",
    "> *   `B` is the width of the aquifer perpendicular to the flow direction (m)\n",
    "> *   `dh/dx` is the slope of the water table, which represents the hydraulic gradient.\n",
    "> \n",
    "> In essence, the Dupuit approximation simplifies reality by ignoring the vertical components of flow within the aquifer, which is a reasonable simplification when the water table is nearly flat compared to the saturated thickness."
   ]
  },
  {
   "cell_type": "markdown",
   "metadata": {},
   "source": [
    "For the outflow, a fixed-head boundary is typically chosen. This requires a known groundwater table at the boundary, e.g. a monitoring piezometer. Another option is to use the water level of a receiving stream or lake as a fixed-head boundary condition. The outflow boundary should be placed far enough away from the area of interest, so that the groundwater flow in the area of interest is not influenced by the boundary condition. For regional model, this is typically several hundred meters to several kilometers away from the area of interest. \n",
    "\n",
    "For our case, we choose the groundwater level at piezometer 481 (indicated with a pink arrow in Figure 6) as the fixed-head boundary condition. This relieves us of the need to implement the more complex aquifer geometry and river-aquifer interaction further downstream of the Limmat valley aquifer. We can use the isoline of equal groundwater levels from the GIS-browser to define the outflow boundary."
   ]
  },
  {
   "cell_type": "code",
   "execution_count": null,
   "metadata": {},
   "outputs": [],
   "source": [
    "du.display_image(\n",
    "    image_filename='Detail_outflow.png', \n",
    "    image_folder='1_perceptual_model',\n",
    "    caption='Figure 6: Detail of the outflow boundary condition at piezometer 481 (purple arrow). The groundwater level at this piezometer is used as a fixed-head boundary condition for the groundwater flow model. The outflow boundary is placed far enough away from the area of interest, so that the groundwater flow in the area of interest is not influenced by the boundary condition.'\n",
    ")"
   ]
  },
  {
   "cell_type": "markdown",
   "metadata": {},
   "source": [
    "Note that the isolines of equal groundwater levels are not perfectly perpendicular to the flow direction but slightly curved at the aquifer boundaries, particularly well visible at the northern boundary. This indicates lateral groundwater inflow from the north.  \n",
    "\n",
    "We can now make a rough estimate of the groundwater flux at the western outflow boundary of the Limmat valley aquifer using the Dupuit assumption. We'll use the two isolines of equal groundwater levels of 389 m a.s.l. and 391 m a.s.l. to estimate the hydraulic gradient at the western boundary of the Limmat valley aquifer. The distance between the two isolines can be measured in a GIS tool and is about 780 m, the thickness of the aquifer in that location is between 2 m and 10 m, and the aquifer width is approximately 1 km. We estimate the hydraulic conductivity to be around 10^-2 m/s so we can estimate the hydraulic gradient as follows:"
   ]
  },
  {
   "cell_type": "code",
   "execution_count": null,
   "metadata": {},
   "outputs": [],
   "source": [
    "outflow_lower_bound = (391 - 389) / 780 * 2 * 1000 * 0.01 * 3600 * 24 # m3/day\n",
    "outflow_upper_bound = (391 - 389) / 780 * 10 * 1000 * 0.01 * 3600 * 24 # m3/day\n",
    "\n",
    "print(f\"Estimated groundwater outflow at the western boundary of the Limmat valley aquifer: {outflow_lower_bound:.2f} m3/day to {outflow_upper_bound:.2f} m3/day\")"
   ]
  },
  {
   "cell_type": "markdown",
   "metadata": {},
   "source": [
    "We now have an understanding of the geometry of the aquifer. Let's simplify update our perceptual model with the information we have gathered so far: \n",
    "\n",
    "- The aquifer does not have a direct hydraulic connection to lake Zurich in the east. \n",
    "- It is probably heavily influenced by the river Sihl in the east and the river Limmat in the north.\n",
    "- Since groundwater flow in river valleys generally follows the topography, we can assume that the groundwater flow in the Limmat valley aquifer is directed from south-east to west. This general flow direction is corroborated by the groundwater flow arrows which become visible when we zoom in on the GIS-browser map (visit the GIS browser to zoom in).\n",
    "- The aquifer thickness is highly variable. To adequately represent the known geometry of the aquifer, a 3D model with a high spatial resolution is required. We will first opt for a 2D model with a simplified geometry for the case study work to keep the model lean and fast on JupyterHub. \n",
    "- The simplified geometry will show a larger thickness in the south-east with a gradual thinning towards the west. The thickness will be represented by a single layer with a variable thickness. We will use the thickness values from the GIS-browser to define the thickness of the aquifer in our model whereby we will have to map the isolines of groundwater thickness to the model grid (see Figure 7).  \n",
    "- The aquifer extends boyond the boundaries of the city of Zurich. Since we are intersted mainly in applying our numerical experiment in the city region, this means that we will have to make assumptions about the outflow boundary of the aquifer."
   ]
  },
  {
   "cell_type": "code",
   "execution_count": null,
   "metadata": {},
   "outputs": [],
   "source": [
    "du.display_image(\n",
    "    image_filename='perceptual_model_01_simple_geometry.png', \n",
    "    image_folder='1_perceptual_model',\n",
    "    caption='Figure 7: Illustration of the refined perceptual model, including information about the aquifer shape.'\n",
    ")"
   ]
  },
  {
   "cell_type": "markdown",
   "metadata": {},
   "source": [
    "<div style=\"padding: 1em; margin: 1em 0; border-left: 3px solid #8e44ad; background-color: #f5eef8;\">\n",
    "<strong>🤔 Think about it:</strong><br>\n",
    "Take a few minutes to explore the available layers in the GIS-browser of the canton of Zurich. What do you think are the most important layers for groundwater modeling? Why?\n",
    "</div>"
   ]
  },
  {
   "cell_type": "code",
   "execution_count": null,
   "metadata": {},
   "outputs": [],
   "source": [
    "create_section_completion_marker(1)  # Mark section 1 complete"
   ]
  },
  {
   "cell_type": "markdown",
   "metadata": {},
   "source": [
    "## Climate Forcing\n",
    "Climate data is used to estimate the areal recharge of the aquifer from infiltration of precipitation. It is further used to estimate the lateral inflow from the hills in the north and south of the Limmat valley aquifer. The lateral inflow is estimated using a water balance approach on the hill sides.\n",
    "\n",
    "### Areal Recharge\n",
    "We get climate data from the Swiss Federal Office of Meteorology and Climatology (MeteoSwiss). The data is available for viewing on [MeteoSwiss](https://www.meteoswiss.admin.ch/services-and-publications/applications/measurement-values-and-measuring-networks.html#param=messnetz-klima&table=false&station=SMA&compare=y&chart=year) website [\\[6\\]](#references) and was downloaded via the [opendata.swiss plattform](https://opendata.swiss/en/dataset/klimanormwerte) [\\[7\\]](#references). We made it available in the data directory of the zurich case study repository. \n",
    "The closest station to the Limmat valley aquifer is the Fluntern station. The data is available for the years 1991-2020. Let's have a look at the data. "
   ]
  },
  {
   "cell_type": "code",
   "execution_count": null,
   "metadata": {},
   "outputs": [],
   "source": [
    "data_path = os.path.abspath(\n",
    "    os.path.join('case_study_zurich', 'data', 'climate'))\n",
    "# Test if this is a valid path\n",
    "if not os.path.exists(data_path):\n",
    "    print(f\"Path {data_path} does not exist.\")\n",
    "\n",
    "climate_norms = cu.read_climate_data(data_path, station_string='Fluntern')\n",
    "\n",
    "# Inspect the climate norms\n",
    "display(climate_norms)"
   ]
  },
  {
   "cell_type": "markdown",
   "metadata": {},
   "source": [
    "> **🤔 Think about it**  \n",
    "> We are looking at the climate data mostly to get an idea about groundwater recharge. In an aquifer like the Limmat valley aquifer, which is located in a densely populated area, we have to consider that the recharge is not only influenced by the climate but also by human activities. What do you think are the most important human activities that influence groundwater recharge in this area?"
   ]
  },
  {
   "cell_type": "markdown",
   "metadata": {},
   "source": [
    "Note that we not only have temperature and precipitation data but a wide range of other climate variables which we can use to calculate potential evaporation. However, since the Limmat valley aquifer is located in a built-up area, we will have to make some assumptions about the land use and the resulting potential evaporation. Approximately 80% to 90% of the upper boundary of the aquifer is built-up, with only a small fraction of the area being green space or railway tracks. According to Qui and colleagues, urban evaporation in Swiss climate can amount to about 20% of the precipitation[\\[8\\]](@references), that would be around 200 mm/year for the Limmat valley aquifer. We will use this value as a first approximation for the potential evaporation in our model. \n",
    "\n",
    "Figure 8 below shows the monthly average temperature and precipitation for the Fluntern station. "
   ]
  },
  {
   "cell_type": "code",
   "execution_count": null,
   "metadata": {},
   "outputs": [],
   "source": [
    "plt, fig = cu.plot_climate_data(\n",
    "    climate_norms, \n",
    "    custom_title=\"Figure 8: Climate data for the Fluntern station (source ).\")\n",
    "plt.show()"
   ]
  },
  {
   "cell_type": "markdown",
   "metadata": {},
   "source": [
    "We now have first data concerning the fluxes into and out of the aquifer. We can now update our perceptual model with the information we have gathered so far:\n",
    "- The average annual precipitation in the Limmat valley aquifer is 1108 mm/year. \n",
    "- We assume that the actual evaporation is about 20% of the precipitation, which would be around 200 mm/year (see Figure 8).\n",
    "- Lehner suggests that between 5% and 15% of the precipitation infiltrates into the aquifer [\\[9\\]](@references). We will use a value of 10% as a first approximation, which would be around 110 mm/year.\n",
    "- The rest of the precipitation runs off, via the rainwater drainage system, into the river Sihl and the river Limmat. That would be about 70% of the precipitation, which would be around 770 mm/year.\n",
    "\n",
    "We update the perceptual model again in Figure 9. "
   ]
  },
  {
   "cell_type": "code",
   "execution_count": null,
   "metadata": {},
   "outputs": [],
   "source": [
    "du.display_image(\n",
    "    image_filename='perceptual_model_02_atmospheric_fluxes.png', \n",
    "    image_folder='1_perceptual_model',\n",
    "    caption='Figure 9: Adding first estimates of atmospheric forcing to perceptual model.'\n",
    ")"
   ]
  },
  {
   "cell_type": "markdown",
   "metadata": {},
   "source": [
    "TODO: Change figure, replace E and P with net recharge to the aquifer (R)\n",
    "\n",
    "Once we know the area of the model domain, we can calculate the areal net recharge to the aquifer. "
   ]
  },
  {
   "cell_type": "markdown",
   "metadata": {},
   "source": [
    "### Lateral Inflow from Hills\n",
    "The lateral inflow from the hills in the north and south of the Limmat valley aquifer is estimated using a water balance approach on the hill sides. We will use the same climate data as for the areal recharge to estimate the lateral inflow.\n",
    "\n",
    "We can use the same approach as for the areal recharge to estimate the lateral inflow from the hills. We require the area of the hills in the north and south of the Limmat valley aquifer to calculate the lateral inflow. \n",
    "\n",
    "As a first approximation, we roughly delineate the area of the hills in the north and south of the Limmat valley aquifer using QGIS (see Figure 10). We can then use the climate data to estimate the lateral inflow from the hills. "
   ]
  },
  {
   "cell_type": "code",
   "execution_count": null,
   "metadata": {},
   "outputs": [],
   "source": [
    "du.display_image(\n",
    "    image_filename='rough_first_manual_catchment_delineation_to_estimate_area_for_lateral_inflow.png', \n",
    "    image_folder='1_perceptual_model',\n",
    "    caption='Figure 10: Rough first manual catchment delineation to estimate area for lateral inflow. The area is delineated using the height model of the area (here DHM200). The area is used to estimate the lateral inflow from the hills in the north and south of the Limmat valley aquifer. The delineation is not precise and should be refined in a later step. The area relevant for the lateral inflow estimation is 15 km2 in the south and 11 km2 in the north of the Limmat valley aquifer.'\n",
    ")"
   ]
  },
  {
   "cell_type": "markdown",
   "metadata": {},
   "source": [
    "Please note, in this very first iteration of the perceptual model, we use crude approximations. A proper catchment delineation would require a more detailed analysis of the topography and the hydrological conditions in the area. You find step-by-step instructions on how to delineate a catchment in many places on the internet, for example here: [https://hydrosolutions.github.io/caham_book/geospatial_data.html#sec-catchment-delineation](https://hydrosolutions.github.io/caham_book/geospatial_data.html#sec-catchment-delineation). \n",
    "\n",
    "We assume that the lateral inflow of groundwater into the aquifer is only about 10% of the precipitation in the area. Our first rough estimate of the lateral groundwater inflow from the hills to the north and south of the Limmat valley thus is:  "
   ]
  },
  {
   "cell_type": "code",
   "execution_count": null,
   "metadata": {},
   "outputs": [],
   "source": [
    "inflow_south = 0.1 * 15e6  # m3/year\n",
    "inflow_north = 0.1 * 11e6  # m3/year\n",
    "\n",
    "print(f\"Estimated lateral inflow from the south: {(inflow_south/1000000):.1f} 10^6 m³/year\")\n",
    "print(f\"Estimated lateral inflow from the north: {(inflow_north/1000000):.1f} 10^6 m³/year\")"
   ]
  },
  {
   "cell_type": "markdown",
   "metadata": {},
   "source": [
    "> **Think about it:**. \n",
    "> What type of boundary condition would you use to represent the lateral inflow from the hills in a steady state numerical model? Why?  \n",
    "\n",
    "TODO: Update the water balance figure with the lateral inflow from the hills\n"
   ]
  },
  {
   "cell_type": "code",
   "execution_count": null,
   "metadata": {},
   "outputs": [],
   "source": [
    "create_section_completion_marker(2)  # Mark section 2 complete"
   ]
  },
  {
   "cell_type": "markdown",
   "metadata": {},
   "source": [
    "## River-aquifer interaction\n",
    "\n",
    "### River Geometry & Recharge\n",
    "The river-aquifer interaction is an important component of the groundwater flow model. The geometry of the river and its interaction with the aquifer will influence the groundwater flow direction and the groundwater levels in the aquifer.\n",
    "\n",
    "In practice, a modeler will use measured profiles of the river bed to represent the river geometry in the model. For this course, we do not have access to profiles of the river bed so we have to make some assumptions about the river geometry.\n",
    "\n",
    "If you are based in Zurich, you can visit the rivers, for example on a bicycle tour. Visiting your model area is a great way to get a feel for the area and to understand the hydrological processes at play. If you don't have the opportunity to visit the area, you can use the GIS-browser or download selected tiles of the high-resolution elevation model to get an idea of the river geometry and ask a local project partner to help you build the perceptual model. \n",
    "\n",
    "#### Interactive Exploration of River-Aquifer Interaction\n",
    "\n",
    "Figure 11 below provides an interactive tool to help you visualize the complex relationship between a river and an adjacent unconfined aquifer. It consists of two main parts:\n",
    "\n",
    "1.  **Left Plot (Physical Cross-Section):** This shows a physical model of the river and the groundwater system. You can see the water level in the river (`H_riv`) and the water table in the aquifer (`H_aq`).\n",
    "2.  **Right Plot (Flux Relationship):** This is a conceptual graph that shows the calculated flux (flow rate, `Q_riv`) between the river and the aquifer as a function of the aquifer's head. The red dot indicates the current state of the system shown on the left.\n",
    "\n",
    "**How to Use This Figure:**\n",
    "\n",
    "Use the two sliders below the plot to change the **Aquifer Head (`H_aq`)** and the **River Stage (`H_riv`)**. As you move the sliders, observe how the system changes in both plots. Pay close attention to the title, the equation, the direction of the flow (indicated by the arrow), and the position of the red dot on the flux curve.\n",
    "\n",
    "**Scenarios to Explore:**\n",
    "\n",
    "Try to create the following three fundamental conditions:\n",
    "\n",
    "1.  **Gaining Stream:**\n",
    "    *   **How to create it:** Set the aquifer head (`H_aq`) to be *higher* than the river stage (`H_riv`).\n",
    "    *   **What to observe:** Water flows from the aquifer into the river. The flux (`Q_riv`) is negative (flow *out of* the groundwater). The head difference (`ΔH`) is between `H_aq` and `H_riv`. Notice on the right plot that the red dot is in the negative flux region.\n",
    "\n",
    "2.  **Losing Stream (Connected):**\n",
    "    *   **How to create it:** Set the river stage (`H_riv`) to be *higher* than the aquifer head (`H_aq`), but keep `H_aq` *above* the riverbed bottom (`R_bot`, the dashed brown line).\n",
    "    *   **What to observe:** Water flows from the river into the aquifer. The flux is positive and its magnitude depends directly on the head difference (`ΔH`). As you lower `H_aq`, the flux increases. The red dot on the right plot moves down the sloped part of the curve.\n",
    "\n",
    "3.  **Losing Stream (Disconnected):**\n",
    "    *   **How to create it:** Lower the aquifer head (`H_aq`) until it is *below* the riverbed bottom (`R_bot`).\n",
    "    *   **What to observe:** A yellow \"Vadose Zone\" appears between the riverbed and the water table, indicating they are no longer directly connected. The flow from the river now seeps downward at a constant, maximum rate. The flux no longer depends on `H_aq`. Notice that the head difference (`ΔH`) for the calculation is now between `H_riv` and `R_bot`. On the right plot, the red dot moves onto the vertical part of the curve, showing that the flux remains constant even if you continue to lower `H_aq`."
   ]
  },
  {
   "cell_type": "code",
   "execution_count": null,
   "metadata": {},
   "outputs": [],
   "source": [
    "ru.plot_river_aquifer_interaction(\n",
    "    custom_title=\"Figure 11: Illustration of river-aquifer interaction and the corresponding flux vs. head relationship.\"\n",
    ")"
   ]
  },
  {
   "cell_type": "markdown",
   "metadata": {},
   "source": [
    "### River Discharge & River Water Levels\n",
    "The federal office for the environment (FOEN) is the first address for hydrological data in Switzerland. You will find all surface water monitoring sites under [map.geo.admin.ch](https://map.geo.admin.ch) under layer *Hydrological gauaging stations* [\\[10\\]](#references) (see Figure 12). "
   ]
  },
  {
   "cell_type": "code",
   "execution_count": null,
   "metadata": {},
   "outputs": [],
   "source": [
    "du.display_image(\n",
    "    image_filename='BAFU_HydrologicalGaugingStations.png', \n",
    "    image_folder='1_perceptual_model',\n",
    "    caption='Figure 12: Hydrological gauging stations layer available at map.geo.admin.ch.' \n",
    ")"
   ]
  },
  {
   "cell_type": "markdown",
   "metadata": {},
   "source": [
    "When you zoom in to the Limmat valley aquifer (Figure 13), you will find the gauging stations of the rivers Sihl and Limmat. A next gauging station on the river Limmat is located at the city of Baden, downstream of a run-by-the-river hydropower plant, and therefore not relevant for our study. The gauging station on the river Sihl is located at the city of Zurich, upstream of the confluence with the river Limmat. The gauging station on the river Limmat is located at the city of Zurich, downstream of the confluence with the river Sihl. "
   ]
  },
  {
   "cell_type": "code",
   "execution_count": null,
   "metadata": {},
   "outputs": [],
   "source": [
    "du.display_image(\n",
    "    image_filename='BAFU_HydrologicalGaugingStations_closeup.png',\n",
    "    image_folder='1_perceptual_model',\n",
    "    caption='Figure 13: Locations of hydrological gauging stations near the Limmat valley aquifer.', \n",
    ")"
   ]
  },
  {
   "cell_type": "markdown",
   "metadata": {},
   "source": [
    "A click on the gauaging station will bring you directly to the station site made available by the federal office for the environment (FOEN). The gauging station on the river Sihl is called [*Sihl - Zürich, Sihlhölzli*](https://www.hydrodaten.admin.ch/de/seen-und-fluesse/stationen-und-daten/2176) and has ID 2176 and the gauging station on the river Limmat is called [*Limmat - Zürich, Unterhard*](https://www.hydrodaten.admin.ch/de/seen-und-fluesse/stationen-und-daten/2099) and has ID 2099. The IDs are unique numeric station identifiers and typically required to retrieve data from data repositories or APIs. \n",
    "\n",
    "> **🤔 Think about it**  \n",
    "> For surface water balancing, discharge is the important variable. However, when it comes to flooding or river-aquifer interaction, the water level is the more important variable. Why do you think that is?\n",
    "\n",
    "From the station sites, we see current water levels, typically over the past 7 days but no water level dynamics. Thankfully, this data can be requested from FOEN. You will find a copy of the data in the data directory of the zurich case study repository. The data is available as a csv file. Please note that the data from the most recent years is provisional data and may be subject to change.\n",
    "\n",
    "Let's have a look at the data (Figures 14 and 15 and table below). \n"
   ]
  },
  {
   "cell_type": "code",
   "execution_count": null,
   "metadata": {},
   "outputs": [],
   "source": [
    "# Define the path to river data\n",
    "river_data_path = os.path.abspath(\n",
    "    os.path.join('case_study_zurich', 'data', 'rivers'))\n",
    "\n",
    "# Check if path exists\n",
    "if not os.path.exists(river_data_path):\n",
    "    print(f\"Path {river_data_path} does not exist.\")\n",
    "else:\n",
    "    try:\n",
    "        # Plot the typical yearly evolution of river water levels\n",
    "        fig, axes = ru.plot_yearly_river_levels(\n",
    "            data_path=river_data_path,\n",
    "            start_year=2010,\n",
    "            end_year=2020,\n",
    "            figsize=(12, 8), \n",
    "            figure_number=14  # Set figure number for the plot\n",
    "        )\n",
    "        \n",
    "        # Display the plot\n",
    "        plt.show()\n",
    "        \n",
    "        # Get summary statistics\n",
    "        summary = ru.get_river_level_summary(\n",
    "            data_path=river_data_path,\n",
    "            start_year=2010,\n",
    "            end_year=2020\n",
    "        )\n",
    "        \n",
    "        print(\"\\n=== RIVER WATER LEVEL SUMMARY (2010-2020) ===\")\n",
    "        print(f\"\\nSihl River ({summary['sihl']['station_name']}):\")\n",
    "        print(f\"  Mean water level: {summary['sihl']['mean']:.3f} m a.s.l.\")\n",
    "        print(f\"  Range: {summary['sihl']['min']:.3f} - {summary['sihl']['max']:.3f} m a.s.l.\")\n",
    "        print(f\"  Standard deviation: {summary['sihl']['std']:.3f} m\")\n",
    "        print(f\"  Total range: {summary['sihl']['range']:.3f} m\")\n",
    "        \n",
    "        print(f\"\\nLimmat River ({summary['limmat']['station_name']}):\")\n",
    "        print(f\"  Mean water level: {summary['limmat']['mean']:.3f} m a.s.l.\")\n",
    "        print(f\"  Range: {summary['limmat']['min']:.3f} - {summary['limmat']['max']:.3f} m a.s.l.\")\n",
    "        print(f\"  Standard deviation: {summary['limmat']['std']:.3f} m\")\n",
    "        print(f\"  Total range: {summary['limmat']['range']:.3f} m\")\n",
    "        \n",
    "    except ImportError as e:\n",
    "        print(f\"Plotting functionality not available: {e}\")\n",
    "        print(\"However, we can still analyze the data...\")\n",
    "        \n",
    "        # Get summary statistics even without plotting\n",
    "        summary = ru.get_river_level_summary(\n",
    "            data_path=river_data_path,\n",
    "            start_year=2010,\n",
    "            end_year=2020\n",
    "        )\n",
    "        \n",
    "        print(\"\\n=== RIVER WATER LEVEL SUMMARY (2010-2020) ===\")\n",
    "        print(f\"\\nSihl River ({summary['sihl']['station_name']}):\")\n",
    "        print(f\"  Mean water level: {summary['sihl']['mean']:.3f} m a.s.l.\")\n",
    "        print(f\"  Range: {summary['sihl']['min']:.3f} - {summary['sihl']['max']:.3f} m a.s.l.\")\n",
    "        print(f\"  Standard deviation: {summary['sihl']['std']:.3f} m\")\n",
    "        print(f\"  Total range: {summary['sihl']['range']:.3f} m\")\n",
    "        \n",
    "        print(f\"\\nLimmat River ({summary['limmat']['station_name']}):\")\n",
    "        print(f\"  Mean water level: {summary['limmat']['mean']:.3f} m a.s.l.\")\n",
    "        print(f\"  Range: {summary['limmat']['min']:.3f} - {summary['limmat']['max']:.3f} m a.s.l.\")\n",
    "        print(f\"  Standard deviation: {summary['limmat']['std']:.3f} m\")\n",
    "        print(f\"  Total range: {summary['limmat']['range']:.3f} m\")\n",
    "\n",
    "# Save the river data summary to a CSV file\n",
    "summary_df = np.save(\n",
    "    os.path.join(river_data_path, 'river_data_summary.npy'),\n",
    "    summary\n",
    ")"
   ]
  },
  {
   "cell_type": "markdown",
   "metadata": {},
   "source": [
    "No additional river gauging stations are maintained by the cantonal office for waste, water, energy and air (Amt für Abfall, Wasser, Energie und Luft (AWEL)) [\\[11\\]](#references). "
   ]
  },
  {
   "cell_type": "markdown",
   "metadata": {},
   "source": [
    "Let's bring the river water levels in context with the groundwater levels we read from the groundwater level map near the gauging stations in Figure 16. "
   ]
  },
  {
   "cell_type": "code",
   "execution_count": null,
   "metadata": {},
   "outputs": [],
   "source": [
    "# Sihl River Data\n",
    "sihl_gw_mean = 400.8\n",
    "sihl_gw_high = 403.5\n",
    "sihl_river_mean = 412.347\n",
    "sihl_river_high = 413.439\n",
    "sihl_depth_mean = 0.3\n",
    "\n",
    "# Limmat River Data\n",
    "limmat_gw_mean = 399.5\n",
    "limmat_gw_high = 400.5\n",
    "limmat_river_mean = 400.285\n",
    "limmat_river_high = 401.822\n",
    "limmat_depth_mean = 0.7\n",
    "\n",
    "fig, (ax1, ax2) = plt.subplots(2, 1, figsize=(12, 14))\n",
    "fig.suptitle(\"Figure 16: River and Groundwater Level Cross-Sections\", fontsize=16, y=0.95)\n",
    "\n",
    "# Plot Sihl\n",
    "ru.plot_cross_section(ax1, \"a) River Sihl\", sihl_gw_mean, sihl_gw_high, sihl_river_mean, sihl_river_high, sihl_depth_mean)\n",
    "\n",
    "# Plot Limmat\n",
    "ru.plot_cross_section(ax2, \"b) River Limmat\", limmat_gw_mean, limmat_gw_high, limmat_river_mean, limmat_river_high, limmat_depth_mean)\n",
    "\n",
    "plt.tight_layout(rect=[0, 0, 1, 0.93]) # Adjust layout to make space for suptitle\n",
    "plt.show()"
   ]
  },
  {
   "cell_type": "markdown",
   "metadata": {},
   "source": [
    "From the two conceptualized cross-section at the gauge location on the river Sihl we see that we are dealing with a loosing stream which is disconnected from the groundwater table. We therefore have a constant flux from the river into the aquifer. The flux is not influenced by the groundwater table in the aquifer. The flux is only influenced by the river stage and the river bed elevation.\n",
    "The river Limmat is also a loosing stream at the location of the gauge. However, from the conceptualized cross-section we see that the river Limmat is very likely connected to the groundwater table. We have to account for a capillary fringe of up to 30 cm (depending on the pore size distribution of the soil matrix). The flux from the river into the aquifer is influenced by the groundwater table in the aquifer. The flux is further influenced by the river stage and the river bed elevation.\n",
    "\n",
    "The river-aquifer interaction is limited by the hydraulic conductivity and the thickness of the clogging layer (colmation layer), a bio-geochemically highly active sediment layer which forms on river beds over time. The clogging layer is typically a few centimeters thick and has a significantly lower hydraulic conductivity than the underlying aquifer material. It therefore limits the flux from the river into the aquifer. Doppler an colleagues [\\[12\\]](#references) discuss the implementation of the river-aquifer interaction in their groundwater flow model of the Limmat valley aquifer. \n",
    "\n",
    "$$q_{riv} = \\frac{K_{Schmutzschicht}}{d_{Schmutzschicht}} \\cdot (H_{riv} - H_{aq}) = l_{leakage} \\cdot (H_{riv} - H_{aq})$$\n",
    "\n",
    "Where:\n",
    "- $q_{riv}$ is the flux from the river into the aquifer ($m$ $s^{-1}$)\n",
    "- $K_{Schmutzschicht}$ is the hydraulic conductivity of the Schmutzschicht ($m$ $s^{-1}$)\n",
    "- $d_{Schmutzschicht}$ is the thickness of the clogging layer of the river bed ($m$) \n",
    "- $l_{leakage}$ is the leakage coefficient ($s^{-1}$)\n",
    "- $H_{riv}$ is the river water level ($m$)\n",
    "- $H_{aq}$ is the groundwater level in the aquifer ($m$)\n",
    "\n",
    "Doppler and colleauges calibrated leakage coefficients of $1.3 \\cdot 10^{-6}$ $1/s$ for the river Sihl and between $3.5 \\cdot 10^{-7}$ $1/s$ and $3.5 \\cdot 10^{-5}$ $1/s$ for the river Limmat.  \n",
    "\n",
    "To simplify the first rough estimation of groundwater recharge from river infiltration, we assume disconnected streams for both rivers and an average river water level of 0.3 m to 0.5 m for the rivers Sihl and Limmat respectively, yielding the following specific fluxes from the rivers to the aquifer: \n",
    "\n"
   ]
  },
  {
   "cell_type": "code",
   "execution_count": null,
   "metadata": {},
   "outputs": [],
   "source": [
    "q_riv_sihl = 1.3e-6 * (sihl_river_mean - sihl_gw_mean)  # m/s\n",
    "q_riv_limmat = 3.5e-6 * (limmat_river_mean - limmat_gw_mean)  # m/s\n",
    "\n",
    "print(f\"Estimated specific flux from Sihl to aquifer: {q_riv_sihl:.2e} m/s\")\n",
    "print(f\"Estimated specific flux from Limmat to aquifer: {q_riv_limmat:.2e} m/s\")"
   ]
  },
  {
   "cell_type": "markdown",
   "metadata": {},
   "source": [
    "The flux from the river Limmat will be on the upper end of the range as the river is in some stretches connected to the groundwater table. The aquifer may be exfiltrating into the river in some downstream stretches far away from our focus area.     \n",
    "\n",
    "The area of the rivers Sihl and Limmat we can estimate from the geopackage layer \"Oeffentliche Oberflaechengewaesser\" (see Figure 17) provided by the Department of Geoinformation of the Canton of Zurich ([https://opendata.swiss/en/dataset/offentliche-oberflachengewasser](https://opendata.swiss/en/dataset/offentliche-oberflachengewasser), accessed 2025-07-06) using QGIS. Once we have determined the model boundary and estimated the area of the river beds within the model boundary, we can estimate a recharge volume from the rivers to the aquifer. "
   ]
  },
  {
   "cell_type": "code",
   "execution_count": null,
   "metadata": {},
   "outputs": [],
   "source": [
    "# Download the shapes of the rivers and the locations of the gauging stations. \n",
    "gauges_file_path = download_named_file(\n",
    "    name='gauges',\n",
    "    data_type='gis'\n",
    ")\n",
    "rivers_file_path = download_named_file(\n",
    "    name='rivers',\n",
    "    data_type='gis'\n",
    ")\n",
    "plot_model_area_map(\n",
    "    gw_depth_path=gw_map_path, \n",
    "    rivers_path=rivers_file_path,\n",
    "    gauges_path=gauges_file_path,\n",
    "    custom_title=\"Figure 17: Model region with surface water bodies (labeled <<Rivers>>) and groundwater gauging stations (labeled <<Gauges>>).\",\n",
    ")"
   ]
  },
  {
   "cell_type": "code",
   "execution_count": null,
   "metadata": {},
   "outputs": [],
   "source": [
    "create_section_completion_marker(3)  "
   ]
  },
  {
   "cell_type": "markdown",
   "metadata": {},
   "source": [
    "## Summary of Model Boundaries\n",
    "We have now gathered a lot of information about the Limmat valley aquifer and its hydrological and hydrogeological properties. We can now define the flow problem we want to solve with our numerical model. We can now also define the model area and the model grid.:\n",
    "- The model area is the Limmat valley aquifer, which is bounded by the river Sihl in the east and the river Limmat in the north.\n",
    "- The model grid is a 2D grid with a variable thickness, based on the aquifer thickness from the GIS-browser. The grid will have a resolution of 50 m in the horizontal direction and a variable thickness in the vertical direction, based on the aquifer thickness from the GIS-browser.\n",
    "- The aquifer is unconfined and the top of the aquifer is represented by the topography of the Limmat valley: No-flow boundary at the bottom of the aquifer. \n",
    "- The lateral inflow from the hills in the north and south of the Limmat valley aquifer is estimated using a water balance approach on the hill sides and distributed evenly along the inflow boundaries. It is estimated using climate data and a first approximation of 20% of the precipitation infiltrating into the aquifer: Constant or time variant pre-defined lateral inflow in the north and south. \n",
    "- The river-aquifer interaction is estimated using a 3rd type boundary condition with a head-dependent flux from the river into the aquifer. \n",
    "- The outflow boundary is a fixed-head boundary condition based on the groundwater level at piezometer 481.\n",
    "- The areal recharge is estimated using the climate data from the Fluntern station and a first approximation of 10% of the precipitation infiltrating into the aquifer. At the model top we have a pre-defined constant or transient flux boundary. \n",
    "\n",
    "We draw the model boundary polygon manually in QGIS and export it as a geopackage layer. Given the complex geometry of aquifer thickness, this is the fastest method. We can then use this layer to define the model area in our numerical model. \n",
    "\n",
    "If you need instructions of how to use QGIS to draw and edit a polygon, please search for instructions to create and edit polygons in QGIS on the internet. There are many resources available.  "
   ]
  },
  {
   "cell_type": "code",
   "execution_count": null,
   "metadata": {},
   "outputs": [],
   "source": [
    "model_boundary_path = download_named_file(\n",
    "    name='model_boundary',\n",
    "    data_type='gis'\n",
    ")\n",
    "\n",
    "# Get the area of the model domain\n",
    "gdf_boundary = gpd.read_file(model_boundary_path)\n",
    "model_area_m2 = gdf_boundary.geometry.area.sum()\n",
    "model_area_km2 = model_area_m2 / 1e6  # Convert to km²\n",
    "print(f\"Model area: {model_area_km2:.2f} km²\")  \n",
    "\n",
    "# TODO: Add labels for the 2 rivers in the map\n",
    "plot_model_area_map(\n",
    "    gw_depth_path=gw_map_path, \n",
    "    rivers_path=rivers_file_path,\n",
    "    gauges_path=gauges_file_path,\n",
    "    model_boundary_path=model_boundary_path,\n",
    "    custom_title=\"Figure 18: Model region with the model boundary in black, surface water bodies in dark blue (labeled <<Rivers>>), and groundwater gauging stations in red triangles (labeled <<Gauges>>).\",\n",
    ")"
   ]
  },
  {
   "cell_type": "markdown",
   "metadata": {},
   "source": [
    "Now we cut the river shapes to the model boundary to get the area of the rivers Sihl and Limmat within the model boundary. We can then use the river area to estimate the recharge from the rivers to the aquifer."
   ]
  },
  {
   "cell_type": "code",
   "execution_count": null,
   "metadata": {},
   "outputs": [],
   "source": [
    "# Get the path to the river shapes and to the boundary outline\n",
    "river_data_path = download_named_file(name='rivers', data_type='gis')\n",
    "boundary_path = download_named_file(name='model_boundary', data_type='gis')\n",
    "\n",
    "# Intersect the river data with the model grid and only keep the parts that are \n",
    "# inside the model boundary. \n",
    "river_gdf = gpd.read_file(river_data_path)\n",
    "boundary_gdf = gpd.read_file(boundary_path)\n",
    "# Clip the river data to the model boundary\n",
    "river_clipped = gpd.clip(river_gdf, boundary_gdf)\n",
    "\n",
    "# Print the column names of the clipped river data to understand its structure\n",
    "# print(\"Clipped river data columns:\")\n",
    "# print(river_clipped.columns)\n",
    "# Print the unique values in the 'GEWAESSERNAME' column to understand the river names\n",
    "# print(\"\\nUnique river names in the clipped data:\")\n",
    "# print(river_clipped['GEWAESSERNAME'].unique())\n",
    "\n",
    "# We are interested in the river sections belonging to the rivers Sihl and Limmat. \n",
    "# We will further keep the canal in the north of the Werdinsel. This canal does \n",
    "# not have a name in the river data, but we can identify it through the geometry \n",
    "# and the unique OBJID. \n",
    "river_clipped = river_clipped[\n",
    "    (river_clipped['GEWAESSERNAME'].isin(['Sihl', 'Limmat'])) |\n",
    "    (river_clipped['OBJID'].isin(['32998', '34996', '37804', '95527']))\n",
    "]\n",
    "\n",
    "# Calculate the area of the clipped river sections for Sihl and Limmat\n",
    "sihl_area = river_clipped[river_clipped['GEWAESSERNAME'] == 'Sihl'].geometry.area.sum()\n",
    "limmat_area = river_clipped[river_clipped['GEWAESSERNAME'] == 'Limmat'].geometry.area.sum()\n",
    "canal_area = river_clipped[river_clipped['OBJID'].isin(['32998', '34996', '37804', '95527'])].geometry.area.sum()\n",
    "\n",
    "print(f\"Area of Sihl within model boundary: {sihl_area:.0f} m²\")\n",
    "print(f\"Area of Limmat within model boundary: {limmat_area:.0f} m²\")\n",
    "print(f\"Area of canal within model boundary: {canal_area:.0f} m²\")\n",
    "\n",
    "# Plot the clipped river data to verify\n",
    "fig, ax = plt.subplots(figsize=(12, 12))\n",
    "river_clipped.plot(ax=ax, color='blue', linewidth=2, label='Clipped River Data')\n",
    "blue_polygon = mpatches.Patch(facecolor='blue', linewidth=2, label='Clipped River Data')\n",
    "boundary_gdf.plot(ax=ax, facecolor='none', edgecolor='red', linewidth=2)\n",
    "red_line = mlines.Line2D([], [], color='red', linewidth=2, label='Model Boundary')\n",
    "ax.set_title(f\"Figure 19: Clipped river data within the model boundary. The areas of the river beds are: Sihl: {sihl_area:.0f} m², Limmat: {limmat_area:.0f} m², Canal: {canal_area:.0f} m²\", fontsize=14)\n",
    "ax.set_xlabel(\"X-coordinate\")\n",
    "ax.set_ylabel(\"Y-coordinate\")\n",
    "ax.set_aspect('equal', adjustable='box')\n",
    "ax.legend(handles=[blue_polygon, red_line])\n",
    "plt.show()"
   ]
  },
  {
   "cell_type": "markdown",
   "metadata": {},
   "source": [
    "As the canal in the north of the Werdinsel is downstream of our area of interest, and lined with concrete, we do not consider it in our model. A first rough estimate of the leakage inflow from the rivers Sihl and Limmat to the aquifer is now:"
   ]
  },
  {
   "cell_type": "markdown",
   "metadata": {},
   "source": [
    "## Groundwater pumping\n",
    "The Limmat valley aquifer is heavily used for groundwater abstraction. The groundwater is used for drinking water supply but also for industrial purposes and for cooling. To estimate the total groundwater abstraction, we get the list of active and former concessions for groundwater abstractions and recharges from the GIS-browser of the Canton of Zurich. The layer is called \"Wasserfassungen\" and can be found in the layer list of the GIS-browser. Let's have a look at the layer in Figure 20. "
   ]
  },
  {
   "cell_type": "code",
   "execution_count": null,
   "metadata": {},
   "outputs": [],
   "source": [
    "# Get the path to the well locations\n",
    "well_data_path = download_named_file(name='wells', data_type='gis')\n",
    "\n",
    "# Read the geopackage into a geopandas dataframe\n",
    "wells_gdf = gpd.read_file(well_data_path)\n",
    "\n",
    "# Inspect the table\n",
    "wells_gdf.head()"
   ]
  },
  {
   "cell_type": "markdown",
   "metadata": {},
   "source": [
    "Let's have a look at the columns:    \n",
    "- N: Northing\n",
    "- E: Easting\n",
    "- GWR_ID: ID of the groundwater concession (wells with the same GWR_ID are part of the same concession)\n",
    "- FASSBEZ: Description of the location of the well\n",
    "- FASSART: Type of the well (e.g. vertical or horizontal well)\n",
    "- NUTZART: Use of the well\n",
    "- BESCHREIBUNG: Description of allowed pumping amounts\n",
    "\n",
    "GWR_ID, NUTZART, and BESCHREIBUNG are relevant for us (appart from the location information). Let's inspect the values in these columns for further analysis."
   ]
  },
  {
   "cell_type": "code",
   "execution_count": null,
   "metadata": {},
   "outputs": [],
   "source": [
    "# Print unique values in relevant columns\n",
    "print(\"Unique NUTZART values:\", wells_gdf['NUTZART'].unique())"
   ]
  },
  {
   "cell_type": "markdown",
   "metadata": {},
   "source": [
    "NUTZART contains many cryptic abbreviations. We'll provide a mapping of these abbreviations to their full descriptions for better understanding below. The abbreviations are specific for the canton of Zurich and may be different in other regions. "
   ]
  },
  {
   "cell_type": "code",
   "execution_count": null,
   "metadata": {},
   "outputs": [],
   "source": [
    "# Map the unique values of NUTZART to their full descriptions\n",
    "# You don't need to learn this mapping. They are just here for your reference. \n",
    "nutzart_mapping = pd.DataFrame([\n",
    "    (\"TW\",   \"Trinkwasser\",                 \"Drinking water\"),\n",
    "    (\"BW\",   \"Brauchwasser\",                \"Process water / Non-potable water\"),\n",
    "    (\"BEW\",  \"Bewässerung\",                 \"Irrigation\"),\n",
    "    (\"GWE\",  \"Gewerbe\",                     \"Commercial use\"),\n",
    "    (\"GWEIN\",\"Gewerbe und Industrie\",       \"Commercial and industrial use\"),\n",
    "    (\"KW\",   \"Kühlwasser\",                  \"Cooling water\"),\n",
    "    (\"NWV\",  \"Natur und Wasserhaushalt / Versickerung\", \"Ecological / recharge use\"),\n",
    "    (\"SA\",   \"Sickeranlage\",                \"Infiltration system\"),\n",
    "    (\"WPG\",  \"Wärmepumpe Grundwasser\",      \"Groundwater heat pump\"),\n",
    "    (\"WE\",   \"Wellness / Erholung\",         \"Wellness / recreational use\"),\n",
    "    (\"WPZ\",  \"Wärmepumpen-Zirkulation\",     \"Heat pump circulation\"),\n",
    "], \n",
    "columns = [\"Abbreviation\", \"German\", \"English\"])\n",
    "\n",
    "print(nutzart_mapping.to_string(index=False))"
   ]
  },
  {
   "cell_type": "markdown",
   "metadata": {},
   "source": [
    "We are interested in larger concessions in the shallow aquifer part. We look for unique concession IDs before the \"_\" character in the GWR_ID column. Let's see how many unique concession IDs we have within the boundaries of our model. We'll want to restrict our search for active wells only so we remove all rows that contain the string \"aufgehoben\" (decommissioned) or \"ungenutzt\" (not used) in the column BESCHREIBUNG. "
   ]
  },
  {
   "cell_type": "code",
   "execution_count": null,
   "metadata": {},
   "outputs": [],
   "source": [
    "# Clip the GeoDataFrame to the model boundaries\n",
    "wells_gdf = wells_gdf.clip(boundary_gdf)\n",
    "\n",
    "# Add a concession_id (part before first \"_\")\n",
    "wells_gdf['concession_id'] = wells_gdf['GWR_ID'].str.split('_').str[0]\n",
    "\n",
    "# Flag decommissioned and unused (case-insensitive match)\n",
    "is_decommissioned = wells_gdf['BESCHREIBUNG'].str.contains('aufgehoben', case=False, na=False)\n",
    "is_unused = wells_gdf['BESCHREIBUNG'].str.contains('ungenutzt', case=False, na=False)\n",
    "\n",
    "# Split into active / decommissioned\n",
    "wells_active = wells_gdf[~is_decommissioned & ~is_unused].copy()\n",
    "wells_decommissioned = wells_gdf[is_decommissioned].copy()\n",
    "\n",
    "# Unique concession ids\n",
    "all_concessions = wells_gdf['concession_id'].nunique()\n",
    "active_concessions = wells_active['concession_id'].nunique()\n",
    "decomm_concessions = wells_decommissioned['concession_id'].nunique()\n",
    "\n",
    "print(f\"Total concessions (within boundary): {all_concessions}\")\n",
    "print(f\"Active concessions: {active_concessions}\")\n",
    "print(f\"Decommissioned concessions: {decomm_concessions}\")"
   ]
  },
  {
   "cell_type": "markdown",
   "metadata": {},
   "source": [
    "There are 67 active concessions within the boundaries of our model. Let's see how many concessions we have in each category in column BESCHREIBUNG.  "
   ]
  },
  {
   "cell_type": "code",
   "execution_count": null,
   "metadata": {},
   "outputs": [],
   "source": [
    "# Count the unique concession_id of active_concessions for each unique value in BESCHREIBUNG\n",
    "active_concessions_count = wells_active.groupby('BESCHREIBUNG')['concession_id'].nunique()\n",
    "\n",
    "print(f\"Number of active concessions by BESCHREIBUNG: {active_concessions_count}\")"
   ]
  },
  {
   "cell_type": "markdown",
   "metadata": {},
   "source": [
    "Let's focus on the 10 large concessions in the model region. "
   ]
  },
  {
   "cell_type": "code",
   "execution_count": null,
   "metadata": {},
   "outputs": [],
   "source": [
    "id_col    = \"concession_id\"   # adjust if different\n",
    "desc_col  = \"BESCHREIBUNG\"\n",
    "use_col   = \"NUTZART\"\n",
    "\n",
    "phrase_high      = \"Grundwasserfassung mit Ertrag > 3000 l/min\"\n",
    "phrase_recharge  = \"Grundwasseranreicherungsanlage, Rückversickerung, Sickergalerie\"\n",
    "\n",
    "# 1. Keep only wells with a non-empty NUTZART (still “active” set assumed already)\n",
    "wells_valid = wells_active[\n",
    "    wells_active[use_col].notna() &\n",
    "    wells_active[use_col].astype(str).str.strip().ne(\"\")\n",
    "].copy()\n",
    "\n",
    "# 2. Identify high-yield wells\n",
    "mask_high = wells_valid[desc_col].str.contains(phrase_high, case=False, na=False)\n",
    "high_yield_wells = wells_valid[mask_high]\n",
    "\n",
    "# 3. Concessions having at least one high-yield well\n",
    "concessions_with_high = (\n",
    "    high_yield_wells[id_col]\n",
    "    .dropna()\n",
    "    .astype(str)\n",
    "    .unique()\n",
    ")\n",
    "\n",
    "# 4. Subset ALL wells belonging to those concessions (this is the expanded set)\n",
    "large_concessions = wells_valid[\n",
    "    wells_valid[id_col].astype(str).isin(concessions_with_high)\n",
    "].copy()\n",
    "\n",
    "# 5. Classify well role inside those concessions\n",
    "large_concessions[\"WELL_GROUP\"] = np.select(\n",
    "    [\n",
    "        large_concessions[desc_col].str.contains(phrase_high, case=False, na=False),\n",
    "        large_concessions[desc_col].str.contains(phrase_recharge, case=False, na=False),\n",
    "    ],\n",
    "    [\"HighYield\", \"Recharge\"],\n",
    "    default=\"OtherWithinConcession\"\n",
    ")\n",
    "\n",
    "# (Optional) If you want to keep only wells that are either HighYield or Recharge\n",
    "# plus all other wells in those *same* concessions (already done above).\n",
    "# If you instead want to drop the 'OtherWithinConcession' group, uncomment:\n",
    "# large_concessions = large_concessions[large_concessions['WELL_GROUP'] != 'OtherWithinConcession'].copy()\n",
    "\n",
    "print(f\"Concessions with high-yield wells: {len(concessions_with_high)}\")\n",
    "print(\"Counts by WELL_GROUP:\")\n",
    "print(large_concessions[\"WELL_GROUP\"].value_counts())\n"
   ]
  },
  {
   "cell_type": "markdown",
   "metadata": {},
   "source": [
    "We highlight these large concessions in an interactive map. The color of the concessions indicate the NUTZART (usage type) of the well. Small active concessions are not shown in this map.  "
   ]
  },
  {
   "cell_type": "code",
   "execution_count": null,
   "metadata": {},
   "outputs": [],
   "source": [
    "# Display large_concessions and color the dots by NUTZART. \n",
    "# The map should be interactive. Hovering over the dots should display more information about the concession.\n",
    "# Add the boundary_gdf to the map and use openstreetmap as the base layer.\n",
    "display_concessions_map(\n",
    "    large_concessions, \n",
    "    boundary_gdf=boundary_gdf, \n",
    "    map_title=\"Figure 20: Wells belonging to large concessions (> 3000 l/min) in the model area colored by concession ID and marked by use type. Small active concessions are not shown in this map.\"\n",
    ")\n"
   ]
  },
  {
   "cell_type": "markdown",
   "metadata": {},
   "source": [
    "We see that we have intensive thermal use of groundwater in the Limmat valley aquifer (Concession use \"WPG\", colored in blue, orange, green and violet in Figure 20). Thermal use of groundwater is typically not a consumptive use of groundwater in the Limmat valley aquifer; it is abstracted in one well (labelled \"Entnahme\" in column \"FASSART\") and returned to the aquifer in a different well after use (labeled \"Rückgabe\" in column \"FASSART\") (you will see the FASSART if you hover your cursor over the well).  \n",
    "\n",
    "For the purpose of this instructive model, we will not implement existing heat extraction and reinjection wells for now but concentrate on the main abstraction wells which are located in the Hardhof well field (concession b1-71, olive green in Figure 20).\n",
    "\n",
    "Hardhof is one of 4 pillars of the drinking supply of the city of Zurich [\\[13\\]](#references) and contributes an average of 15 % of the annual drinking water supply of the water works (most of the citys drinking water is treated lake water). In the Hardhof well field, river bank filtrate is extracted along the river Limmat, infiltrated in 3 recharge basins and 12 infiltration wells, and finally extracted in 4 horizontal wells to be fed into the drinking water network. The Hardhof is quite complex to model and we will not be able to fully reproduce the hydrogeology there with our simplified model. The Hardhof is very interesting for us though, as they use an operational groundwater flow model that assimilated groundwater head observations to optimize the infiltration in the vertical wells in real-time. In fact, this is the site, where real-time groundwater modelling and well field control was first developed more than a decade ago. According to the last published statistical yearbook of the city of Zurich, the water works produce around 7 million cubic meters of groundwater per year [\\[14\\]](#references).  \n",
    "\n",
    "Note that the concession is for 104'000 l/min (GIS-Browser). Only about 13% of the concessioned pumping is actually extracted. The concession only gives the upper limit of what is actually extracted from groundwater. \n",
    "\n",
    "> **Suggestion:**. \n",
    "> If you are located in Zurich, we highly encourage you to visit the Hardhof well field in one of their free and public guided tours.  \n",
    "\n",
    "Let's also have a look at the medium sized concessions so we don't miss important fluxes. We'll neglect the small sized concessions as their pumping lies below 300 l/min which is well within our uncertainty range."
   ]
  },
  {
   "cell_type": "code",
   "execution_count": null,
   "metadata": {},
   "outputs": [],
   "source": [
    "id_col    = \"concession_id\"   # adjust if different\n",
    "desc_col  = \"BESCHREIBUNG\"\n",
    "use_col   = \"NUTZART\"\n",
    "\n",
    "phrase_medium      = \"Grundwasserfassung mit Ertrag 300 - 3000 l/min\"\n",
    "phrase_recharge  = \"Grundwasseranreicherungsanlage, Rückversickerung, Sickergalerie\"\n",
    "\n",
    "# 1. Keep only wells with a non-empty NUTZART (still “active” set assumed already)\n",
    "wells_valid = wells_active[\n",
    "    wells_active[use_col].notna() &\n",
    "    wells_active[use_col].astype(str).str.strip().ne(\"\")\n",
    "].copy()\n",
    "\n",
    "# 2. Identify medium-yield wells\n",
    "mask_medium = wells_valid[desc_col].str.contains(phrase_medium, case=False, na=False)\n",
    "medium_yield_wells = wells_valid[mask_medium]\n",
    "\n",
    "# 3. Concessions having at least one medium-yield well\n",
    "concessions_with_medium = (\n",
    "    medium_yield_wells[id_col]\n",
    "    .dropna()\n",
    "    .astype(str)\n",
    "    .unique()\n",
    ")\n",
    "\n",
    "# 4. Subset ALL wells belonging to those concessions (this is the expanded set)\n",
    "medium_concessions = wells_valid[\n",
    "    wells_valid[id_col].astype(str).isin(concessions_with_medium)\n",
    "].copy()\n",
    "\n",
    "# 5. Classify well role inside those concessions\n",
    "medium_concessions[\"WELL_GROUP\"] = np.select(\n",
    "    [\n",
    "        medium_concessions[desc_col].str.contains(phrase_medium, case=False, na=False),\n",
    "        medium_concessions[desc_col].str.contains(phrase_recharge, case=False, na=False),\n",
    "    ],\n",
    "    [\"MediumYield\", \"Recharge\"],\n",
    "    default=\"OtherWithinConcession\"\n",
    ")\n",
    "\n",
    "# (Optional) If you want to keep only wells that are either HighYield or Recharge\n",
    "# plus all other wells in those *same* concessions (already done above).\n",
    "# If you instead want to drop the 'OtherWithinConcession' group, uncomment:\n",
    "# medium_concessions = medium_concessions[medium_concessions['WELL_GROUP'] != 'OtherWithinConcession'].copy()\n",
    "\n",
    "print(f\"Concessions with medium-yield wells: {len(concessions_with_medium)}\")\n",
    "print(\"Counts by WELL_GROUP:\")\n",
    "print(medium_concessions[\"WELL_GROUP\"].value_counts())\n",
    "\n",
    "# Count the number of concessions for TW and BW\n",
    "print(\"Number of concessions for TW and BW:\")\n",
    "print(medium_concessions[medium_concessions[use_col].isin([\"TW\", \"BW\", \"TW, BW\"])][id_col].nunique())\n",
    "\n",
    "display_concessions_map(\n",
    "    medium_concessions, \n",
    "    boundary_gdf=boundary_gdf, \n",
    "    map_title=\"Figure 21: Wells belonging to medium concessions (300 - 3000 l/min) in the model area colored by concession ID and marked by use type. Small and large active concessions are not shown in this map.\"\n",
    ")\n"
   ]
  },
  {
   "cell_type": "markdown",
   "metadata": {},
   "source": [
    "Most of the medium sized concessions again concern heat extraction for district heating systems which consist of extraction & reinjection of groundwater, so no significant consumptive use is expected. There are 5 concessions for drinking water and industrial water use (TW and BW). Let's have a close look at them.  "
   ]
  },
  {
   "cell_type": "code",
   "execution_count": null,
   "metadata": {},
   "outputs": [],
   "source": [
    "# List the active wells in medium concessions which are used for drinking water and industrial water use\n",
    "active_wells_medium_concessions = medium_concessions[medium_concessions[use_col].isin([\"TW\", \"BW\", \"TW, BW\"])]\n",
    "print(active_wells_medium_concessions[['GWR_ID', 'FASSBEZ', 'FASSART', 'NUTZART']])"
   ]
  },
  {
   "cell_type": "markdown",
   "metadata": {},
   "source": [
    "By clicking on the well in the GIS-Browser, we see slightly more information than in the geodata layer we have available here. The Lochergut concession (b010063) is for 520 l/min, and the Schlachthof concession is for 370 l/min. The concessioned pumping rate for concession number b010113 is 2000 l/min. The 2 drinking water wells in the north of the Limmat (concession numbers n010039_01 and n010085_01) allow pumping of 1200 l/min and 3000 l/min, respectively.   \n",
    "\n",
    "As the two drinking water wells in the north of the river will most likely pump river water infiltrate and are far downstream of our focus area, we'll not implement them for now. As we saw with the Hardhof, only a fraction of the concessioned amount is typically extracted, let's assume 40% for now. Then, the medium sized concessions in the south of the Limmat would amount to about 600'000 m3/year (less than 10 % of the Hardhof abstractions).   "
   ]
  },
  {
   "cell_type": "code",
   "execution_count": null,
   "metadata": {},
   "outputs": [],
   "source": [
    "outflow_pumping = 7600000  # m3/year\n",
    "\n",
    "# Since we don't know the exact groundwater abstractions, we'll also have to \n",
    "# estimate the uncertainty of our estimate. \n",
    "# We'll assume a conservative uncertainty of 20%."
   ]
  },
  {
   "cell_type": "markdown",
   "metadata": {},
   "source": [
    "## Summary of Perceptual Model"
   ]
  },
  {
   "cell_type": "markdown",
   "metadata": {},
   "source": [
    "Let's update the perceptual model with the information we have gathered so far (Figure 19)."
   ]
  },
  {
   "cell_type": "code",
   "execution_count": null,
   "metadata": {},
   "outputs": [],
   "source": [
    "# Display figure with updated fluxes"
   ]
  },
  {
   "cell_type": "code",
   "execution_count": null,
   "metadata": {},
   "outputs": [],
   "source": [
    "# Calculate the missing fluxes for the water balance\n",
    "net_recharge = 0.2 * model_area_km2 * 1000000  # m³/year, assuming 200 mm/year net recharge\n",
    "river_sihl_inflow = sihl_area * q_riv_sihl * 365 * 24 * 3600  # m³/year\n",
    "river_limmat_inflow = limmat_area * q_riv_limmat * 365 * 24 * 3600  # m³/year\n",
    "gw_outflow_west = (outflow_lower_bound + outflow_upper_bound) / 2 * 365  # m³/year, average of lower and upper bound\n",
    "\n",
    "# Create a summary table with the most relevant in- and outflows of the model domain\n",
    "inflow_summary = {\n",
    "    \"Component\": [\n",
    "        \"Net areal recharge to the aquifer (R)\",\n",
    "        \"Lateral inflow from the south\",\n",
    "        \"Lateral inflow from the north\",\n",
    "        \"River Sihl (net inflow)\",\n",
    "        \"River Limmat (net inflow)\",\n",
    "    ], \n",
    "    \"Value (10^6 m³/year)\": [\n",
    "        round(net_recharge / 1e6, 1),\n",
    "        round(inflow_south / 1e6, 1),\n",
    "        round(inflow_north / 1e6, 1),\n",
    "        round(river_sihl_inflow / 1e6, 1),\n",
    "        round(river_limmat_inflow / 1e6, 1)\n",
    "    ]\n",
    "}\n",
    "outflow_summary = {\n",
    "    \"Component\": [\n",
    "        \"Groundwater outflow in the west\",\n",
    "        \"Groundwater pumping\"\n",
    "    ], \n",
    "    \"Value (10^6 m³/year)\": [\n",
    "        round(gw_outflow_west / 1e6, 1),\n",
    "        round(outflow_pumping / 1e6, 1)\n",
    "    ]\n",
    "}\n",
    "\n",
    "inflow_summary_df = pd.DataFrame(inflow_summary)\n",
    "outflow_summary_df = pd.DataFrame(outflow_summary)\n",
    "\n",
    "print(\"Inflows:\")\n",
    "print(inflow_summary_df)\n",
    "print(\"\")\n",
    "print(\"Outflows:\")\n",
    "print(outflow_summary_df)\n",
    "print(\"\")\n",
    "print(f\"Sum of inflows: {inflow_summary_df['Value (10^6 m³/year)'].sum():.1f} 10^6 m³/year\")\n",
    "print(f\"Sum of outflows: {outflow_summary_df['Value (10^6 m³/year)'].sum():.1f} 10^6 m³/year\")\n",
    "print(f\"Difference (inflows - outflows): {(inflow_summary_df['Value (10^6 m³/year)'].sum() - outflow_summary_df['Value (10^6 m³/year)'].sum()):.1f} 10^6 m³/year\")"
   ]
  },
  {
   "cell_type": "markdown",
   "metadata": {},
   "source": [
    "We currently have much higher inflows than outflows but that's fine for this first estimate of the fluxes. We did this exercise to get a rough idea of the groundwater budget in the Limmat valley aquifer. We already know that the river-aquifer interaction is complicated and that we cannot adequately estimate this flux with the data we have currently at hand.\n",
    "\n",
    "One term is still missing in the water balance equation: the change in storage. We need to account for the groundwater that is being stored or released in the aquifer over time. This term is crucial for understanding the overall dynamics of the groundwater system and will be included in the final model."
   ]
  },
  {
   "cell_type": "code",
   "execution_count": null,
   "metadata": {},
   "outputs": [],
   "source": [
    "create_section_completion_marker(4)  "
   ]
  },
  {
   "cell_type": "markdown",
   "metadata": {},
   "source": [
    "## Monitoring the Limmat Valley Aquifer\n",
    "To get a first idea about the groundwater levels in the Limmat valley aquifer, we will have a look at the groundwater map.\n",
    "\n",
    "Several authorities do groundwater monitoring in the Limmat valley aquifer. We will start with the federal office for the environment (FOEN) which maintains a network of groundwater observation wells. You find an overview over the available groundwater monitoring sites at [https://map.geo.admin.ch/](https://map.geo.admin.ch/) in layer *Groundwater level/spring discharge* [\\[13\\]](#references). One monitoring well maintained by FOEN is located in the Limmat valley aquifer but far downstream of our area of interest in the city center. Further, this well is a drinking water production well and can therefore not be used as an outflow boundary.  \n",
    "\n",
    "Few groundwater observation wells are operated by the cantonal office of the environment (AWEL) [\\[14\\]](#references) (Figure 19)."
   ]
  },
  {
   "cell_type": "code",
   "execution_count": null,
   "metadata": {},
   "outputs": [],
   "source": [
    "du.display_image(\n",
    "    image_filename='GWmonitoring_locations_AWEL.png', \n",
    "    image_folder='1_perceptual_model',\n",
    "    caption='Figure 19: Monitoring wells in the Limmat valley aquifer. Yearbook sheets for each site can be accessed through the popup window from each site. Source: https://www.zh.ch/de/umwelt-tiere/wasser-gewaesser/messdaten/grundwasserstaende.html, accessed 2025-05-01.'\n",
    ")"
   ]
  },
  {
   "cell_type": "markdown",
   "metadata": {},
   "source": [
    "> **🤔 Think about it**  \n",
    "> What are the major hydrological processes in the Limmat valley aquifer?  \n",
    "> Where would you set the boundaries of the Limmat valley aquifer?"
   ]
  },
  {
   "cell_type": "markdown",
   "metadata": {},
   "source": [
    "Now let's see if we can detect a storage change in the aquifer over time. We do this by comparing the groundwater levels in the observation wells over time. We can use the groundwater level data from the cantonal monitoring wells to do this.\n",
    "\n",
    "We have downloaded the groundwater level data from the cantonal monitoring wells and can now analyze it to identify any trends or changes in storage over time. If you are interested in \n"
   ]
  },
  {
   "cell_type": "code",
   "execution_count": null,
   "metadata": {},
   "outputs": [],
   "source": [
    "# Download the data if it doesn't exist\n",
    "gw_ts_path = download_named_file(\n",
    "    name='groundwater_timeseries',\n",
    "    data_type='time_series'\n",
    ")\n",
    "\n",
    "# Import the data\n",
    "gw_ts_raw = pd.read_csv(gw_ts_path)\n",
    "# Only keep relevant columns\n",
    "gw_ts = gw_ts_raw[['date', 'value', 'well_id']]\n",
    "# Make sure date is in a recognized date format\n",
    "gw_ts['date'] = pd.to_datetime(gw_ts['date'], errors='coerce')\n",
    "# Drop duplicates\n",
    "gw_ts = gw_ts.drop_duplicates()\n",
    "# Ensure sorted by time\n",
    "gw_ts = gw_ts[['date', 'well_id', 'value']].sort_values('date')\n",
    "# The coordinates of IDs B5-3 and B53 mark the same location (albeit in \n",
    "# different coordinate systems). We'll use the newer name B5-3 for both.\n",
    "gw_ts.loc[gw_ts['well_id'] == 'B53', 'well_id'] = 'B5-3'\n"
   ]
  },
  {
   "cell_type": "code",
   "execution_count": null,
   "metadata": {},
   "outputs": [],
   "source": [
    "# Plot values against date, grouped by well_id\n",
    "plt.figure(figsize=(12, 6))\n",
    "for well_id, group in gw_ts.groupby('well_id'):\n",
    "    plt.plot(group['date'], group['value'], label=well_id)\n",
    "plt.xlabel('Date')\n",
    "plt.ylabel('Groundwater Level (m.a.s.l.)')\n",
    "plt.title('Groundwater Levels Over Time by Well')\n",
    "plt.legend()\n",
    "plt.grid()\n",
    "plt.show()"
   ]
  },
  {
   "cell_type": "markdown",
   "metadata": {},
   "source": [
    "Let's zoom in to the standardized time series to see if the system is in steady state. "
   ]
  },
  {
   "cell_type": "code",
   "execution_count": null,
   "metadata": {},
   "outputs": [],
   "source": [
    "# Normalize the values by well_id\n",
    "gw_ts_std = gw_ts.copy()\n",
    "gw_ts_std['value'] = gw_ts_std.groupby('well_id')['value'].transform(lambda x: (x - x.mean()) / x.std())\n",
    "\n",
    "# Monthly mean per well (month start periods). Produces NaN for months with no data.\n",
    "monthly = (\n",
    "    gw_ts_std.set_index('date')\n",
    "      .groupby('well_id')['value']\n",
    "      .resample('MS')   # use 'M' for month-end instead\n",
    "      .mean()\n",
    "      .reset_index()\n",
    "      .rename(columns={'value': 'value_monthly'})\n",
    ")\n",
    "\n",
    "# Annual mean per well\n",
    "annual = (\n",
    "    gw_ts_std.set_index('date')\n",
    "      .groupby('well_id')['value']\n",
    "      .resample('AS')   # use 'A' for year-end instead\n",
    "      .mean()\n",
    "      .reset_index()\n",
    "      .rename(columns={'value': 'value_annual'})\n",
    ")\n",
    "\n",
    "# Create the figure\n",
    "fig = px.line(\n",
    "    annual,\n",
    "    x='date',\n",
    "    y='value_annual',\n",
    "    color='well_id',\n",
    "    render_mode='webgl',           # GPU-accelerated for many points\n",
    ")\n",
    "\n",
    "# Add range slider + quick selectors for past periods\n",
    "fig.update_xaxes(\n",
    "    rangeslider=dict(visible=True),\n",
    "    rangeselector=dict(\n",
    "        buttons=list([\n",
    "            dict(count=5,  label='5Y',  step='year',  stepmode='backward'),\n",
    "            dict(count=10,  label='10Y',  step='year', stepmode='backward'),\n",
    "            dict(count=20,  label='20Y',  step='year',  stepmode='backward'),\n",
    "            dict(step='all', label='All')\n",
    "        ])\n",
    "    )\n",
    ")\n",
    "\n",
    "fig.update_layout(\n",
    "    title='Figure X: St. Groundwater Levels Over Time by Well',\n",
    "    xaxis_title='Date',\n",
    "    yaxis_title='Standardized Groundwater Level (m.a.s.l.)',\n",
    "    hovermode='x unified',\n",
    "    height=520,\n",
    "    legend_title_text='Well',\n",
    "    margin=dict(l=40, r=10, t=50, b=40)\n",
    ")\n",
    "\n",
    "fig.show()"
   ]
  },
  {
   "cell_type": "markdown",
   "metadata": {},
   "source": [
    "Looking at the past 20 years of average groundwater table data, no significant trends are visible. We can assume that the groundwater levels have remained relatively stable over this period and that the system is in steady state.\n",
    "\n",
    "$$ \\Delta S = 0 $$"
   ]
  },
  {
   "cell_type": "code",
   "execution_count": null,
   "metadata": {},
   "outputs": [],
   "source": [
    "create_section_completion_marker(5)  "
   ]
  },
  {
   "cell_type": "markdown",
   "metadata": {},
   "source": [
    "## References\n",
    "[\\[1\\]](#the-limmat-valley-aquifer) Hug J., and Beilick, A. (1934): Die Grundwasserverhältnisse des Kantons Zürich. In: Beiträge zur Geologie der Schweiz - Geotechnische Serie - Hydrologie. German. Available online here: https://scnat.ch/de/uuid/i/0bd7aa3b-0bd7-5d54-9e2f-597a42dada50-Die_Grundwasserverh%C3%A4ltnisse_des_Kantons_Z%C3%BCrich (accessed 2025-05-01)     \n",
    "[\\[2\\]](#the-limmat-valley-aquifer) Doppler, T., Hendricks Franssen, H.-J., Kaiser H.-P., Kuhlman U., Stauffer, F. (2007): Field evidence of a dynamic leakage coefficient for modelling river–aquifer interactions. Journal of Hydrology, Volume 347, Issues 1–2, DOI: https://doi.org/10.1016/j.jhydrol.2007.09.017.    \n",
    "[\\[3\\]](#the-limmat-valley-aquifer) GIS-browser of the canton of Zurich: https://www.gis.zh.ch/ (accessed 2025-05-01)    \n",
    "[\\[4\\]](#top-topography) Federal Office of Topography swisstopo, DHM25 height model, published 2024-01-08, [https://www.swisstopo.admin.ch/en/height-model-dhm25](https://www.swisstopo.admin.ch/en/height-model-dhm25) (accessed 2025-05-01)    \n",
    "[\\[5\\]](#lateral-model-boundaries) Freeze, R. A., and Cherry, J. A. (1979): Groundwater. Prentice-Hall, Englewood Cliffs, New Jersey, USA. ISBN: 978-0133653122. Open-book available here: [https://gw-project.org/books/groundwater/](https://gw-project.org/books/groundwater/)   \n",
    "[\\[6\\]](#climate) MeteoSwiss: https://www.meteoswiss.admin.ch/services-and-publications/applications/measurement-values-and-measuring-networks.html#param=messnetz-klima&table=false&station=SMA&compare=y&chart=year (accessed 2025-05-01)  \n",
    "[\\[7\\]](#climate) Opendata.swiss: Klimanormwerte, publisher: Federal Office of Meterology and Climatology. [https://opendata.swiss/en/dataset/klimanormwerte](https://opendata.swiss/en/dataset/klimanormwerte) (accessed 2025-05-01)  \n",
    "[\\[8\\]](#climate) Qui, Guo Yu, Yan, Chunhua, Liu, Yuanbo (2023): Urban evapotranspiration and its effects on water budget and energy balance: Review and perspectives. Earth-Science Reviews, Volume 246. DOI: [https://doi.org/10.1016/j.earscirev.2023.104577](https://doi.org/10.1016/j.earscirev.2023.104577)  \n",
    "[\\[9\\]](#lateral-inflow-from-hills) Lerner, David N. (2002): Identifying and quantifying urban recharge: a review. Hydrogeology Journal, Volume 10, Issue 1, pp 143–152. DOI: [https://doi.org/10.1007/s10040-001-0177-7](https://doi.org/10.1007/s10040-001-0177-1)    \n",
    "[\\[10\\]](#river-discharge) Locations of hydrological gauging stations maintained by the Federal Office for the Environment (FOEN): https://map.geo.admin.ch (accessed 2025-05-01)  \n",
    "[\\[11\\]](#river-discharge) Locations of hydrological gauging stations maintained by the cantonal office for waste, water, energy, and air (AWEL): https://www.zh.ch/de/umwelt-tiere/wasser-gewaesser/messdaten/abfluss-wasserstand.html (accessed 2025-05-01)   \n",
    "[\\[12\\]](#river-aquifer-interaction) Doppler, T., Hendricks Franssen, H.-J., Kaiser H.-P., Kuhlman U., Stauffer, F. (2007): Field evidence of a dynamic leakage coefficient for modelling river–aquifer interactions. Journal of Hydrology, Volume 347, Issues 1–2, DOI: https://doi.org/10.1016/j.jhydrol.2007.09.017.   \n",
    "[\\[13\\]](#groundwater-pumping) City of Zurich, Drinking Water Supply: [https://www.stadt-zuerich.ch/de/umwelt-und-energie/wasser.html](https://www.stadt-zuerich.ch/de/umwelt-und-energie/wasser.html) (accessed 2025-08-21)    \n",
    "[\\[14\\]](#groundwater-pumping) Statistisches Jahrbuch der Stadt Zürich 2017 (Statistical yearbook of the city of Zurich 2017), Kapitel Wasser und Energie (Chapter water and energy), page 8: Wasserabgabe nach Wasserherkunft; Grundwasser (water deliveries by origin; groundwater).  [https://www.stadt-zuerich.ch/de/politik-und-verwaltung/statistik-und-daten/publikationen-und-dienstleistungen/publikationen/jahrbuch.html](https://www.stadt-zuerich.ch/de/politik-und-verwaltung/statistik-und-daten/publikationen-und-dienstleistungen/publikationen/jahrbuch.html) (accessed 2025-08-21)      \n",
    "[\\[13\\]](#monitoring-the-limmat-valley-aquifer) Locations of groundwater monitoring wells maintained by Federal Office for the Environment (FOEN): https://www.zh.ch/de/umwelt-und-natur/wasser/grundwasser/monitoring.html (accessed 2025-05-01)  \n",
    "[\\[14\\]](#monitoring-the-limmat-valley-aquifer) Cantonal office of the environment (AWEL): https://www.zh.ch/de/umwelt-tiere/wasser-gewaesser/messdaten/grundwasserstaende.html (accessed 2025-05-01)\n"
   ]
  }
 ],
 "metadata": {
  "kernelspec": {
   "display_name": "gw_course_students",
   "language": "python",
   "name": "python3"
  },
  "language_info": {
   "codemirror_mode": {
    "name": "ipython",
    "version": 3
   },
   "file_extension": ".py",
   "mimetype": "text/x-python",
   "name": "python",
   "nbconvert_exporter": "python",
   "pygments_lexer": "ipython3",
   "version": "3.12.10"
  }
 },
 "nbformat": 4,
 "nbformat_minor": 4
}
