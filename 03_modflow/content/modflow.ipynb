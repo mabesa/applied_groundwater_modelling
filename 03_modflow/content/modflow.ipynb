{
 "cells": [
  {
   "cell_type": "markdown",
   "metadata": {},
   "source": [
    "week 3 | Groundwater\n",
    "\n",
    "# Topic 3 : Modflow \n",
    "\n",
    "Dr. Xiang-Zhao Kong & Dr. Beatrice Marti"
   ]
  },
  {
   "cell_type": "code",
   "execution_count": null,
   "metadata": {},
   "outputs": [],
   "source": [
    "# Setting up the notebook\n",
    "import sys\n",
    "import os\n",
    "\n",
    "# Import local libraries\n",
    "sys.path.append('../../src')\n",
    "from notebook_navigation import NotebookNavigation\n",
    "\n",
    "# Create a NotebookNavigation object which can be printed at the end of the page\n",
    "nav = NotebookNavigation(chapter_config_path='../../chapter_config.json')"
   ]
  },
  {
   "cell_type": "markdown",
   "metadata": {},
   "source": [
    "# Content \n",
    "to be added to slides\n",
    "\n",
    "How is the groundwater flow equation discretized and solved in MODFLOW?  \n",
    "What are the implication of the discretization and solution method for the accuracy and efficiency of the model?  \n",
    "How are boundary conditions implemented in MODFLOW?\n",
    "\n",
    "Here: Quizzes to see if students understand\n",
    "How to judge if a spatial discretization is accurate enough?\n",
    "What are the implications of using a coarse grid?\n",
    "What are the implications of using a fine grid?\n",
    "What are the implications of using a coarse time step?\n",
    "What are the implications of using a fine time step?\n",
    "What is steady state flow?\n",
    "What is transient flow?\n",
    "...\n",
    "How to decide how to implement recharge?\n",
    "How to decide how to implement evapotranspiration?\n",
    "Which boundary conditions are available in MODFLOW?\n",
    "..."
   ]
  },
  {
   "cell_type": "markdown",
   "metadata": {},
   "source": [
    "TODO: Load the Limmat Valley model"
   ]
  },
  {
   "cell_type": "code",
   "execution_count": 1,
   "metadata": {},
   "outputs": [],
   "source": [
    "# package import\n",
    "from tempfile import TemporaryDirectory\n",
    "import flopy\n",
    "temp_dir = TemporaryDirectory()\n",
    "workspace = temp_dir.name\n",
    "name = \"tutorial01\""
   ]
  },
  {
   "cell_type": "code",
   "execution_count": 2,
   "metadata": {},
   "outputs": [
    {
     "name": "stdout",
     "output_type": "stream",
     "text": [
      "Done creating simulation.\n"
     ]
    }
   ],
   "source": [
    "# set up simulation and basic packages\n",
    "sim = flopy.mf6.MFSimulation(sim_name=name, sim_ws=workspace)\n",
    "flopy.mf6.ModflowTdis(sim, nper=10, perioddata=[[365.0, 1, 1.0] for _ in range(10)])\n",
    "flopy.mf6.ModflowIms(sim)\n",
    "gwf = flopy.mf6.ModflowGwf(sim, modelname=name, save_flows=True)\n",
    "botm = [30.0, 20.0, 10.0]\n",
    "flopy.mf6.ModflowGwfdis(gwf, nlay=3, nrow=4, ncol=5, top=50.0, botm=botm)\n",
    "flopy.mf6.ModflowGwfic(gwf)\n",
    "flopy.mf6.ModflowGwfnpf(gwf, save_specific_discharge=True)\n",
    "flopy.mf6.ModflowGwfchd(gwf, stress_period_data=[[(0, 0, 0), 1.0], [(2, 3, 4), 0.0]])\n",
    "budget_file = f\"{name}.bud\"\n",
    "head_file = f\"{name}.hds\"\n",
    "flopy.mf6.ModflowGwfoc(\n",
    "    gwf,\n",
    "    budget_filerecord=budget_file,\n",
    "    head_filerecord=head_file,\n",
    "    saverecord=[(\"HEAD\", \"ALL\"), (\"BUDGET\", \"ALL\")],\n",
    ")\n",
    "print(\"Done creating simulation.\")"
   ]
  },
  {
   "cell_type": "code",
   "execution_count": 3,
   "metadata": {},
   "outputs": [],
   "source": [
    "# The verbosity level, which determines how much FloPy writes to command line output. The options are 1 for quiet, 2 for normal, and 3 for verbose. Below we set the verbosity level to verbose.\n",
    "sim.simulation_data.verbosity_level = 3\n",
    "#We can also set the number of spaces to indent data when writing package files by setting the indent string.\n",
    "sim.simulation_data.indent_string = \"    \"\n",
    "#Next we set the precision and number of characters written for floating point variables.\n",
    "sim.float_precision = 8\n",
    "sim.float_characters = 15\n",
    "#Lastly, we disable verify_data and auto_set_sizes for faster performance. With these options disabled FloPy will not do any checking or autocorrecting of your data.\n",
    "sim.verify_data = False\n",
    "sim.auto_set_sizes = False"
   ]
  },
  {
   "cell_type": "code",
   "execution_count": null,
   "metadata": {},
   "outputs": [
    {
     "name": "stdout",
     "output_type": "stream",
     "text": [
      "sim_name = tutorial01\n",
      "sim_path = /var/folders/fx/fhbs7qgd6998fvtd5n8bs1lr0000gn/T/tmpc6hys2_w\n",
      "exe_name = mf6\n",
      "\n",
      "###################\n",
      "Package mfsim.nam\n",
      "###################\n",
      "\n",
      "package_name = mfsim.nam\n",
      "filename = mfsim.nam\n",
      "package_type = nam\n",
      "model_or_simulation_package = simulation\n",
      "simulation_name = tutorial01\n",
      "\n",
      "\n",
      "###################\n",
      "Package tutorial01.tdis\n",
      "###################\n",
      "\n",
      "package_name = tutorial01.tdis\n",
      "filename = tutorial01.tdis\n",
      "package_type = tdis\n",
      "model_or_simulation_package = simulation\n",
      "simulation_name = tutorial01\n",
      "\n",
      "\n",
      "###################\n",
      "Package ims_-1\n",
      "###################\n",
      "\n",
      "package_name = ims_-1\n",
      "filename = tutorial01.ims\n",
      "package_type = ims\n",
      "model_or_simulation_package = simulation\n",
      "simulation_name = tutorial01\n",
      "\n",
      "\n",
      "@@@@@@@@@@@@@@@@@@@@\n",
      "Model tutorial01\n",
      "@@@@@@@@@@@@@@@@@@@@\n",
      "\n",
      "name = tutorial01\n",
      "model_type = gwf6\n",
      "version = mf6\n",
      "model_relative_path = .\n",
      "\n",
      "###################\n",
      "Package dis\n",
      "###################\n",
      "\n",
      "package_name = dis\n",
      "filename = tutorial01.dis\n",
      "package_type = dis\n",
      "model_or_simulation_package = model\n",
      "model_name = tutorial01\n",
      "\n",
      "\n",
      "###################\n",
      "Package ic\n",
      "###################\n",
      "\n",
      "package_name = ic\n",
      "filename = tutorial01.ic\n",
      "package_type = ic\n",
      "model_or_simulation_package = model\n",
      "model_name = tutorial01\n",
      "\n",
      "\n",
      "###################\n",
      "Package npf\n",
      "###################\n",
      "\n",
      "package_name = npf\n",
      "filename = tutorial01.npf\n",
      "package_type = npf\n",
      "model_or_simulation_package = model\n",
      "model_name = tutorial01\n",
      "\n",
      "\n",
      "###################\n",
      "Package chd_0\n",
      "###################\n",
      "\n",
      "package_name = chd_0\n",
      "filename = tutorial01.chd\n",
      "package_type = chd\n",
      "model_or_simulation_package = model\n",
      "model_name = tutorial01\n",
      "\n",
      "\n",
      "###################\n",
      "Package oc\n",
      "###################\n",
      "\n",
      "package_name = oc\n",
      "filename = tutorial01.oc\n",
      "package_type = oc\n",
      "model_or_simulation_package = model\n",
      "model_name = tutorial01\n",
      "\n",
      "\n",
      "\n",
      "\n"
     ]
    }
   ],
   "source": [
    "print(sim)"
   ]
  },
  {
   "cell_type": "markdown",
   "metadata": {},
   "source": [
    "Modflow2005 test\n",
    "source: https://ngwa.onlinelibrary.wiley.com/doi/epdf/10.1111/gwat.12413?saml_referrer"
   ]
  },
  {
   "cell_type": "code",
   "execution_count": 7,
   "metadata": {},
   "outputs": [
    {
     "name": "stdout",
     "output_type": "stream",
     "text": [
      "FloPy is using the following executable to run the model: ../../../../../.local/share/flopy/bin/mf2005\n",
      "\n",
      "                                  MODFLOW-2005     \n",
      "    U.S. GEOLOGICAL SURVEY MODULAR FINITE-DIFFERENCE GROUND-WATER FLOW MODEL\n",
      "                             Version 1.12.00 2/3/2017                        \n",
      "\n",
      " Using NAME file: gwexample.nam \n",
      " Run start date and time (yyyy/mm/dd hh:mm:ss): 2025/02/03 15:56:01\n",
      "\n",
      " Solving:  Stress period:     1    Time step:     1    Ground-Water Flow Eqn.\n",
      " Run end date and time (yyyy/mm/dd hh:mm:ss): 2025/02/03 15:56:01\n",
      " Elapsed run time:  0.002 Seconds\n",
      "\n",
      "  Normal termination of simulation\n"
     ]
    },
    {
     "data": {
      "text/plain": [
       "(True, [])"
      ]
     },
     "execution_count": 7,
     "metadata": {},
     "output_type": "execute_result"
    }
   ],
   "source": [
    "import numpy as np\n",
    "import flopy.modflow as fpm\n",
    "import flopy.utils as fpu\n",
    "\n",
    "model = fpm.Modflow(modelname = 'gwexample')\n",
    "\n",
    "fpm.ModflowDis(model, nlay=1, nrow=1, ncol=201, delr=10, delc=1, top=50, botm=0)\n",
    "\n",
    "ibound = np.ones((1, 201))\n",
    "ibound[0, 0] = ibound[0, -1] = -1\n",
    "fpm.ModflowBas(model, ibound=ibound, strt=20)\n",
    "\n",
    "fpm.ModflowLpf(model, hk=10, laytyp=1)\n",
    "\n",
    "fpm.ModflowRch(model, rech=0.001)\n",
    "lrcQ = { 0: [[0, 0, 50, -1], [0, 0, 150, -1]]}\n",
    "fpm.ModflowWel(model, stress_period_data=lrcQ)\n",
    "\n",
    "fpm.ModflowPcg(model)\n",
    "\n",
    "fpm.ModflowOc(model)\n",
    "\n",
    "model.write_input()\n",
    "\n",
    "model.run_model()"
   ]
  },
  {
   "cell_type": "code",
   "execution_count": 10,
   "metadata": {},
   "outputs": [
    {
     "name": "stdout",
     "output_type": "stream",
     "text": [
      "(1, 1, 201)\n"
     ]
    }
   ],
   "source": [
    "hfile = fpu.HeadFile('gwexample.hds')\n",
    "h = hfile.get_data(totim=1.0)\n",
    "\n",
    "print(h.shape)\n"
   ]
  },
  {
   "cell_type": "code",
   "execution_count": 14,
   "metadata": {},
   "outputs": [
    {
     "data": {
      "image/png": "[encoded data removed]",
      "text/plain": [
       "<Figure size 640x480 with 1 Axes>"
      ]
     },
     "metadata": {},
     "output_type": "display_data"
    }
   ],
   "source": [
    "# shape of h is (1, 1, 201)\n",
    "# Plot h\n",
    "import matplotlib.pyplot as plt\n",
    "plt.plot(h[0, 0, :])\n",
    "plt.show()"
   ]
  },
  {
   "cell_type": "code",
   "execution_count": 16,
   "metadata": {},
   "outputs": [
    {
     "data": {
      "text/plain": [
       "[<Axes: title={'center': ' model_top'}>,\n",
       " <Axes: title={'center': 'botm layer 1'}>]"
      ]
     },
     "execution_count": 16,
     "metadata": {},
     "output_type": "execute_result"
    },
    {
     "data": {
      "image/png": "[encoded data removed]",
      "text/plain": [
       "<Figure size 640x480 with 2 Axes>"
      ]
     },
     "metadata": {},
     "output_type": "display_data"
    },
    {
     "data": {
      "image/png": "[encoded data removed]",
      "text/plain": [
       "<Figure size 640x480 with 2 Axes>"
      ]
     },
     "metadata": {},
     "output_type": "display_data"
    }
   ],
   "source": [
    "# The discretization of my model is this:\n",
    "# fpm.ModflowDis(model, nlay=1, nrow=1, ncol=201, delr=10, delc=1, top=50, botm=0)\n",
    "# Plot the model grid\n",
    "model.dis.plot()"
   ]
  },
  {
   "cell_type": "code",
   "execution_count": null,
   "metadata": {},
   "outputs": [],
   "source": [
    "nav.display_navigation('modflow')"
   ]
  }
 ],
 "metadata": {
  "kernelspec": {
   "display_name": "gw_course",
   "language": "python",
   "name": "python3"
  },
  "language_info": {
   "codemirror_mode": {
    "name": "ipython",
    "version": 3
   },
   "file_extension": ".py",
   "mimetype": "text/x-python",
   "name": "python",
   "nbconvert_exporter": "python",
   "pygments_lexer": "ipython3",
   "version": "3.13.0"
  }
 },
 "nbformat": 4,
 "nbformat_minor": 2
}
