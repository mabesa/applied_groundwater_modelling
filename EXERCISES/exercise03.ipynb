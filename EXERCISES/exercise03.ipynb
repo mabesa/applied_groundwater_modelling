{
 "cells": [
  {
   "cell_type": "code",
   "execution_count": null,
   "metadata": {},
   "outputs": [],
   "source": [
    "# Setting up the notebook\n",
    "import sys\n",
    "import os\n",
    "import matplotlib.pyplot as plt\n",
    "\n",
    "# Import local libraries\n",
    "sys.path.append('../SUPPORT_REPO/src/scripts/scripts_exercises')\n",
    "from shared_functions import check_task_with_solution\n",
    "from darcy_law_experiment import darcy_experiment_simulation, darcy_experiment_simulation_global\n",
    "from print_images import display_image"
   ]
  },
  {
   "cell_type": "markdown",
   "metadata": {},
   "source": [
    "# Exercise 3 : Darcy experiment"
   ]
  },
  {
   "cell_type": "markdown",
   "metadata": {},
   "source": [
    "\n",
    "## Context \n",
    "\n",
    "You are given a Darcy experiement set-up :\n"
   ]
  },
  {
   "cell_type": "code",
   "execution_count": null,
   "metadata": {},
   "outputs": [],
   "source": [
    "display_image(\"DarcyExperimentSetup.png\")"
   ]
  },
  {
   "cell_type": "markdown",
   "metadata": {},
   "source": [
    "We want to derive experimentally Darcy's law, which relates 2 measurable quantities:\n",
    "- Hydraulic gradient $I$ = $\\frac{\\Delta h}{L}$, with $\\Delta h$ the hydraulic gradient (ie. hydraulic head differenve between the input and the output of the column)\n",
    "- Specific discharge $q$ at the input (or output, since a steady state flow is assumed).\n",
    "\n",
    "You might later need some additionnal parameters:\n",
    "- Column radius $r$ = $d/2$ = 0.127 mm\n",
    "- Column length $L$ = 1 m\n",
    "\n",
    "The experiment consists in repeating $q$ measurements for different $\\Delta h$ values and plotting $q$ against $I$."
   ]
  },
  {
   "cell_type": "code",
   "execution_count": null,
   "metadata": {},
   "outputs": [],
   "source": [
    "darcy_experiment_simulation_global()"
   ]
  },
  {
   "cell_type": "markdown",
   "metadata": {},
   "source": [
    "## Darcy's law theory"
   ]
  },
  {
   "cell_type": "markdown",
   "metadata": {},
   "source": [
    "In our simulation, the soil column had an hydraulic conductivity $K$=0.0003 $\\text{m}\\text{s}^{-1}$. However, each soil column has a different hydraulic conductivity. You might remember of the Tsalet catchment already studied in the exercise 1. Research papers indicate that the mixed deposits in the catchment have :\n",
    "- an hydraulic conductivity **$K_{T}$=0.0005 $\\text{m}\\text{s}^{-1}$**,\n",
    "- an effective porosity **$\\phi_e$=0.2**. <br><br>\n",
    "\n",
    "Let's assume we refill our Darcy experiment setup's column with Tsalet catchment mixed deposits. \n"
   ]
  },
  {
   "cell_type": "code",
   "execution_count": null,
   "metadata": {},
   "outputs": [],
   "source": [
    "check_task_with_solution(\"task03_1\")\n",
    "check_task_with_solution(\"task03_2\")\n",
    "check_task_with_solution(\"task03_3\")"
   ]
  },
  {
   "cell_type": "markdown",
   "metadata": {},
   "source": [
    "<div style=\"padding: 1em; margin: 1em 0; border-left: 3px solid rgb(65, 144, 37); background-color:rgba(63, 142, 75, 0.18);\">\n",
    "<strong>✅ Theory reminder:</strong><br>\n",
    "In an homogeneous and isotropic porous medium, hydraulic conductivity is the specific discharge per unit hydraulic gradient : q = KI. <br>\n",
    "This law is is named after Darcy, who was the scientist developping the experiment showing that reationship. <br>\n",
    "</div>"
   ]
  }
 ],
 "metadata": {
  "kernelspec": {
   "display_name": "gw_course_students",
   "language": "python",
   "name": "python3"
  },
  "language_info": {
   "codemirror_mode": {
    "name": "ipython",
    "version": 3
   },
   "file_extension": ".py",
   "mimetype": "text/x-python",
   "name": "python",
   "nbconvert_exporter": "python",
   "pygments_lexer": "ipython3",
   "version": "3.12.10"
  }
 },
 "nbformat": 4,
 "nbformat_minor": 2
}
