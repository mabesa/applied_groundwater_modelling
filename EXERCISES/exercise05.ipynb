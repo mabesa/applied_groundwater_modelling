{
 "cells": [
  {
   "cell_type": "code",
   "execution_count": null,
   "id": "cb19b274",
   "metadata": {},
   "outputs": [],
   "source": [
    "# Setting up the notebook\n",
    "import sys\n",
    "import os\n",
    "\n",
    "# Import local libraries\n",
    "sys.path.append('../SUPPORT_REPO/src/scripts/scripts_exercises')\n",
    "from exercise05_functions import task_05_01, plot_head_full_field, linear_interpolation_task\n",
    "from shared_functions import show_theory_reminder"
   ]
  },
  {
   "cell_type": "markdown",
   "id": "819e8df5",
   "metadata": {},
   "source": [
    "### Part 1: \n",
    "\n",
    "A field is available for study :\n",
    "- 25 observation wells are distributed over the field, hydraulic head is known at each observation well\n",
    "- A river borders the field to its Southern boundary, whose hydraulic head is also known\n",
    "\n",
    "We are interested in estimating the hydraulic head at three locations A, B and C.\n"
   ]
  },
  {
   "cell_type": "code",
   "execution_count": null,
   "id": "2d5d28d8",
   "metadata": {},
   "outputs": [],
   "source": [
    "task_05_01('cubic')"
   ]
  },
  {
   "cell_type": "markdown",
   "id": "061d3679",
   "metadata": {},
   "source": [
    "### Part 2: \n",
    "\n",
    "To obtain a full field of hydraulic head from finite number of observation wells, one has to perform an interpolation.\n",
    "\n",
    "Various interpolation methods exist, each giving a different solution for the full field.\n",
    "\n",
    "You are invited to try plotting the full field for various interpolations methods, and to compare then outputs. "
   ]
  },
  {
   "cell_type": "code",
   "execution_count": null,
   "id": "feebf97d",
   "metadata": {},
   "outputs": [],
   "source": [
    "plot_head_full_field('linear')\n",
    "# Possible arguments are : 'linear' 'nearest' and 'cubic'"
   ]
  },
  {
   "cell_type": "markdown",
   "id": "41da59e0",
   "metadata": {},
   "source": [
    "<div style=\"padding: 1em; margin: 1em 0; border-left: 3px solid #8e44ad; background-color: #f5eef8;\">\n",
    "<strong>🤔 Think about it:</strong><br>\n",
    "Which interpolation method is the more accurate in that context? Why?\n",
    "</div>"
   ]
  },
  {
   "cell_type": "markdown",
   "id": "0e87ed02",
   "metadata": {},
   "source": [
    "## Part 3\n",
    "\n",
    "Let's train a basic skill, the estimation of the hydraulic head in a random location between two wells."
   ]
  },
  {
   "cell_type": "code",
   "execution_count": null,
   "id": "910d4e54",
   "metadata": {},
   "outputs": [],
   "source": [
    "linear_interpolation_task()"
   ]
  },
  {
   "cell_type": "code",
   "execution_count": null,
   "id": "5d1fdf44",
   "metadata": {},
   "outputs": [],
   "source": [
    "show_theory_reminder(\n",
    "    title=\"Darcy's Law\",\n",
    "    bullets=[\n",
    "        \"Describes the flow of groundwater through porous media.\",\n",
    "        \"Flow rate is proportional to the hydraulic gradient and permeability.\",\n",
    "        \"Negative sign indicates flow from high to low head.\"\n",
    "    ],\n",
    "    formulae=[\"q = -K \\\\nabla h\"],\n",
    "    references=[\"Fetter (2001), *Applied Hydrogeology*, Ch. 3\", \"Lecture Slides Week 2\"]\n",
    ")"
   ]
  }
 ],
 "metadata": {
  "kernelspec": {
   "display_name": ".venv",
   "language": "python",
   "name": "python3"
  },
  "language_info": {
   "codemirror_mode": {
    "name": "ipython",
    "version": 3
   },
   "file_extension": ".py",
   "mimetype": "text/x-python",
   "name": "python",
   "nbconvert_exporter": "python",
   "pygments_lexer": "ipython3",
   "version": "3.13.2"
  }
 },
 "nbformat": 4,
 "nbformat_minor": 5
}
