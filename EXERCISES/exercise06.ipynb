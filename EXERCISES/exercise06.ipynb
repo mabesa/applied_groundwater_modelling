{
 "cells": [
  {
   "cell_type": "code",
   "execution_count": 1,
   "id": "ea02c32e",
   "metadata": {},
   "outputs": [],
   "source": [
    "# Setting up the notebook\n",
    "import sys\n",
    "import os\n",
    "\n",
    "# Import local libraries\n",
    "sys.path.append('../SUPPORT_REPO/src/scripts/scripts_exercises')\n",
    "from formulation_problems import transport_matching, transport_observation_matching"
   ]
  },
  {
   "cell_type": "markdown",
   "id": "e321dc59",
   "metadata": {},
   "source": [
    "# Exercise 5 : flow problems\n",
    "\n",
    "The transport equation formulation is the following :\n",
    "\n",
    "$\\partial_t c_{tot} (x,y,z,t) = - \\Delta \\cdot \\Sigma \\left( \\vec{j_i}(x,y,z,t) \\right) +P(x,y,z,t)$\n",
    "\n",
    "Where the terms $\\vec{j_i}$ refer to the possible mass fluxes : advection, diffusion and dispersion; and $P$ to possible production terms."
   ]
  },
  {
   "cell_type": "code",
   "execution_count": 2,
   "id": "93cdfb33",
   "metadata": {},
   "outputs": [
    {
     "data": {
      "text/markdown": [
       "$\\vec{j_1} = \\phi_e \\vec{u} c = \\vec{q} c$"
      ],
      "text/plain": [
       "<IPython.core.display.Markdown object>"
      ]
     },
     "metadata": {},
     "output_type": "display_data"
    },
    {
     "data": {
      "application/vnd.jupyter.widget-view+json": {
       "model_id": "df7747659e8c4a8ea0fd2d5ba151b023",
       "version_major": 2,
       "version_minor": 0
      },
      "text/plain": [
       "Dropdown(layout=Layout(width='300px'), options=('--- select ---', 'Dispersion term', 'Molecular diffusion term…"
      ]
     },
     "metadata": {},
     "output_type": "display_data"
    },
    {
     "data": {
      "application/vnd.jupyter.widget-view+json": {
       "model_id": "b72db852b2564ef1b233ee46bc97caaf",
       "version_major": 2,
       "version_minor": 0
      },
      "text/plain": [
       "HTML(value='')"
      ]
     },
     "metadata": {},
     "output_type": "display_data"
    },
    {
     "data": {
      "text/markdown": [
       "$\\vec{j_2} = - \\phi_e \\bold{D_{me}} \\vec{\\nabla}c$"
      ],
      "text/plain": [
       "<IPython.core.display.Markdown object>"
      ]
     },
     "metadata": {},
     "output_type": "display_data"
    },
    {
     "data": {
      "application/vnd.jupyter.widget-view+json": {
       "model_id": "57affb9b050b4f229b30090a95d87928",
       "version_major": 2,
       "version_minor": 0
      },
      "text/plain": [
       "Dropdown(layout=Layout(width='300px'), options=('--- select ---', 'Dispersion term', 'Molecular diffusion term…"
      ]
     },
     "metadata": {},
     "output_type": "display_data"
    },
    {
     "data": {
      "application/vnd.jupyter.widget-view+json": {
       "model_id": "be647683f57b4034ad02b96022786835",
       "version_major": 2,
       "version_minor": 0
      },
      "text/plain": [
       "HTML(value='')"
      ]
     },
     "metadata": {},
     "output_type": "display_data"
    },
    {
     "data": {
      "text/markdown": [
       "$\\vec{j_3} = - \\phi_e \\bold{D} \\vec{\\nabla}c$"
      ],
      "text/plain": [
       "<IPython.core.display.Markdown object>"
      ]
     },
     "metadata": {},
     "output_type": "display_data"
    },
    {
     "data": {
      "application/vnd.jupyter.widget-view+json": {
       "model_id": "4792095ece214e4299f4ebb509fe9983",
       "version_major": 2,
       "version_minor": 0
      },
      "text/plain": [
       "Dropdown(layout=Layout(width='300px'), options=('--- select ---', 'Dispersion term', 'Molecular diffusion term…"
      ]
     },
     "metadata": {},
     "output_type": "display_data"
    },
    {
     "data": {
      "application/vnd.jupyter.widget-view+json": {
       "model_id": "f55029bcc4954eb4837377e3913fdcca",
       "version_major": 2,
       "version_minor": 0
      },
      "text/plain": [
       "HTML(value='')"
      ]
     },
     "metadata": {},
     "output_type": "display_data"
    },
    {
     "data": {
      "application/vnd.jupyter.widget-view+json": {
       "model_id": "c653e364b2e54b5da0cdfbfa97ac0e31",
       "version_major": 2,
       "version_minor": 0
      },
      "text/plain": [
       "Button(description='Submit', style=ButtonStyle())"
      ]
     },
     "metadata": {},
     "output_type": "display_data"
    },
    {
     "data": {
      "application/vnd.jupyter.widget-view+json": {
       "model_id": "1d8d1adeca18440690d2a6795fdeec8e",
       "version_major": 2,
       "version_minor": 0
      },
      "text/plain": [
       "Output()"
      ]
     },
     "metadata": {},
     "output_type": "display_data"
    }
   ],
   "source": [
    "transport_matching()"
   ]
  },
  {
   "cell_type": "code",
   "execution_count": 5,
   "id": "d8067e02",
   "metadata": {},
   "outputs": [
    {
     "data": {
      "application/vnd.jupyter.widget-view+json": {
       "model_id": "0e146f2c140e4e4790b6eb7d36f3fb90",
       "version_major": 2,
       "version_minor": 0
      },
      "text/plain": [
       "VBox(children=(FloatSlider(value=1.0, description='Seepage velocity [m/d]', max=5.0, min=0.1), FloatSlider(val…"
      ]
     },
     "metadata": {},
     "output_type": "display_data"
    },
    {
     "data": {
      "application/vnd.jupyter.widget-view+json": {
       "model_id": "82ec68dedced4a16b58263e59db1abc4",
       "version_major": 2,
       "version_minor": 0
      },
      "text/plain": [
       "Output()"
      ]
     },
     "metadata": {},
     "output_type": "display_data"
    }
   ],
   "source": [
    "import numpy as np\n",
    "import matplotlib.pyplot as plt\n",
    "import ipywidgets as widgets\n",
    "from IPython.display import display\n",
    "\n",
    "def c_x_t_curve(v=1.0, D=0.1, alpha=1.0, t=1.0, M=1.0, phi_0=0.3, R=1.0, x_range=(0, 100), n_points=200):\n",
    "    \"\"\"\n",
    "    Returns x, c(x,t) arrays for given parameters for an instantaneous source solution.\n",
    "    \"\"\"\n",
    "    x = np.linspace(*x_range, n_points)\n",
    "    D_L = D + alpha * v  # Effective dispersion\n",
    "    if t == 0:\n",
    "        c = np.zeros_like(x)\n",
    "        c[0] = M / (R * phi_0)  # delta approximation\n",
    "        return x, c\n",
    "\n",
    "    factor1 = M / (R * phi_0 * np.sqrt(4 * np.pi * D_L * t / R))\n",
    "    exponent = -((x - v * t / R) ** 2) / (4 * D_L * t / R)\n",
    "    c = factor1 * np.exp(exponent)\n",
    "    return x, c\n",
    "\n",
    "def plot_cx_t_interactive(v, D, alpha, t):\n",
    "    x, c = c_x_t_curve(v, D, alpha, t)\n",
    "    c_max = np.max(c)\n",
    "    fig, ax = plt.subplots(figsize=(8, 4))\n",
    "    ax.plot(x, c, label=f'$c(x, t={t:.1f})$')\n",
    "    ax.set_xlabel('$x$ [m]')\n",
    "    ax.set_ylabel('$c(x,t)$ [mass/volume]')\n",
    "    ax.set_title('Instantaneous Source: $c(x,t)$')\n",
    "    ax.legend()\n",
    "    ax.grid(True)\n",
    "    plt.ylim(0, 1.1 * c_max)\n",
    "    plt.show()\n",
    "\n",
    "def interactive_cx_t():\n",
    "    alpha_slider = widgets.FloatSlider(value=1.0, min=0.0, max=10.0, step=0.1, description='Dispersion $\\\\alpha$ [m]')\n",
    "    v_slider = widgets.FloatSlider(value=1.0, min=0.1, max=5.0, step=0.1, description='Seepage velocity [m/d]')\n",
    "    D_slider = widgets.FloatSlider(value=0.1, min=0.01, max=2.0, step=0.01, description='Diffusion $D$ [m$^2$/d]')\n",
    "    t_slider = widgets.FloatSlider(value=1.0, min=0, max=50.0, step=0.5, description='Time $t$ [d]')\n",
    "    \n",
    "    ui = widgets.VBox([v_slider, D_slider, alpha_slider, t_slider])\n",
    "    out = widgets.interactive_output(plot_cx_t_interactive, {\n",
    "        'v': v_slider, 'D': D_slider, 'alpha': alpha_slider, 't': t_slider\n",
    "    })\n",
    "    display(ui, out)\n",
    "\n",
    "# Usage in Jupyter Notebook:\n",
    "interactive_cx_t()\n"
   ]
  },
  {
   "cell_type": "code",
   "execution_count": 4,
   "id": "60d587e2",
   "metadata": {},
   "outputs": [
    {
     "data": {
      "text/markdown": [
       "Translation of the gaussian mean position with time"
      ],
      "text/plain": [
       "<IPython.core.display.Markdown object>"
      ]
     },
     "metadata": {},
     "output_type": "display_data"
    },
    {
     "data": {
      "application/vnd.jupyter.widget-view+json": {
       "model_id": "000df6de920b41f8babaa035eac0d4c9",
       "version_major": 2,
       "version_minor": 0
      },
      "text/plain": [
       "Dropdown(layout=Layout(width='300px'), options=('--- select ---', 'Dispersion term', 'Advection term', 'Molecu…"
      ]
     },
     "metadata": {},
     "output_type": "display_data"
    },
    {
     "data": {
      "application/vnd.jupyter.widget-view+json": {
       "model_id": "c1da3feb61e8414cb1a40c9d241e9610",
       "version_major": 2,
       "version_minor": 0
      },
      "text/plain": [
       "HTML(value='')"
      ]
     },
     "metadata": {},
     "output_type": "display_data"
    },
    {
     "data": {
      "text/markdown": [
       "Change in the Gaussian integral with time$"
      ],
      "text/plain": [
       "<IPython.core.display.Markdown object>"
      ]
     },
     "metadata": {},
     "output_type": "display_data"
    },
    {
     "data": {
      "application/vnd.jupyter.widget-view+json": {
       "model_id": "13f65185d54d4507ae2b7ab221fa68d3",
       "version_major": 2,
       "version_minor": 0
      },
      "text/plain": [
       "Dropdown(layout=Layout(width='300px'), options=('--- select ---', 'Dispersion term', 'Advection term', 'Molecu…"
      ]
     },
     "metadata": {},
     "output_type": "display_data"
    },
    {
     "data": {
      "application/vnd.jupyter.widget-view+json": {
       "model_id": "330f72e76ecc4428a53a5577a9a4fcdf",
       "version_major": 2,
       "version_minor": 0
      },
      "text/plain": [
       "HTML(value='')"
      ]
     },
     "metadata": {},
     "output_type": "display_data"
    },
    {
     "data": {
      "text/markdown": [
       "Change in the Gaussian width with time"
      ],
      "text/plain": [
       "<IPython.core.display.Markdown object>"
      ]
     },
     "metadata": {},
     "output_type": "display_data"
    },
    {
     "data": {
      "application/vnd.jupyter.widget-view+json": {
       "model_id": "c8dda5c5929946fe86de8184621c81b8",
       "version_major": 2,
       "version_minor": 0
      },
      "text/plain": [
       "Dropdown(layout=Layout(width='300px'), options=('--- select ---', 'Dispersion term', 'Advection term', 'Molecu…"
      ]
     },
     "metadata": {},
     "output_type": "display_data"
    },
    {
     "data": {
      "application/vnd.jupyter.widget-view+json": {
       "model_id": "d38b893e13344d94aa17b11c35ba35e9",
       "version_major": 2,
       "version_minor": 0
      },
      "text/plain": [
       "HTML(value='')"
      ]
     },
     "metadata": {},
     "output_type": "display_data"
    },
    {
     "data": {
      "application/vnd.jupyter.widget-view+json": {
       "model_id": "a46853a1295240528c346f5e2a8aa1a0",
       "version_major": 2,
       "version_minor": 0
      },
      "text/plain": [
       "Button(description='Submit', style=ButtonStyle())"
      ]
     },
     "metadata": {},
     "output_type": "display_data"
    },
    {
     "data": {
      "application/vnd.jupyter.widget-view+json": {
       "model_id": "ac707dd9da42450a9a11624ca86cda7f",
       "version_major": 2,
       "version_minor": 0
      },
      "text/plain": [
       "Output()"
      ]
     },
     "metadata": {},
     "output_type": "display_data"
    }
   ],
   "source": [
    "transport_observation_matching()"
   ]
  },
  {
   "cell_type": "code",
   "execution_count": null,
   "id": "6b16f546",
   "metadata": {},
   "outputs": [],
   "source": []
  }
 ],
 "metadata": {
  "kernelspec": {
   "display_name": "gw_course_students",
   "language": "python",
   "name": "python3"
  },
  "language_info": {
   "codemirror_mode": {
    "name": "ipython",
    "version": 3
   },
   "file_extension": ".py",
   "mimetype": "text/x-python",
   "name": "python",
   "nbconvert_exporter": "python",
   "pygments_lexer": "ipython3",
   "version": "3.12.11"
  }
 },
 "nbformat": 4,
 "nbformat_minor": 5
}
