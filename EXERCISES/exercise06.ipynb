{
 "cells": [
  {
   "cell_type": "code",
   "execution_count": 1,
   "id": "ea02c32e",
   "metadata": {},
   "outputs": [],
   "source": [
    "# Setting up the notebook\n",
    "import sys\n",
    "import os\n",
    "\n",
    "# Import local libraries\n",
    "sys.path.append('../SUPPORT_REPO/src/scripts/scripts_exercises')\n",
    "from formulation_problems import transport_matching, transport_observation_matching, transport_gaussian_plot\n",
    "from solution_transport import question_tracer_propagation_plot, plot_curve_and_question_estimation"
   ]
  },
  {
   "cell_type": "markdown",
   "id": "e321dc59",
   "metadata": {},
   "source": [
    "# Exercise 5 : Transport Problems"
   ]
  },
  {
   "cell_type": "markdown",
   "id": "12581387",
   "metadata": {},
   "source": [
    "## Context :\n",
    "\n",
    "When solving groundwater problems, another important part of the work consists in defining and solving the transport problem.\n",
    "This includes for any studied groundwater system:\n",
    "- identifying transport boundary conditions\n",
    "- identifying all solutes sources and sink terms\n",
    "- formulating the transport analytical equations to be solved\n",
    "- solving the transport equations, analytically or numerically"
   ]
  },
  {
   "cell_type": "markdown",
   "id": "4aab77c0",
   "metadata": {},
   "source": [
    "## Task 1 : Boundary conditions\n",
    "\n",
    "\n",
    "- **Match the correct expression to each possible boundary condition**:"
   ]
  },
  {
   "cell_type": "markdown",
   "id": "3b0c5b17",
   "metadata": {},
   "source": [
    "## Task 2 : Source and sink terms\n",
    "\n",
    "- **Match the correct expression to each possible source or sink term:**"
   ]
  },
  {
   "cell_type": "markdown",
   "id": "7f098ef6",
   "metadata": {},
   "source": [
    "## Task 3 : Analytical formulation of simple problems\n",
    "\n",
    "The transport equation formulation is the following :\n",
    "\n",
    "$\\partial_t c_{tot} (x,y,z,t) = - \\Delta \\cdot \\Sigma \\left( \\vec{j_i}(x,y,z,t) \\right) +P(x,y,z,t)$\n",
    "\n",
    "Where the terms $\\vec{j_i}$ refer to the possible mass fluxes : advection, diffusion and dispersion; and $P$ to possible production terms.\n",
    "\n",
    "\n",
    "- **Match the correct expression to each presented simple transport equation:**\n"
   ]
  },
  {
   "cell_type": "code",
   "execution_count": 2,
   "id": "93cdfb33",
   "metadata": {},
   "outputs": [
    {
     "data": {
      "text/markdown": [
       "$\\vec{j_1} = \\phi_e \\vec{u} c = \\vec{q} c$"
      ],
      "text/plain": [
       "<IPython.core.display.Markdown object>"
      ]
     },
     "metadata": {},
     "output_type": "display_data"
    },
    {
     "data": {
      "application/vnd.jupyter.widget-view+json": {
       "model_id": "31ece4f301544eb29c29a865ed3c5c17",
       "version_major": 2,
       "version_minor": 0
      },
      "text/plain": [
       "Dropdown(layout=Layout(width='300px'), options=('--- select ---', 'Molecular diffusion term', 'Dispersion term…"
      ]
     },
     "metadata": {},
     "output_type": "display_data"
    },
    {
     "data": {
      "application/vnd.jupyter.widget-view+json": {
       "model_id": "7ed87205ef0141619dbfb65c579d6558",
       "version_major": 2,
       "version_minor": 0
      },
      "text/plain": [
       "HTML(value='')"
      ]
     },
     "metadata": {},
     "output_type": "display_data"
    },
    {
     "data": {
      "text/markdown": [
       "$\\vec{j_2} = - \\phi_e \\bold{D_{me}} \\vec{\\nabla}c$, where $\\bold{D_{me}}$ is about $10^{-9} m^2/s^{-1}$"
      ],
      "text/plain": [
       "<IPython.core.display.Markdown object>"
      ]
     },
     "metadata": {},
     "output_type": "display_data"
    },
    {
     "data": {
      "application/vnd.jupyter.widget-view+json": {
       "model_id": "291dc7760fe04ecdbf3165b8e1cc82a7",
       "version_major": 2,
       "version_minor": 0
      },
      "text/plain": [
       "Dropdown(layout=Layout(width='300px'), options=('--- select ---', 'Molecular diffusion term', 'Dispersion term…"
      ]
     },
     "metadata": {},
     "output_type": "display_data"
    },
    {
     "data": {
      "application/vnd.jupyter.widget-view+json": {
       "model_id": "5a3b3600208b4bd5900657b55e5ffe5a",
       "version_major": 2,
       "version_minor": 0
      },
      "text/plain": [
       "HTML(value='')"
      ]
     },
     "metadata": {},
     "output_type": "display_data"
    },
    {
     "data": {
      "text/markdown": [
       "$\\vec{j_3} = - \\phi_e \\bold{D} \\vec{\\nabla}c$, where $\\bold{D}$ is a tensor : $D_{ij}=\\frac{1}{\\mid u \\mid} u_i u_j (\\alpha_l-\\alpha_t)$"
      ],
      "text/plain": [
       "<IPython.core.display.Markdown object>"
      ]
     },
     "metadata": {},
     "output_type": "display_data"
    },
    {
     "data": {
      "application/vnd.jupyter.widget-view+json": {
       "model_id": "c1e428671510456f9dbd539436606a71",
       "version_major": 2,
       "version_minor": 0
      },
      "text/plain": [
       "Dropdown(layout=Layout(width='300px'), options=('--- select ---', 'Molecular diffusion term', 'Dispersion term…"
      ]
     },
     "metadata": {},
     "output_type": "display_data"
    },
    {
     "data": {
      "application/vnd.jupyter.widget-view+json": {
       "model_id": "93a6180a0beb43068e7695ee118071e1",
       "version_major": 2,
       "version_minor": 0
      },
      "text/plain": [
       "HTML(value='')"
      ]
     },
     "metadata": {},
     "output_type": "display_data"
    },
    {
     "data": {
      "application/vnd.jupyter.widget-view+json": {
       "model_id": "8f48d9b307b94006b0ddc7f83bf8e2fc",
       "version_major": 2,
       "version_minor": 0
      },
      "text/plain": [
       "Button(description='Submit', style=ButtonStyle())"
      ]
     },
     "metadata": {},
     "output_type": "display_data"
    },
    {
     "data": {
      "application/vnd.jupyter.widget-view+json": {
       "model_id": "89b5f8d788c54e3c903907db5a8e5bb4",
       "version_major": 2,
       "version_minor": 0
      },
      "text/plain": [
       "Output()"
      ]
     },
     "metadata": {},
     "output_type": "display_data"
    }
   ],
   "source": [
    "transport_matching()"
   ]
  },
  {
   "cell_type": "markdown",
   "id": "4fc533ee",
   "metadata": {},
   "source": [
    "## Task 4 : Analytical solution to simple problems\n",
    "\n",
    "The analytical solution for the transport of an instantaneous injection in 1D uniform flow field is :\n",
    "$c(x,t)=\\frac{M/(\\phi_e A)}{\\sqrt{4\\pi D_L t}}\\exp{(-\\frac{(x-ut)^2}{4D_L t})}$, where $D_L=a_L u$ is the mechanical dispersion coefficient. \n",
    "\n",
    "\n",
    "- **Manipulate the interactive plot to guess what effects have advection, diffusion and dispersion on the transport analytical solution:**"
   ]
  },
  {
   "cell_type": "code",
   "execution_count": null,
   "id": "d8067e02",
   "metadata": {},
   "outputs": [
    {
     "data": {
      "application/vnd.jupyter.widget-view+json": {
       "model_id": "cb8d0bbf51254c07aedadabeeda3b6b7",
       "version_major": 2,
       "version_minor": 0
      },
      "text/plain": [
       "VBox(children=(FloatSlider(value=1.0, description='Seepage velocity u [m/d]', layout=Layout(width='400px'), ma…"
      ]
     },
     "metadata": {},
     "output_type": "display_data"
    },
    {
     "data": {
      "application/vnd.jupyter.widget-view+json": {
       "model_id": "68da073ea194450c96c16598e20b76c9",
       "version_major": 2,
       "version_minor": 0
      },
      "text/plain": [
       "Output()"
      ]
     },
     "metadata": {},
     "output_type": "display_data"
    },
    {
     "data": {
      "text/markdown": [
       "Translation of the peak location in time"
      ],
      "text/plain": [
       "<IPython.core.display.Markdown object>"
      ]
     },
     "metadata": {},
     "output_type": "display_data"
    },
    {
     "data": {
      "application/vnd.jupyter.widget-view+json": {
       "model_id": "168f8d88d4d849d5919981f9ee657179",
       "version_major": 2,
       "version_minor": 0
      },
      "text/plain": [
       "Dropdown(layout=Layout(width='300px'), options=('--- select ---', 'Diffusion and dispersion term', 'Advection …"
      ]
     },
     "metadata": {},
     "output_type": "display_data"
    },
    {
     "data": {
      "application/vnd.jupyter.widget-view+json": {
       "model_id": "2a1ec82aa6c24a3dbd786f953a3f271b",
       "version_major": 2,
       "version_minor": 0
      },
      "text/plain": [
       "HTML(value='')"
      ]
     },
     "metadata": {},
     "output_type": "display_data"
    },
    {
     "data": {
      "text/markdown": [
       "Change in the peak width with time"
      ],
      "text/plain": [
       "<IPython.core.display.Markdown object>"
      ]
     },
     "metadata": {},
     "output_type": "display_data"
    },
    {
     "data": {
      "application/vnd.jupyter.widget-view+json": {
       "model_id": "1cb6789ecf8a453fb522520ad0793e9d",
       "version_major": 2,
       "version_minor": 0
      },
      "text/plain": [
       "Dropdown(layout=Layout(width='300px'), options=('--- select ---', 'Diffusion and dispersion term', 'Advection …"
      ]
     },
     "metadata": {},
     "output_type": "display_data"
    },
    {
     "data": {
      "application/vnd.jupyter.widget-view+json": {
       "model_id": "1b83d92962f54a78853e424852aadb8c",
       "version_major": 2,
       "version_minor": 0
      },
      "text/plain": [
       "HTML(value='')"
      ]
     },
     "metadata": {},
     "output_type": "display_data"
    },
    {
     "data": {
      "application/vnd.jupyter.widget-view+json": {
       "model_id": "80fecc35e5604c09a7b7a73ccb5ce797",
       "version_major": 2,
       "version_minor": 0
      },
      "text/plain": [
       "Button(description='Submit', style=ButtonStyle())"
      ]
     },
     "metadata": {},
     "output_type": "display_data"
    },
    {
     "data": {
      "application/vnd.jupyter.widget-view+json": {
       "model_id": "37f8d02171c94239a7dc28f7af641ac3",
       "version_major": 2,
       "version_minor": 0
      },
      "text/plain": [
       "Output()"
      ]
     },
     "metadata": {},
     "output_type": "display_data"
    }
   ],
   "source": [
    "transport_gaussian_plot()\n",
    "transport_observation_matching()"
   ]
  },
  {
   "cell_type": "markdown",
   "id": "05fd8aff",
   "metadata": {},
   "source": [
    "## Task 5 : empirical solution from field monitoring\n",
    "\n",
    "In most of the case, there is only one monitoring field. \n",
    "So it is not possible to interpolate an analytical solution of the concentration spatial profile, but only a temporal profile at the well.\n",
    "\n",
    "In our field experiment : \n",
    "- Flow : it can be assumed to be uniform. \n",
    "- Solute release : 10 kg of a water soluble substance is released in a Well 1. It is highly mobile well mixed in a\n",
    "very short time inside the Well 1, such that it behaves lake an instantaneous release of an ideal tracer. \n",
    "- Observation well : at a distance of 400 m from Well 1 is located Well 2, where the concentration in solute is meased in time.\n",
    "\n",
    "Available data:\n",
    "- Mean flow velocity $u$ = 10 m/day.\n",
    "- Groundwater table $h$ = 50 m (reference datum z = 0 set at the bottom of the aquifer).\n",
    "- Effective porosity $\\phi_e$ = 0.2.\n",
    "- Longitudinal dispersivity $\\alpha_l$ = 10 m.\n",
    "- Transversal dispersivity $\\alpha_t$ = 0.1 m.\n"
   ]
  },
  {
   "cell_type": "markdown",
   "id": "d784e64a",
   "metadata": {},
   "source": [
    "### Task 5.1:\n",
    "- **From the three plots below, which one do you think could be representing the concentration of solute in Well 2 given the mean flow velocity?**"
   ]
  },
  {
   "cell_type": "code",
   "execution_count": 4,
   "id": "1c2bbb47",
   "metadata": {},
   "outputs": [
    {
     "data": {
      "application/vnd.jupyter.widget-view+json": {
       "model_id": "e49b76bc8f7b4dcc9dd30acdc16369ed",
       "version_major": 2,
       "version_minor": 0
      },
      "text/plain": [
       "HBox(children=(Dropdown(description='Select:', layout=Layout(width='150px'), options=('a', 'b', 'c'), value=No…"
      ]
     },
     "metadata": {},
     "output_type": "display_data"
    },
    {
     "data": {
      "application/vnd.jupyter.widget-view+json": {
       "model_id": "ee7a8383b3574da4a67aa35d39ac76d5",
       "version_major": 2,
       "version_minor": 0
      },
      "text/plain": [
       "Output()"
      ]
     },
     "metadata": {},
     "output_type": "display_data"
    },
    {
     "data": {
      "image/png": "[encoded data removed]",
      "text/plain": [
       "<Figure size 1200x500 with 3 Axes>"
      ]
     },
     "metadata": {},
     "output_type": "display_data"
    }
   ],
   "source": [
    "question_tracer_propagation_plot()"
   ]
  },
  {
   "cell_type": "markdown",
   "id": "20576015",
   "metadata": {},
   "source": [
    "### Task 5.2 : \n",
    "Now we know which curves show the time evolution of solute concentration in well 2, we can extract some more information regarding the contamination that occured in the field.\n",
    "\n",
    "- **Derive the required contamination indicators from the concentration time serie**:"
   ]
  },
  {
   "cell_type": "code",
   "execution_count": 5,
   "id": "14a7b88e",
   "metadata": {},
   "outputs": [
    {
     "data": {
      "image/png": "[encoded data removed]",
      "text/plain": [
       "<Figure size 500x600 with 1 Axes>"
      ]
     },
     "metadata": {},
     "output_type": "display_data"
    },
    {
     "data": {
      "text/markdown": [
       "From the concentration curve (b), determine:"
      ],
      "text/plain": [
       "<IPython.core.display.Markdown object>"
      ]
     },
     "metadata": {},
     "output_type": "display_data"
    },
    {
     "data": {
      "application/vnd.jupyter.widget-view+json": {
       "model_id": "b20436bce6b04d92a577c822165d2a97",
       "version_major": 2,
       "version_minor": 0
      },
      "text/plain": [
       "FloatText(value=0.0, description='Maximum concentration [μg/L]:', layout=Layout(width='400px'), style=Descript…"
      ]
     },
     "metadata": {},
     "output_type": "display_data"
    },
    {
     "data": {
      "application/vnd.jupyter.widget-view+json": {
       "model_id": "3e58b31c64454611949a0b567ca5c50b",
       "version_major": 2,
       "version_minor": 0
      },
      "text/plain": [
       "FloatText(value=0.0, description='Time span above reference [days]:', layout=Layout(width='400px'), style=Desc…"
      ]
     },
     "metadata": {},
     "output_type": "display_data"
    },
    {
     "data": {
      "application/vnd.jupyter.widget-view+json": {
       "model_id": "c2cb501d205942b59eff13723cc47271",
       "version_major": 2,
       "version_minor": 0
      },
      "text/plain": [
       "Button(description='Submit', style=ButtonStyle())"
      ]
     },
     "metadata": {},
     "output_type": "display_data"
    },
    {
     "data": {
      "application/vnd.jupyter.widget-view+json": {
       "model_id": "3637d07300454d26903ed3124460f785",
       "version_major": 2,
       "version_minor": 0
      },
      "text/plain": [
       "Output()"
      ]
     },
     "metadata": {},
     "output_type": "display_data"
    }
   ],
   "source": [
    "plot_curve_and_question_estimation()"
   ]
  },
  {
   "cell_type": "markdown",
   "id": "cb453dc5",
   "metadata": {},
   "source": [
    "## Part 4 : Tracer front\n",
    "\n",
    "In most of the case, we don't have access to multiple wells but only to one. This means the graphs that can be studied is a temporal profile at the well, and not a spatial profile.\n",
    "Let's assume a tracer front is produced at a central point and that there is an observation well at a radial distance R_w from it.\n",
    "The background tracer concentration is $c_0$ and the tracer concentration in the front is $c_1$.\n",
    "\n",
    "Th observer at the well notes the following data :\n",
    "- time at which the concentration equals $0.159 (c_0 + c_1)$ :\n",
    "- time at which the concentration equals $0.5(c_0 + c_1)$ (breakthough time):\n",
    "- time at which the concentration equals $0.841 (c_0 + c_1)$ :\n",
    "- Distance from observation point to injection point : \n",
    "\n",
    "\n",
    "    "
   ]
  },
  {
   "cell_type": "code",
   "execution_count": null,
   "id": "3da41b14",
   "metadata": {},
   "outputs": [],
   "source": []
  },
  {
   "cell_type": "code",
   "execution_count": null,
   "id": "41981bce",
   "metadata": {},
   "outputs": [],
   "source": []
  }
 ],
 "metadata": {
  "kernelspec": {
   "display_name": "gw_course_students",
   "language": "python",
   "name": "python3"
  },
  "language_info": {
   "codemirror_mode": {
    "name": "ipython",
    "version": 3
   },
   "file_extension": ".py",
   "mimetype": "text/x-python",
   "name": "python",
   "nbconvert_exporter": "python",
   "pygments_lexer": "ipython3",
   "version": "3.12.11"
  }
 },
 "nbformat": 4,
 "nbformat_minor": 5
}
