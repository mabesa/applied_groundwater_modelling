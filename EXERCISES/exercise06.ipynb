{
 "cells": [
  {
   "cell_type": "code",
   "execution_count": 1,
   "id": "ea02c32e",
   "metadata": {},
   "outputs": [],
   "source": [
    "# Setting up the notebook\n",
    "import sys\n",
    "import os\n",
    "\n",
    "# Import local libraries\n",
    "sys.path.append('../SUPPORT_REPO/src/scripts/scripts_exercises')\n",
    "from formulation_problems import transport_matching, transport_observation_matching, transport_gaussian_plot, transport_boundary_condition_matching\n",
    "from solution_transport import question_tracer_propagation_plot, plot_curve_and_question_estimation"
   ]
  },
  {
   "cell_type": "markdown",
   "id": "e321dc59",
   "metadata": {},
   "source": [
    "# Exercise 6 : Transport Problems"
   ]
  },
  {
   "cell_type": "markdown",
   "id": "12581387",
   "metadata": {},
   "source": [
    "## Context :\n",
    "\n",
    "When solving groundwater problems, another important part of the work consists in defining and solving the transport problem.\n",
    "This includes for any studied groundwater system:\n",
    "- identifying transport boundary conditions\n",
    "- formulating the transport analytical equations to be solved\n",
    "- solving the transport equations, analytically or numerically"
   ]
  },
  {
   "cell_type": "markdown",
   "id": "4aab77c0",
   "metadata": {},
   "source": [
    "## Task 1 : Boundary conditions\n",
    "\n",
    "\n",
    "- **Match the correct expression to each possible boundary condition**:"
   ]
  },
  {
   "cell_type": "code",
   "execution_count": 2,
   "id": "588cf050",
   "metadata": {},
   "outputs": [
    {
     "data": {
      "text/markdown": [
       "$c(x,t) = c_1(x,t)$"
      ],
      "text/plain": [
       "<IPython.core.display.Markdown object>"
      ]
     },
     "metadata": {},
     "output_type": "display_data"
    },
    {
     "data": {
      "application/vnd.jupyter.widget-view+json": {
       "model_id": "18d2cf9207814ea798dbda3819163c21",
       "version_major": 2,
       "version_minor": 0
      },
      "text/plain": [
       "Dropdown(layout=Layout(width='300px'), options=('--- select ---', '3rd type : prescribed mass flux', '2nd type…"
      ]
     },
     "metadata": {},
     "output_type": "display_data"
    },
    {
     "data": {
      "application/vnd.jupyter.widget-view+json": {
       "model_id": "acbc701716d146129f11f9f59ada5d35",
       "version_major": 2,
       "version_minor": 0
      },
      "text/plain": [
       "HTML(value='')"
      ]
     },
     "metadata": {},
     "output_type": "display_data"
    },
    {
     "data": {
      "text/markdown": [
       "$\\frac{\\partial c(x,t)}{\\partial n} = 0$"
      ],
      "text/plain": [
       "<IPython.core.display.Markdown object>"
      ]
     },
     "metadata": {},
     "output_type": "display_data"
    },
    {
     "data": {
      "application/vnd.jupyter.widget-view+json": {
       "model_id": "e1e22f06d9274704bf98139a240f52bd",
       "version_major": 2,
       "version_minor": 0
      },
      "text/plain": [
       "Dropdown(layout=Layout(width='300px'), options=('--- select ---', '3rd type : prescribed mass flux', '2nd type…"
      ]
     },
     "metadata": {},
     "output_type": "display_data"
    },
    {
     "data": {
      "application/vnd.jupyter.widget-view+json": {
       "model_id": "10e913abb8bb4069b430ef0d047b5189",
       "version_major": 2,
       "version_minor": 0
      },
      "text/plain": [
       "HTML(value='')"
      ]
     },
     "metadata": {},
     "output_type": "display_data"
    },
    {
     "data": {
      "text/markdown": [
       "$j_n=q_nc(x,t)-\\phi_e D_h \\frac{\\partial c(x,t)}{\\partial n}$"
      ],
      "text/plain": [
       "<IPython.core.display.Markdown object>"
      ]
     },
     "metadata": {},
     "output_type": "display_data"
    },
    {
     "data": {
      "application/vnd.jupyter.widget-view+json": {
       "model_id": "c4b58af0d6b949f89577a9b3c71037ce",
       "version_major": 2,
       "version_minor": 0
      },
      "text/plain": [
       "Dropdown(layout=Layout(width='300px'), options=('--- select ---', '3rd type : prescribed mass flux', '2nd type…"
      ]
     },
     "metadata": {},
     "output_type": "display_data"
    },
    {
     "data": {
      "application/vnd.jupyter.widget-view+json": {
       "model_id": "5050148a87504392a5e37216acfbd8a0",
       "version_major": 2,
       "version_minor": 0
      },
      "text/plain": [
       "HTML(value='')"
      ]
     },
     "metadata": {},
     "output_type": "display_data"
    },
    {
     "data": {
      "application/vnd.jupyter.widget-view+json": {
       "model_id": "fc6785be30be4a34a30b2a231b733029",
       "version_major": 2,
       "version_minor": 0
      },
      "text/plain": [
       "Button(description='Submit', style=ButtonStyle())"
      ]
     },
     "metadata": {},
     "output_type": "display_data"
    },
    {
     "data": {
      "application/vnd.jupyter.widget-view+json": {
       "model_id": "7aee71d4111a4e85ad410b01c4da2dbb",
       "version_major": 2,
       "version_minor": 0
      },
      "text/plain": [
       "Output()"
      ]
     },
     "metadata": {},
     "output_type": "display_data"
    }
   ],
   "source": [
    "transport_boundary_condition_matching()"
   ]
  },
  {
   "cell_type": "markdown",
   "id": "7f098ef6",
   "metadata": {},
   "source": [
    "## Task 2 : Analytical formulation of simple problems\n",
    "\n",
    "The transport equation formulation is the following :\n",
    "\n",
    "$\\partial_t c_{tot} (x,y,z,t) = - \\Delta \\cdot \\Sigma \\left( \\vec{j_i}(x,y,z,t) \\right) +P(x,y,z,t)$\n",
    "\n",
    "Where the terms $\\vec{j_i}$ refer to the possible mass fluxes : advection, diffusion and dispersion; and $P$ to possible source or sink terms.\n",
    "\n",
    "\n",
    "- **Match the correct expression to each presented simple transport equation:**\n"
   ]
  },
  {
   "cell_type": "code",
   "execution_count": 3,
   "id": "93cdfb33",
   "metadata": {},
   "outputs": [
    {
     "data": {
      "text/markdown": [
       "$\\vec{j_1} = \\phi_e \\vec{u} c = \\vec{q} c$"
      ],
      "text/plain": [
       "<IPython.core.display.Markdown object>"
      ]
     },
     "metadata": {},
     "output_type": "display_data"
    },
    {
     "data": {
      "application/vnd.jupyter.widget-view+json": {
       "model_id": "74781232b50b4ef19dc949d5293a69a9",
       "version_major": 2,
       "version_minor": 0
      },
      "text/plain": [
       "Dropdown(layout=Layout(width='300px'), options=('--- select ---', 'Advection term', 'Molecular diffusion term'…"
      ]
     },
     "metadata": {},
     "output_type": "display_data"
    },
    {
     "data": {
      "application/vnd.jupyter.widget-view+json": {
       "model_id": "c7719bb45d164216be501218bed60a64",
       "version_major": 2,
       "version_minor": 0
      },
      "text/plain": [
       "HTML(value='')"
      ]
     },
     "metadata": {},
     "output_type": "display_data"
    },
    {
     "data": {
      "text/markdown": [
       "$\\vec{j_2} = - \\phi_e \\bold{D_{me}} \\vec{\\nabla}c$, where $\\bold{D_{me}}$ is about $10^{-9} m^2/s^{-1}$"
      ],
      "text/plain": [
       "<IPython.core.display.Markdown object>"
      ]
     },
     "metadata": {},
     "output_type": "display_data"
    },
    {
     "data": {
      "application/vnd.jupyter.widget-view+json": {
       "model_id": "6d0426313cb64ca1b687883bfdf3f32b",
       "version_major": 2,
       "version_minor": 0
      },
      "text/plain": [
       "Dropdown(layout=Layout(width='300px'), options=('--- select ---', 'Advection term', 'Molecular diffusion term'…"
      ]
     },
     "metadata": {},
     "output_type": "display_data"
    },
    {
     "data": {
      "application/vnd.jupyter.widget-view+json": {
       "model_id": "4ebb5203d92a4ff79acbbdb5aa1dcd34",
       "version_major": 2,
       "version_minor": 0
      },
      "text/plain": [
       "HTML(value='')"
      ]
     },
     "metadata": {},
     "output_type": "display_data"
    },
    {
     "data": {
      "text/markdown": [
       "$\\vec{j_3} = - \\phi_e \\bold{D} \\vec{\\nabla}c$, where $\\bold{D}$ is a tensor : $D_{ij}=\\frac{1}{\\mid u \\mid} u_i u_j (\\alpha_l-\\alpha_t)$"
      ],
      "text/plain": [
       "<IPython.core.display.Markdown object>"
      ]
     },
     "metadata": {},
     "output_type": "display_data"
    },
    {
     "data": {
      "application/vnd.jupyter.widget-view+json": {
       "model_id": "76222808552748b3845d23fc099be805",
       "version_major": 2,
       "version_minor": 0
      },
      "text/plain": [
       "Dropdown(layout=Layout(width='300px'), options=('--- select ---', 'Advection term', 'Molecular diffusion term'…"
      ]
     },
     "metadata": {},
     "output_type": "display_data"
    },
    {
     "data": {
      "application/vnd.jupyter.widget-view+json": {
       "model_id": "60576266fabe42ed9cae689e52d89aa7",
       "version_major": 2,
       "version_minor": 0
      },
      "text/plain": [
       "HTML(value='')"
      ]
     },
     "metadata": {},
     "output_type": "display_data"
    },
    {
     "data": {
      "application/vnd.jupyter.widget-view+json": {
       "model_id": "e5007cc2b48c4701bdade4da096d1c9c",
       "version_major": 2,
       "version_minor": 0
      },
      "text/plain": [
       "Button(description='Submit', style=ButtonStyle())"
      ]
     },
     "metadata": {},
     "output_type": "display_data"
    },
    {
     "data": {
      "application/vnd.jupyter.widget-view+json": {
       "model_id": "78a52fa99322472986f12af5cd50b083",
       "version_major": 2,
       "version_minor": 0
      },
      "text/plain": [
       "Output()"
      ]
     },
     "metadata": {},
     "output_type": "display_data"
    }
   ],
   "source": [
    "transport_matching()"
   ]
  },
  {
   "cell_type": "markdown",
   "id": "4fc533ee",
   "metadata": {},
   "source": [
    "## Task 3 : Analytical solution to line injection\n",
    "\n",
    "The 2D analytical solution for the transport of an instantaneous line injection in uniform flow field is :\n",
    "\n",
    "$c(x,y,t)=\\frac{M/(\\phi_e m)}{2\\pi\\sqrt{2 D_L t \\cdot 2 D_T t}}\\exp{((-\\frac{(x-ut)^2}{4D_L t})-\\frac{(y)^2}{4D_T t})}$ \n",
    "\n",
    "where \n",
    "- $D_L=a_L u$ is the longitudinal mechanical dispersion coefficient\n",
    "- $D_T=a_T u$ is the transversal mechanical dispersion coefficient\n",
    "- $M$ is the pollutant mass\n",
    "- $u$ is the mean flow velocity \n",
    "- $m$ is the acquifer thickness\n",
    "- $\\phi_e$ is the effective porosity\n",
    "\n",
    "\n",
    "- **Manipulate the interactive plot to guess what effects have advection, diffusion and dispersion on the transport analytical solution:**"
   ]
  },
  {
   "cell_type": "code",
   "execution_count": null,
   "id": "d8067e02",
   "metadata": {},
   "outputs": [
    {
     "data": {
      "application/vnd.jupyter.widget-view+json": {
       "model_id": "e1ffe31f10ed45b993ea0257ff922fb0",
       "version_major": 2,
       "version_minor": 0
      },
      "text/plain": [
       "VBox(children=(FloatSlider(value=1.0, description='Seepage velocity u [m/d]', layout=Layout(width='400px'), ma…"
      ]
     },
     "metadata": {},
     "output_type": "display_data"
    },
    {
     "data": {
      "application/vnd.jupyter.widget-view+json": {
       "model_id": "8eaa5f62c58c4f05b6da1c2fa9680aa5",
       "version_major": 2,
       "version_minor": 0
      },
      "text/plain": [
       "Output()"
      ]
     },
     "metadata": {},
     "output_type": "display_data"
    },
    {
     "data": {
      "text/markdown": [
       "Translation of the peak location in time :"
      ],
      "text/plain": [
       "<IPython.core.display.Markdown object>"
      ]
     },
     "metadata": {},
     "output_type": "display_data"
    },
    {
     "data": {
      "application/vnd.jupyter.widget-view+json": {
       "model_id": "8380386d5d9544a9bc4642d67ab24d8a",
       "version_major": 2,
       "version_minor": 0
      },
      "text/plain": [
       "Dropdown(layout=Layout(width='300px'), options=('--- select ---', 'Diffusion and dispersion term', 'Advection …"
      ]
     },
     "metadata": {},
     "output_type": "display_data"
    },
    {
     "data": {
      "application/vnd.jupyter.widget-view+json": {
       "model_id": "b5c0d0a4916947a7867d13aa85697ad4",
       "version_major": 2,
       "version_minor": 0
      },
      "text/plain": [
       "HTML(value='')"
      ]
     },
     "metadata": {},
     "output_type": "display_data"
    },
    {
     "data": {
      "text/markdown": [
       "Change in the peak width (spread) with time :"
      ],
      "text/plain": [
       "<IPython.core.display.Markdown object>"
      ]
     },
     "metadata": {},
     "output_type": "display_data"
    },
    {
     "data": {
      "application/vnd.jupyter.widget-view+json": {
       "model_id": "979fe1426e2b4d97bc925f445b941ec5",
       "version_major": 2,
       "version_minor": 0
      },
      "text/plain": [
       "Dropdown(layout=Layout(width='300px'), options=('--- select ---', 'Diffusion and dispersion term', 'Advection …"
      ]
     },
     "metadata": {},
     "output_type": "display_data"
    },
    {
     "data": {
      "application/vnd.jupyter.widget-view+json": {
       "model_id": "c82e1cc301c4412ab05a48166d53d913",
       "version_major": 2,
       "version_minor": 0
      },
      "text/plain": [
       "HTML(value='')"
      ]
     },
     "metadata": {},
     "output_type": "display_data"
    },
    {
     "data": {
      "application/vnd.jupyter.widget-view+json": {
       "model_id": "e9271cde6bfd4d8f8247b80151fd9a63",
       "version_major": 2,
       "version_minor": 0
      },
      "text/plain": [
       "Button(description='Submit', style=ButtonStyle())"
      ]
     },
     "metadata": {},
     "output_type": "display_data"
    },
    {
     "data": {
      "application/vnd.jupyter.widget-view+json": {
       "model_id": "8d2936228928441a84a5595110d3dbf9",
       "version_major": 2,
       "version_minor": 0
      },
      "text/plain": [
       "Output()"
      ]
     },
     "metadata": {},
     "output_type": "display_data"
    }
   ],
   "source": [
    "transport_gaussian_plot()\n",
    "transport_observation_matching()"
   ]
  },
  {
   "cell_type": "markdown",
   "id": "05fd8aff",
   "metadata": {},
   "source": [
    "## Task 4 : Field analysis of tracer line injection\n",
    "\n",
    "In most of the case, there is only one monitoring field. \n",
    "So it is not possible to interpolate an analytical solution of the concentration spatial profile, but only a temporal profile at the well.\n",
    "\n",
    "In our field experiment : \n",
    "- Flow : it can be assumed to be uniform. \n",
    "- Solute release : 10 kg of a water soluble substance is released in a Well 1. It is highly mobile well mixed in a\n",
    "very short time inside the Well 1, such that it behaves lake an instantaneous release of an ideal tracer. \n",
    "- Observation well : at a distance of 400 m from Well 1 is located Well 2, where the concentration in solute is meased in time.\n",
    "\n",
    "Available data:\n",
    "- Mean flow velocity $u$ = 10 m/day.\n",
    "- Groundwater table $h$ = 50 m (reference datum z = 0 set at the bottom of the aquifer).\n",
    "- Effective porosity $\\phi_e$ = 0.2.\n",
    "- Longitudinal dispersivity $\\alpha_l$ = 10 m.\n",
    "- Transversal dispersivity $\\alpha_t$ = 0.1 m.\n"
   ]
  },
  {
   "cell_type": "markdown",
   "id": "d784e64a",
   "metadata": {},
   "source": [
    "### Task 4.1:\n",
    "- **From the three plots below, which one do you think could be representing the concentration of solute in Well 2 given the mean flow velocity?**"
   ]
  },
  {
   "cell_type": "code",
   "execution_count": 5,
   "id": "1c2bbb47",
   "metadata": {},
   "outputs": [
    {
     "data": {
      "application/vnd.jupyter.widget-view+json": {
       "model_id": "341977c5915149be9af1edbe764dbed6",
       "version_major": 2,
       "version_minor": 0
      },
      "text/plain": [
       "HBox(children=(Dropdown(description='Select:', layout=Layout(width='150px'), options=('a', 'b', 'c'), value=No…"
      ]
     },
     "metadata": {},
     "output_type": "display_data"
    },
    {
     "data": {
      "application/vnd.jupyter.widget-view+json": {
       "model_id": "a6da0e23039343678620cc4ebef526b8",
       "version_major": 2,
       "version_minor": 0
      },
      "text/plain": [
       "Output()"
      ]
     },
     "metadata": {},
     "output_type": "display_data"
    },
    {
     "data": {
      "image/png": "[encoded data removed]",
      "text/plain": [
       "<Figure size 1200x500 with 3 Axes>"
      ]
     },
     "metadata": {},
     "output_type": "display_data"
    }
   ],
   "source": [
    "question_tracer_propagation_plot()"
   ]
  },
  {
   "cell_type": "markdown",
   "id": "20576015",
   "metadata": {},
   "source": [
    "### Task 4.2 : \n",
    "Now we know which curves show the time evolution of solute concentration in well 2, we can extract some more information regarding the contamination that occured in the field. The reference concentration treshold is 0.05 mg/L.\n",
    "\n",
    "- **Derive the required contamination indicators** (maximum concentration at observation well and time span above limit concentration):"
   ]
  },
  {
   "cell_type": "code",
   "execution_count": 6,
   "id": "14a7b88e",
   "metadata": {},
   "outputs": [
    {
     "data": {
      "image/png": "[encoded data removed]",
      "text/plain": [
       "<Figure size 500x600 with 1 Axes>"
      ]
     },
     "metadata": {},
     "output_type": "display_data"
    },
    {
     "data": {
      "text/markdown": [
       "From the concentration curve (b), determine:"
      ],
      "text/plain": [
       "<IPython.core.display.Markdown object>"
      ]
     },
     "metadata": {},
     "output_type": "display_data"
    },
    {
     "data": {
      "application/vnd.jupyter.widget-view+json": {
       "model_id": "8fa47cf487c84ef1a279929a6bfa80e2",
       "version_major": 2,
       "version_minor": 0
      },
      "text/plain": [
       "FloatText(value=0.0, description='Maximum concentration [mg/L]:', layout=Layout(width='500px'), style=Descript…"
      ]
     },
     "metadata": {},
     "output_type": "display_data"
    },
    {
     "data": {
      "application/vnd.jupyter.widget-view+json": {
       "model_id": "0c81aa85a54346b493ba17143e6f4edb",
       "version_major": 2,
       "version_minor": 0
      },
      "text/plain": [
       "FloatText(value=0.0, description='Time span above reference concentration [days]:', layout=Layout(width='500px…"
      ]
     },
     "metadata": {},
     "output_type": "display_data"
    },
    {
     "data": {
      "application/vnd.jupyter.widget-view+json": {
       "model_id": "f567a508cda045dc94e26a55e4c781ae",
       "version_major": 2,
       "version_minor": 0
      },
      "text/plain": [
       "Button(description='Submit', style=ButtonStyle())"
      ]
     },
     "metadata": {},
     "output_type": "display_data"
    },
    {
     "data": {
      "application/vnd.jupyter.widget-view+json": {
       "model_id": "7c2a73a6bb3d4d2a949eba20e6efede0",
       "version_major": 2,
       "version_minor": 0
      },
      "text/plain": [
       "Output()"
      ]
     },
     "metadata": {},
     "output_type": "display_data"
    }
   ],
   "source": [
    "plot_curve_and_question_estimation()"
   ]
  }
 ],
 "metadata": {
  "kernelspec": {
   "display_name": "gw_course_students",
   "language": "python",
   "name": "python3"
  },
  "language_info": {
   "codemirror_mode": {
    "name": "ipython",
    "version": 3
   },
   "file_extension": ".py",
   "mimetype": "text/x-python",
   "name": "python",
   "nbconvert_exporter": "python",
   "pygments_lexer": "ipython3",
   "version": "3.12.11"
  }
 },
 "nbformat": 4,
 "nbformat_minor": 5
}
