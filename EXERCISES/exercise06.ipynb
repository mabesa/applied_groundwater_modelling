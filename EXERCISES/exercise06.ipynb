{
 "cells": [
  {
   "cell_type": "code",
   "execution_count": 1,
   "id": "ea02c32e",
   "metadata": {},
   "outputs": [],
   "source": [
    "# Setting up the notebook\n",
    "import sys\n",
    "import os\n",
    "\n",
    "# Import local libraries\n",
    "sys.path.append('../SUPPORT_REPO/src/scripts/scripts_exercises')\n",
    "from formulation_problems import transport_matching, transport_observation_matching, transport_gaussian_plot"
   ]
  },
  {
   "cell_type": "markdown",
   "id": "e321dc59",
   "metadata": {},
   "source": [
    "# Exercise 5 : transport problems\n"
   ]
  },
  {
   "cell_type": "markdown",
   "id": "7f098ef6",
   "metadata": {},
   "source": [
    "## Part 1 : transport mathematical formulation\n",
    "\n",
    "\n",
    "The transport equation formulation is the following :\n",
    "\n",
    "$\\partial_t c_{tot} (x,y,z,t) = - \\Delta \\cdot \\Sigma \\left( \\vec{j_i}(x,y,z,t) \\right) +P(x,y,z,t)$\n",
    "\n",
    "Where the terms $\\vec{j_i}$ refer to the possible mass fluxes : advection, diffusion and dispersion; and $P$ to possible production terms.\n",
    "\n",
    "Your task in this part is to associate the correct mathematical formulation to each term."
   ]
  },
  {
   "cell_type": "code",
   "execution_count": 2,
   "id": "93cdfb33",
   "metadata": {},
   "outputs": [
    {
     "data": {
      "text/markdown": [
       "$\\vec{j_1} = \\phi_e \\vec{u} c = \\vec{q} c$"
      ],
      "text/plain": [
       "<IPython.core.display.Markdown object>"
      ]
     },
     "metadata": {},
     "output_type": "display_data"
    },
    {
     "data": {
      "application/vnd.jupyter.widget-view+json": {
       "model_id": "67d1c8159ecd4c69bca6d154f6eaa41c",
       "version_major": 2,
       "version_minor": 0
      },
      "text/plain": [
       "Dropdown(layout=Layout(width='300px'), options=('--- select ---', 'Dispersion term', 'Molecular diffusion term…"
      ]
     },
     "metadata": {},
     "output_type": "display_data"
    },
    {
     "data": {
      "application/vnd.jupyter.widget-view+json": {
       "model_id": "d11f19e99f28475f835dcc62830675a6",
       "version_major": 2,
       "version_minor": 0
      },
      "text/plain": [
       "HTML(value='')"
      ]
     },
     "metadata": {},
     "output_type": "display_data"
    },
    {
     "data": {
      "text/markdown": [
       "$\\vec{j_2} = - \\phi_e \\bold{D_{me}} \\vec{\\nabla}c$"
      ],
      "text/plain": [
       "<IPython.core.display.Markdown object>"
      ]
     },
     "metadata": {},
     "output_type": "display_data"
    },
    {
     "data": {
      "application/vnd.jupyter.widget-view+json": {
       "model_id": "d456814bcd714c9e9fbe331ad94163d1",
       "version_major": 2,
       "version_minor": 0
      },
      "text/plain": [
       "Dropdown(layout=Layout(width='300px'), options=('--- select ---', 'Dispersion term', 'Molecular diffusion term…"
      ]
     },
     "metadata": {},
     "output_type": "display_data"
    },
    {
     "data": {
      "application/vnd.jupyter.widget-view+json": {
       "model_id": "61e3620540514bf787036f93631bb2d9",
       "version_major": 2,
       "version_minor": 0
      },
      "text/plain": [
       "HTML(value='')"
      ]
     },
     "metadata": {},
     "output_type": "display_data"
    },
    {
     "data": {
      "text/markdown": [
       "$\\vec{j_3} = - \\phi_e \\bold{D} \\vec{\\nabla}c$"
      ],
      "text/plain": [
       "<IPython.core.display.Markdown object>"
      ]
     },
     "metadata": {},
     "output_type": "display_data"
    },
    {
     "data": {
      "application/vnd.jupyter.widget-view+json": {
       "model_id": "7d42a60241c647d4a38a80c84c126e6e",
       "version_major": 2,
       "version_minor": 0
      },
      "text/plain": [
       "Dropdown(layout=Layout(width='300px'), options=('--- select ---', 'Dispersion term', 'Molecular diffusion term…"
      ]
     },
     "metadata": {},
     "output_type": "display_data"
    },
    {
     "data": {
      "application/vnd.jupyter.widget-view+json": {
       "model_id": "395280fa08d24fe59646f96738b0548f",
       "version_major": 2,
       "version_minor": 0
      },
      "text/plain": [
       "HTML(value='')"
      ]
     },
     "metadata": {},
     "output_type": "display_data"
    },
    {
     "data": {
      "application/vnd.jupyter.widget-view+json": {
       "model_id": "195e63f1bc244d58ace212c3c85870b0",
       "version_major": 2,
       "version_minor": 0
      },
      "text/plain": [
       "Button(description='Submit', style=ButtonStyle())"
      ]
     },
     "metadata": {},
     "output_type": "display_data"
    },
    {
     "data": {
      "application/vnd.jupyter.widget-view+json": {
       "model_id": "450febc6132e40afb6a9051e307c9700",
       "version_major": 2,
       "version_minor": 0
      },
      "text/plain": [
       "Output()"
      ]
     },
     "metadata": {},
     "output_type": "display_data"
    }
   ],
   "source": [
    "transport_matching()"
   ]
  },
  {
   "cell_type": "markdown",
   "id": "4650323f",
   "metadata": {},
   "source": [
    "## Part 2 : instantaneous source transport\n",
    "\n",
    "In this part, the transport of an instantaneous injection of solute is presented in an interactive plot.\n",
    "\n",
    "Helped by it, you should be able to guess what the impacts have advection, diffusion and dispersion on the concentration curve dynamics."
   ]
  },
  {
   "cell_type": "code",
   "execution_count": null,
   "id": "d8067e02",
   "metadata": {},
   "outputs": [
    {
     "data": {
      "application/vnd.jupyter.widget-view+json": {
       "model_id": "5511ab6ad2674adcbffd854ed3e2bbf8",
       "version_major": 2,
       "version_minor": 0
      },
      "text/plain": [
       "VBox(children=(FloatSlider(value=1.0, description='Seepage velocity u [m/d]', layout=Layout(width='400px'), ma…"
      ]
     },
     "metadata": {},
     "output_type": "display_data"
    },
    {
     "data": {
      "application/vnd.jupyter.widget-view+json": {
       "model_id": "a240fc2c5100413d8b4d31c303a6df1d",
       "version_major": 2,
       "version_minor": 0
      },
      "text/plain": [
       "Output()"
      ]
     },
     "metadata": {},
     "output_type": "display_data"
    }
   ],
   "source": [
    "transport_gaussian_plot()"
   ]
  },
  {
   "cell_type": "code",
   "execution_count": 4,
   "id": "60d587e2",
   "metadata": {},
   "outputs": [
    {
     "data": {
      "text/markdown": [
       "Translation of the peak location in time"
      ],
      "text/plain": [
       "<IPython.core.display.Markdown object>"
      ]
     },
     "metadata": {},
     "output_type": "display_data"
    },
    {
     "data": {
      "application/vnd.jupyter.widget-view+json": {
       "model_id": "47f875a320024a39a071a057665301fd",
       "version_major": 2,
       "version_minor": 0
      },
      "text/plain": [
       "Dropdown(layout=Layout(width='300px'), options=('--- select ---', 'Dispersion term', 'Molecular diffusion term…"
      ]
     },
     "metadata": {},
     "output_type": "display_data"
    },
    {
     "data": {
      "application/vnd.jupyter.widget-view+json": {
       "model_id": "17cd63a569d6423ca06ceacb6c907c45",
       "version_major": 2,
       "version_minor": 0
      },
      "text/plain": [
       "HTML(value='')"
      ]
     },
     "metadata": {},
     "output_type": "display_data"
    },
    {
     "data": {
      "text/markdown": [
       "Change in the peak width with time"
      ],
      "text/plain": [
       "<IPython.core.display.Markdown object>"
      ]
     },
     "metadata": {},
     "output_type": "display_data"
    },
    {
     "data": {
      "application/vnd.jupyter.widget-view+json": {
       "model_id": "34ec91f74e714e4ea3f2162930e39d64",
       "version_major": 2,
       "version_minor": 0
      },
      "text/plain": [
       "Dropdown(layout=Layout(width='300px'), options=('--- select ---', 'Dispersion term', 'Molecular diffusion term…"
      ]
     },
     "metadata": {},
     "output_type": "display_data"
    },
    {
     "data": {
      "application/vnd.jupyter.widget-view+json": {
       "model_id": "a7beeab31f2d435cb7d58cef755d3095",
       "version_major": 2,
       "version_minor": 0
      },
      "text/plain": [
       "HTML(value='')"
      ]
     },
     "metadata": {},
     "output_type": "display_data"
    },
    {
     "data": {
      "text/markdown": [
       "Change in the signal integral with time"
      ],
      "text/plain": [
       "<IPython.core.display.Markdown object>"
      ]
     },
     "metadata": {},
     "output_type": "display_data"
    },
    {
     "data": {
      "application/vnd.jupyter.widget-view+json": {
       "model_id": "af4fc7e7636b466faa5f0d44b0b91de4",
       "version_major": 2,
       "version_minor": 0
      },
      "text/plain": [
       "Dropdown(layout=Layout(width='300px'), options=('--- select ---', 'Dispersion term', 'Molecular diffusion term…"
      ]
     },
     "metadata": {},
     "output_type": "display_data"
    },
    {
     "data": {
      "application/vnd.jupyter.widget-view+json": {
       "model_id": "264e3101cb364cdfa9f7578fba2eb370",
       "version_major": 2,
       "version_minor": 0
      },
      "text/plain": [
       "HTML(value='')"
      ]
     },
     "metadata": {},
     "output_type": "display_data"
    },
    {
     "data": {
      "application/vnd.jupyter.widget-view+json": {
       "model_id": "30ac25a9ed1d4bf9a45425856cb7c03d",
       "version_major": 2,
       "version_minor": 0
      },
      "text/plain": [
       "Button(description='Submit', style=ButtonStyle())"
      ]
     },
     "metadata": {},
     "output_type": "display_data"
    },
    {
     "data": {
      "application/vnd.jupyter.widget-view+json": {
       "model_id": "438c05d77a3e4aecb6ff35e7b389fbc4",
       "version_major": 2,
       "version_minor": 0
      },
      "text/plain": [
       "Output()"
      ]
     },
     "metadata": {},
     "output_type": "display_data"
    }
   ],
   "source": [
    "transport_observation_matching()"
   ]
  },
  {
   "cell_type": "markdown",
   "id": "6b16f546",
   "metadata": {},
   "source": [
    "## Part 3 : instantaneous source transport -- ToDo\n",
    "\n"
   ]
  },
  {
   "cell_type": "markdown",
   "id": "cb453dc5",
   "metadata": {},
   "source": []
  }
 ],
 "metadata": {
  "kernelspec": {
   "display_name": "gw_course_students",
   "language": "python",
   "name": "python3"
  },
  "language_info": {
   "codemirror_mode": {
    "name": "ipython",
    "version": 3
   },
   "file_extension": ".py",
   "mimetype": "text/x-python",
   "name": "python",
   "nbconvert_exporter": "python",
   "pygments_lexer": "ipython3",
   "version": "3.12.11"
  }
 },
 "nbformat": 4,
 "nbformat_minor": 5
}
