{
 "cells": [
  {
   "cell_type": "code",
   "execution_count": 1,
   "id": "ea02c32e",
   "metadata": {},
   "outputs": [],
   "source": [
    "# Setting up the notebook\n",
    "import sys\n",
    "import os\n",
    "\n",
    "# Import local libraries\n",
    "sys.path.append('../SUPPORT_REPO/src/scripts/scripts_exercises')\n",
    "from formulation_problems import transport_matching, transport_observation_matching"
   ]
  },
  {
   "cell_type": "markdown",
   "id": "e321dc59",
   "metadata": {},
   "source": [
    "# Exercise 5 : flow problems\n",
    "\n",
    "The transport equation formulation is the following :\n",
    "\n",
    "$\\partial_t c_{tot} (x,y,z,t) = - \\Delta \\cdot \\Sigma \\left( \\vec{j_i}(x,y,z,t) \\right) +P(x,y,z,t)$\n",
    "\n",
    "Where the terms $\\vec{j_i}$ refer to the possible mass fluxes : advection, diffusion and dispersion; and $P$ to possible production terms."
   ]
  },
  {
   "cell_type": "code",
   "execution_count": 2,
   "id": "93cdfb33",
   "metadata": {},
   "outputs": [
    {
     "data": {
      "text/markdown": [
       "$\\vec{j_1} = \\phi_e \\vec{u} c = \\vec{q} c$"
      ],
      "text/plain": [
       "<IPython.core.display.Markdown object>"
      ]
     },
     "metadata": {},
     "output_type": "display_data"
    },
    {
     "data": {
      "application/vnd.jupyter.widget-view+json": {
       "model_id": "aa71b580d42443aea26417d71c5ab93a",
       "version_major": 2,
       "version_minor": 0
      },
      "text/plain": [
       "Dropdown(layout=Layout(width='300px'), options=('--- select ---', 'Advection term', 'Molecular diffusion term'…"
      ]
     },
     "metadata": {},
     "output_type": "display_data"
    },
    {
     "data": {
      "application/vnd.jupyter.widget-view+json": {
       "model_id": "4561726a82834e6fac6c06a5da7cb1ca",
       "version_major": 2,
       "version_minor": 0
      },
      "text/plain": [
       "HTML(value='')"
      ]
     },
     "metadata": {},
     "output_type": "display_data"
    },
    {
     "data": {
      "text/markdown": [
       "$\\vec{j_2} = - \\phi_e \\bold{D_{me}} \\vec{\\nabla}c$"
      ],
      "text/plain": [
       "<IPython.core.display.Markdown object>"
      ]
     },
     "metadata": {},
     "output_type": "display_data"
    },
    {
     "data": {
      "application/vnd.jupyter.widget-view+json": {
       "model_id": "a24e7b46b19c4ab68ce1586ec260679e",
       "version_major": 2,
       "version_minor": 0
      },
      "text/plain": [
       "Dropdown(layout=Layout(width='300px'), options=('--- select ---', 'Advection term', 'Molecular diffusion term'…"
      ]
     },
     "metadata": {},
     "output_type": "display_data"
    },
    {
     "data": {
      "application/vnd.jupyter.widget-view+json": {
       "model_id": "e1f3cab44e1f40a998569ec0123104f7",
       "version_major": 2,
       "version_minor": 0
      },
      "text/plain": [
       "HTML(value='')"
      ]
     },
     "metadata": {},
     "output_type": "display_data"
    },
    {
     "data": {
      "text/markdown": [
       "$\\vec{j_3} = - \\phi_e \\bold{D} \\vec{\\nabla}c$"
      ],
      "text/plain": [
       "<IPython.core.display.Markdown object>"
      ]
     },
     "metadata": {},
     "output_type": "display_data"
    },
    {
     "data": {
      "application/vnd.jupyter.widget-view+json": {
       "model_id": "a93882d3946e462ebd0023aa4e56f676",
       "version_major": 2,
       "version_minor": 0
      },
      "text/plain": [
       "Dropdown(layout=Layout(width='300px'), options=('--- select ---', 'Advection term', 'Molecular diffusion term'…"
      ]
     },
     "metadata": {},
     "output_type": "display_data"
    },
    {
     "data": {
      "application/vnd.jupyter.widget-view+json": {
       "model_id": "08fc78c10f034d57b5ed0ab6e7a96493",
       "version_major": 2,
       "version_minor": 0
      },
      "text/plain": [
       "HTML(value='')"
      ]
     },
     "metadata": {},
     "output_type": "display_data"
    },
    {
     "data": {
      "application/vnd.jupyter.widget-view+json": {
       "model_id": "12123da71fc6416b9605b3a2c17415d3",
       "version_major": 2,
       "version_minor": 0
      },
      "text/plain": [
       "Button(description='Submit', style=ButtonStyle())"
      ]
     },
     "metadata": {},
     "output_type": "display_data"
    },
    {
     "data": {
      "application/vnd.jupyter.widget-view+json": {
       "model_id": "b38cde3fb9814463a6927f3408af3413",
       "version_major": 2,
       "version_minor": 0
      },
      "text/plain": [
       "Output()"
      ]
     },
     "metadata": {},
     "output_type": "display_data"
    }
   ],
   "source": [
    "transport_matching()"
   ]
  },
  {
   "cell_type": "code",
   "execution_count": null,
   "id": "d8067e02",
   "metadata": {},
   "outputs": [
    {
     "data": {
      "application/vnd.jupyter.widget-view+json": {
       "model_id": "d2880e99244d4863b04f0bbb79ca57c0",
       "version_major": 2,
       "version_minor": 0
      },
      "text/plain": [
       "VBox(children=(FloatSlider(value=1.0, description='Seepage velocity [m/d]', layout=Layout(width='400px'), max=…"
      ]
     },
     "metadata": {},
     "output_type": "display_data"
    },
    {
     "data": {
      "application/vnd.jupyter.widget-view+json": {
       "model_id": "a2cfb30b7ba64ab499c620b9f09aea5e",
       "version_major": 2,
       "version_minor": 0
      },
      "text/plain": [
       "Output()"
      ]
     },
     "metadata": {},
     "output_type": "display_data"
    }
   ],
   "source": [
    "import numpy as np\n",
    "import matplotlib.pyplot as plt\n",
    "import ipywidgets as widgets\n",
    "from IPython.display import display\n",
    "\n",
    "def c_x_t_curve(v=1.0, D=0.05, alpha=1.0, t=1.0, M=1.0, phi_0=0.3, R=1.0, x_range=(0, 100), n_points=200):\n",
    "    \"\"\"\n",
    "    Returns x, c(x,t) arrays for given parameters for an instantaneous source solution.\n",
    "    \"\"\"\n",
    "    x = np.linspace(*x_range, n_points)\n",
    "    D_L = D + alpha * v  # Effective dispersion\n",
    "\n",
    "    if t == 0:\n",
    "        c = np.zeros_like(x)\n",
    "        idx = np.argmin(np.abs(x))  # Approximate delta function at x=0\n",
    "        c[idx] = M / (R * phi_0)  \n",
    "        return x, c\n",
    "\n",
    "    factor1 = M / (R * phi_0 * np.sqrt(4 * np.pi * D_L * t / R))\n",
    "    exponent = -((x - v * t / R) ** 2) / (4 * D_L * t / R)\n",
    "    c = factor1 * np.exp(exponent)\n",
    "    return x, c\n",
    "\n",
    "# Fixed y max value using t=0.01 to avoid delta peak\n",
    "x_fixed, c_fixed = c_x_t_curve(t=0.5)\n",
    "c_fixed_max = np.max(c_fixed)\n",
    "\n",
    "def plot_cx_t_interactive(v, D, alpha, t):\n",
    "    x, c = c_x_t_curve(v, D, alpha, t)\n",
    "\n",
    "    # Observation wells at specific x positions\n",
    "    obs_x = [10, 30, 50, 70]\n",
    "    obs_c = np.interp(obs_x, x, c)  # interpolate values at those x\n",
    "\n",
    "    fig, ax = plt.subplots(figsize=(10, 5))\n",
    "    ax.plot(x, c, label=f'$c(x, t={t:.1f} \\\\ \\\\mathrm{{d}})$', color='blue')\n",
    "    ax.scatter(obs_x, obs_c, color='red', zorder=5, label='Observation wells')\n",
    "    ax.plot(obs_x, obs_c, color='red', linestyle='--', linewidth=1, label='Interpolation')\n",
    "\n",
    "    ax.set_xlabel('$x$ [m]')\n",
    "    ax.set_ylabel('$c(x,t)$ [mass / volume]')\n",
    "    ax.set_title('Instantaneous Source Transport: $c(x,t)$')\n",
    "    ax.legend(loc='upper right')\n",
    "    ax.grid(True)\n",
    "    ax.set_xlim(0, 30)  # x-axis limits\n",
    "    ax.set_ylim(0, 1 * c_fixed_max)  # fixed y-axis based on peak\n",
    "    plt.show()\n",
    "\n",
    "def interactive_cx_t():\n",
    "    v_slider = widgets.FloatSlider(value=1.0, min=0.1, max=3, step=0.2,\n",
    "                                   description='Seepage velocity [m/d]', layout=widgets.Layout(width='400px'))\n",
    "    D_slider = widgets.FloatSlider(value=0.1, min=0.001, max=1.0, step=0.1,\n",
    "                                   description='Diffusion coefficient D [m²/d]', layout=widgets.Layout(width='400px'))\n",
    "    alpha_slider = widgets.FloatSlider(value=1.0, min=0.1, max=3, step=0.2,\n",
    "                                       description='Dispersivity α [m]', layout=widgets.Layout(width='400px'))\n",
    "    t_slider = widgets.FloatSlider(value=0.1, min=0, max=50.0, step=0.05,\n",
    "                                   description='Time t [d]', layout=widgets.Layout(width='400px'))\n",
    "\n",
    "    ui = widgets.VBox([v_slider, D_slider, alpha_slider, t_slider])\n",
    "    out = widgets.interactive_output(plot_cx_t_interactive, {\n",
    "        'v': v_slider, 'D': D_slider, 'alpha': alpha_slider, 't': t_slider\n",
    "    })\n",
    "    display(ui, out)\n",
    "\n",
    "# Call this in a Jupyter Notebook cell:\n",
    "interactive_cx_t()\n"
   ]
  },
  {
   "cell_type": "code",
   "execution_count": 4,
   "id": "60d587e2",
   "metadata": {},
   "outputs": [
    {
     "data": {
      "text/markdown": [
       "Translation of the gaussian mean position with time"
      ],
      "text/plain": [
       "<IPython.core.display.Markdown object>"
      ]
     },
     "metadata": {},
     "output_type": "display_data"
    },
    {
     "data": {
      "application/vnd.jupyter.widget-view+json": {
       "model_id": "ae11112b53484930bab2605cf299be1f",
       "version_major": 2,
       "version_minor": 0
      },
      "text/plain": [
       "Dropdown(layout=Layout(width='300px'), options=('--- select ---', 'Dispersion term', 'Molecular diffusion term…"
      ]
     },
     "metadata": {},
     "output_type": "display_data"
    },
    {
     "data": {
      "application/vnd.jupyter.widget-view+json": {
       "model_id": "2597b412503e4ac6a4aec6462cfc18e1",
       "version_major": 2,
       "version_minor": 0
      },
      "text/plain": [
       "HTML(value='')"
      ]
     },
     "metadata": {},
     "output_type": "display_data"
    },
    {
     "data": {
      "text/markdown": [
       "Change in the Gaussian integral with time"
      ],
      "text/plain": [
       "<IPython.core.display.Markdown object>"
      ]
     },
     "metadata": {},
     "output_type": "display_data"
    },
    {
     "data": {
      "application/vnd.jupyter.widget-view+json": {
       "model_id": "9d997254a8264ea99b31e2d82723ac32",
       "version_major": 2,
       "version_minor": 0
      },
      "text/plain": [
       "Dropdown(layout=Layout(width='300px'), options=('--- select ---', 'Dispersion term', 'Molecular diffusion term…"
      ]
     },
     "metadata": {},
     "output_type": "display_data"
    },
    {
     "data": {
      "application/vnd.jupyter.widget-view+json": {
       "model_id": "5cdf3ea03e6a4a8d812f4d7b006e8faa",
       "version_major": 2,
       "version_minor": 0
      },
      "text/plain": [
       "HTML(value='')"
      ]
     },
     "metadata": {},
     "output_type": "display_data"
    },
    {
     "data": {
      "text/markdown": [
       "Change in the Gaussian width with time"
      ],
      "text/plain": [
       "<IPython.core.display.Markdown object>"
      ]
     },
     "metadata": {},
     "output_type": "display_data"
    },
    {
     "data": {
      "application/vnd.jupyter.widget-view+json": {
       "model_id": "d301cc4840724af1b404f9354b74c023",
       "version_major": 2,
       "version_minor": 0
      },
      "text/plain": [
       "Dropdown(layout=Layout(width='300px'), options=('--- select ---', 'Dispersion term', 'Molecular diffusion term…"
      ]
     },
     "metadata": {},
     "output_type": "display_data"
    },
    {
     "data": {
      "application/vnd.jupyter.widget-view+json": {
       "model_id": "77fa3e1e762345fc9e6164b81cae4465",
       "version_major": 2,
       "version_minor": 0
      },
      "text/plain": [
       "HTML(value='')"
      ]
     },
     "metadata": {},
     "output_type": "display_data"
    },
    {
     "data": {
      "application/vnd.jupyter.widget-view+json": {
       "model_id": "c6c895b62ac8454f8671f1971465cd5a",
       "version_major": 2,
       "version_minor": 0
      },
      "text/plain": [
       "Button(description='Submit', style=ButtonStyle())"
      ]
     },
     "metadata": {},
     "output_type": "display_data"
    },
    {
     "data": {
      "application/vnd.jupyter.widget-view+json": {
       "model_id": "5d7e7418ccc842ca8d94445e20b9f621",
       "version_major": 2,
       "version_minor": 0
      },
      "text/plain": [
       "Output()"
      ]
     },
     "metadata": {},
     "output_type": "display_data"
    }
   ],
   "source": [
    "transport_observation_matching()"
   ]
  },
  {
   "cell_type": "code",
   "execution_count": null,
   "id": "6b16f546",
   "metadata": {},
   "outputs": [],
   "source": []
  }
 ],
 "metadata": {
  "kernelspec": {
   "display_name": "gw_course_students",
   "language": "python",
   "name": "python3"
  },
  "language_info": {
   "codemirror_mode": {
    "name": "ipython",
    "version": 3
   },
   "file_extension": ".py",
   "mimetype": "text/x-python",
   "name": "python",
   "nbconvert_exporter": "python",
   "pygments_lexer": "ipython3",
   "version": "3.12.11"
  }
 },
 "nbformat": 4,
 "nbformat_minor": 5
}
