{
 "cells": [
  {
   "cell_type": "markdown",
   "id": "cb902b5c",
   "metadata": {},
   "source": [
    "# Accessibility Features Demo\n",
    "\n",
    "This notebook demonstrates the new accessibility switch functionality for the Applied Groundwater Modeling course.\n",
    "\n",
    "## Key Features:\n",
    "- **Toggle accessibility mode** on/off based on user preference\n",
    "- **Conditional display** of accessibility features (alt-text, learning context, etc.)\n",
    "- **Clean interface** when accessibility features are disabled\n",
    "- **Enhanced experience** when accessibility features are enabled"
   ]
  },
  {
   "cell_type": "code",
   "execution_count": null,
   "id": "99e67b37",
   "metadata": {},
   "outputs": [],
   "source": [
    "# Import required libraries\n",
    "import sys\n",
    "import os\n",
    "\n",
    "# Add paths for accessing course modules\n",
    "sys.path.append('src')\n",
    "sys.path.append('src/scripts/scripts_exercises')\n",
    "\n",
    "# Import accessibility configuration and image display functions\n",
    "from accessibility_config import create_accessibility_switch\n",
    "from print_images import display_image, display_figure_with_context\n",
    "from accessible_content import (\n",
    "    display_example_box, \n",
    "    display_exercise_box, \n",
    "    display_theory_box, \n",
    "    display_furtherthinking_box\n",
    ")\n",
    "\n",
    "# Load project styles\n",
    "from style_utils import load_project_styles\n",
    "load_project_styles()"
   ]
  },
  {
   "cell_type": "markdown",
   "id": "56addb45",
   "metadata": {},
   "source": [
    "## 🔧 Accessibility Control Panel\n",
    "\n",
    "**Instructions:** Use the toggle below to enable/disable accessibility features, then run the image display examples to see the difference.\n",
    "\n",
    "- **When OFF:** Images display with minimal information (clean, simple interface)\n",
    "- **When ON:** Images display with alt-text, learning context, enhanced error messages, and other accessibility features"
   ]
  },
  {
   "cell_type": "code",
   "execution_count": null,
   "id": "0f0c99ca",
   "metadata": {},
   "outputs": [],
   "source": [
    "# Create and display the accessibility control panel\n",
    "accessibility_switch = create_accessibility_switch()\n",
    "display(accessibility_switch)"
   ]
  },
  {
   "cell_type": "markdown",
   "id": "c4eba009",
   "metadata": {},
   "source": [
    "## Example 1: Basic Image Display\n",
    "\n",
    "This demonstrates how `display_image()` behaves with and without accessibility mode."
   ]
  },
  {
   "cell_type": "code",
   "execution_count": null,
   "id": "4784547a",
   "metadata": {},
   "outputs": [],
   "source": [
    "# Basic image display - behavior changes based on accessibility mode\n",
    "display_image(\n",
    "    \"SwissTopoTsaletCatchment.png\",\n",
    "    alt_text=\"Topographic map showing the Tsalet catchment boundary in Wallis, Switzerland, with elevation contours and watershed delineation clearly marked\",\n",
    "    caption=\"Figure 1: Tsalet Catchment - Swiss Federal Office Topographic Map\",\n",
    "    educational_context=\"This map is essential for understanding catchment delineation, which forms the foundation of groundwater balance calculations in Exercise 1.\"\n",
    ")"
   ]
  },
  {
   "cell_type": "markdown",
   "id": "e7eb9d4f",
   "metadata": {},
   "source": [
    "## Example 2: Comprehensive Figure Display\n",
    "\n",
    "This shows `display_figure_with_context()` with different accessibility settings."
   ]
  },
  {
   "cell_type": "code",
   "execution_count": null,
   "id": "31f444a9",
   "metadata": {},
   "outputs": [],
   "source": [
    "# Comprehensive figure display with full context\n",
    "display_figure_with_context(\n",
    "    image_filename=\"DarcyExperimentSetup.png\",\n",
    "    figure_number=2,\n",
    "    caption=\"Darcy's Law Experimental Setup\",\n",
    "    description=\"Laboratory setup showing the classic Darcy experiment with sand column, water reservoirs, and measurement devices for determining hydraulic conductivity\",\n",
    "    learning_objective=\"Understanding the physical basis of Darcy's Law and how hydraulic conductivity is measured experimentally\",\n",
    "    source=\"Course Materials - Applied Groundwater Modeling\"\n",
    ")"
   ]
  },
  {
   "cell_type": "markdown",
   "id": "f2bf112a",
   "metadata": {},
   "source": [
    "## Example 3: Error Handling Demonstration\n",
    "\n",
    "This shows how error messages change based on accessibility settings."
   ]
  },
  {
   "cell_type": "code",
   "execution_count": null,
   "id": "bc2eb01d",
   "metadata": {},
   "outputs": [],
   "source": [
    "# This will demonstrate error handling (image doesn't exist)\n",
    "display_image(\n",
    "    \"nonexistent_image.png\",\n",
    "    alt_text=\"This image doesn't exist, so you'll see different error messages based on accessibility mode\",\n",
    "    educational_context=\"Demonstrating how accessibility mode affects error message detail and helpfulness\"\n",
    ")"
   ]
  },
  {
   "cell_type": "markdown",
   "id": "77305278",
   "metadata": {},
   "source": [
    "## How This Works\n",
    "\n",
    "### Without Accessibility Mode:\n",
    "- Images display cleanly without extra text\n",
    "- Simple error messages\n",
    "- Standard figure sizes\n",
    "- Minimal interface elements\n",
    "\n",
    "### With Accessibility Mode:\n",
    "- **Alt-text descriptions** displayed visually\n",
    "- **Learning context boxes** showing educational objectives\n",
    "- **Enhanced error messages** with troubleshooting steps\n",
    "- **Larger figure sizes** for better visibility\n",
    "- **Source citations** and detailed captions\n",
    "\n",
    "### Benefits:\n",
    "1. **User Choice:** Each user can optimize their experience\n",
    "2. **Clean Interface:** Default mode keeps things simple\n",
    "3. **Enhanced Support:** Accessibility mode provides comprehensive support\n",
    "4. **Educational Value:** Context boxes help connect concepts to learning objectives\n",
    "\n",
    "## Implementation Notes\n",
    "\n",
    "The accessibility system works through:\n",
    "- **Global configuration** in `accessibility_config.py`\n",
    "- **Conditional rendering** in `print_images.py`\n",
    "- **User-controlled toggles** that persist during the session\n",
    "- **Backward compatibility** with existing code"
   ]
  },
  {
   "cell_type": "markdown",
   "id": "06f0ab02",
   "metadata": {},
   "source": [
    "## Try It Yourself!\n",
    "\n",
    "1. **Toggle the accessibility switch** above to OFF\n",
    "2. **Re-run the image display cells** - notice the cleaner, simpler output\n",
    "3. **Toggle the accessibility switch** to ON\n",
    "4. **Re-run the image display cells** - notice the enhanced features\n",
    "5. **Experiment with individual settings** in the detailed options\n",
    "\n",
    "This demonstrates how the same code produces different outputs based on user preferences, making the course materials accessible to all learners while keeping the interface clean for those who prefer it."
   ]
  }
 ],
 "metadata": {
  "kernelspec": {
   "display_name": "gw_course_students",
   "language": "python",
   "name": "python3"
  },
  "language_info": {
   "codemirror_mode": {
    "name": "ipython",
    "version": 3
   },
   "file_extension": ".py",
   "mimetype": "text/x-python",
   "name": "python",
   "nbconvert_exporter": "python",
   "pygments_lexer": "ipython3",
   "version": "3.12.10"
  }
 },
 "nbformat": 4,
 "nbformat_minor": 5
}
