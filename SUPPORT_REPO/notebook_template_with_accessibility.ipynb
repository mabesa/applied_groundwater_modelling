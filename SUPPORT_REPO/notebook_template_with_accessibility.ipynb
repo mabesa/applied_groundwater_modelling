{
 "cells": [
  {
   "cell_type": "markdown",
   "id": "d51ec019",
   "metadata": {},
   "source": [
    "# [Your Notebook Title]\n",
    "\n",
    "Brief description of the notebook content and learning objectives."
   ]
  },
  {
   "cell_type": "code",
   "execution_count": null,
   "id": "53b31cc3",
   "metadata": {},
   "outputs": [],
   "source": [
    "# Standard notebook setup\n",
    "import sys\n",
    "import os\n",
    "import matplotlib.pyplot as plt\n",
    "import numpy as np\n",
    "\n",
    "# Import course utilities\n",
    "sys.path.append('../SUPPORT_REPO/src')\n",
    "sys.path.append('../SUPPORT_REPO/src/scripts/scripts_exercises')\n",
    "\n",
    "from style_utils import load_project_styles\n",
    "from accessibility_config import create_accessibility_switch\n",
    "from print_images import display_image\n",
    "\n",
    "# Load project styles\n",
    "load_project_styles()"
   ]
  },
  {
   "cell_type": "markdown",
   "id": "471be786",
   "metadata": {},
   "source": [
    "## 🔧 Accessibility Settings\n",
    "\n",
    "Configure your accessibility preferences for this notebook:"
   ]
  },
  {
   "cell_type": "code",
   "execution_count": null,
   "id": "68b2cb70",
   "metadata": {},
   "outputs": [],
   "source": [
    "# Display accessibility control panel\n",
    "# Users can toggle this on/off based on their needs\n",
    "accessibility_switch = create_accessibility_switch()\n",
    "display(accessibility_switch)"
   ]
  },
  {
   "cell_type": "markdown",
   "id": "3cf2f6fb",
   "metadata": {},
   "source": [
    "---\n",
    "## [Your Content Starts Here]\n",
    "\n",
    "Your regular notebook content follows. All image displays and other accessibility features will now respect the user's preferences set above."
   ]
  },
  {
   "cell_type": "code",
   "execution_count": null,
   "id": "29e886c5",
   "metadata": {},
   "outputs": [],
   "source": [
    "# Example: Using display_image with accessibility features\n",
    "# The function will show different levels of detail based on the user's settings\n",
    "display_image(\n",
    "    \"your_image.png\",\n",
    "    alt_text=\"Detailed description of your image for accessibility\",\n",
    "    caption=\"Your figure caption\",\n",
    "    educational_context=\"How this image relates to the learning objectives\"\n",
    ")"
   ]
  },
  {
   "cell_type": "markdown",
   "id": "d628369d",
   "metadata": {},
   "source": [
    "## Benefits of This Approach\n",
    "\n",
    "1. **User Control**: Each student can optimize their experience\n",
    "2. **Backward Compatibility**: Existing code continues to work\n",
    "3. **Progressive Enhancement**: Basic functionality with optional enhancements\n",
    "4. **Inclusive Design**: Serves all users, not just those with specific needs\n",
    "\n",
    "## Best Practices\n",
    "\n",
    "- Always provide `alt_text` for images (shown only in accessibility mode)\n",
    "- Use `educational_context` to connect figures to learning objectives\n",
    "- Include meaningful `caption` text for figure references\n",
    "- Consider how content works both with and without accessibility features"
   ]
  }
 ],
 "metadata": {
  "kernelspec": {
   "display_name": "gw_course_students",
   "language": "python",
   "name": "python3"
  },
  "language_info": {
   "codemirror_mode": {
    "name": "ipython",
    "version": 3
   },
   "file_extension": ".py",
   "mimetype": "text/x-python",
   "name": "python",
   "nbconvert_exporter": "python",
   "pygments_lexer": "ipython3",
   "version": "3.12.10"
  }
 },
 "nbformat": 4,
 "nbformat_minor": 5
}
