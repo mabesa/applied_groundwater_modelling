{
 "cells": [
  {
   "cell_type": "markdown",
   "id": "5b549192",
   "metadata": {},
   "source": [
    "# 0_sync_repo: Repository Sync & Clean (Run When Instructors Instruct)\n",
    "\n",
    "This notebook performs repository synchronization and deep cleaning only. Run it whenever instructors announce an update. Do NOT re-run heavy environment diagnostics here; those now live exclusively in `0_diagnostics.ipynb` and should normally be executed only once at the course start (unless you change your environment).\n",
    "\n",
    "Key actions provided:\n",
    "- Safe preview (`dry_run`) of pending git changes\n",
    "- Forced hard reset to the teaching branch\n",
    "- Optional deep clean removing untracked & ignored files plus custom stale patterns\n",
    "- Quick status check cell for routine verification\n",
    "\n",
    "Destructive warning: A forced reset with deep clean will delete uncommitted work and ignored cache/output folders. Copy personal experiments elsewhere first (e.g. `~/own_model_files/`)."
   ]
  },
  {
   "cell_type": "code",
   "execution_count": null,
   "id": "d516cb90",
   "metadata": {},
   "outputs": [],
   "source": [
    "# Sync repository (single cell)\n",
    "from importlib import reload\n",
    "import sys\n",
    "from pathlib import Path\n",
    "from datetime import datetime\n",
    "\n",
    "# Ensure support src path\n",
    "support_src = Path('SUPPORT_REPO/src').resolve()\n",
    "if not support_src.exists():\n",
    "    raise RuntimeError(\"Expected SUPPORT_REPO/src at project root but it was not found.\")\n",
    "if str(support_src) not in sys.path:\n",
    "    sys.path.insert(0, str(support_src))\n",
    "\n",
    "import repo_sync  # type: ignore\n",
    "reload(repo_sync)\n",
    "\n",
    "# User-adjustable flags (edit then run this cell)\n",
    "FORCE_RESET = False          # destructive if True and changes exist\n",
    "ALLOW_LOCAL_RESET = False    # allow destructive reset off JupyterHub\n",
    "DRY_RUN = True               # start with True to preview actions\n",
    "TARGET_REMOTE = 'origin'\n",
    "TARGET_BRANCH = 'course_2025'\n",
    "DEEP_CLEAN = False           # set True to remove untracked + optional ignored + extras\n",
    "INCLUDE_IGNORED = False      # only applies if DEEP_CLEAN True\n",
    "EXTRA_PATTERNS = [           # relative glob patterns for stale dirs/files (examples)\n",
    "    # '__pycache__',\n",
    "    # '.ipynb_checkpoints',\n",
    "    # '*/_modflow_diag',\n",
    "]\n",
    "\n",
    "print(f\"[SYNC] Started {datetime.utcnow().isoformat()}Z\")\n",
    "res = repo_sync.sync_repository(\n",
    "    force_reset=FORCE_RESET,\n",
    "    allow_local_reset=ALLOW_LOCAL_RESET,\n",
    "    dry_run=DRY_RUN,\n",
    "    target_remote=TARGET_REMOTE,\n",
    "    target_branch=TARGET_BRANCH,\n",
    "    deep_clean=DEEP_CLEAN,\n",
    "    deep_clean_include_ignored=INCLUDE_IGNORED,\n",
    "    deep_clean_extra=EXTRA_PATTERNS if EXTRA_PATTERNS else None,\n",
    "    verbose=True,\n",
    ")\n",
    "try:\n",
    "    repo_sync.print_sync_summary(res)\n",
    "except Exception:\n",
    "    print(res)\n",
    "print(\"[SYNC] Done. Set DRY_RUN=False and re-run to apply actions.\")"
   ]
  },
  {
   "cell_type": "markdown",
   "id": "43933044",
   "metadata": {},
   "source": [
    "## When to Run What\n",
    "\n",
    "- Use this sync notebook: whenever instructors announce an update or if you suspect your local copy drifted.\n",
    "- Use `0_diagnostics.ipynb`: only once at course start, or after you modify your Python environment (install/remove packages) or experience unexplained errors.\n",
    "\n",
    "If a sync introduces new dependencies, re-run the diagnostics notebook afterwards to confirm readiness."
   ]
  },
  {
   "cell_type": "code",
   "execution_count": null,
   "id": "3309a717",
   "metadata": {},
   "outputs": [],
   "source": [
    "# Quick status check (always safe) - does not modify repo\n",
    "status = repo_sync.sync_repository(dry_run=True, verbose=False)\n",
    "print(status)"
   ]
  }
 ],
 "metadata": {
  "kernelspec": {
   "display_name": "gw_course_students",
   "language": "python",
   "name": "python3"
  },
  "language_info": {
   "codemirror_mode": {
    "name": "ipython",
    "version": 3
   },
   "file_extension": ".py",
   "mimetype": "text/x-python",
   "name": "python",
   "nbconvert_exporter": "python",
   "pygments_lexer": "ipython3",
   "version": "3.12.10"
  }
 },
 "nbformat": 4,
 "nbformat_minor": 5
}
