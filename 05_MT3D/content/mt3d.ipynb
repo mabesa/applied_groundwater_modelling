{
 "cells": [
  {
   "cell_type": "markdown",
   "metadata": {},
   "source": [
    "week 5 | Groundwater\n",
    "\n",
    "# Topic 5 : Implementation of transport in MT3D  \n",
    "\n",
    "Dr. Xiang-Zhao Kong & Dr. Beatrice Marti"
   ]
  },
  {
   "cell_type": "code",
   "execution_count": null,
   "metadata": {},
   "outputs": [],
   "source": [
    "# Setting up the notebook\n",
    "import sys\n",
    "import os\n"
   ]
  },
  {
   "cell_type": "markdown",
   "metadata": {},
   "source": [
    "Quizzes about lecture content\n",
    "\n",
    "Formulation of the transport equation\n",
    "...\n",
    "How is the transport equation solved in MT3D?\n",
    "What is the difference between the finite difference method and the finite element method?\n",
    "What is the difference between the implicit and explicit method?\n",
    "What is the difference between the central difference and the upstream weighting method?\n",
    "What is the implication of the spatial discretization of the transport equation?\n",
    "What is the implication of the temporal discretization of the transport equation?\n",
    "What is the Courant number?\n",
    "..."
   ]
  }
 ],
 "metadata": {
  "kernelspec": {
   "display_name": "gw_course",
   "language": "python",
   "name": "python3"
  },
  "language_info": {
   "codemirror_mode": {
    "name": "ipython",
    "version": 3
   },
   "file_extension": ".py",
   "mimetype": "text/x-python",
   "name": "python",
   "nbconvert_exporter": "python",
   "pygments_lexer": "ipython3",
   "version": "3.13.0"
  }
 },
 "nbformat": 4,
 "nbformat_minor": 2
}
