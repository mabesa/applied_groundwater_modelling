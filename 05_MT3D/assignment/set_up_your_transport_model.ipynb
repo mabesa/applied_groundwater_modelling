{
 "cells": [
  {
   "cell_type": "markdown",
   "metadata": {},
   "source": [
    "week 5 | Groundwater\n",
    "\n",
    "# Exercise 5 : Set up your transport model \n",
    "\n",
    "Dr. Xiang-Zhao Kong & Dr. Beatrice Marti"
   ]
  },
  {
   "cell_type": "code",
   "execution_count": 1,
   "metadata": {},
   "outputs": [],
   "source": [
    "# Setting up the notebook\n",
    "import sys\n",
    "import os\n",
    "\n",
    "# Import local libraries\n",
    "sys.path.append('../../src')\n",
    "from notebook_navigation import NotebookNavigation\n",
    "\n",
    "# Create a NotebookNavigation object which can be printed at the end of the page\n",
    "nav = NotebookNavigation(chapter_config_path='../../chapter_config.json')"
   ]
  },
  {
   "cell_type": "markdown",
   "metadata": {},
   "source": [
    "Lead through the setting up of a transport model in the Modflow2005/MT3D framework."
   ]
  },
  {
   "cell_type": "code",
   "execution_count": null,
   "metadata": {},
   "outputs": [
    {
     "data": {
      "text/html": [
       "<div style=\"display: flex; justify-content: space-between; padding: 20px;\">\n",
       "<a href=\"../notebook/groundwater_flow.ipynb\" style=\"text-decoration: none; color: #2196F3;\">← Previous: Groundwater Flow</a>\n",
       "</div>"
      ],
      "text/plain": [
       "<IPython.core.display.HTML object>"
      ]
     },
     "metadata": {},
     "output_type": "display_data"
    }
   ],
   "source": [
    "nav.display_navigation('transport_model_setup')"
   ]
  }
 ],
 "metadata": {
  "kernelspec": {
   "display_name": "gw_course",
   "language": "python",
   "name": "python3"
  },
  "language_info": {
   "codemirror_mode": {
    "name": "ipython",
    "version": 3
   },
   "file_extension": ".py",
   "mimetype": "text/x-python",
   "name": "python",
   "nbconvert_exporter": "python",
   "pygments_lexer": "ipython3",
   "version": "3.13.0"
  }
 },
 "nbformat": 4,
 "nbformat_minor": 2
}
