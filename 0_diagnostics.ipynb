{
 "cells": [
  {
   "cell_type": "markdown",
   "id": "f4bfe750",
   "metadata": {},
   "source": [
    "# Project Diagnostics Notebook (0_diagnostics)\n",
    "\n",
    "Run this notebook on JupyterHub to verify your computational environment for the *Applied Groundwater Modelling* course.\n",
    "It will:\n",
    "\n",
    "1. Summarize Python & platform info\n",
    "2. Parse environment YAML (if present) and compile required package list\n",
    "3. Check imports & report missing packages + versions\n",
    "4. Optionally (commented) help you install missing packages\n",
    "5. Verify geospatial stack (GeoPandas / Shapely / Fiona / PyProj / RasterIO / Contextily)\n",
    "6. Test folium, plotly interactive plotting\n",
    "7. Detect MODFLOW-2005 executable & run a minimal FloPy model\n",
    "8. Basic 3D visualization capability check (plotly)\n",
    "9. (Optional) Memory / performance snapshot (psutil)\n",
    "10. Produce an aggregated summary at the end\n",
    "\n",
    "If something fails, scroll to see the first failing diagnostic cell.\n",
    "\n",
    "## First-Time Run (JupyterHub):\n",
    "\n",
    "1. Ensure your repo is up to date by (optionally) running `0_sync_repo.ipynb` first if instructors announced an update.\n",
    "2. Open `0_diagnostics.ipynb`.\n",
    "3. Run all cells.\n",
    "4. Confirm final summary → overall_ready = True.\n",
    "5. If not ready: copy summary + failing section output and contact support.\n",
    "\n",
    "## Daily Use:\n",
    "\n",
    "- Do NOT routinely re-run this full notebook; only if environment changed or something breaks.\n",
    "- For repository updates use `0_sync_repo.ipynb`.\n",
    "\n",
    "---\n",
    "**Tip:** Re-run the whole diagnostics notebook after fixing issues or after a sync that adds new dependencies."
   ]
  },
  {
   "cell_type": "markdown",
   "id": "a660e845",
   "metadata": {},
   "source": [
    "## 0. (Moved) Repository Sync & Reset\n",
    "\n",
    "The repository synchronization and cleaning step has been moved to a dedicated notebook: `0_sync_repo.ipynb`.\n",
    "\n",
    "Run that separate notebook whenever instructors announce an update or if you suspect your local copy is out of date. This diagnostics notebook should normally be run only once at the beginning of the course (or after you change your Python environment) to validate packages, geospatial stack, visualization, and MODFLOW capabilities.\n",
    "\n",
    "If a sync introduces new dependencies, re-run this diagnostics notebook to confirm readiness.\n",
    "\n",
    "> Action: Skip directly to the initialization cell below and continue with the environment checks."
   ]
  },
  {
   "cell_type": "code",
   "execution_count": 2,
   "id": "ac5dc627",
   "metadata": {},
   "outputs": [
    {
     "name": "stdout",
     "output_type": "stream",
     "text": [
      "Diagnostics result container initialized.\n"
     ]
    }
   ],
   "source": [
    "# Initialize a global results dictionary to accumulate checks\n",
    "from __future__ import annotations\n",
    "diag_results = {\n",
    "    'python': {},\n",
    "    'packages': {},\n",
    "    'geospatial': {},\n",
    "    'viz': {},\n",
    "    'modflow': {},\n",
    "    'system': {}\n",
    "}\n",
    "print('Diagnostics result container initialized.')"
   ]
  },
  {
   "cell_type": "markdown",
   "id": "10773f01",
   "metadata": {},
   "source": [
    "### ℹ️ Refactor Note\n",
    "Core diagnostic logic (environment parsing, imports, geospatial & viz smoke tests, MODFLOW run, 3D check, system snapshot, summary) has been moved into the support module `diagnostics.py` in `SUPPORT_REPO/src/`.\n",
    "\n",
    "This notebook now only orchestrates those functions, keeping cells concise and easier to maintain. To extend:\n",
    "- Add new helper in `diagnostics.py`\n",
    "- Import & call it in the appropriate section here\n",
    "\n",
    "Advantages: single source of truth, easier testing, less noisy notebook diffs.\n"
   ]
  },
  {
   "cell_type": "markdown",
   "id": "eebe0f15",
   "metadata": {},
   "source": [
    "## 1. Python & Platform Information"
   ]
  },
  {
   "cell_type": "code",
   "execution_count": 3,
   "id": "131d5ee4",
   "metadata": {},
   "outputs": [
    {
     "name": "stdout",
     "output_type": "stream",
     "text": [
      "Python/platform info collected:\n",
      "  python_version: 3.12.10 | packaged by conda-forge | (main, Apr 10 2025, 22:19:24) [Clang 18.1.8 ]\n",
      "  executable: /Users/bea/anaconda3/envs/gw_course_students/bin/python\n",
      "  platform: macOS-15.6.1-arm64-arm-64bit\n",
      "  processor: arm\n",
      "  python_build: ('main', 'Apr 10 2025 22:19:24')\n",
      "  datetime_utc: 2025-09-07T15:13:03.381630+00:00Z\n"
     ]
    }
   ],
   "source": [
    "import sys, platform, os, datetime, shutil\n",
    "py_info = {\n",
    "    'python_version': sys.version.replace('\\n', ' '),\n",
    "    'executable': sys.executable,\n",
    "    'platform': platform.platform(),\n",
    "    'processor': platform.processor(),\n",
    "    'python_build': platform.python_build(),\n",
    "    'datetime_utc': datetime.datetime.now(datetime.UTC).isoformat()+'Z'\n",
    "}\n",
    "diag_results['python'] = py_info\n",
    "print('Python/platform info collected:')\n",
    "for k,v in py_info.items():\n",
    "    print(f'  {k}: {v}')"
   ]
  },
  {
   "cell_type": "markdown",
   "id": "8d60b9ee",
   "metadata": {},
   "source": [
    "## 2. Compile Required Package List\n",
    "This attempts to parse `environment_students.yml` and `environment_development.yml` if available to build a dependency list."
   ]
  },
  {
   "cell_type": "code",
   "execution_count": 4,
   "id": "1f73bcdb",
   "metadata": {},
   "outputs": [
    {
     "name": "stdout",
     "output_type": "stream",
     "text": [
      "Total packages to check (from environment_students.yml only): 32\n",
      "affine, contextily, elevation, flopy, folium, gdal, geopandas, graphviz, ipympl, ipython, ipywidgets, jupyterlab, matplotlib, matplotlib-scalebar, numpy, pandas, plotly, porespy, psutil, pykrige, pyproj, python-graphviz, pyyaml, rasterio, rasterstats, requests, scikit-image, scipy, seaborn, shapely, statsmodels, yaml\n"
     ]
    }
   ],
   "source": [
    "from pathlib import Path\n",
    "from importlib import reload\n",
    "import sys\n",
    "\n",
    "# Ensure support src path already added earlier (repo_sync cell). If not, add.\n",
    "support_src = Path('SUPPORT_REPO/src').resolve()\n",
    "if str(support_src) not in sys.path:\n",
    "    sys.path.insert(0, str(support_src))\n",
    "\n",
    "import diagnostics  # type: ignore\n",
    "reload(diagnostics)\n",
    "\n",
    "ENV_FILE = 'environment_students.yml'\n",
    "OPTIONAL_PACKAGES = {\n",
    "    'python-graphviz', 'pyyaml'\n",
    "}\n",
    "EXCLUDE_PACKAGES = {'python', 'pip', 'pre-commit'}\n",
    "\n",
    "parsed = diagnostics.parse_environment(\n",
    "    env_file=ENV_FILE,\n",
    "    optional_packages=OPTIONAL_PACKAGES,\n",
    "    exclude_packages=EXCLUDE_PACKAGES,\n",
    ")\n",
    "\n",
    "pkg_meta = diag_results.setdefault('packages', {})\n",
    "pkg_meta.update(parsed)\n",
    "\n",
    "print(f\"Total packages to check (from {ENV_FILE} only): {len(parsed['required_list'])}\")\n",
    "print(', '.join(parsed['required_list']))\n"
   ]
  },
  {
   "cell_type": "markdown",
   "id": "d8df2d97",
   "metadata": {},
   "source": [
    "## 3. Import & Version Check\n",
    "Attempts to import each required package and record version or error."
   ]
  },
  {
   "cell_type": "code",
   "execution_count": 5,
   "id": "4d96170d",
   "metadata": {},
   "outputs": [
    {
     "name": "stderr",
     "output_type": "stream",
     "text": [
      "/Users/bea/anaconda3/envs/gw_course_students/lib/python3.12/site-packages/geopandas/_compat.py:7: DeprecationWarning: The 'shapely.geos' module is deprecated, and will be removed in a future version. All attributes of 'shapely.geos' are available directly from the top-level 'shapely' namespace (since shapely 2.0.0).\n",
      "  import shapely.geos\n"
     ]
    },
    {
     "name": "stdout",
     "output_type": "stream",
     "text": [
      "Packages OK: 32\n",
      "Essential missing: 0 | Optional missing: 0\n",
      "All required packages imported successfully.\n"
     ]
    }
   ],
   "source": [
    "import diagnostics  # already imported above; safe to re-import\n",
    "from importlib import reload as _reload\n",
    "_reload(diagnostics)\n",
    "\n",
    "packages_info = diag_results['packages']\n",
    "required_list = packages_info.get('required_list', [])\n",
    "optional_set = set(packages_info.get('optional_packages', []))\n",
    "\n",
    "import_results = diagnostics.run_import_checks(required_list, optional_packages=optional_set)\n",
    "packages_info.update(import_results)\n",
    "\n",
    "package_status = import_results['status']\n",
    "missing_essential = import_results['missing_essential']\n",
    "missing_optional = import_results['missing_optional']\n",
    "\n",
    "print(f\"Packages OK: {sum(1 for v in package_status.values() if v['ok'])}\")\n",
    "print(f\"Essential missing: {len(missing_essential)} | Optional missing: {len(missing_optional)}\")\n",
    "if missing_essential:\n",
    "    print('Missing essential:', ', '.join(missing_essential))\n",
    "if missing_optional:\n",
    "    print('Missing optional:', ', '.join(missing_optional))\n",
    "if not missing_essential and not missing_optional:\n",
    "    print('All required packages imported successfully.')\n"
   ]
  },
  {
   "cell_type": "markdown",
   "id": "a985bb06",
   "metadata": {},
   "source": [
    "### (Optional) Install Missing Packages \n",
    "Uncomment and run the next cell ONLY if you have permission to install packages in this environment.  \n",
    "This should not be necessary in your Jupyter Hub environment. "
   ]
  },
  {
   "cell_type": "code",
   "execution_count": 6,
   "id": "ca3623ed",
   "metadata": {},
   "outputs": [
    {
     "name": "stdout",
     "output_type": "stream",
     "text": [
      "No missing packages to install.\n"
     ]
    }
   ],
   "source": [
    "# Uncomment to attempt installation (may not work on restricted JupyterHub)\n",
    "if diag_results['packages'].get('status'):\n",
    "    to_install = [p for p,s in diag_results['packages']['status'].items() if not s['ok']]\n",
    "    if to_install:\n",
    "        import sys, subprocess\n",
    "        print('Attempting pip install for:', to_install)\n",
    "        subprocess.check_call([sys.executable, '-m', 'pip', 'install', *to_install])\n",
    "    else:\n",
    "        print('No missing packages to install.')"
   ]
  },
  {
   "cell_type": "markdown",
   "id": "3a563560",
   "metadata": {},
   "source": [
    "## 4. Geospatial Stack Smoke Tests"
   ]
  },
  {
   "cell_type": "code",
   "execution_count": 7,
   "id": "db5b3e8c",
   "metadata": {},
   "outputs": [
    {
     "name": "stdout",
     "output_type": "stream",
     "text": [
      "Geospatial checks:\n",
      "  geopandas: True\n",
      "  polygons_count: 2\n",
      "  union_valid: True\n",
      "  planar_sum_area_m2: 14639199.86280878\n",
      "  planar_union_area_m2: 12809299.926796934\n",
      "  overlap_factor: 0.8750000031995773\n",
      "  geodesic_union_area_m2: 5877494.507802963\n",
      "  planar_vs_geodesic_ratio: 2.179381011720437\n",
      "  fiona: True\n",
      "  rasterio: True\n",
      "  contextily: True\n"
     ]
    }
   ],
   "source": [
    "import diagnostics\n",
    "geo_checks = diagnostics.geospatial_smoke_test()\n",
    "diag_results['geospatial'] = geo_checks\n",
    "print('Geospatial checks:')\n",
    "for k, v in geo_checks.items():\n",
    "    print(f'  {k}: {v}')\n"
   ]
  },
  {
   "cell_type": "markdown",
   "id": "f8106d41",
   "metadata": {},
   "source": [
    "## 5. Visualization Library Checks (folium, plotly, matplotlib)"
   ]
  },
  {
   "cell_type": "code",
   "execution_count": 8,
   "id": "9a5f2adc",
   "metadata": {},
   "outputs": [
    {
     "name": "stdout",
     "output_type": "stream",
     "text": [
      "Visualization stack:\n",
      "  folium: ok (map object created)\n",
      "  plotly: ok (scatter figure created)\n",
      "  matplotlib: ok (simple plot created)\n",
      "  matplotlib_backend_used: Agg\n",
      "  warnings_suppressed: ['traitlets DeprecationWarning', 'comm warnings']\n"
     ]
    }
   ],
   "source": [
    "import diagnostics\n",
    "viz_status = diagnostics.viz_smoke_test()\n",
    "# Persist (retain prior viz keys if any)\n",
    "diag_results['viz'] = {**diag_results.get('viz', {}), **viz_status}\n",
    "print('Visualization stack:')\n",
    "for k,v in viz_status.items():\n",
    "    if k.startswith('_'):  # skip internal objects\n",
    "        continue\n",
    "    print(f'  {k}: {v}')\n",
    "# Display folium map if created\n",
    "fmap = viz_status.get('_folium_map_object')\n",
    "if fmap:\n",
    "    fmap\n"
   ]
  },
  {
   "cell_type": "markdown",
   "id": "556d36aa",
   "metadata": {},
   "source": [
    "## 6. MODFLOW-2005 Executable Detection & Minimal FloPy Model\n",
    "Attempts to locate a MODFLOW-2005 executable and run a 1-layer steady-state test model."
   ]
  },
  {
   "cell_type": "code",
   "execution_count": 9,
   "id": "6a9d6a5a",
   "metadata": {},
   "outputs": [
    {
     "data": {
      "text/plain": [
       "{'executable_found': True,\n",
       " 'executable_path': '/Users/bea/.local/share/flopy/bin/mf2005',\n",
       " 'workspace_path': '/Users/bea/applied_groundwater_modelling_data/diagnostics',\n",
       " 'namefile_exists_after_write': True,\n",
       " 'model_files_written': ['diagtest.bas',\n",
       "  'diagtest.dis',\n",
       "  'diagtest.lpf',\n",
       "  'diagtest.nam',\n",
       "  'diagtest.oc',\n",
       "  'diagtest.pcg'],\n",
       " 'run_success': True,\n",
       " 'final_heads': [10.0,\n",
       "  8.88888931274414,\n",
       "  7.777777671813965,\n",
       "  6.666666507720947,\n",
       "  5.55555534362793,\n",
       "  4.44444465637207,\n",
       "  3.3333332538604736,\n",
       "  2.222222328186035,\n",
       "  1.1111111640930176,\n",
       "  0.0],\n",
       " 'analytical_heads': [10.0,\n",
       "  8.88888888888889,\n",
       "  7.777777777777778,\n",
       "  6.666666666666668,\n",
       "  5.555555555555555,\n",
       "  4.444444444444445,\n",
       "  3.333333333333334,\n",
       "  2.2222222222222223,\n",
       "  1.1111111111111116,\n",
       "  0.0],\n",
       " 'max_abs_error_linear_solution': 4.2385525134136515e-07,\n",
       " 'analytical_ok': True}"
      ]
     },
     "execution_count": 9,
     "metadata": {},
     "output_type": "execute_result"
    }
   ],
   "source": [
    "from pathlib import Path\n",
    "import diagnostics\n",
    "\n",
    "AUTO_DOWNLOAD = True\n",
    "PERSISTENT_WORKSPACE = Path.home() / 'applied_groundwater_modelling_data' / 'diagnostics'\n",
    "CLEANUP_ON_SUCCESS = False\n",
    "PERSISTENT_WORKSPACE.mkdir(parents=True, exist_ok=True)\n",
    "\n",
    "modflow_diag = diagnostics.modflow_minimal_model(\n",
    "    auto_download=AUTO_DOWNLOAD,\n",
    "    persistent_workspace=PERSISTENT_WORKSPACE,\n",
    "    cleanup_on_success=CLEANUP_ON_SUCCESS,\n",
    ")\n",
    "\n",
    "diag_results['modflow'] = modflow_diag\n",
    "modflow_diag"
   ]
  },
  {
   "cell_type": "markdown",
   "id": "4b1623fc",
   "metadata": {},
   "source": [
    "## 7. 3D Capability Check (Plotly Surface)"
   ]
  },
  {
   "cell_type": "code",
   "execution_count": 10,
   "id": "962b1716",
   "metadata": {},
   "outputs": [
    {
     "data": {
      "text/plain": [
       "{'success': True}"
      ]
     },
     "execution_count": 10,
     "metadata": {},
     "output_type": "execute_result"
    }
   ],
   "source": [
    "import diagnostics\n",
    "plotly_3d = diagnostics.plotly_3d_test()\n",
    "# Store nested under viz\n",
    "viz = diag_results.setdefault('viz', {})\n",
    "viz['plotly_3d'] = plotly_3d\n",
    "plotly_3d"
   ]
  },
  {
   "cell_type": "markdown",
   "id": "77654f21",
   "metadata": {},
   "source": [
    "## 8. System Resource Snapshot (Optional)"
   ]
  },
  {
   "cell_type": "code",
   "execution_count": 11,
   "id": "3fa3bdb3",
   "metadata": {},
   "outputs": [
    {
     "data": {
      "text/plain": [
       "{'memory_total_GB': 64.0,\n",
       " 'memory_available_GB': 20.72,\n",
       " 'process_memory_MB': 423.5}"
      ]
     },
     "execution_count": 11,
     "metadata": {},
     "output_type": "execute_result"
    }
   ],
   "source": [
    "import diagnostics\n",
    "sys_snap = diagnostics.system_snapshot()\n",
    "diag_results['system'] = sys_snap\n",
    "sys_snap"
   ]
  },
  {
   "cell_type": "markdown",
   "id": "6b4aabfa",
   "metadata": {},
   "source": [
    "## 9. Aggregated Summary\n",
    "Run this cell last to see a compact readiness report."
   ]
  },
  {
   "cell_type": "code",
   "execution_count": 12,
   "id": "969340a9",
   "metadata": {},
   "outputs": [
    {
     "name": "stdout",
     "output_type": "stream",
     "text": [
      "=== DIAGNOSTICS SUMMARY ===\n",
      "{'geospatial_errors': [],\n",
      " 'missing_essential': [],\n",
      " 'missing_optional': [],\n",
      " 'modflow_executable_found': True,\n",
      " 'modflow_linear_solution_ok': True,\n",
      " 'modflow_run_success': True,\n",
      " 'overall_ready': True,\n",
      " 'plotly_3d_success': True}\n",
      "\n",
      "Environment appears READY for the course (optional packages may still be absent).\n"
     ]
    }
   ],
   "source": [
    "from pprint import pprint\n",
    "import diagnostics\n",
    "\n",
    "summary = diagnostics.build_summary(diag_results)\n",
    "diag_results['summary'] = summary\n",
    "print('=== DIAGNOSTICS SUMMARY ===')\n",
    "pprint(summary)\n",
    "if not summary['overall_ready']:\n",
    "    if summary['missing_essential']:\n",
    "        print('\\nEssential packages missing; install them to be course-ready.')\n",
    "    elif summary['geospatial_errors']:\n",
    "        print('\\nGeospatial errors detected; review Section 4 cell output.')\n",
    "    else:\n",
    "        print('\\nSome optional packages are missing (does not block readiness).')\n",
    "else:\n",
    "    print('\\nEnvironment appears READY for the course (optional packages may still be absent).')\n"
   ]
  }
 ],
 "metadata": {
  "kernelspec": {
   "display_name": "gw_course_students",
   "language": "python",
   "name": "python3"
  },
  "language_info": {
   "codemirror_mode": {
    "name": "ipython",
    "version": 3
   },
   "file_extension": ".py",
   "mimetype": "text/x-python",
   "name": "python",
   "nbconvert_exporter": "python",
   "pygments_lexer": "ipython3",
   "version": "3.12.10"
  }
 },
 "nbformat": 4,
 "nbformat_minor": 5
}
