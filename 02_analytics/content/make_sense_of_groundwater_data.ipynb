{
 "cells": [
  {
   "cell_type": "markdown",
   "id": "b8f79a16",
   "metadata": {},
   "source": [
    "week 2 | Groundwater\n",
    "\n",
    "# Topic 2 : Making sense of groundwater data \n",
    "\n",
    "Dr. Xiang-Zhao Kong, Dr. Beatrice Marti, Louise Noel du Payrat"
   ]
  },
  {
   "cell_type": "markdown",
   "id": "5f2ea0d7",
   "metadata": {},
   "source": [
    "## Borehole data\n",
    "The canton of Zurich makes some of their borehole profiles available online [\\[1\\]](#references). They are not very detailed but in the best case, you will learn in which section the pipe is slitted. Figure 1 shows an example of a borehole profile. \n",
    "\n",
    "*Figure 1: Borehole profile for observation well 481.*\n",
    "![Borehole profile for observation well 481](figures/B_481_Bohrprofil.png)\n",
    "\n"
   ]
  },
  {
   "cell_type": "markdown",
   "id": "4f4d3422",
   "metadata": {},
   "source": [
    "It is relevant to know the lithology of the monitoring boreholes and the depth of the slitted part of the pipe to interprete the groundwater level time series correctly. Not all cantons of Switzerland make this information available. The canton of Zurich for example, does not provide this information at the time of writing (May 2025). \n",
    "\n",
    "For this case study, we will rely solely on readily available data and assume a homogeneous aquifer. This is a simplification and were you to deliver work for a real client, you would need to make sure that you have all the information available. "
   ]
  },
  {
   "cell_type": "markdown",
   "id": "6b49630a",
   "metadata": {},
   "source": [
    "## Groundwater level data\n",
    "Groundwater levels are typically measured in 2 ways: \n",
    "1. by lowering a weight on a meter, a dipper, into the borehole and taking a reading of the distance from the rim of the pipe to the groundwater table.\n",
    "2. using digital pressure sensors which are submerged below the groundwater table and which measure the combined pressure of the atmosphere and the groundwater column above the sensor in the borehole.\n",
    "\n",
    "Figure 2 illustrates the two methods. Both methods are used for monitoring around the world. In Switzerland, pressure sensors are used in most monitoring wells. The dipper method is used to validate the data from the pressure sensors.\n",
    "\n",
    "*Figure 2: Comparison of dipper and submerged pressure sensor in a monitoring well.*\n",
    "![Figure 2: Groundwater level monitoring methods](figures/monitoring_methods.png)\n",
    "\n",
    "Both methods require the elevation of the rim of the pipe to be well known in a reference elevation system. Only then we can go from distance to groundwater to groundwater levels in meters above mean sea level. \n",
    "\n",
    "Monitoring wells are a door direcly into our drinking water reserves, a strategic resource. They are therefore secured by locks. \n",
    "\n",
    "### Dipper method\n",
    "This manual monitoring is low cost and low tech but labour intensive method and typically yields infrequent data. It is used to validate data from pressure sensors. It is a robust method with which the depth to groundwater can be measured with an accuracy of typically less than 0.5 cm.  \n",
    "\n",
    "Data is typically logged in paper-based monitoring forms or apps and sent to the office of the monitoring authority. \n",
    "\n",
    "### Pressure sensor method\n",
    "Using digital pressure sensors, pressure data can be collected at high temporal intervals and with an accuracy in the milimeter range. The pressure of the groundwater column can be determined by subtracting the air pressure from the signal. The pressure signal can be transformed into a distance to groundwater table if the depth in which the sensor is installed is known. Two pressure sensors are thus needed to monitor the development of the groundwater level. Pressure sensors tend to drift (recognizable by a linear trend signal underlying the actual groundwater dynamics) and need to be validated regularly. Sensors with a strong drift need to be sent in to the vendor for rehabilitation.  \n",
    "\n",
    "Data is either stored to a simcard which has to be read out by a technician every 3 to 12 months or sent to a database using data transmission protocols and LoRaWAN or the mobile phone network.  "
   ]
  },
  {
   "cell_type": "code",
   "execution_count": null,
   "id": "54d12f7f",
   "metadata": {},
   "outputs": [],
   "source": [
    "### Example - From raw pressure data to groundwater levels\n",
    "TODO: use example data to demonstrate the conversion of pressure data to groundwater levels "
   ]
  },
  {
   "cell_type": "markdown",
   "id": "d05f35f7",
   "metadata": {},
   "source": [
    "# References\n",
    "[\\[1\\]](#borehole-data) Cantonal office of the environment (AWEL): [https://www.zh.ch/de/umwelt-tiere/wasser-gewaesser/messdaten/grundwasserstaende.html](https://www.zh.ch/de/umwelt-tiere/wasser-gewaesser/messdaten/grundwasserstaende.html) (accessed 2025-05-01)"
   ]
  }
 ],
 "metadata": {
  "kernelspec": {
   "display_name": "gw_course_development",
   "language": "python",
   "name": "python3"
  },
  "language_info": {
   "codemirror_mode": {
    "name": "ipython",
    "version": 3
   },
   "file_extension": ".py",
   "mimetype": "text/x-python",
   "name": "python",
   "nbconvert_exporter": "python",
   "pygments_lexer": "ipython3",
   "version": "3.12.10"
  }
 },
 "nbformat": 4,
 "nbformat_minor": 5
}
