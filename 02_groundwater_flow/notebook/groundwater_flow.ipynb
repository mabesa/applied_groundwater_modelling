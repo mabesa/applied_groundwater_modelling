{
 "cells": [
  {
   "cell_type": "code",
   "execution_count": 10,
   "metadata": {},
   "outputs": [
    {
     "data": {
      "text/html": [
       "<div style=\"display: flex; justify-content: space-between; padding: 20px;\">\n",
       "<a href=\"../../01_introduction/notebook/introduction.ipynb\" style=\"text-decoration: none; color: #2196F3;\">← Previous: Introduction to the course</a>\n",
       "</div>"
      ],
      "text/plain": [
       "<IPython.core.display.HTML object>"
      ]
     },
     "metadata": {},
     "output_type": "display_data"
    }
   ],
   "source": [
    "import sys\n",
    "import os\n",
    "# Import local libraries\n",
    "sys.path.append('../../src')\n",
    "from notebook_navigation import NotebookNavigation\n",
    "nav = NotebookNavigation(chapter_config_path='../../chapter_config.json')\n",
    "nav.display_navigation('gw_flow')"
   ]
  },
  {
   "cell_type": "markdown",
   "metadata": {},
   "source": [
    "# 0 Introduction\n",
    "\n",
    "This course builds on basic concepts of water flow in porous media and of hydrology. It is designed for Master-level students in Engineering Geology and Environmental Sciences who want to learn numerical modelling of groundwater flow and transport. We urge students to work through the [self-assessment of the course prerequisites](../../00_prerequisites/assessment/00_assess_introduction.ipynb) to make sure they are prepared for the course.\n",
    "\n",
    "We learn modelling in the context of the open-source software package [FloPy](https://flopy.readthedocs.io/en/latest/introduction.html) which is a Python library to create, run, and post-process MODFLOW models. MODFLOW is a widely used open-source groundwater flow model developed by the US Geological Survey. Groundwater transport is modelled using MT3DMS, which is also developed by the USGS and available through FloPy.\n",
    "\n",
    "Students will learn to create and run groundwater flow and transport models using FloPy. The course is designed to be hands-on, with students working through exercises in class. The course is designed to be accessible to students with no prior experience in Python or groundwater modelling. However, students should have a basic understanding of groundwater flow and transport processes from previous lectures (see the course prerequisites linked above). We urge students to work through the self-assessment questions at the end of each chapter to ensure they understand the material."
   ]
  }
 ],
 "metadata": {
  "kernelspec": {
   "display_name": "gw_course",
   "language": "python",
   "name": "python3"
  },
  "language_info": {
   "codemirror_mode": {
    "name": "ipython",
    "version": 3
   },
   "file_extension": ".py",
   "mimetype": "text/x-python",
   "name": "python",
   "nbconvert_exporter": "python",
   "pygments_lexer": "ipython3",
   "version": "3.13.0"
  }
 },
 "nbformat": 4,
 "nbformat_minor": 2
}
