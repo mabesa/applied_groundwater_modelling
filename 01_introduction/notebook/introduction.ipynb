{
 "cells": [
  {
   "cell_type": "markdown",
   "metadata": {},
   "source": [
    "week 1 | Groundwater\n",
    "\n",
    "# LESSON 1 : Introduction to the Groundwater course\n",
    "\n",
    "Dr. Xiang-Zhao Kong & Dr. Beatrice Marti"
   ]
  },
  {
   "cell_type": "code",
   "execution_count": 1,
   "metadata": {},
   "outputs": [],
   "source": [
    "# Setting up the notebook\n",
    "import sys\n",
    "import os\n",
    "\n",
    "# Import local libraries\n",
    "sys.path.append('../../src')\n",
    "from notebook_navigation import NotebookNavigation\n",
    "\n",
    "# Create a NotebookNavigation object which can be printed at the end of the page\n",
    "nav = NotebookNavigation(chapter_config_path='../../chapter_config.json')"
   ]
  },
  {
   "cell_type": "markdown",
   "metadata": {},
   "source": [
    "# Introduction to Groundwater Modeling: Your Journey Begins\n",
    "Welcome future groundwater modeler! In this interactive course, you'll embark on a journey to understand and master the fundamentals of groundwater flow and transport modeling. \n",
    "\n",
    "We start with a few words on how to work with the course material, urge you to test if you still remember Darcy's law (and other basic concepts), and then get you started with an overview over the learning goals.\n",
    "\n",
    "## About this course\n",
    "The course is divided into lessons and accompanied by a project-based learning approach. Each lesson consists of a lecture-based input and a couple of self-assessments to check your understanding. The project-based learning approach is designed to help you apply the knowledge you gain in the lessons to real-world problems.\n",
    "\n",
    "You will work in groups on a project that will be presented at the end of the course. The project will be based on a real-world problem and will require you to apply the knowledge you gain in the lessons.\n",
    "\n",
    "## Course structure  \n",
    "The course stretches over 13 weeks with 4 lectures per week. You will have a mid-term exam in week 7 and a final exam in week 13. The course is structured as follows:\n",
    "- Lesson 1: Introduction to the course, group formation, and project assignment  \n",
    "- Lesson 2: Introduction to Groundwater Flow Modeling  \n",
    "- Lesson 2: Numerical Methods for Groundwater Flow Modeling  \n",
    "- Lesson 3: Introduction to Groundwater Transport Modeling  \n",
    "- Lesson 4: Numerical Methods for Groundwater Transport Modeling  \n",
    "- Lesson 5: Calibration and Validation of Groundwater Models  \n",
    "- Mid-term exam\n",
    "- Lesson 6: Uncertainty Analysis in Groundwater Modeling  \n",
    "- Lesson 7: Groundwater Modeling in Practice  \n",
    "- Project work  \n",
    "- Project work  \n",
    "- Project work  \n",
    "- Project presentation & discussion  \n",
    "- Project work\n",
    "- Final exam\n",
    "\n",
    "## The case studies\n",
    "In groups, you will be working on one of the following case studies: \n",
    "- Hydrogeology in the Limmattal Valley, Switzerland\n",
    "- Well field management for the drinking water works of Zurich, Switzerland\n",
    "- Integrated water resources management in the Fergana Valley, Uzbekistan\n",
    "- Impact of climate change on groundwater resources  \n",
    "\n",
    "You will cover most lecture topics in the context of your case study. \n",
    "\n",
    "## Exams\n",
    "The mid-term and final exams will test your understanding of the course material. The exams will consist of exercises that appear in the lessons, case studies and self-assessments up until the exam date.\n",
    "\n",
    "# Final grade\n",
    "Your final grade will be based on the following components:\n",
    "- Mid-term exam: 20%\n",
    "- Final exam: 20%\n",
    "- Report: 60%\n",
    "Note that you will be expected to discuss a topic of your choice from the presentation session in the report.\n",
    "\n",
    "## Prerequisites\n",
    "This course is designed for students and professionals who have a basic understanding of hydrogeology and groundwater flow. If you are new to the field, we recommend you take the course \"Introduction to Hydrogeology\" before starting this course. "
   ]
  },
  {
   "cell_type": "markdown",
   "metadata": {},
   "source": [
    "<div style=\"padding: 1em; margin: 1em 0; border-left: 3px solid #0075b0; background-color: #f8f9fa;\">\n",
    "<strong>💡 Before you go any further:</strong><br>\n",
    "Test if you still remember Darcy's law and other basic concepts by taking the <a href=\"../../00_prerequisites/assessment/00_assess_introduction.ipynb\" target=\"_blank\">self-assessment quiz</a>. Now is the time to make sure you have the necessary background knowledge to get the most out of this course.\n",
    "</div>"
   ]
  },
  {
   "cell_type": "markdown",
   "metadata": {},
   "source": [
    "## Learning goals\n",
    "We're overjoyed to have you here! By the end of this learning journey, you'll be able to:\n",
    "\n",
    "🌊 Navigate the complexities of groundwater flow and transport processes, identifying the right boundary conditions for different scenarios, and understanding their real-world implications.\n",
    "\n",
    "🛠️ Build and adapt groundwater models that tackle real-world challenges, understanding both the power and limitations of your modeling tools.\n",
    "\n",
    "📊 Choose and apply the right modeling approaches for different problems, from quick analytical solutions to comprehensive numerical models.\n",
    "\n",
    "🔍 Critically evaluate modeling work with the eye of an expert, spotting potential issues and suggesting practical improvements."
   ]
  },
  {
   "cell_type": "markdown",
   "metadata": {},
   "source": [
    "\n",
    "Right, let's get started! 🚀  \n",
    "\n",
    "Click on the \"Next\" button to dive into the first lesson."
   ]
  },
  {
   "cell_type": "code",
   "execution_count": 2,
   "metadata": {},
   "outputs": [
    {
     "data": {
      "text/html": [
       "<div style=\"display: flex; justify-content: space-between; padding: 20px;\">\n",
       "<span></span>\n",
       "<a href=\"../../02_groundwater_flow/notebook/groundwater_flow.ipynb\" style=\"text-decoration: none; color: #2196F3;\">Next: Groundwater Flow →</a>\n",
       "</div>"
      ],
      "text/plain": [
       "<IPython.core.display.HTML object>"
      ]
     },
     "metadata": {},
     "output_type": "display_data"
    }
   ],
   "source": [
    "nav.display_navigation('intro')"
   ]
  }
 ],
 "metadata": {
  "kernelspec": {
   "display_name": "gw_course",
   "language": "python",
   "name": "python3"
  },
  "language_info": {
   "codemirror_mode": {
    "name": "ipython",
    "version": 3
   },
   "file_extension": ".py",
   "mimetype": "text/x-python",
   "name": "python",
   "nbconvert_exporter": "python",
   "pygments_lexer": "ipython3",
   "version": "3.13.0"
  }
 },
 "nbformat": 4,
 "nbformat_minor": 4
}
