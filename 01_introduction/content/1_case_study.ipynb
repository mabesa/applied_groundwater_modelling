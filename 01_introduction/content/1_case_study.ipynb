{
 "cells": [
  {
   "cell_type": "markdown",
   "metadata": {},
   "source": [
    "week 1 | Groundwater\n",
    "\n",
    "# Topic 1 : Introduction to the Groundwater course - The Limmat Vally Aquifer \n",
    "\n",
    "Dr. Xiang-Zhao Kong & Dr. Beatrice Marti"
   ]
  },
  {
   "cell_type": "code",
   "execution_count": null,
   "metadata": {},
   "outputs": [],
   "source": [
    "# Setting up the notebook\n",
    "import sys\n",
    "import os\n",
    "\n",
    "from IPython.display import display\n",
    "\n",
    "# Load local modules\n",
    "sys.path.append('../../src')\n",
    "from climate_utils import read_climate_data, plot_climate_data\n"
   ]
  },
  {
   "cell_type": "markdown",
   "metadata": {},
   "source": [
    "# Introducing The Case Study\n",
    "\n",
    "Most exercises as well as the final project in this course are based on case studies. Case studies are real-world scenarios that provide you with an opportunity to apply your knowledge and skills to solve complex groundwater problems. In this first year we choose the Limmat valley aquifer in Zurich, Switzerland. \n",
    "\n",
    "We will follow the actual steps a professional groundwater modeler might take to set up a numerical model to answer a specific question. In a first step, the modelers familiarize themselves with the Limmat valley aquifer and its hydrological and hydrogeological properties. \n",
    "\n",
    "# TODO: Add perceptibal model drawings to explain which fluxes are important in the Limmat valley aquifer and how they are represented in the model.\n",
    "\n",
    "# The Limmat Valley Aquifer\n",
    "The Limmat valley aquifer is a well-studied groundwater reservoir beneath the city of Zurich, Switzerland. Doppler and colleagues write, that it was formed during the last ice age, when the Lindt glacier retreated. The Limmat valley aquifer has no direct hydraulic connection to lake Zurich in the east where it is bound by impermeable lake sediments and moraine material. The aquifer is further confined in the north and south by the side morains of the Lindth glacier. Lateral inflow of groundwater from the hills in the north and south is to be expected. The groundwater body is further in connection with the river Sihl in the east and thr river Limmat in the north. The hydraulic properties of the aquifer are higly heterogenic because of its complex geological history formed through various sedimentation and erosion events from the rivers Sihl and Limmat. [\\[1, 2\\]](#references)\n",
    "\n",
    "In Figure 1 you see a prinscreen of the GIS-browser of the canton of Zurich. The cyanide blue area in the center of the map shows the Limmat valley aquifer. The darker the color, the larger the thickness of the aquifer.  \n",
    "\n",
    "# TODO add link to gis-browser\n",
    "\n",
    "*Figure 1: Printscreen of the GIS-browser of the canton of Zurich [\\[3\\]](#references) displaying the cantonal groundwater map.* \n",
    "![GIS-browser](figures/GIS-browser_canton_Zurich.png)"
   ]
  },
  {
   "cell_type": "markdown",
   "metadata": {},
   "source": [
    "<div style=\"padding: 1em; margin: 1em 0; border-left: 3px solid #8e44ad; background-color: #f5eef8;\">\n",
    "<strong>🤔 Think about it:</strong><br>\n",
    "Take a few minutes to explore the available layers in the GIS-browser of the canton of Zurich. What do you think are the most important layers for groundwater modeling? Why?\n",
    "</div>"
   ]
  },
  {
   "cell_type": "markdown",
   "metadata": {},
   "source": [
    "# Climate\n",
    "We get climate data from the Swiss Federal Office of Meteorology and Climatology (MeteoSwiss). The data is available for download at the following link: [MeteoSwiss](https://www.meteoswiss.admin.ch/services-and-publications/applications/measurement-values-and-measuring-networks.html#param=messnetz-klima&table=false&station=SMA&compare=y&chart=year) and made available in the data directory of the zurich case study repository. [\\[4\\]](#references) \n",
    "The closest station to the Limmat valley aquifer is the Fluntern station. The data is available for the years 1991-2020. Let's have a look at the data"
   ]
  },
  {
   "cell_type": "code",
   "execution_count": null,
   "metadata": {},
   "outputs": [],
   "source": [
    "data_path = os.path.abspath(\n",
    "    os.path.join('..', '..', 'case_studies', 'case_study_zurich', 'data', 'climate'))\n",
    "# Test if this is a valid path\n",
    "if not os.path.exists(data_path):\n",
    "    print(f\"Path {data_path} does not exist.\")\n",
    "\n",
    "climate_norms = read_climate_data(data_path, station_string='Fluntern')\n",
    "\n",
    "# Inspect the climate norms\n",
    "display(climate_norms)"
   ]
  },
  {
   "cell_type": "code",
   "execution_count": null,
   "metadata": {},
   "outputs": [],
   "source": [
    "plt, fig = plot_climate_data(climate_norms)\n",
    "plt.show()"
   ]
  },
  {
   "cell_type": "markdown",
   "metadata": {},
   "source": [
    "<div style=\"padding: 1em; margin: 1em 0; border-left: 3px solid #8e44ad; background-color: #f5eef8;\">\n",
    "<strong>🤔 Think about it:</strong><br>\n",
    "We are looking at the climate data mostly to get an idea about groundwater recharge. In an aquifer like the Limmat valley aquifer, which is located in a densely populated area, we have to consider that the recharge is not only influenced by the climate but also by human activities. What do you think are the most important human activities that influence groundwater recharge in this area?\n",
    "</div>"
   ]
  },
  {
   "cell_type": "markdown",
   "metadata": {},
   "source": [
    "## River Discharge & River Water Levels\n",
    "The federal office for the environment (FOEN) is the first address for hydrological data in Switzerland. You will find all surface water monitoring sites under [map.geo.admin.ch](https://map.geo.admin.ch) under layer *Hydrological gauaging stations* [\\[5\\]](#references) (see Figure 2). \n",
    "\n",
    "*Figure 2: Hydrological gauging stations layer available at [map.geo.admin.ch](https://map.geo.admin.ch).*\n",
    "![Hydrological gauging stations](figures/BAFU_HydrologicalGaugingStations.png)\n",
    "\n",
    "When you zoom in to the Limmat valley aquifer (Figure 3), you will find the gauging stations of the rivers Sihl and Limmat. A next gauging station on the river Limmat is located at the city of Baden, downstream of a run-by-the-river hydropower plant, and therefore not relevant for our study. The gauging station on the river Sihl is located at the city of Zurich, upstream of the confluence with the river Limmat. The gauging station on the river Limmat is located at the city of Zurich, downstream of the confluence with the river Sihl. \n",
    "\n",
    "*Figure 3: Locations of hydrological gauging stations near the Limmat valley aquifer.*\n",
    "![Close up of the gauging stations](figures/BAFU_HydrologicalGaugingStations_closeup.png)\n",
    "\n",
    "A click on the gauaging station will bring you directly to the station site made available by the federal office for the environment (FOEN). The gauging station on the river Sihl is called [*Sihl - Zürich, Sihlhölzli*](https://www.hydrodaten.admin.ch/de/seen-und-fluesse/stationen-und-daten/2176) and has ID 2176 and the gauging station on the river Limmat is called [*Limmat - Zürich, Unterhard*](https://www.hydrodaten.admin.ch/de/seen-und-fluesse/stationen-und-daten/2099) and has ID 2099. The IDs are unique numeric station identifiers and typically required to retrieve data from data repositories or APIs. \n",
    "\n",
    "<div style=\"padding: 1em; margin: 1em 0; border-left: 3px solid #8e44ad; background-color: #f5eef8;\">\n",
    "<strong>🤔 Think about it:</strong><br>\n",
    "For surface water balancing, discharge is the important variable. However, when it comes to flooding or river-aquifer interaction, the water level is the more important variable. Why do you think that is? \n",
    "</div>\n",
    "\n",
    "From the station sites, we see current water levels, typically over the past 7 days but no water level dynamics. We have to requet the data from FOEN.   \n",
    "# TODO: Integrate water level data from FOEN, integrate once available.\n",
    "\n",
    "# Note: sections below may be removed in the future\n",
    "\n",
    "To get a first idea about the river discharge, we look at the yearbook data from 2020 which can be found for downloading on the station site of every site and which is available in the data folder of the Zurich case study. More recent yearbook data may be available. Feel free to check for it but be aware that provisory yearbook data is not yet fully validated. \n",
    "\n",
    "From the yearbook sheets, we learn that the long-term average discharges of the rivers [Limmat](../../case_studies/case_study_zurich/data/rivers/2099Q_20.pdf) and [Sihl](../../case_studies/case_study_zurich/data/rivers/2176Q_20.pdf) are 95 m^3/s and 7 m3/s. \n",
    "\n",
    "No additional river gauging stations are maintained by the cantonal office for waste, water, energy and air (Amt für Abfall, Wasser, Energie und Luft (AWEL)) [\\[6\\]](#references). \n",
    "\n",
    "<div style=\"padding: 1em; margin: 1em 0; border-left: 3px solid #2980b9; background-color: #ebf5fb;\">\n",
    "<strong>💡 For curious minds:</strong><br>\n",
    "Please take some time to familiarize yourself with the yearbook sheets.<br>\n",
    "Did you notice the different shapes of the flow duration curves? What does this tell you about the hydrological regime of the rivers?<br>\n",
    "Can you find the highest ever measured discharge in both rivers? Which one might be the more difficult to manage?\n",
    "</div>\n"
   ]
  },
  {
   "cell_type": "markdown",
   "metadata": {},
   "source": [
    "## Monitoring the Limmat Valley Aquifer\n",
    "To get a first idea about the groundwater levels in the Limmat valley aquifer, we will have a look at the groundwater map.\n",
    "\n",
    "Several authorities do groundwater monitoring in the Limmat valley aquifer. We will start with the federal office for the environment (FOEN) which maintains a network of groundwater observation wells. You find an overview over the available groundwater monitoring sites at [https://map.geo.admin.ch/](https://map.geo.admin.ch/) in layer *Groundwater level/spring discharge* [\\[7\\]](#references). One monitoring well maintained by FOEN is located in the Limmat valley aquifer but far downstream of our area of interest in the city center. Further, this well is a drinking water production well and can therefore not be used as an outflow boundary.  \n",
    "\n",
    "Few groundwater observation wells are operated by the cantonal office of the environment (AWEL) (Figure 4).\n",
    "\n",
    "*Figure 4: Monitoring wells in the Limmat valley aquifer. Yearbook sheets for each site can be accessed through the popup window from each site [\\[8\\]](#references).*\n",
    "![Monitoring wells](figures/GWmonitoring_locations_AWEL.png)\n",
    "\n"
   ]
  },
  {
   "cell_type": "markdown",
   "metadata": {},
   "source": [
    "<div style=\"padding: 1em; margin: 1em 0; border-left: 3px solid #8e44ad; background-color: #f5eef8;\">\n",
    "<strong>🤔 Think about it:</strong><br>\n",
    "What are the major hydrological processes in the Limmat valley aquifer?<br>\n",
    "Where would you set the boundaries of the Limmat valley aquifer?\n",
    "</div>"
   ]
  },
  {
   "cell_type": "markdown",
   "metadata": {},
   "source": [
    "# Finished perceptual model showing all fluxes"
   ]
  },
  {
   "cell_type": "markdown",
   "metadata": {},
   "source": [
    "## References\n",
    "[\\[1\\]](#the-limmat-valley-aquifer) Hug J., and Beilick, A. (1934): Die Grundwasserverhältnisse des Kantons Zürich. In: Beiträge zur Geologie der Schweiz - Geotechnische Serie - Hydrologie. German. Available online here: https://scnat.ch/de/uuid/i/0bd7aa3b-0bd7-5d54-9e2f-597a42dada50-Die_Grundwasserverh%C3%A4ltnisse_des_Kantons_Z%C3%BCrich (accessed 2025-05-01)   \n",
    "[\\[2\\]](#the-limmat-valley-aquifer) Doppler, T., Hendricks Franssen, H.-J., Kaiser H.-P., Kuhlman U., Stauffer, F. (2007): Field evidence of a dynamic leakage coefficient for modelling river–aquifer interactions. Journal of Hydrology, Volume 347, Issues 1–2, DOI: https://doi.org/10.1016/j.jhydrol.2007.09.017.  \n",
    "[\\[3\\]](#the-limmat-valley-aquifer) GIS-browser of the canton of Zurich: https://www.gis.zh.ch/ (accessed 2025-05-01)  \n",
    "[\\[4\\]](#climate) MeteoSwiss: https://www.meteoswiss.admin.ch/services-and-publications/applications/measurement-values-and-measuring-networks.html#param=messnetz-klima&table=false&station=SMA&compare=y&chart=year (accessed 2025-05-01)  \n",
    "[\\[5\\]](#river-discharge) Locations of hydrological gauging stations maintained by the Federal Office for the Environment (FOEN): https://map.geo.admin.ch (accessed 2025-05-01)\n",
    "[\\[6\\]](#river-discharge) Locations of hydrological gauging stations maintained by the cantonal office for waste, water, energy, and air (AWEL): https://www.zh.ch/de/umwelt-tiere/wasser-gewaesser/messdaten/abfluss-wasserstand.html (accessed 2025-05-01)  \n",
    "[\\[7\\]](#monitoring-the-limmat-valley-aquifer) Locations of groundwater monitoring wells maintained by Federal Office for the Environment (FOEN): https://www.zh.ch/de/umwelt-und-natur/wasser/grundwasser/monitoring.html (accessed 2025-05-01)  \n",
    "[\\[8\\]](#monitoring-the-limmat-valley-aquifer) Cantonal office of the environment (AWEL): https://www.zh.ch/de/umwelt-tiere/wasser-gewaesser/messdaten/grundwasserstaende.html (accessed 2025-05-01)\n"
   ]
  }
 ],
 "metadata": {
  "kernelspec": {
   "display_name": "gw_course_development",
   "language": "python",
   "name": "python3"
  },
  "language_info": {
   "codemirror_mode": {
    "name": "ipython",
    "version": 3
   },
   "file_extension": ".py",
   "mimetype": "text/x-python",
   "name": "python",
   "nbconvert_exporter": "python",
   "pygments_lexer": "ipython3",
   "version": "3.12.10"
  }
 },
 "nbformat": 4,
 "nbformat_minor": 2
}
