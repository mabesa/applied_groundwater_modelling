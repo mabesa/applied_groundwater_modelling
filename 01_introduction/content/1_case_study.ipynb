{
 "cells": [
  {
   "cell_type": "markdown",
   "metadata": {},
   "source": [
    "week 1 | Groundwater\n",
    "\n",
    "# Topic 1 : Introduction to the Groundwater course - The Limmat Vally Aquifer \n",
    "\n",
    "Dr. Xiang-Zhao Kong & Dr. Beatrice Marti"
   ]
  },
  {
   "cell_type": "code",
   "execution_count": 4,
   "metadata": {},
   "outputs": [],
   "source": [
    "# Setting up the notebook\n",
    "import sys\n",
    "import os\n",
    "\n",
    "# Import local libraries\n",
    "sys.path.append('../../src')\n",
    "from notebook_navigation import NotebookNavigation\n",
    "\n",
    "# Create a NotebookNavigation object which can be printed at the end of the page\n",
    "nav = NotebookNavigation(chapter_config_path='../../chapter_config.json')"
   ]
  },
  {
   "cell_type": "markdown",
   "metadata": {},
   "source": [
    "# Introducing The Case Study Approach\n",
    "\n",
    "Most exercises as well as the final project in this course are based on case studies. Case studies are real-world scenarios that provide you with an opportunity to apply your knowledge and skills to solve complex groundwater problems. In this first year we choose the Limmat valley aquifer in Zurich, Switzerland. \n",
    "\n",
    "# The Limmat Valley Aquifer\n",
    "Brief introcduction to the Limmat Valley Aquifer and links to resources"
   ]
  },
  {
   "cell_type": "markdown",
   "metadata": {},
   "source": [
    "<div style=\"padding: 1em; margin: 1em 0; border-left: 3px solid #8e44ad; background-color: #f5eef8;\">\n",
    "<strong>🤔 Think about it:</strong><br>\n",
    "What are the major hydrological processes in the Limmat valley aquifer?<br>\n",
    "Where would you set the boundaries of the Limmat valley aquifer?\n",
    "</div>"
   ]
  },
  {
   "cell_type": "markdown",
   "metadata": {},
   "source": [
    "## Monitoring the Limmat Valley Aquifer\n",
    "Who is responsible for monitoring the Limmat valley aquifer? What are the main monitoring networks and what are they measuring?\n",
    "Possibly excurse on how to go from raw monitoring data to useful information."
   ]
  },
  {
   "cell_type": "markdown",
   "metadata": {},
   "source": [
    "## Resources\n",
    "Links to resources about the Limmat Valley Aquifer, including data and publications."
   ]
  },
  {
   "cell_type": "markdown",
   "metadata": {},
   "source": [
    "\n",
    "So how are we going to study the Limmat valley aquifer? We will use a combination of field measurements, numerical modeling, and data analysis. We have learned about the monitoring data above but which modeling tools are we going to use?   \n",
    "\n",
    "Click on the \"Next\" button to learn about our modelling tools."
   ]
  },
  {
   "cell_type": "code",
   "execution_count": null,
   "metadata": {},
   "outputs": [
    {
     "data": {
      "text/html": [
       "<div style=\"display: flex; justify-content: space-between; padding: 20px;\">\n",
       "<a href=\"../notebook/introduction.ipynb\" style=\"text-decoration: none; color: #2196F3;\">← Previous: Introduction to the course</a>\n",
       "<a href=\"../../02_groundwater_flow/notebook/groundwater_flow.ipynb\" style=\"text-decoration: none; color: #2196F3;\">Next: Groundwater Flow →</a>\n",
       "</div>"
      ],
      "text/plain": [
       "<IPython.core.display.HTML object>"
      ]
     },
     "metadata": {},
     "output_type": "display_data"
    }
   ],
   "source": [
    "nav.display_navigation('case_study')"
   ]
  }
 ],
 "metadata": {
  "kernelspec": {
   "display_name": "gw_course",
   "language": "python",
   "name": "python3"
  },
  "language_info": {
   "codemirror_mode": {
    "name": "ipython",
    "version": 3
   },
   "file_extension": ".py",
   "mimetype": "text/x-python",
   "name": "python",
   "nbconvert_exporter": "python",
   "pygments_lexer": "ipython3",
   "version": "3.13.0"
  }
 },
 "nbformat": 4,
 "nbformat_minor": 2
}
