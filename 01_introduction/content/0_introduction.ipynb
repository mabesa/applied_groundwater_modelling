{
 "cells": [
  {
   "cell_type": "markdown",
   "metadata": {},
   "source": [
    "week 1 | Groundwater\n",
    "\n",
    "# Topic 1 : Introduction to the Groundwater course\n",
    "\n",
    "Dr. Xiang-Zhao Kong & Dr. Beatrice Marti"
   ]
  },
  {
   "cell_type": "code",
   "execution_count": 4,
   "metadata": {},
   "outputs": [],
   "source": [
    "# Setting up the notebook\n",
    "import sys\n",
    "import os\n",
    "\n",
    "# Import local libraries\n",
    "sys.path.append('../../src')\n",
    "from notebook_navigation import NotebookNavigation\n",
    "\n",
    "# Create a NotebookNavigation object which can be printed at the end of the page\n",
    "nav = NotebookNavigation(chapter_config_path='../../chapter_config.json')"
   ]
  },
  {
   "cell_type": "markdown",
   "metadata": {},
   "source": [
    "# Introduction to Groundwater Modeling: Your Journey Begins\n",
    "Welcome future groundwater modeler! In this interactive course, you'll embark on a journey to understand and master the fundamentals of groundwater flow and transport modeling. \n",
    "\n",
    "We expect, that you have successfully completed the self-assessments in the prerequisites section. If you haven't done so, please go back and complete them before starting this course."
   ]
  },
  {
   "cell_type": "markdown",
   "metadata": {},
   "source": [
    "<div style=\"padding: 1em; margin: 1em 0; border-left: 3px solid #0075b0; background-color: #f8f9fa;\">\n",
    "<strong>💡 Before you go any further:</strong><br>\n",
    "Test if you still remember Darcy's law and other basic concepts by taking the <a href=\"../../00_prerequisites/assessment/00_assess_introduction.ipynb\" target=\"_blank\">self-assessment quiz</a>. Now is the time to make sure you have the necessary background knowledge to get the most out of this course.\n",
    "</div>"
   ]
  },
  {
   "cell_type": "markdown",
   "metadata": {},
   "source": [
    "Optional: Quizzes about \n",
    "- The importance of groundwater in Switzerland and world wide. \n",
    "- The motivation for groundwater modeling."
   ]
  },
  {
   "cell_type": "markdown",
   "metadata": {},
   "source": [
    "\n",
    "Right, let's get started! 🚀  \n",
    "\n",
    "Click on the \"Next\" button to learn about our case study."
   ]
  },
  {
   "cell_type": "code",
   "execution_count": 5,
   "metadata": {},
   "outputs": [
    {
     "data": {
      "text/html": [
       "<div style=\"display: flex; justify-content: space-between; padding: 20px;\">\n",
       "<span></span>\n",
       "<a href=\"../notebook/case_study.ipynb\" style=\"text-decoration: none; color: #2196F3;\">Next: Introduction to the Case Studies →</a>\n",
       "</div>"
      ],
      "text/plain": [
       "<IPython.core.display.HTML object>"
      ]
     },
     "metadata": {},
     "output_type": "display_data"
    }
   ],
   "source": [
    "nav.display_navigation('intro')"
   ]
  }
 ],
 "metadata": {
  "kernelspec": {
   "display_name": "gw_course",
   "language": "python",
   "name": "python3"
  },
  "language_info": {
   "codemirror_mode": {
    "name": "ipython",
    "version": 3
   },
   "file_extension": ".py",
   "mimetype": "text/x-python",
   "name": "python",
   "nbconvert_exporter": "python",
   "pygments_lexer": "ipython3",
   "version": "3.13.0"
  }
 },
 "nbformat": 4,
 "nbformat_minor": 4
}
