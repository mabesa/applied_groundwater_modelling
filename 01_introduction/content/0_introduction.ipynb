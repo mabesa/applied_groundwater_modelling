{
 "cells": [
  {
   "cell_type": "code",
   "execution_count": 4,
   "metadata": {},
   "outputs": [
    {
     "data": {
      "text/html": [
       "\n",
       "        <style>\n",
       "        /* custom_styles.css */\n",
       "\n",
       "/* Base style for all custom boxes (optional, but good for common properties) */\n",
       ".custom-box {\n",
       "    padding: 1em;\n",
       "    margin: 1em 0;\n",
       "    border-left-style: solid;\n",
       "}\n",
       "\n",
       "/* --- Think Box (Purple) --- */\n",
       ".custom-box.exercise-box { /* Make it more specific for testing */\n",
       "    /* Your other .exercise-box rules can remain */\n",
       "    background-color: #f5eef8;\n",
       "    border-left-width: 3px;\n",
       "    border-left-color: #8e44ad;\n",
       "}\n",
       ".exercise-box strong {\n",
       "    color: #8e44ad; /* Purple text for the title */\n",
       "    font-size: 1.1em; /* Slightly larger title */\n",
       "}\n",
       "\n",
       "/* --- Exercise Box (Green) --- */\n",
       ".theory-box {\n",
       "    background-color: #e8f5e9; /* Light green background */\n",
       "    border-left-width: 3px; /* Left border width */\n",
       "    border-left-color: #4CAF50; /* Green border */\n",
       "}\n",
       ".theory-box strong {\n",
       "    color: #4CAF50; /* Green text for the title */\n",
       "    font-size: 1.1em;\n",
       "}\n",
       "\n",
       "/* --- Warning Box (Red) --- */\n",
       ".warning-box {\n",
       "    background-color: #ffebee; /* Light red background */\n",
       "    border-left-width: 3px; /* Left border width */\n",
       "    border-left-color: #f44336; /* Red border */\n",
       "}\n",
       ".warning-box strong {\n",
       "    color: #f44336; /* Red text for the title */\n",
       "    font-size: 1.1em;\n",
       "}\n",
       "\n",
       "/* --- Info Box (Blue) --- */\n",
       ".furtherthinking-box {\n",
       "    background-color: #e3f2fd; /* Light blue background */\n",
       "    border-left-width: 3px; /* Left border width */\n",
       "    border-left-color: #2196F3; /* Blue border */\n",
       "}\n",
       ".furtherthinking-box strong {\n",
       "    color: #2196F3; /* Blue text for the title */\n",
       "    font-size: 1.1em;\n",
       "}\n",
       "\n",
       "/* --- Tip Box (Yellow/Orange) --- */\n",
       ".tip-box {\n",
       "    background-color: #fff3e0; /* Light orange background */\n",
       "    border-left-width: 3px; /* Left border width */\n",
       "    border-left-color: #ff9800; /* Orange border */\n",
       "}\n",
       ".tip-box strong {\n",
       "    color: #ff9800; /* Orange text for the title */\n",
       "    font-size: 1.1em;\n",
       "}\n",
       "        </style>\n",
       "        "
      ],
      "text/plain": [
       "<IPython.core.display.HTML object>"
      ]
     },
     "metadata": {},
     "output_type": "display_data"
    }
   ],
   "source": [
    "import sys\n",
    "sys.path.append('../../src')\n",
    "from style_utils import load_project_styles\n",
    "load_project_styles()"
   ]
  },
  {
   "cell_type": "markdown",
   "metadata": {},
   "source": [
    "week 1 | Groundwater\n",
    "\n",
    "# Topic 1 : Introduction to the Groundwater course\n",
    "\n",
    "Dr. Xiang-Zhao Kong & Dr. Beatrice Marti & Louise Noel du Prat"
   ]
  },
  {
   "cell_type": "markdown",
   "metadata": {},
   "source": [
    "# Introduction to Groundwater Modeling: Your Journey Begins\n",
    "Welcome future groundwater modeler! In this interactive course, you'll embark on a journey to understand and master the fundamentals of groundwater flow and transport modeling. \n",
    "\n",
    "This course is designed to provide you with a solid foundation in groundwater modeling, equipping you with the knowledge and skills needed to tackle real-world challenges in engineering tasks in groundwater, groundwater management and environmental protection.\n",
    "\n",
    "## How to use this material\n",
    "In-person lectures for each topic will be complemented by this online material.\n",
    "\n",
    "You are expected to read and understand the material and to complete the tasks in the violet boxes in your own time. The tasks are short thinking exercises which help you reflect and apply what you just learned from reading through the material. You are *not requried to hand in* the tasks, but you are encouraged to discuss them with your peers and with your tutors during the in-person lectures as you will be expected to be able to answer these questions in the *exams*. Here is an example of an *exercise* task:\n",
    "\n",
    "<div class=\"custom-box exercise-box\">\n",
    "<strong>🤔 Think about it:</strong><br>\n",
    "What are the major hydrological processes in the Limmat valley aquifer?<br>\n",
    "Where would you set the boundaries of the Limmat valley aquifer?\n",
    "</div>      \n",
    "\n",
    "Optional exercises or tasks that allow you to explore a topic which will not be tested in the examp are marked with the following boxes. These tasks are here to introduce you to relevant topics for applied groundwater modelling which are relevant for practice but not required for passing this course. Here is an example of a *further thinking* task:\n",
    "\n",
    "<div class=\"custom-box furtherthinking-box\">\n",
    "<strong>🧠 For curious minds:</strong><br>\n",
    "Please take some time to familiarize yourself with the yearbook sheets.<br>\n",
    "Did you notice the different shapes of the flow duration curves? What does this tell you about the hydrological regime of the rivers?<br>\n",
    "Can you find the highest ever measured discharge in both rivers? Which one might be the more difficult to manage?\n",
    "</div>\n",
    "\n",
    "Green boxes are used to highlight important concepts or terms. Here is an example:\n",
    "<div class=\"custom-box theory-box\">\n",
    "<strong>💡 Important concept:</strong><br>\n",
    "The groundwater flow equation is a partial differential equation that describes the movement of groundwater through porous media. It is based on Darcy's law and the principle of mass conservation.\n",
    "</div>\n",
    "\n",
    "Examples are given in orange boxes. Here is an example of an *example* task:\n",
    "<div class=\"custom-box example-box\">\n",
    "<strong>📚 Example:</strong><br>\n",
    "A mouse in an example for a mamal. \n",
    "</div>\n"
   ]
  },
  {
   "cell_type": "markdown",
   "metadata": {},
   "source": [
    "## The environmental modelling process\n",
    "This section introduces you to a general modelling process which you can apply to any environmental modelling. We'll then break it down into the specific steps of groundwater modelling.\n",
    "\n",
    "TODO: Add illustration of the modelling process \n",
    "\n",
    "### 1. Problem definition\n",
    "The first step in the modelling process is to clearly define the problem you want to solve. Typically, a customer will approach you with a problem, for example with missing information to base a decision on. \n",
    "\n"
   ]
  },
  {
   "cell_type": "markdown",
   "metadata": {},
   "source": [
    "TODO: Explain in a flowchart how to set up a model, explaining the modelling steps. "
   ]
  },
  {
   "cell_type": "markdown",
   "metadata": {},
   "source": [
    "TODO: Show perceptible drawing of a model area and explain what data we need to get. \n",
    "E.g. the water balance image from the lecture. "
   ]
  }
 ],
 "metadata": {
  "kernelspec": {
   "display_name": "Python 3 (ipykernel)",
   "language": "python",
   "name": "python3"
  },
  "language_info": {
   "codemirror_mode": {
    "name": "ipython",
    "version": 3
   },
   "file_extension": ".py",
   "mimetype": "text/x-python",
   "name": "python",
   "nbconvert_exporter": "python",
   "pygments_lexer": "ipython3",
   "version": "3.12.10"
  }
 },
 "nbformat": 4,
 "nbformat_minor": 4
}
