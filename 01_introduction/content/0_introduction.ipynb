{
 "cells": [
  {
   "cell_type": "markdown",
   "metadata": {},
   "source": [
    "week 1 | Groundwater\n",
    "\n",
    "# Topic 1 : Introduction to the Groundwater course\n",
    "\n",
    "Dr. Xiang-Zhao Kong & Dr. Beatrice Marti"
   ]
  },
  {
   "cell_type": "markdown",
   "metadata": {},
   "source": [
    "# Introduction to Groundwater Modeling: Your Journey Begins\n",
    "Welcome future groundwater modeler! In this interactive course, you'll embark on a journey to understand and master the fundamentals of groundwater flow and transport modeling. \n",
    "\n",
    "This course is designed to provide you with a solid foundation in groundwater modeling, equipping you with the knowledge and skills needed to tackle real-world challenges in engineering tasks in groundwater, groundwater management and environmental protection.\n",
    "\n",
    "## How to use this material\n",
    "In-person lectures for each topic will be complemented by this online material.\n",
    "\n",
    "You are expected to read and understand the material and to complete the tasks in the violet boxes in your own time. The tasks are short thinking exercises which help you reflect and apply what you just learned from reading through the material. You are not requried to hand in the tasks, but you are encouraged to discuss them with your peers and with your tutors during the in-person lectures as you will be expected to be able to answer these questions in the exams. Here is an example of a *thinking* task:\n",
    "\n",
    "<div style=\"padding: 1em; margin: 1em 0; border-left: 3px solid #8e44ad; background-color: #f5eef8;\">\n",
    "<strong>🤔 Think about it:</strong><br>\n",
    "What are the major hydrological processes in the Limmat valley aquifer?<br>\n",
    "Where would you set the boundaries of the Limmat valley aquifer?\n",
    "</div>\n",
    "\n",
    "Optional thinking exercises or tasks that allow you to explore a topic which will not be tested in the examp are marked with turquoise boxes. These tasks are here to introduce you to relevant topics for applied groundwater modelling which are relevant for practice but not required for passing this course. Here is an example of a *curious* task:\n",
    "\n",
    "<div style=\"padding: 1em; margin: 1em 0; border-left: 3px solid #2980b9; background-color: #ebf5fb;\">\n",
    "<strong>💡 For curious minds:</strong><br>\n",
    "Please take some time to familiarize yourself with the yearbook sheets.<br>\n",
    "Did you notice the different shapes of the flow duration curves? What does this tell you about the hydrological regime of the rivers?<br>\n",
    "Can you find the highest ever measured discharge in both rivers? Which one might be the more difficult to manage?\n",
    "</div>"
   ]
  }
 ],
 "metadata": {
  "kernelspec": {
   "display_name": "gw_course_students",
   "language": "python",
   "name": "python3"
  },
  "language_info": {
   "codemirror_mode": {
    "name": "ipython",
    "version": 3
   },
   "file_extension": ".py",
   "mimetype": "text/x-python",
   "name": "python",
   "nbconvert_exporter": "python",
   "pygments_lexer": "ipython3",
   "version": "3.12.10"
  }
 },
 "nbformat": 4,
 "nbformat_minor": 4
}
