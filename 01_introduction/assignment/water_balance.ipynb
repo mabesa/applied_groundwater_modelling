{
 "cells": [
  {
   "cell_type": "markdown",
   "metadata": {},
   "source": [
    "week 1 | Groundwater\n",
    "\n",
    "# Exercise 1 : Introduction to the Groundwater course - Water Balance of the Limmat Vally Aquifer\n",
    "\n",
    "Dr. Xiang-Zhao Kong & Dr. Beatrice Marti"
   ]
  },
  {
   "cell_type": "markdown",
   "metadata": {},
   "source": [
    "# Water Balance of the Limmat Valley Aquifer\n",
    "This is a auto-correcting assignment on the water balance of the Limmat Valley aquifer. \n",
    "\n",
    "Adapt existing Exercise 1 to Limmat Valley Aquifer. \n",
    "\n",
    "Make a manual groundwater balance and compare to a simulated groundwater balance?"
   ]
  },
  {
   "cell_type": "markdown",
   "metadata": {},
   "source": [
    "We don't need a water balance for every question. \n",
    "\n",
    "TODO: Multiple Choice Quizz:   \n",
    "For which of the following questions do you require a mean annual water balance?\n",
    "- How quickly will a contaminant reach the well?\n",
    "- How much water is available for drinking?\n",
    "- How much heat can I extract from the ground?\n",
    "- How many hectars of potatoes can I irrigate with groundwater?\n",
    "- How does the river renaturation affect the groundwater level?\n",
    "\n",
    "Correct answers: \n",
    "No - This is a contaminant transport question that primarily requires understanding of groundwater flow velocities, dispersion, and advection. You would need a calibrated flow model with appropriate hydraulic conductivities and gradients, but not necessarily a mean annual water balance. This is more focused on travel time calculation using flow paths and velocities.\n",
    "Yes - This directly requires a mean annual water balance. To determine sustainable yield for drinking water supply, you need to understand the overall recharge, discharge, and storage changes in the aquifer over an annual cycle to avoid overexploitation. The balance helps determine how much water can be sustainably extracted.\n",
    "No - This is primarily a thermal question involving heat transport modeling. While groundwater flow is involved in heat transport, the limiting factor is typically the thermal properties of the aquifer and heat exchange rates rather than the water balance itself.\n",
    "Yes - This requires a mean annual water balance to determine sustainable extraction rates. You need to know the annual recharge and existing demands to determine how much additional water can be allocated for irrigation without depleting the aquifer. The seasonal nature of both recharge and irrigation demand makes the annual balance particularly relevant.\n",
    "No - This is more focused on the local interaction between surface water and groundwater. While water balance components are involved (river-aquifer exchange), the question primarily requires a calibrated flow model with proper boundary conditions to simulate changes in groundwater levels due to modified river conditions. This is more of a hydraulic head distribution question than a water budget question."
   ]
  },
  {
   "cell_type": "markdown",
   "metadata": {},
   "source": [
    "<div style=\"padding: 1em; margin: 1em 0; border-left: 3px solid #8e44ad; background-color: #f5eef8;\">\n",
    "<strong>🤔 Think about it:</strong><br>\n",
    "What are the spatial and temporal boundaries of your water balance?<br>\n",
    "</div>"
   ]
  },
  {
   "cell_type": "markdown",
   "metadata": {},
   "source": [
    "Multiple Choice Quizz:\n",
    "Can you answer \n",
    "\n",
    "Multiple Choice Quizz:   \n",
    "What data do you need for the mean annual water balance of the Limmat Valley aquifer? "
   ]
  },
  {
   "cell_type": "markdown",
   "metadata": {},
   "source": [
    "Todo: implement dummy (and later real) functions to get the climate data.  \n",
    "get_mean_annual_precipiation_for_polygon(polygon)\n",
    "get_mean_annual_temperature_for_polygon(polygon)\n",
    "get_mean_annual_evapotranspiration_for_polygon(polygon)"
   ]
  }
 ],
 "metadata": {
  "kernelspec": {
   "display_name": "gw_course",
   "language": "python",
   "name": "python3"
  },
  "language_info": {
   "codemirror_mode": {
    "name": "ipython",
    "version": 3
   },
   "file_extension": ".py",
   "mimetype": "text/x-python",
   "name": "python",
   "nbconvert_exporter": "python",
   "pygments_lexer": "ipython3",
   "version": "3.13.0"
  }
 },
 "nbformat": 4,
 "nbformat_minor": 2
}
