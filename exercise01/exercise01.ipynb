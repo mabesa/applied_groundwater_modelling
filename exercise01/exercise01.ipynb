{
 "cells": [
  {
   "cell_type": "markdown",
   "metadata": {},
   "source": [
    "# Exercise 1 : Groundwater balance\n"
   ]
  },
  {
   "cell_type": "markdown",
   "metadata": {},
   "source": [
    "## Context\n",
    "\n",
    "This exercise focuses on an alpine headwater catchment, the Tsalet catchment, located in Wallis (see BAFU map below). \n",
    "- Precipitation rate (yearly average), $P$ :  1 mm/day \n",
    "- Source output, mean discharge rate, $Q$ : 20 L/s (continuous streamflow in the Tsalet stream)\n",
    "- Acquifer porosity, $\\phi$ : 0.2 \n",
    "\n",
    "\n",
    "<img src=\"sources/SwissTopoTsaletCatchment.png\" alt=\"Spring Catchment Area\" style=\"width:50%;\">\n",
    "\n"
   ]
  },
  {
   "cell_type": "markdown",
   "metadata": {},
   "source": [
    "## Task 1:\n",
    "\n",
    "We can assume the system to be at a steady state.\n",
    " - **Estimate $A$ the area of the Tsalet catchment in $\\text{km}^2$**"
   ]
  },
  {
   "cell_type": "code",
   "execution_count": 1,
   "metadata": {},
   "outputs": [
    {
     "name": "stdout",
     "output_type": "stream",
     "text": [
      "Area of the Tsalet catchement in km^2 (rounding to 1 decimal)?\n",
      "Your answer : 2\n",
      "Incorrect. The correct answer is 1.7\n"
     ]
    }
   ],
   "source": [
    "def check_task1():\n",
    "    questions = {\n",
    "        1: \"Area of the Tsalet catchement in km^2 (rounding to 1 decimal)?\",\n",
    "    }\n",
    "\n",
    "    correct_answers = {\n",
    "        1: '1.7',\n",
    "\n",
    "    }\n",
    "\n",
    "    score = 0\n",
    "    for q_num, question in questions.items():\n",
    "        print(question)\n",
    "\n",
    "        answer = input(\"Your answer in km^2 (eg. 1.4): \").lower().strip()\n",
    "        print(\"Your answer : \"+answer)\n",
    "        if answer == correct_answers[q_num]:\n",
    "            print(\"Correct!\")\n",
    "            score += 1\n",
    "        else:\n",
    "            print(f\"Incorrect. The correct answer is {correct_answers[q_num]}\")\n",
    "    return score\n",
    "\n",
    "\n",
    "# Run the task\n",
    "score = check_task1()"
   ]
  },
  {
   "cell_type": "markdown",
   "metadata": {},
   "source": [
    "## Task 2:\n",
    "The mean  residence time of water $\\tau$ was estimated to be 1 year. \n",
    "- **Estimate the total volume of the aquifer $V_{aq}$**"
   ]
  },
  {
   "cell_type": "code",
   "execution_count": 2,
   "metadata": {},
   "outputs": [
    {
     "name": "stdout",
     "output_type": "stream",
     "text": [
      "Total volume of the aquifer in m^3?\n",
      "Your answer : 2\n",
      "Incorrect. The correct answer is 3153600\n"
     ]
    }
   ],
   "source": [
    "def check_task2():\n",
    "    questions = {\n",
    "        1: \"Total volume of the aquifer in m^3?\",\n",
    "    }\n",
    "\n",
    "    correct_answers = {\n",
    "        1: '3153600',\n",
    "\n",
    "    }\n",
    "\n",
    "    score = 0\n",
    "    for q_num, question in questions.items():\n",
    "        print(question)\n",
    "\n",
    "        answer = input(\"Your answer in m^3 (eg. 490003): \").lower().strip()\n",
    "        print(\"Your answer : \"+answer)\n",
    "        if answer == correct_answers[q_num]:\n",
    "            print(\"Correct!\")\n",
    "            score += 1\n",
    "        else:\n",
    "            print(f\"Incorrect. The correct answer is {correct_answers[q_num]}\")\n",
    "    return score\n",
    "\n",
    "\n",
    "# Run the task\n",
    "score = check_task2()"
   ]
  },
  {
   "cell_type": "markdown",
   "metadata": {},
   "source": [
    "## Task 3:\n",
    "Based on the previous results :\n",
    "- **Estimate $M_{aq}$ the mean thickness of the aquifer**"
   ]
  },
  {
   "cell_type": "code",
   "execution_count": 3,
   "metadata": {},
   "outputs": [
    {
     "name": "stdout",
     "output_type": "stream",
     "text": [
      "Mean thickness the aquifer in meter (rounding to 1 decimal)?\n",
      "Your answer : 2\n",
      "Incorrect. The correct answer is 1.9\n"
     ]
    }
   ],
   "source": [
    "def check_task3():\n",
    "    questions = {\n",
    "        1: \"Mean thickness the aquifer in meter (rounding to 1 decimal)?\",\n",
    "    }\n",
    "\n",
    "    correct_answers = {\n",
    "        1: '1.9',\n",
    "\n",
    "    }\n",
    "\n",
    "    score = 0\n",
    "    for q_num, question in questions.items():\n",
    "        print(question)\n",
    "\n",
    "        answer = input(\"Your answer in meter (eg. 2.4): \").lower().strip()\n",
    "        print(\"Your answer : \"+answer)\n",
    "        if answer == correct_answers[q_num]:\n",
    "            print(\"Correct!\")\n",
    "            score += 1\n",
    "        else:\n",
    "            print(f\"Incorrect. The correct answer is {correct_answers[q_num]}\")\n",
    "    return score\n",
    "\n",
    "\n",
    "# Run the task\n",
    "score = check_task3()"
   ]
  },
  {
   "cell_type": "markdown",
   "metadata": {},
   "source": [
    "### Solution 1:\n",
    "We must have that $ V_{in} = V_{out} $.\n",
    "\n",
    "Water input volume over 1 day is $ V_{in} = P \\times A \\times t $ where:\n",
    "- $ P $ is the precipitation recharge rate in km/day, $ P = 1 \\text{mm/day} = 1 \\times 10^{-6} \\text{km/day} $\n",
    "- $ A $ is the area of the catchment in $\\text{km}^2$\n",
    "- $ t $ is 1 day\n",
    "\n",
    "Water output volume over 1 day is $ V_{out} = Q \\times t $ where:\n",
    "- $ Q $ is the flow rate in $\\text{km}^3$/day, $ Q = 1728 \\text{m}^3/\\text{day} = 1728 \\times 10^{-9} \\text{km}^3/\\text{day} $\n",
    "- $ t $ is 1 day\n",
    "\n",
    "So we have that $ P \\times A \\times t = Q \\times t $\n",
    "\n",
    "We can solve $ A = \\frac{1728 \\times 10^{-9}}{1 \\times 10^{-6}} \\simeq 1.7 \\text{km}^2 $\n",
    "\n",
    "This result is close to the value from the BAFU :\n",
    "\n",
    "<img src=\"../07_Exercises_Louise/Sources/SwissTopoTsaletArea.png\" alt=\"Spring Catchment Area\" style=\"width:50%;\">"
   ]
  },
  {
   "cell_type": "markdown",
   "metadata": {},
   "source": [
    "### Solution 2:\n",
    "\n",
    "The volume of water $V_{out}$ going out from the aquifer in one residence time period $\\tau$ is needed to estimate the volume of the aquifer itself $V_{aq}$. We also need to take into account the aquifer porosity. \n",
    "\n",
    "Overall we have that $V_{aq} = \\frac{V_{out}}{\\phi}$ where :\n",
    " - $V_{out} = Q \\times \\tau = 1728 \\text{m}^3/\\text{day} \\times 365 \\text{ day} = 1728 \\times 365 \\text{m}^3 $\n",
    " - ${\\phi} = 0.2$\n",
    "\n",
    "Finally, $V_{acq} = 1728 \\times 365 \\text{m}^3 / 0.2 = 3153600 \\text{m}^3$\n"
   ]
  },
  {
   "cell_type": "markdown",
   "metadata": {},
   "source": [
    "### Solution 3:\n",
    "\n",
    "The thickness is : $M_{aq} = \\frac{V_{acq}}{A} = \\frac{3123600}{1.7} \\frac{ \\text{m}^3 }{\\text{km}^2} = \\frac{3123600}{1.7 \\times 10^6}\\text{m} \\simeq 1.9 \\text{m}$\n",
    "\n"
   ]
  },
  {
   "cell_type": "markdown",
   "metadata": {},
   "source": []
  }
 ],
 "metadata": {
  "kernelspec": {
   "display_name": "VenvExercise1",
   "language": "python",
   "name": "python3"
  },
  "language_info": {
   "codemirror_mode": {
    "name": "ipython",
    "version": 3
   },
   "file_extension": ".py",
   "mimetype": "text/x-python",
   "name": "python",
   "nbconvert_exporter": "python",
   "pygments_lexer": "ipython3",
   "version": "3.12.4"
  }
 },
 "nbformat": 4,
 "nbformat_minor": 2
}
