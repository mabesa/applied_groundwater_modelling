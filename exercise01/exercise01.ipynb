{
 "cells": [
  {
   "cell_type": "code",
   "execution_count": null,
   "metadata": {},
   "outputs": [],
   "source": [
    "# Setting up the notebook\n",
    "import sys\n",
    "import os\n",
    "import matplotlib.pyplot as plt\n",
    "\n",
    "# Import local libraries\n",
    "sys.path.append('../exercises_complements')\n",
    "from shared_functions import check_task_with_solution\n",
    "from print_images import display_image\n",
    "\n"
   ]
  },
  {
   "cell_type": "markdown",
   "metadata": {},
   "source": [
    "# Exercise 1 : Groundwater balance"
   ]
  },
  {
   "cell_type": "markdown",
   "metadata": {},
   "source": [
    "## Context\n",
    "\n",
    "This exercise focuses on an alpine headwater catchment, the Tsalet catchment, located in Wallis (see BAFU map below). \n",
    "- Net recharge rate (yearly average), $P$ :  1 mm/day (1)\n",
    "- Source output, mean discharge rate, $Q$ : 20 L/s (continuous streamflow in the Tsalet stream) (1)\n",
    "- Acquifer porosity, $\\phi$ : 0.2 \n",
    "\n"
   ]
  },
  {
   "cell_type": "markdown",
   "metadata": {},
   "source": [
    "## Map of the situation "
   ]
  },
  {
   "cell_type": "code",
   "execution_count": null,
   "metadata": {},
   "outputs": [],
   "source": [
    "display_image('SwissTopoTsaletCatchment.png')"
   ]
  },
  {
   "cell_type": "markdown",
   "metadata": {},
   "source": [
    "## Tasks"
   ]
  },
  {
   "cell_type": "code",
   "execution_count": null,
   "metadata": {},
   "outputs": [],
   "source": [
    "# Launch the tasks\n",
    "check_task_with_solution(\"task01_1\")\n",
    "check_task_with_solution(\"task01_3\")"
   ]
  },
  {
   "cell_type": "markdown",
   "metadata": {},
   "source": [
    "## Uncertainty on the Area result"
   ]
  },
  {
   "cell_type": "markdown",
   "metadata": {},
   "source": [
    "We are interested in investigating the uncertainties in $A$ estimation. Indeed, the BAFU area is pretty close to our result, but we can still notice a difference.\n",
    "\n",
    "To compute the catchment area, we used both the net recharge rate $P$ and the output river discharge rate $Q$. You are now given uncertainties on initial data values: \n",
    "\n",
    "- Net recharge rate (yearly average), $P$ =  $1.0\\pm0.1$ mm/day (1)\n",
    "- Source output, mean discharge rate, $Q$ = $20\\pm5$ L/s (continuous streamflow in the Tsalet stream) (1)\n"
   ]
  },
  {
   "cell_type": "code",
   "execution_count": null,
   "metadata": {},
   "outputs": [],
   "source": [
    "# Launch the tasks\n",
    "check_task_with_solution(\"task01_4\")"
   ]
  },
  {
   "cell_type": "markdown",
   "metadata": {},
   "source": [
    "## References\n",
    "\n",
    "(1) Halloran, Landon & Millwater, Jeremy & Hunkeler, Daniel & Arnoux, Marie. (2023). \"Climate change impacts on groundwater discharge-dependent streamflow in an alpine headwater catchment\". Science of The Total Environment. 902. 166009. 10.1016/j.scitotenv.2023.166009. \n",
    "\n",
    "(2) https://www.bafu.admin.ch/bafu/en/home/topics/water/state/maps/geodata/einzugsgebietsgliederung-schweiz.html#-728951671"
   ]
  }
 ],
 "metadata": {
  "kernelspec": {
   "display_name": "gw_course_development",
   "language": "python",
   "name": "python3"
  },
  "language_info": {
   "codemirror_mode": {
    "name": "ipython",
    "version": 3
   },
   "file_extension": ".py",
   "mimetype": "text/x-python",
   "name": "python",
   "nbconvert_exporter": "python",
   "pygments_lexer": "ipython3",
   "version": "3.12.10"
  }
 },
 "nbformat": 4,
 "nbformat_minor": 2
}
