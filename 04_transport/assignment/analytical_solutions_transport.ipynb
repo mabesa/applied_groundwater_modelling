{
 "cells": [
  {
   "cell_type": "markdown",
   "metadata": {},
   "source": [
    "week 4 | Groundwater\n",
    "\n",
    "# Exercise 4 : Analytical solutions to transport problems in groundwater \n",
    "\n",
    "Dr. Xiang-Zhao Kong & Dr. Beatrice Marti"
   ]
  },
  {
   "cell_type": "code",
   "execution_count": null,
   "metadata": {},
   "outputs": [],
   "source": [
    "# Setting up the notebook\n",
    "import sys\n",
    "import os\n",
    "\n"
   ]
  },
  {
   "cell_type": "markdown",
   "metadata": {},
   "source": [
    "State problems in the students can solve with analytical solutions. Meaningful for quick estimates and if no numerical model is available.\n",
    "\n",
    "Set a selection of existing Exercises of topic 10 in a case study context (not necessarily the Limmat valley aquifer).\n",
    "\n",
    "Have one in the Limmat valley aquifer and let students compare the analytical solution with the numerical model.\n",
    "\n",
    "Exercise:\n",
    "Design a tracer test in the Limmat valley aquifer."
   ]
  }
 ],
 "metadata": {
  "kernelspec": {
   "display_name": "gw_course",
   "language": "python",
   "name": "python3"
  },
  "language_info": {
   "codemirror_mode": {
    "name": "ipython",
    "version": 3
   },
   "file_extension": ".py",
   "mimetype": "text/x-python",
   "name": "python",
   "nbconvert_exporter": "python",
   "pygments_lexer": "ipython3",
   "version": "3.13.0"
  }
 },
 "nbformat": 4,
 "nbformat_minor": 2
}
