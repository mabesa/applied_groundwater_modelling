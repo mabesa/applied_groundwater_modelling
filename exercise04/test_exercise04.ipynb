import unittest
import numpy as np
from ipywidgets import widgets
from IPython.display import display, Markdown, clear_output
from unittest.mock import patch

# Assuming K_eq and h_function_plot are defined in the same notebook or imported
# If they are in a separate file, you'll need to import them.
# For example: from your_module import K_eq, h_function_plot

class TestExercise04(unittest.TestCase):

    def test_K_eq_vertical(self):
        """Test K_eq function for vertical layering."""
        K1, K2, K3 = 1e-5, 2e-5, 3e-5
        L1, L2, L3 = 10, 10, 0
        K_eq_expected = (L1 + L2) / ((L1 / K1) + (L2 / K2))
        # Assuming K_eq is defined in the notebook or imported
        K_eq_calculated = K_eq("vertical", K1, K2, K3, L1, L2, L3)
        self.assertAlmostEqual(K_eq_calculated, K_eq_expected, msg="Vertical K_eq calculation failed")

    def test_K_eq_horizontal(self):
        """Test K_eq function for horizontal layering."""
        K1, K2, K3 = 1e-5, 2e-5, 3e-5
        L1, L2, L3 = 10, 10, 10
        K_eq_expected = (K1 * L1 + K2 * L2 + K3 * L3) / (L1 + L2 + L3)
        # Assuming K_eq is defined in the notebook or imported
        K_eq_calculated = K_eq("horizontal", K1, K2, K3, L1, L2, L3)
        self.assertAlmostEqual(K_eq_calculated, K_eq_expected, msg="Horizontal K_eq calculation failed")

    def test_K_eq_invalid_type(self):
        """Test K_eq function with an invalid layering type."""
        with self.assertRaises(ValueError, msg="Invalid type should raise ValueError"):
            # Assuming K_eq is defined in the notebook or imported
            K_eq("invalid", 1e-5, 2e-5, 3e-5, 10, 10, 10)

    @patch('__main__.k_eq_inputs', [widgets.Text(value='1e-05') for _ in range(6)])
    @patch('__main__.profile_inputs', [widgets.Text(value='1') for _ in range(6)])
    def test_on_submit_correct_values(self):
        """Test on_submit function with correct user inputs."""

        # Call the on_submit function
        try:
            on_submit(None)  # Simulate a button click
        except Exception as e:
            self.fail(f"on_submit raised an exception: {e}")

    @patch('__main__.k_eq_inputs', [widgets.Text(value='0') for _ in range(6)])
    @patch('__main__.profile_inputs', [widgets.Text(value='7') for _ in range(6)])
    def test_on_submit_incorrect_values(self):
        """Test on_submit function with incorrect user inputs."""
        # Call the on_submit function
        try:
            on_submit(None)  # Simulate a button click
        except Exception as e:
            self.fail(f"on_submit raised an exception: {e}")