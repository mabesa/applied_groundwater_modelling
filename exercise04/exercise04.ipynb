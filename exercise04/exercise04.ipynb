{
 "cells": [
  {
   "cell_type": "markdown",
   "metadata": {},
   "source": [
    "# Exercise 4 : Darcy law\n",
    "\n",
    "## Context\n",
    "\n",
    "This exercise helps you to familiarize with Darcy law, for 1D and steady state conditions.\n",
    "\n",
    "A soil layer has the following properties :\n",
    "- length $L$ : 40 $\\text{m}$\n",
    "- hydraulic conductivity $K$ :  $5 \\cdot 10^{-5} \\text{m}\\text{s}^{-1}$\n",
    "\n",
    "The water goes horizontally through the layer. Inflow and outflow specific discharges are equal at steady state. The discharge per unit width of the aquifer can be measured and it is found to be $q$ = $3 \\cdot 10^{-6}\\text{m}^2\\text{s}^{-1}$.\n",
    "\n",
    "An observation wells is installed at $x_0$ and measures the water table hight there: $h(x_0)$= 50m.\n"
   ]
  },
  {
   "cell_type": "code",
   "execution_count": 2,
   "metadata": {},
   "outputs": [
    {
     "data": {
      "text/markdown": [
       "\n",
       "## Task 1:\n",
       "Based on given data, estimate the water table level at $x$ = 200m :\n"
      ],
      "text/plain": [
       "<IPython.core.display.Markdown object>"
      ]
     },
     "metadata": {},
     "output_type": "display_data"
    },
    {
     "data": {
      "application/vnd.jupyter.widget-view+json": {
       "model_id": "dcfeb2f554c946d395c3bc500323215b",
       "version_major": 2,
       "version_minor": 0
      },
      "text/plain": [
       "FloatText(value=0.0, description='Answer:', style=DescriptionStyle(description_width='initial'))"
      ]
     },
     "metadata": {},
     "output_type": "display_data"
    },
    {
     "data": {
      "application/vnd.jupyter.widget-view+json": {
       "model_id": "4d8eee96dade474b84dd54d866dc7f20",
       "version_major": 2,
       "version_minor": 0
      },
      "text/plain": [
       "Button(description='Submit', style=ButtonStyle())"
      ]
     },
     "metadata": {},
     "output_type": "display_data"
    },
    {
     "data": {
      "application/vnd.jupyter.widget-view+json": {
       "model_id": "4249ce5585044a4e98214694dd93f6a5",
       "version_major": 2,
       "version_minor": 0
      },
      "text/plain": [
       "Output()"
      ]
     },
     "metadata": {},
     "output_type": "display_data"
    },
    {
     "data": {
      "application/vnd.jupyter.widget-view+json": {
       "model_id": "83c5087cfe9e452e85aa95c2cc688683",
       "version_major": 2,
       "version_minor": 0
      },
      "text/plain": [
       "Button(description='Show Solution', disabled=True, style=ButtonStyle())"
      ]
     },
     "metadata": {},
     "output_type": "display_data"
    },
    {
     "data": {
      "application/vnd.jupyter.widget-view+json": {
       "model_id": "643d8045052e4c98a4c170e14efa6726",
       "version_major": 2,
       "version_minor": 0
      },
      "text/plain": [
       "Output()"
      ]
     },
     "metadata": {},
     "output_type": "display_data"
    },
    {
     "data": {
      "text/markdown": [
       "\n",
       "## Task 2:\n",
       "Based on given data, estimate the water table level at $x$ = 400m :\n"
      ],
      "text/plain": [
       "<IPython.core.display.Markdown object>"
      ]
     },
     "metadata": {},
     "output_type": "display_data"
    },
    {
     "data": {
      "application/vnd.jupyter.widget-view+json": {
       "model_id": "a11307bf8dc849eb848c465b1e6806aa",
       "version_major": 2,
       "version_minor": 0
      },
      "text/plain": [
       "FloatText(value=0.0, description='Answer:', style=DescriptionStyle(description_width='initial'))"
      ]
     },
     "metadata": {},
     "output_type": "display_data"
    },
    {
     "data": {
      "application/vnd.jupyter.widget-view+json": {
       "model_id": "3cefb64485294728b003cac8bf0ecae8",
       "version_major": 2,
       "version_minor": 0
      },
      "text/plain": [
       "Button(description='Submit', style=ButtonStyle())"
      ]
     },
     "metadata": {},
     "output_type": "display_data"
    },
    {
     "data": {
      "application/vnd.jupyter.widget-view+json": {
       "model_id": "dc13e74689fe4df29ae40df2e581928c",
       "version_major": 2,
       "version_minor": 0
      },
      "text/plain": [
       "Output()"
      ]
     },
     "metadata": {},
     "output_type": "display_data"
    },
    {
     "data": {
      "application/vnd.jupyter.widget-view+json": {
       "model_id": "03d8f91214fe4eff85a5b17462cb298e",
       "version_major": 2,
       "version_minor": 0
      },
      "text/plain": [
       "Button(description='Show Solution', disabled=True, style=ButtonStyle())"
      ]
     },
     "metadata": {},
     "output_type": "display_data"
    },
    {
     "data": {
      "application/vnd.jupyter.widget-view+json": {
       "model_id": "3999ddf5a345441f806ce799f42e6864",
       "version_major": 2,
       "version_minor": 0
      },
      "text/plain": [
       "Output()"
      ]
     },
     "metadata": {},
     "output_type": "display_data"
    }
   ],
   "source": [
    "# Setting up the notebook\n",
    "import sys\n",
    "import os\n",
    "\n",
    "# Import local libraries\n",
    "sys.path.append('../exercises_complements')\n",
    "from shared_functions import check_task_with_solution\n",
    "\n",
    "# Check the tasks for this exercise\n",
    "check_task_with_solution(\"task04_1\")\n",
    "check_task_with_solution(\"task04_2\")"
   ]
  },
  {
   "cell_type": "markdown",
   "metadata": {},
   "source": [
    "## Interactive exploration\n",
    "\n",
    "The following tool offers an interactive illustration of the situation previously studied. \n",
    "\n",
    "The default values of $K$ and $q$ are the ones fixed previously, which you used for the Tasks 1 and 2. \n",
    "\n",
    "You are encouraged to use the sliders in order to see how changes in $K$ and/or $q$ impact the water table profile $h(x)$."
   ]
  },
  {
   "cell_type": "code",
   "execution_count": 3,
   "metadata": {},
   "outputs": [
    {
     "data": {
      "application/vnd.jupyter.widget-view+json": {
       "model_id": "9f8590ecc4524f8fb7919f2a0221f3f2",
       "version_major": 2,
       "version_minor": 0
      },
      "text/plain": [
       "interactive(children=(FloatSlider(value=5e-05, description='K:', max=0.0001, min=1e-05, step=1e-05), FloatSlid…"
      ]
     },
     "metadata": {},
     "output_type": "display_data"
    }
   ],
   "source": [
    "# Setting up the notebook\n",
    "import sys\n",
    "import os\n",
    "\n",
    "# Import local libraries\n",
    "sys.path.append('../exercises_complements')\n",
    "from darcy_functions import launch_darcy_experiment_interactive\n",
    "\n",
    "# Check the tasks for this exercise\n",
    "launch_darcy_experiment_interactive()"
   ]
  },
  {
   "cell_type": "code",
   "execution_count": null,
   "metadata": {},
   "outputs": [],
   "source": []
  }
 ],
 "metadata": {
  "kernelspec": {
   "display_name": ".venv",
   "language": "python",
   "name": "python3"
  },
  "language_info": {
   "codemirror_mode": {
    "name": "ipython",
    "version": 3
   },
   "file_extension": ".py",
   "mimetype": "text/x-python",
   "name": "python",
   "nbconvert_exporter": "python",
   "pygments_lexer": "ipython3",
   "version": "3.13.2"
  }
 },
 "nbformat": 4,
 "nbformat_minor": 2
}
