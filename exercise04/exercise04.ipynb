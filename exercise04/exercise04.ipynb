{
 "cells": [
  {
   "cell_type": "code",
   "execution_count": 1,
   "metadata": {},
   "outputs": [],
   "source": [
    "# Setting up the notebook\n",
    "import sys\n",
    "import os\n",
    "\n",
    "# Import local libraries\n",
    "sys.path.append('../exercises_complements')\n",
    "from shared_functions import check_task_with_solution\n",
    "from darcy_functions import launch_darcy_experiment_interactive\n",
    "from darcy_several_layers_keq import exercise_aquifers_layered_keq_attribution"
   ]
  },
  {
   "cell_type": "markdown",
   "metadata": {},
   "source": [
    "# Exercise 4 : Darcy law\n",
    "\n",
    "## Context\n",
    "\n",
    "This exercise helps you to familiarize with Darcy law, for 1D and steady state conditions.\n",
    "\n",
    "A soil layer has the following properties :\n",
    "- length $L$ : 40 $\\text{m}$\n",
    "- hydraulic conductivity $K$ :  $5 \\cdot 10^{-5} \\text{m}\\text{s}^{-1}$\n",
    "\n",
    "The water goes horizontally through the layer. Inflow and outflow specific discharges are equal at steady state. The discharge per unit width of the aquifer can be measured and it is found to be $q$ = $3 \\cdot 10^{-6}\\text{m}^2\\text{s}^{-1}$.\n",
    "\n",
    "An observation wells is installed at $x_0$ and measures the water table hight there: $h(x_0)$= 50m.\n"
   ]
  },
  {
   "cell_type": "code",
   "execution_count": 5,
   "metadata": {},
   "outputs": [
    {
     "data": {
      "text/markdown": [
       "\n",
       "## Task 1:\n",
       "Based on given data, estimate the water table level at $x$ = 200m :\n"
      ],
      "text/plain": [
       "<IPython.core.display.Markdown object>"
      ]
     },
     "metadata": {},
     "output_type": "display_data"
    },
    {
     "data": {
      "application/vnd.jupyter.widget-view+json": {
       "model_id": "cc1403f1718e49ad8afd52181df424e1",
       "version_major": 2,
       "version_minor": 0
      },
      "text/plain": [
       "HBox(children=(FloatText(value=0.0, description='Answer:', style=DescriptionStyle(description_width='initial')…"
      ]
     },
     "metadata": {},
     "output_type": "display_data"
    },
    {
     "data": {
      "application/vnd.jupyter.widget-view+json": {
       "model_id": "f6d850956790499fb5798f2f015db401",
       "version_major": 2,
       "version_minor": 0
      },
      "text/plain": [
       "Output()"
      ]
     },
     "metadata": {},
     "output_type": "display_data"
    },
    {
     "data": {
      "application/vnd.jupyter.widget-view+json": {
       "model_id": "70f0bcfb25d54db18f9dac59c178173f",
       "version_major": 2,
       "version_minor": 0
      },
      "text/plain": [
       "Button(description='Show Solution', disabled=True, style=ButtonStyle())"
      ]
     },
     "metadata": {},
     "output_type": "display_data"
    },
    {
     "data": {
      "application/vnd.jupyter.widget-view+json": {
       "model_id": "17444057d70749d8ac43f2e61dda8f77",
       "version_major": 2,
       "version_minor": 0
      },
      "text/plain": [
       "Output()"
      ]
     },
     "metadata": {},
     "output_type": "display_data"
    },
    {
     "data": {
      "text/markdown": [
       "\n",
       "## Task 2:\n",
       "Based on given data, estimate the water table level at $x$ = 400m :\n"
      ],
      "text/plain": [
       "<IPython.core.display.Markdown object>"
      ]
     },
     "metadata": {},
     "output_type": "display_data"
    },
    {
     "data": {
      "application/vnd.jupyter.widget-view+json": {
       "model_id": "1a4168074ad844dfad3b20273c31f670",
       "version_major": 2,
       "version_minor": 0
      },
      "text/plain": [
       "HBox(children=(FloatText(value=0.0, description='Answer:', style=DescriptionStyle(description_width='initial')…"
      ]
     },
     "metadata": {},
     "output_type": "display_data"
    },
    {
     "data": {
      "application/vnd.jupyter.widget-view+json": {
       "model_id": "ad3b32b757c842bba0650259195f4c54",
       "version_major": 2,
       "version_minor": 0
      },
      "text/plain": [
       "Output()"
      ]
     },
     "metadata": {},
     "output_type": "display_data"
    },
    {
     "data": {
      "application/vnd.jupyter.widget-view+json": {
       "model_id": "27283d44dafa4426bcb9220c6a5a93a6",
       "version_major": 2,
       "version_minor": 0
      },
      "text/plain": [
       "Button(description='Show Solution', disabled=True, style=ButtonStyle())"
      ]
     },
     "metadata": {},
     "output_type": "display_data"
    },
    {
     "data": {
      "application/vnd.jupyter.widget-view+json": {
       "model_id": "48478e878a294939833b0a69b9786788",
       "version_major": 2,
       "version_minor": 0
      },
      "text/plain": [
       "Output()"
      ]
     },
     "metadata": {},
     "output_type": "display_data"
    }
   ],
   "source": [
    "\n",
    "\n",
    "# Check the tasks for this exercise\n",
    "check_task_with_solution(\"task04_1\")\n",
    "check_task_with_solution(\"task04_2\")"
   ]
  },
  {
   "cell_type": "markdown",
   "metadata": {},
   "source": [
    "## Interactive exploration\n",
    "\n",
    "The following tool offers an interactive illustration of the situation previously studied. \n",
    "\n",
    "The default values of $K$ and $q$ are the ones fixed previously, which you used for the Tasks 1 and 2. \n",
    "\n",
    "You are encouraged to use the sliders in order to see how changes in $K$ and/or $q$ impact the water table profile $h(x)$."
   ]
  },
  {
   "cell_type": "code",
   "execution_count": 6,
   "metadata": {},
   "outputs": [
    {
     "data": {
      "application/vnd.jupyter.widget-view+json": {
       "model_id": "b86862b100fe4c669b6dcafe90735c2a",
       "version_major": 2,
       "version_minor": 0
      },
      "text/plain": [
       "interactive(children=(FloatSlider(value=5e-05, description='K:', max=0.0001, min=1e-05, step=1e-05), FloatSlid…"
      ]
     },
     "metadata": {},
     "output_type": "display_data"
    }
   ],
   "source": [
    "\n",
    "# Check the tasks for this exercise\n",
    "launch_darcy_experiment_interactive()"
   ]
  },
  {
   "cell_type": "code",
   "execution_count": null,
   "metadata": {},
   "outputs": [
    {
     "data": {
      "image/png": "[encoded data removed]",
      "text/plain": [
       "<Figure size 746.667x466.667 with 6 Axes>"
      ]
     },
     "metadata": {},
     "output_type": "display_data"
    },
    {
     "data": {
      "image/png": "[encoded data removed]",
      "text/plain": [
       "<Figure size 733.333x466.667 with 6 Axes>"
      ]
     },
     "metadata": {},
     "output_type": "display_data"
    },
    {
     "data": {
      "text/markdown": [
       "  ## Submission <br>\n",
       "    ### Enter the values of $K_{eq}$ *in um/s* and the profile number (1-6) for each schematic. Once you have entered the values, click the \"Submit All\" button to check your answers. <br>"
      ],
      "text/plain": [
       "<IPython.core.display.Markdown object>"
      ]
     },
     "metadata": {},
     "output_type": "display_data"
    },
    {
     "data": {
      "application/vnd.jupyter.widget-view+json": {
       "model_id": "44527151278f40d78b3f6c452845a4ad",
       "version_major": 2,
       "version_minor": 0
      },
      "text/plain": [
       "GridBox(children=(Label(value='Schematic:', layout=Layout(align_items='center', border_bottom='solid 1px black…"
      ]
     },
     "metadata": {},
     "output_type": "display_data"
    },
    {
     "data": {
      "application/vnd.jupyter.widget-view+json": {
       "model_id": "7bdb0a6ecd2b405fb2a16435bc604750",
       "version_major": 2,
       "version_minor": 0
      },
      "text/plain": [
       "Button(description='Submit All', layout=Layout(height='30px', width='150px'), style=ButtonStyle())"
      ]
     },
     "metadata": {},
     "output_type": "display_data"
    },
    {
     "data": {
      "application/vnd.jupyter.widget-view+json": {
       "model_id": "dc283dfbb14841b6954044216db907e2",
       "version_major": 2,
       "version_minor": 0
      },
      "text/plain": [
       "Output()"
      ]
     },
     "metadata": {},
     "output_type": "display_data"
    }
   ],
   "source": [
    "exercise_aquifers_layered_keq_attribution()"
   ]
  },
  {
   "cell_type": "markdown",
   "metadata": {},
   "source": [
    "Develppment\n"
   ]
  },
  {
   "cell_type": "code",
   "execution_count": 7,
   "metadata": {},
   "outputs": [
    {
     "data": {
      "image/png": "[encoded data removed]",
      "text/plain": [
       "<Figure size 800x400 with 1 Axes>"
      ]
     },
     "metadata": {},
     "output_type": "display_data"
    },
    {
     "data": {
      "text/markdown": [
       "### Submit the value of $h$ at $x = L$"
      ],
      "text/plain": [
       "<IPython.core.display.Markdown object>"
      ]
     },
     "metadata": {},
     "output_type": "display_data"
    },
    {
     "data": {
      "application/vnd.jupyter.widget-view+json": {
       "model_id": "43a60d3d957a441686b0aaf05695f692",
       "version_major": 2,
       "version_minor": 0
      },
      "text/plain": [
       "HBox(children=(FloatText(value=0.0, description='h(L):', style=DescriptionStyle(description_width='initial')),…"
      ]
     },
     "metadata": {},
     "output_type": "display_data"
    },
    {
     "data": {
      "application/vnd.jupyter.widget-view+json": {
       "model_id": "cf29ddd1317b4ace9aebd0c54f0ae505",
       "version_major": 2,
       "version_minor": 0
      },
      "text/plain": [
       "Output()"
      ]
     },
     "metadata": {},
     "output_type": "display_data"
    }
   ],
   "source": [
    "import matplotlib.pyplot as plt\n",
    "import numpy as np\n",
    "import ipywidgets as widgets\n",
    "from IPython.display import display, Markdown, clear_output\n",
    "\n",
    "def interactive_confined_aquifer():\n",
    "    \"\"\"\n",
    "    Interactive tool to visualize a confined aquifer with two layers of differing K values.\n",
    "    Initially, only the schematic is shown, and the student is asked to input h(L).\n",
    "    After submission, the correction is shown, and the h(x) plot is displayed below the schematic.\n",
    "    \"\"\"\n",
    "    # Parameters\n",
    "    L = 10  # Length of each layer (m)\n",
    "    K1 = 5e-5  # Hydraulic conductivity of the first layer (m/s)\n",
    "    K2 = 1e-5  # Hydraulic conductivity of the second layer (m/s)\n",
    "    q = 3e-6  # Specific discharge (m^2/s)\n",
    "    h0 = 50  # Hydraulic head at x = 0 (m)\n",
    "    h2L = 45  # Hydraulic head at x = 2L (m)\n",
    "\n",
    "    # Calculate h(x) for the two layers\n",
    "    x1 = np.linspace(0, L, 100)  # x values for the first layer\n",
    "    x2 = np.linspace(L, 2 * L, 100)  # x values for the second layer\n",
    "    h1 = h0 - (q / K1) * x1  # h(x) in the first layer\n",
    "    h2 = h1[-1] - (q / K2) * (x2 - L)  # h(x) in the second layer\n",
    "\n",
    "    # Function to draw the schematic# Function to draw the schematic\n",
    "    def draw_schematic():\n",
    "        fig, ax = plt.subplots(figsize=(8, 4))\n",
    "\n",
    "        # Draw the two layers\n",
    "        ax.add_patch(plt.Rectangle((0, 4), L, 2, edgecolor=\"black\", facecolor=\"blue\", alpha=0.3, label=\"Layer 1\"))\n",
    "        ax.add_patch(plt.Rectangle((L, 4), L, 2, edgecolor=\"black\", facecolor=\"green\", alpha=0.3, label=\"Layer 2\"))\n",
    "\n",
    "        # Draw the wells as piezometers (tubes)\n",
    "        # Well at x=0\n",
    "        ax.add_patch(plt.Rectangle((-1, 4), 2, 3, edgecolor=\"black\", facecolor=\"white\", label=\"Well at x=0\"))\n",
    "        ax.hlines(6.8, -1, 1, colors=\"blue\", linewidth=2)  # Water table level inside the well\n",
    "\n",
    "        # Well at x=2L\n",
    "        ax.add_patch(plt.Rectangle((2 * L - 1, 4), 2, 3, edgecolor=\"black\", facecolor=\"white\", label=\"Well at x=2L\"))\n",
    "        ax.hlines(6.3, 2 * L - 1, 2 * L + 1, colors=\"blue\", linewidth=2)  # Water table level inside the well\n",
    "\n",
    "        # Well at x=L (Boundary)\n",
    "        ax.vlines(L, 4, 6, colors=\"red\", linewidth=2, label=\"Well at x=L (Boundary)\")\n",
    "\n",
    "        # Add labels for the wells\n",
    "        ax.text(0, 7.5, f\"h(0) = {h0} m\", fontsize=10, ha=\"center\")\n",
    "        ax.text(L, 6.5, \"h(L) = ?\", fontsize=10, ha=\"center\", color=\"red\")\n",
    "        ax.text(2 * L, 7.5, f\"h(2L) = {h2L} m\", fontsize=10, ha=\"center\")\n",
    "\n",
    "        # Add the x-axis at the bottom\n",
    "        ax.hlines(3.5, 0, 2 * L, colors=\"black\", linewidth=1)  # Horizontal line for the x-axis\n",
    "        ax.text(0, 3, \"$x$ = 0\", fontsize=10, ha=\"center\")  # Label for x=0\n",
    "        ax.text(L, 3, \"$x$ = L\", fontsize=10, ha=\"center\")  # Label for x=L\n",
    "        ax.text(2 * L, 3, \"$x$ = 2L\", fontsize=10, ha=\"center\")  # Label for x=2L\n",
    "\n",
    "        # Add ticks on the x-axis\n",
    "        ax.vlines(0, 3.4, 3.6, colors=\"black\", linewidth=1)  # Tick at x=0\n",
    "        ax.vlines(L, 3.4, 3.6, colors=\"black\", linewidth=1)  # Tick at x=L\n",
    "        ax.vlines(2 * L, 3.4, 3.6, colors=\"black\", linewidth=1)  # Tick at x=2L\n",
    "\n",
    "        ax.set_xlim(-5, 2 * L + 5)\n",
    "        ax.set_ylim(0, 10)\n",
    "        ax.set_title(\"Schematic of Confined Aquifer\", fontsize=14)\n",
    "        ax.set_xlabel(\"$x$ [m]\", fontsize=12)\n",
    "        ax.axis(\"off\")\n",
    "        ax.legend(fontsize=10)\n",
    "\n",
    "        plt.tight_layout()\n",
    "        plt.show()\n",
    "\n",
    "    # Function to draw the h(x) plot\n",
    "    def draw_hx_plot():\n",
    "        fig, ax = plt.subplots(figsize=(4, 4))\n",
    "\n",
    "        # Plot h(x)\n",
    "        ax.plot(x1, h1, label=f\"Layer 1 (K = {K1} m/s)\", color=\"blue\")\n",
    "        ax.plot(x2, h2, label=f\"Layer 2 (K = {K2} m/s)\", color=\"green\")\n",
    "        ax.axvline(L, color=\"red\", linestyle=\"--\", label=\"x = L (Boundary)\")\n",
    "\n",
    "        ax.set_title(\"Hydraulic Head $h(x)$ vs Horizontal Location $x$\", fontsize=14)\n",
    "        ax.set_xlabel(\"$x$ [m]\", fontsize=12)\n",
    "        ax.set_ylabel(\"$h(x)$ [m]\", fontsize=12)\n",
    "        ax.legend(fontsize=10)\n",
    "        ax.grid(True)\n",
    "\n",
    "        plt.tight_layout()\n",
    "        plt.show()\n",
    "\n",
    "    # Display the schematic\n",
    "    draw_schematic()\n",
    "\n",
    "    # --- Interactive Input for h(L) ---\n",
    "    display(Markdown(\"### Submit the value of $h$ at $x = L$\"))\n",
    "    h_input = widgets.FloatText(\n",
    "        description=\"h(L):\",\n",
    "        style={'description_width': 'initial'}\n",
    "    )\n",
    "    submit_button = widgets.Button(description=\"Submit\")\n",
    "    output = widgets.Output()\n",
    "\n",
    "    def on_submit(b):\n",
    "        with output:\n",
    "            clear_output(wait=True)\n",
    "            h_L = h_input.value\n",
    "            correct_h_L = h1[-1]  # Theoretical value of h(L)\n",
    "            if np.isclose(h_L, correct_h_L, atol=0.1):\n",
    "                display(Markdown(f\"**Correct!** The value of $h(L)$ is approximately {correct_h_L:.2f} m.\"))\n",
    "            else:\n",
    "                display(Markdown(f\"**Incorrect.** The correct value of $h(L)$ is approximately {correct_h_L:.2f} m.\"))\n",
    "\n",
    "            # Draw the h(x) plot below the schematic\n",
    "            display(Markdown(\"### Hydraulic Head $h(x)$ Plot\"))\n",
    "            draw_hx_plot()\n",
    "\n",
    "    submit_button.on_click(on_submit)\n",
    "    display(widgets.HBox([h_input, submit_button]), output)\n",
    "\n",
    "# Call the function\n",
    "interactive_confined_aquifer()"
   ]
  },
  {
   "cell_type": "code",
   "execution_count": null,
   "metadata": {},
   "outputs": [],
   "source": [
    "import matplotlib.pyplot as plt\n",
    "import matplotlib.patches as patches\n",
    "import numpy as np\n",
    "import ipywidgets as widgets\n",
    "\n",
    "from IPython.display import display, Markdown\n",
    "\n",
    "def draw_schematic(ax, label, configuration):\n",
    "    \"\"\"\n",
    "    Draws the schematic of the confined aquifer on the given axis based on the configuration.\n",
    "    \"\"\"\n",
    "    L = 50  # Total length of the aquifer (m)\n",
    "    h0 = 50  # Hydraulic head at x = 0 (m)\n",
    "    h2L = 45  # Hydraulic head at x = 2L (m)\n",
    "    type_formula = \"vertical\"  # Default type_formula\n",
    "\n",
    "\n",
    "    # Draw the layers based on the configuration\n",
    "    if configuration == 1:  # Single layer of K1\n",
    "        type_formula = \"horizontal\"\n",
    "        ax.add_patch(patches.Rectangle((0, 0), 2*L, 2, edgecolor=\"black\", facecolor=\"blue\", alpha=0.3, label=\"Layer K1\"))\n",
    "        ax.add_patch(patches.Rectangle((0, 2), 2*L, 2, edgecolor=\"black\", facecolor=\"green\", alpha=0.3, label=\"Layer K2\"))\n",
    "        ax.add_patch(patches.Rectangle((0, 4), 2*L, 2, edgecolor=\"black\", facecolor=\"orange\", alpha=0.3, label=\"Layer K3\"))\n",
    "        ax.text(L, 1, \"K1\", color=\"black\", fontsize=14, ha=\"center\", va=\"center\")\n",
    "        ax.text(L, 3, \"K2\", color=\"black\", fontsize=14, ha=\"center\", va=\"center\")\n",
    "        ax.text(L, 5, \"K3\", color=\"black\", fontsize=14, ha=\"center\", va=\"center\")\n",
    "\n",
    "    elif configuration == 2:  # Vertically 2 layers: 2/3 K1, 1/3 K2\n",
    "        type_formula = \"horizontal\"\n",
    "        ax.add_patch(patches.Rectangle((0, 0), 2*L, 4, edgecolor=\"black\", facecolor=\"blue\", alpha=0.3, label=\"Layer K1\"))\n",
    "        ax.add_patch(patches.Rectangle((0, 4), 2*L, 2, edgecolor=\"black\", facecolor=\"green\", alpha=0.3, label=\"Layer K2\"))\n",
    "        ax.text(L, 1, \"K1\", color=\"black\", fontsize=14, ha=\"center\", va=\"center\")\n",
    "        ax.text(L, 5, \"K2\", color=\"black\", fontsize=14, ha=\"center\", va=\"center\")\n",
    "\n",
    "    elif configuration == 3:  # Vertically 2 layers: 1/3 K1, 2/3 K2\n",
    "        type_formula = \"horizontal\"\n",
    "        ax.add_patch(patches.Rectangle((0, 0), 2*L, 2, edgecolor=\"black\", facecolor=\"blue\", alpha=0.3, label=\"Layer K1\"))\n",
    "        ax.add_patch(patches.Rectangle((0, 2), 2*L, 4, edgecolor=\"black\", facecolor=\"green\", alpha=0.3, label=\"Layer K2\"))\n",
    "        ax.text(L, 1, \"K1\", color=\"black\", fontsize=14, ha=\"center\", va=\"center\")\n",
    "        ax.text(L, 5, \"K2\", color=\"black\", fontsize=14, ha=\"center\", va=\"center\")\n",
    "\n",
    "    elif configuration == 4:  # Vertically 3 layers: 1/3 K1, 1/3 K2, 1/3 K3\n",
    "        type_formula = \"vertical\"\n",
    "        ax.add_patch(patches.Rectangle((0, 0), 2*L, 6, edgecolor=\"black\", facecolor=\"blue\", alpha=0.3, label=\"Layer K1\"))\n",
    "        ax.text(L, 3, \"K1\", color=\"black\", fontsize=14, ha=\"center\", va=\"center\")\n",
    "        \n",
    "    elif configuration == 5:  # Horizontally 1/2 K1 and 1/2 K2\n",
    "        type_formula = \"vertical\"\n",
    "        ax.add_patch(patches.Rectangle((0, 0), 2*L / 2, 6, edgecolor=\"black\", facecolor=\"blue\", alpha=0.3, label=\"Layer K1\"))\n",
    "        ax.add_patch(patches.Rectangle((2*L / 2, 0), 2*L / 2, 6, edgecolor=\"black\", facecolor=\"green\", alpha=0.3, label=\"Layer K2\"))\n",
    "        ax.text(L/2, 3, \"K1\", color=\"black\", fontsize=14, ha=\"center\", va=\"center\")\n",
    "        ax.text(3*L/2, 3, \"K2\", color=\"black\", fontsize=14, ha=\"center\", va=\"center\")\n",
    "\n",
    "    elif configuration == 6:  # Horizontally 1/2 K1 and 1/2 K4\n",
    "        type_formula = \"vertical\"\n",
    "        ax.add_patch(patches.Rectangle((0, 0), 2*L / 2, 6, edgecolor=\"black\", facecolor=\"blue\", alpha=0.3, label=\"Layer K1\"))\n",
    "        ax.add_patch(patches.Rectangle((2*L / 2, 0), 2*L / 2, 6, edgecolor=\"black\", facecolor=\"purple\", alpha=0.3, label=\"Layer K4\"))\n",
    "        ax.text(L/2, 3, \"K1\", color=\"black\", fontsize=14, ha=\"center\", va=\"center\")\n",
    "        ax.text(3*L/2, 3, \"K0\", color=\"black\", fontsize=14, ha=\"center\", va=\"center\")\n",
    "\n",
    "    # Draw the wells as piezometers (tubes)\n",
    "    # Well at x=0\n",
    "    ax.add_patch(patches.Rectangle((0,0), 5, 8, edgecolor=\"black\", facecolor=\"white\", label=\"Well at x=0\"))\n",
    "    ax.hlines(7.9, 0, 5, colors=\"blue\", linewidth=2)  # Water table level inside the well\n",
    "\n",
    "    # Well at x=2L\n",
    "    ax.add_patch(patches.Rectangle((2 * L - 5, 0), 5, 8, edgecolor=\"black\", facecolor=\"white\", label=\"Well at x=2L\"))\n",
    "    ax.hlines(6.5, 2 * L - 5, 2 * L, colors=\"blue\", linewidth=2)  # Water table level inside the well\n",
    "\n",
    "    # Add labels for the wells\n",
    "    #ax.text(0, 7.5, f\"h(0) = {h0} m\", fontsize=12, ha=\"center\")\n",
    "    #ax.text(2 * L, 7.5, f\"h(2L) = {h2L} m\", fontsize=12, ha=\"center\")\n",
    "\n",
    "    # Add the x-axis at the bottom\n",
    "    ax.hlines(0, 0, 2 * L, colors=\"black\", linewidth=5)  # Horizontal line for the x-axis\n",
    "    # ax.text(0, 3.2, \"$x$ = 0\", fontsize=12, ha=\"center\")  # Label for x=0\n",
    "    # ax.text(2 * L, 3.2, \"$x$ = 2L\", fontsize=12, ha=\"center\")  # Label for x=2L\n",
    "\n",
    "    # Add ticks on the x-axis\n",
    "    #ax.vlines(0, 3.4, 3.6, colors=\"black\", linewidth=1)  # Tick at x=0\n",
    "    #ax.vlines(L, 3.4, 3.6, colors=\"black\", linewidth=1)  # Tick at x=L\n",
    "    #ax.vlines(2 * L, 3.4, 3.6, colors=\"black\", linewidth=1)  # Tick at x=2L\n",
    "\n",
    "    # Add subplot label\n",
    "    ax.text(-10, 9, f\"({label})\", fontsize=14, fontweight=\"bold\", ha=\"left\")\n",
    "\n",
    "    ax.set_xlim(-5, 2 * L + 5)\n",
    "    ax.set_ylim(0, 10)\n",
    "    ax.axis(\"off\")\n",
    "\n",
    "def K_eq(type_layers, K1, K2, K3, L1, L2, L3,L=None):\n",
    "    if type_layers == \"vertical\":\n",
    "        # Vertical layers\n",
    "        L = L1 + L2\n",
    "        K_eq = L / ((L1 / K1) + (L2 / K2))\n",
    "    elif type_layers == \"horizontal\":\n",
    "        # Horizontal layers\n",
    "        K_eq = (K1 * L1 + K2 * L2 + K3 * L3) / (L1 + L2 + L3)\n",
    "    else:\n",
    "        raise ValueError(\"Invalid type of layers. Use 'vertical' or 'horizontal'.\")\n",
    "    return K_eq\n",
    "\n",
    "\n",
    "def h_function_plot(type_layers, K1, K2, K3, L1, L2, L3, L=None, h0=50, q=3e-7):\n",
    "    \"\"\"\n",
    "    Generates the hydraulic head h(x) based on the type of layering (vertical or horizontal).\n",
    "    \"\"\"\n",
    "      # x values for the entire domain\n",
    "    A= 1  # Cross-sectional area (m^2)\n",
    "\n",
    "    if type_layers == \"horizontal\":\n",
    "        if K3 is None:\n",
    "            raise ValueError(\"K3 must be provided for vertical layers.\")\n",
    "\n",
    "        x_bef = np.linspace(-50, 0, 100)\n",
    "        x_aft = np.linspace(L, L+50, 100)\n",
    "        x = np.linspace(0, L, 500)\n",
    "        \n",
    "        h = h0 - (q/(K_eq(type_layers, K1, K2, K3, L1, L2, L3)*A)*x)\n",
    "        h_bef = h0*np.ones_like(x_bef)\n",
    "        h_aft = h[-1]*np.ones_like(x_aft)\n",
    "\n",
    "        h = np.concatenate([h_bef, h, h_aft])\n",
    "        x = np.concatenate([x_bef, x, x_aft])\n",
    "\n",
    "        correction_K_eq.append(K_eq(type_layers, K1, K2, K3, L1, L2, L3)*1e6)  # Convert to um/s\n",
    "\n",
    "        return x, h\n",
    "\n",
    "    elif type_layers == \"vertical\":\n",
    "        L=L1+L2+L3\n",
    "\n",
    "        x_bef = np.linspace(-50, 0, 100)\n",
    "        x_aft = np.linspace(L, L+50, 100)\n",
    "        x = np.linspace(0, L, 500)\n",
    "        x1 = x[x <= L1]\n",
    "        x2 = x[x > L1]\n",
    "\n",
    "        h1 = h0 - (q / (K1*A)) * (x1)\n",
    "        h2 = h1[-1] - (q / (K2*A)) * (x2 - L1)\n",
    "        h_bef = h0*np.ones_like(x_bef)\n",
    "        h_aft = h2[-1]*np.ones_like(x_aft)\n",
    "\n",
    "        h = np.concatenate([h_bef, h1, h2, h_aft])\n",
    "        x = np.concatenate([x_bef, x1, x2, x_aft])\n",
    "\n",
    "        correction_K_eq.append( (K_eq(type_layers, K1, K2, K3, L1, L2, L3))*1e6) # Convert to um/s\n",
    "\n",
    "        return x, h\n",
    "\n",
    "    else:\n",
    "        raise ValueError(\"Invalid type_layers. Use 'vertical' or 'horizontal'.\")\n",
    "\n",
    "\n",
    "n=1.5\n",
    "# Generate and plot the schematics\n",
    "fig, axes = plt.subplots(2, 3, figsize=(11.2/n, 7/n),layout=\"constrained\")  # Reduced overall figure height\n",
    "labels = [\"a\", \"b\", \"c\", \"d\", \"e\", \"f\"]\n",
    "configurations = [1, 2, 3, 4, 5, 6]\n",
    "# Draw the schematic in each subplot\n",
    "for ax, label, config in zip(axes.flat, labels, configurations):\n",
    "    draw_schematic(ax, label, config)\n",
    "plt.show()\n",
    "\n",
    "\n",
    "# Generate and plot the h(x) profiles\n",
    "fig, axes = plt.subplots(2, 3, figsize=(11/n, 7/n),layout=\"constrained\")\n",
    "labels = [\"1\", \"2\", \"3\", \"4\", \"5\", \"6\"]\n",
    "global correction_K_eq\n",
    "correction_K_eq = []\n",
    "profiles = [\n",
    "    h_function_plot(\"horizontal\", 5e-5, 2e-5, 1e-5, 10, 10, 10, 200),\n",
    "    h_function_plot(\"horizontal\", 2e-5, 1e-5, 1e-5, 10, 10, 10, 200),\n",
    "    h_function_plot(\"horizontal\", 2e-5, 2e-5, 1e-5, 10, 10, 10, 200),\n",
    "    h_function_plot(\"vertical\", 1e-5, 1e-5, 0, 100, 100, 0),\n",
    "    h_function_plot(\"vertical\", 1e-5, 2e-5, 0, 100, 100, 0),\n",
    "    h_function_plot(\"vertical\", 1e-5, 5e-6, 0, 100, 100, 0),\n",
    "]\n",
    "shuffled_indices = np.random.permutation(6)  # Shuffle the profiles\n",
    "# Create an array to store the schematic-to-profile mapping\n",
    "correction_profile_to_schematic = [shuffled_indices.tolist().index(i) + 1 for i in range(6)]\n",
    "\n",
    "# Plot the shuffled h(x) profiles\n",
    "for ax, idx, label in zip(axes.flat, shuffled_indices, labels):\n",
    "    x, h = profiles[idx]\n",
    "    ax.plot(x, h)\n",
    "    ax.set_title(f\"({label})\", fontsize=14)\n",
    "    ax.set_xlabel(\"$x$ [m]\")\n",
    "    ax.set_ylabel(\"$h(x)$ [m]\")\n",
    "    ax.set_yticks(np.round(ax.get_yticks(), 0))  # Round to the nearest unit\n",
    "    ax.grid()\n",
    "    # Adjust ylim \n",
    "    h_min, h_max = h.min(), h.max()\n",
    "    padding = (h_max - h_min) * 0.1  # Calculate padding as 10% of the range\n",
    "    ax.set_ylim(h_min - padding, h_max + padding)  # Add padding below h_min and above h_max\n",
    "\n",
    "plt.show()\n",
    "\n",
    "\n",
    "\n",
    "\n",
    "# Create input widgets for K_eq and Profile\n",
    "k_eq_inputs = [widgets.Text(layout=widgets.Layout(width='100px')) for _ in range(6)]\n",
    "profile_inputs = [widgets.Text(layout=widgets.Layout(width='100px')) for _ in range(6)]\n",
    "\n",
    "display(Markdown(r\"\"\"  ## Submission <br>\n",
    "### Enter the values of $K_{eq}$ *in um/s* and the profile number (1-6) for each schematic. Once you have entered the values, click the \"Submit All\" button to check your answers. <br>\"\"\"))\n",
    "\n",
    "# Create the interactive table\n",
    "table = widgets.GridBox(\n",
    "    children=[\n",
    "        widgets.Label(value=\"Schematic:\", layout=widgets.Layout(width='100px', height='30px', border='solid 1px black', align_items='center', justify_content='center')),\n",
    "        widgets.Label(value=\"(a)\", layout=widgets.Layout(width='100px', height='30px', border='solid 1px black', align_items='center', justify_content='center')),\n",
    "        widgets.Label(value=\"(b)\", layout=widgets.Layout(width='100px', height='30px', border='solid 1px black', align_items='center', justify_content='center')),\n",
    "        widgets.Label(value=\"(c)\", layout=widgets.Layout(width='100px', height='30px', border='solid 1px black', align_items='center', justify_content='center')),\n",
    "        widgets.Label(value=\"(d)\", layout=widgets.Layout(width='100px', height='30px', border='solid 1px black', align_items='center', justify_content='center')),\n",
    "        widgets.Label(value=\"(e)\", layout=widgets.Layout(width='100px', height='30px', border='solid 1px black', align_items='center', justify_content='center')),\n",
    "        widgets.Label(value=\"(f)\", layout=widgets.Layout(width='100px', height='30px', border='solid 1px black', align_items='center', justify_content='center')),\n",
    "        widgets.Label(r\"\"\"K_{eq}\"\"\", layout=widgets.Layout(width='100px', height='30px', border='solid 1px black', align_items='center', justify_content='center')),\n",
    "        *k_eq_inputs,\n",
    "        widgets.Label(value=\"Profile (1-6):\", layout=widgets.Layout(width='100px', height='30px', border='solid 1px black', align_items='center', justify_content='center')),\n",
    "        *profile_inputs,\n",
    "    ],\n",
    "    layout=widgets.Layout(grid_template_columns=\"150px repeat(6, 100px)\")\n",
    ")\n",
    "\n",
    "submit_button = widgets.Button(description=\"Submit All\", layout=widgets.Layout(width='150px', height='30px'))\n",
    "output = widgets.Output()\n",
    "\n",
    "def on_submit(b):\n",
    "    with output:\n",
    "        clear_output(wait=True)\n",
    "        display(Markdown(r\"\"\"  ## Correction  <br> ### $K_{eq}$ are obtained from formulas. Profiles can be qualitatively attributed given that K0<K1<K2<K3.\"\"\"))\n",
    "\n",
    "        # Get user inputs\n",
    "        user_K_eq = [float(widget.value) if widget.value else None for widget in k_eq_inputs]\n",
    "        user_profiles = [int(widget.value) if widget.value else None for widget in profile_inputs]\n",
    "\n",
    "        # Create styled K_eq values\n",
    "        styled_K_eq = []\n",
    "        for i, (user_val, correct_val) in enumerate(zip(user_K_eq, correction_K_eq)):\n",
    "            if user_val is not None and np.isclose(user_val, correct_val, rtol=0.5):  # Adjust rtol as needed\n",
    "                styled_K_eq.append(f\"<td style='background-color: green;'>{round(correct_val)}</td>\")\n",
    "            else:\n",
    "                styled_K_eq.append(f\"<td style='background-color: red;'>{round(correct_val)}</td>\")\n",
    "\n",
    "        # Create styled profile values\n",
    "        styled_profiles = []\n",
    "        for i, (user_val, correct_val) in enumerate(zip(user_profiles, correction_profile_to_schematic)):\n",
    "            if user_val is not None and user_val == correct_val:\n",
    "                styled_profiles.append(f\"<td style='background-color: green;'>{round(correct_val)}</td>\")\n",
    "            else:\n",
    "                styled_profiles.append(f\"<td style='background-color: red;'>{round(correct_val)}</td>\")\n",
    "\n",
    "        # Create the corrected table with styled values\n",
    "        corrected_table = \"<table>\\n\"\n",
    "        corrected_table += \"  <tr><th>Schematic</th><th>(a)</th><th>(b)</th><th>(c)</th><th>(d)</th><th>(e)</th><th>(f)</th></tr>\\n\"\n",
    "        corrected_table += \"  <tr><th>K_{eq}</th>\" + \"\".join(styled_K_eq) + \"</tr>\\n\"\n",
    "        corrected_table += \"  <tr><th>Profile</th>\" + \"\".join(styled_profiles) + \"</tr>\\n\"\n",
    "        corrected_table += \"</table>\"\n",
    "\n",
    "        display(Markdown(corrected_table))\n",
    "        submit_button.disabled = True\n",
    "\n",
    "submit_button.on_click(on_submit)\n",
    "display(table, submit_button, output)\n",
    "\n",
    "\n",
    "#K3 = 5e-5\n",
    "#K2 = 2e-5\n",
    "#K1 = 1e-5\n",
    "#K0 = 5e-6\n",
    "\n"
   ]
  },
  {
   "cell_type": "markdown",
   "metadata": {},
   "source": [
    "## Titre"
   ]
  },
  {
   "cell_type": "code",
   "execution_count": 20,
   "metadata": {},
   "outputs": [
    {
     "ename": "ImportError",
     "evalue": "cannot import name 'exercise_aquifers_layered_keq_attribution' from 'darcy_several_layers_keq' (/Users/louisenoel/Documents/GroundwaterGit/Clone_bea/applied_groundwater_modelling/exercise04/../exercises_complements/darcy_several_layers_keq.py)",
     "output_type": "error",
     "traceback": [
      "\u001b[31m---------------------------------------------------------------------------\u001b[39m",
      "\u001b[31mImportError\u001b[39m                               Traceback (most recent call last)",
      "\u001b[36mCell\u001b[39m\u001b[36m \u001b[39m\u001b[32mIn[20]\u001b[39m\u001b[32m, line 1\u001b[39m\n\u001b[32m----> \u001b[39m\u001b[32m1\u001b[39m \u001b[38;5;28;01mfrom\u001b[39;00m\u001b[38;5;250m \u001b[39m\u001b[34;01mdarcy_several_layers_keq\u001b[39;00m\u001b[38;5;250m \u001b[39m\u001b[38;5;28;01mimport\u001b[39;00m exercise_aquifers_layered_keq_attribution\n",
      "\u001b[31mImportError\u001b[39m: cannot import name 'exercise_aquifers_layered_keq_attribution' from 'darcy_several_layers_keq' (/Users/louisenoel/Documents/GroundwaterGit/Clone_bea/applied_groundwater_modelling/exercise04/../exercises_complements/darcy_several_layers_keq.py)"
     ]
    }
   ],
   "source": [
    "from darcy_several_layers_keq import exercise_aquifers_layered_keq_attribution\n"
   ]
  },
  {
   "cell_type": "code",
   "execution_count": 19,
   "metadata": {},
   "outputs": [
    {
     "ename": "NameError",
     "evalue": "name 'darcy_several_layers_keq' is not defined",
     "output_type": "error",
     "traceback": [
      "\u001b[31m---------------------------------------------------------------------------\u001b[39m",
      "\u001b[31mNameError\u001b[39m                                 Traceback (most recent call last)",
      "\u001b[36mCell\u001b[39m\u001b[36m \u001b[39m\u001b[32mIn[19]\u001b[39m\u001b[32m, line 11\u001b[39m\n\u001b[32m      8\u001b[39m \u001b[38;5;28;01mimport\u001b[39;00m\u001b[38;5;250m \u001b[39m\u001b[34;01minspect\u001b[39;00m\n\u001b[32m     10\u001b[39m \u001b[38;5;66;03m# Get all names defined in the module\u001b[39;00m\n\u001b[32m---> \u001b[39m\u001b[32m11\u001b[39m names = \u001b[38;5;28mdir\u001b[39m(\u001b[43mdarcy_several_layers_keq\u001b[49m)\n\u001b[32m     13\u001b[39m \u001b[38;5;66;03m# Filter out names that start with an underscore (private/internal names)\u001b[39;00m\n\u001b[32m     14\u001b[39m public_names = [name \u001b[38;5;28;01mfor\u001b[39;00m name \u001b[38;5;129;01min\u001b[39;00m names \u001b[38;5;28;01mif\u001b[39;00m \u001b[38;5;129;01mnot\u001b[39;00m name.startswith(\u001b[33m'\u001b[39m\u001b[33m_\u001b[39m\u001b[33m'\u001b[39m)]\n",
      "\u001b[31mNameError\u001b[39m: name 'darcy_several_layers_keq' is not defined"
     ]
    }
   ],
   "source": [
    "# Setting up the notebook\n",
    "import sys\n",
    "import os\n",
    "\n",
    "# Import local libraries\n",
    "sys.path.append('../exercises_complements')\n",
    "from darcy_several_layers_keq import *\n",
    "import inspect\n",
    "\n",
    "# Get all names defined in the module\n",
    "names = dir(darcy_several_layers_keq)\n",
    "\n",
    "# Filter out names that start with an underscore (private/internal names)\n",
    "public_names = [name for name in names if not name.startswith('_')]\n",
    "\n",
    "# Filter out modules\n",
    "functions = []\n",
    "for name in public_names:\n",
    "    obj = getattr(darcy_several_layers_keq, name)\n",
    "    if inspect.isfunction(obj):\n",
    "        functions.append(name)\n",
    "\n",
    "print(functions)"
   ]
  },
  {
   "cell_type": "code",
   "execution_count": null,
   "metadata": {},
   "outputs": [],
   "source": [
    "import matplotlib.pyplot as plt\n",
    "import matplotlib.patches as patches\n",
    "import numpy as np\n",
    "import ipywidgets as widgets\n",
    "\n",
    "from IPython.display import display, Markdown\n",
    "\n",
    "def draw_schematic(ax, label, configuration):\n",
    "    \"\"\"\n",
    "    Draws the schematic of the confined aquifer on the given axis based on the configuration.\n",
    "    \"\"\"\n",
    "    L = 50  # Total length of the aquifer (m)\n",
    "    h0 = 50  # Hydraulic head at x = 0 (m)\n",
    "    h2L = 45  # Hydraulic head at x = 2L (m)\n",
    "    type_formula = \"vertical\"  # Default type_formula\n",
    "\n",
    "\n",
    "    # Draw the layers based on the configuration\n",
    "    if configuration == 1:  # Single layer of K1\n",
    "        type_formula = \"horizontal\"\n",
    "        ax.add_patch(patches.Rectangle((0, 0), 2*L, 2, edgecolor=\"black\", facecolor=\"blue\", alpha=0.3, label=\"Layer K1\"))\n",
    "        ax.add_patch(patches.Rectangle((0, 2), 2*L, 2, edgecolor=\"black\", facecolor=\"green\", alpha=0.3, label=\"Layer K2\"))\n",
    "        ax.add_patch(patches.Rectangle((0, 4), 2*L, 2, edgecolor=\"black\", facecolor=\"orange\", alpha=0.3, label=\"Layer K3\"))\n",
    "        ax.text(L, 1, \"K1\", color=\"black\", fontsize=14, ha=\"center\", va=\"center\")\n",
    "        ax.text(L, 3, \"K2\", color=\"black\", fontsize=14, ha=\"center\", va=\"center\")\n",
    "        ax.text(L, 5, \"K3\", color=\"black\", fontsize=14, ha=\"center\", va=\"center\")\n",
    "\n",
    "    elif configuration == 2:  # Vertically 2 layers: 2/3 K1, 1/3 K2\n",
    "        type_formula = \"horizontal\"\n",
    "        ax.add_patch(patches.Rectangle((0, 0), 2*L, 4, edgecolor=\"black\", facecolor=\"blue\", alpha=0.3, label=\"Layer K1\"))\n",
    "        ax.add_patch(patches.Rectangle((0, 4), 2*L, 2, edgecolor=\"black\", facecolor=\"green\", alpha=0.3, label=\"Layer K2\"))\n",
    "        ax.text(L, 1, \"K1\", color=\"black\", fontsize=14, ha=\"center\", va=\"center\")\n",
    "        ax.text(L, 5, \"K2\", color=\"black\", fontsize=14, ha=\"center\", va=\"center\")\n",
    "\n",
    "    elif configuration == 3:  # Vertically 2 layers: 1/3 K1, 2/3 K2\n",
    "        type_formula = \"horizontal\"\n",
    "        ax.add_patch(patches.Rectangle((0, 0), 2*L, 2, edgecolor=\"black\", facecolor=\"blue\", alpha=0.3, label=\"Layer K1\"))\n",
    "        ax.add_patch(patches.Rectangle((0, 2), 2*L, 4, edgecolor=\"black\", facecolor=\"green\", alpha=0.3, label=\"Layer K2\"))\n",
    "        ax.text(L, 1, \"K1\", color=\"black\", fontsize=14, ha=\"center\", va=\"center\")\n",
    "        ax.text(L, 5, \"K2\", color=\"black\", fontsize=14, ha=\"center\", va=\"center\")\n",
    "\n",
    "    elif configuration == 4:  # Vertically 3 layers: 1/3 K1, 1/3 K2, 1/3 K3\n",
    "        type_formula = \"vertical\"\n",
    "        ax.add_patch(patches.Rectangle((0, 0), 2*L, 6, edgecolor=\"black\", facecolor=\"blue\", alpha=0.3, label=\"Layer K1\"))\n",
    "        ax.text(L, 3, \"K1\", color=\"black\", fontsize=14, ha=\"center\", va=\"center\")\n",
    "        \n",
    "    elif configuration == 5:  # Horizontally 1/2 K1 and 1/2 K2\n",
    "        type_formula = \"vertical\"\n",
    "        ax.add_patch(patches.Rectangle((0, 0), 2*L / 2, 6, edgecolor=\"black\", facecolor=\"blue\", alpha=0.3, label=\"Layer K1\"))\n",
    "        ax.add_patch(patches.Rectangle((2*L / 2, 0), 2*L / 2, 6, edgecolor=\"black\", facecolor=\"green\", alpha=0.3, label=\"Layer K2\"))\n",
    "        ax.text(L/2, 3, \"K1\", color=\"black\", fontsize=14, ha=\"center\", va=\"center\")\n",
    "        ax.text(3*L/2, 3, \"K2\", color=\"black\", fontsize=14, ha=\"center\", va=\"center\")\n",
    "\n",
    "    elif configuration == 6:  # Horizontally 1/2 K1 and 1/2 K4\n",
    "        type_formula = \"vertical\"\n",
    "        ax.add_patch(patches.Rectangle((0, 0), 2*L / 2, 6, edgecolor=\"black\", facecolor=\"blue\", alpha=0.3, label=\"Layer K1\"))\n",
    "        ax.add_patch(patches.Rectangle((2*L / 2, 0), 2*L / 2, 6, edgecolor=\"black\", facecolor=\"purple\", alpha=0.3, label=\"Layer K4\"))\n",
    "        ax.text(L/2, 3, \"K1\", color=\"black\", fontsize=14, ha=\"center\", va=\"center\")\n",
    "        ax.text(3*L/2, 3, \"K0\", color=\"black\", fontsize=14, ha=\"center\", va=\"center\")\n",
    "\n",
    "    # Draw the wells as piezometers (tubes)\n",
    "    # Well at x=0\n",
    "    ax.add_patch(patches.Rectangle((0,0), 5, 8, edgecolor=\"black\", facecolor=\"white\", label=\"Well at x=0\"))\n",
    "    ax.hlines(7.9, 0, 5, colors=\"blue\", linewidth=2)  # Water table level inside the well\n",
    "\n",
    "    # Well at x=2L\n",
    "    ax.add_patch(patches.Rectangle((2 * L - 5, 0), 5, 8, edgecolor=\"black\", facecolor=\"white\", label=\"Well at x=2L\"))\n",
    "    ax.hlines(6.5, 2 * L - 5, 2 * L, colors=\"blue\", linewidth=2)  # Water table level inside the well\n",
    "\n",
    "    # Add labels for the wells\n",
    "    #ax.text(0, 7.5, f\"h(0) = {h0} m\", fontsize=12, ha=\"center\")\n",
    "    #ax.text(2 * L, 7.5, f\"h(2L) = {h2L} m\", fontsize=12, ha=\"center\")\n",
    "\n",
    "    # Add the x-axis at the bottom\n",
    "    ax.hlines(0, 0, 2 * L, colors=\"black\", linewidth=5)  # Horizontal line for the x-axis\n",
    "    # ax.text(0, 3.2, \"$x$ = 0\", fontsize=12, ha=\"center\")  # Label for x=0\n",
    "    # ax.text(2 * L, 3.2, \"$x$ = 2L\", fontsize=12, ha=\"center\")  # Label for x=2L\n",
    "\n",
    "    # Add ticks on the x-axis\n",
    "    #ax.vlines(0, 3.4, 3.6, colors=\"black\", linewidth=1)  # Tick at x=0\n",
    "    #ax.vlines(L, 3.4, 3.6, colors=\"black\", linewidth=1)  # Tick at x=L\n",
    "    #ax.vlines(2 * L, 3.4, 3.6, colors=\"black\", linewidth=1)  # Tick at x=2L\n",
    "\n",
    "    # Add subplot label\n",
    "    ax.text(-10, 9, f\"({label})\", fontsize=14, fontweight=\"bold\", ha=\"left\")\n",
    "\n",
    "    ax.set_xlim(-5, 2 * L + 5)\n",
    "    ax.set_ylim(0, 10)\n",
    "    ax.axis(\"off\")\n",
    "\n",
    "def K_eq(type_layers, K1, K2, K3, L1, L2, L3,L=None):\n",
    "    if type_layers == \"vertical\":\n",
    "        # Vertical layers\n",
    "        L = L1 + L2\n",
    "        K_eq = L / ((L1 / K1) + (L2 / K2))\n",
    "    elif type_layers == \"horizontal\":\n",
    "        # Horizontal layers\n",
    "        K_eq = (K1 * L1 + K2 * L2 + K3 * L3) / (L1 + L2 + L3)\n",
    "    else:\n",
    "        raise ValueError(\"Invalid type of layers. Use 'vertical' or 'horizontal'.\")\n",
    "    return K_eq\n",
    "\n",
    "\n",
    "def h_function_plot(type_layers, K1, K2, K3, L1, L2, L3, L=None, h0=50, q=3e-7):\n",
    "    \"\"\"\n",
    "    Generates the hydraulic head h(x) based on the type of layering (vertical or horizontal).\n",
    "    \"\"\"\n",
    "      # x values for the entire domain\n",
    "    A= 1  # Cross-sectional area (m^2)\n",
    "\n",
    "    if type_layers == \"horizontal\":\n",
    "        if K3 is None:\n",
    "            raise ValueError(\"K3 must be provided for vertical layers.\")\n",
    "\n",
    "        x_bef = np.linspace(-50, 0, 100)\n",
    "        x_aft = np.linspace(L, L+50, 100)\n",
    "        x = np.linspace(0, L, 500)\n",
    "        \n",
    "        h = h0 - (q/(K_eq(type_layers, K1, K2, K3, L1, L2, L3)*A)*x)\n",
    "        h_bef = h0*np.ones_like(x_bef)\n",
    "        h_aft = h[-1]*np.ones_like(x_aft)\n",
    "\n",
    "        h = np.concatenate([h_bef, h, h_aft])\n",
    "        x = np.concatenate([x_bef, x, x_aft])\n",
    "\n",
    "        correction_K_eq.append(K_eq(type_layers, K1, K2, K3, L1, L2, L3)*1e6)  # Convert to um/s\n",
    "\n",
    "        return x, h\n",
    "\n",
    "    elif type_layers == \"vertical\":\n",
    "        L=L1+L2+L3\n",
    "\n",
    "        x_bef = np.linspace(-50, 0, 100)\n",
    "        x_aft = np.linspace(L, L+50, 100)\n",
    "        x = np.linspace(0, L, 500)\n",
    "        x1 = x[x <= L1]\n",
    "        x2 = x[x > L1]\n",
    "\n",
    "        h1 = h0 - (q / (K1*A)) * (x1)\n",
    "        h2 = h1[-1] - (q / (K2*A)) * (x2 - L1)\n",
    "        h_bef = h0*np.ones_like(x_bef)\n",
    "        h_aft = h2[-1]*np.ones_like(x_aft)\n",
    "\n",
    "        h = np.concatenate([h_bef, h1, h2, h_aft])\n",
    "        x = np.concatenate([x_bef, x1, x2, x_aft])\n",
    "\n",
    "        correction_K_eq.append( (K_eq(type_layers, K1, K2, K3, L1, L2, L3))*1e6) # Convert to um/s\n",
    "\n",
    "        return x, h\n",
    "\n",
    "    else:\n",
    "        raise ValueError(\"Invalid type_layers. Use 'vertical' or 'horizontal'.\")\n",
    "\n",
    "\n",
    "\n",
    "\n",
    "def exercise_aquifers_layered_keq_attribution():\n",
    "    \"\"\"\n",
    "    Displays the exercise for K_eq attribution.\n",
    "    \"\"\"\n",
    "    \n",
    "    ## Generate and plot the schematics -------------------------------\n",
    "    n=1.5 # figure size scaling parameter \n",
    "    fig, axes = plt.subplots(2, 3, figsize=(11.2/n, 7/n),layout=\"constrained\")  # Reduced overall figure height\n",
    "    labels = [\"a\", \"b\", \"c\", \"d\", \"e\", \"f\"]\n",
    "    configurations = [1, 2, 3, 4, 5, 6]\n",
    "    # Draw the schematic in each subplot\n",
    "    for ax, label, config in zip(axes.flat, labels, configurations):\n",
    "        draw_schematic(ax, label, config)\n",
    "    plt.show()\n",
    "\n",
    "\n",
    "    ## Generate and plot the h(x) profiles -------------------------------\n",
    "    fig, axes = plt.subplots(2, 3, figsize=(11/n, 7/n),layout=\"constrained\")\n",
    "    labels = [\"1\", \"2\", \"3\", \"4\", \"5\", \"6\"]\n",
    "    global correction_K_eq\n",
    "    correction_K_eq = []\n",
    "    profiles = [\n",
    "        h_function_plot(\"horizontal\", 5e-5, 2e-5, 1e-5, 10, 10, 10, 200),\n",
    "        h_function_plot(\"horizontal\", 2e-5, 1e-5, 1e-5, 10, 10, 10, 200),\n",
    "        h_function_plot(\"horizontal\", 2e-5, 2e-5, 1e-5, 10, 10, 10, 200),\n",
    "        h_function_plot(\"vertical\", 1e-5, 1e-5, 0, 100, 100, 0),\n",
    "        h_function_plot(\"vertical\", 1e-5, 2e-5, 0, 100, 100, 0),\n",
    "        h_function_plot(\"vertical\", 1e-5, 5e-6, 0, 100, 100, 0),\n",
    "    ]\n",
    "    shuffled_indices = np.random.permutation(6)  # Shuffle the profiles\n",
    "    # Create an array to store the schematic-to-profile mapping\n",
    "    correction_profile_to_schematic = [shuffled_indices.tolist().index(i) + 1 for i in range(6)]\n",
    "    # Plot the shuffled h(x) profiles\n",
    "    for ax, idx, label in zip(axes.flat, shuffled_indices, labels):\n",
    "        x, h = profiles[idx]\n",
    "        ax.plot(x, h)\n",
    "        ax.set_title(f\"({label})\", fontsize=14)\n",
    "        ax.set_xlabel(\"$x$ [m]\")\n",
    "        ax.set_ylabel(\"$h(x)$ [m]\")\n",
    "        ax.set_yticks(np.round(ax.get_yticks(), 0))  # Round to the nearest unit\n",
    "        ax.grid()\n",
    "        # Adjust ylim \n",
    "        h_min, h_max = h.min(), h.max()\n",
    "        padding = (h_max - h_min) * 0.1  # Calculate padding as 10% of the range\n",
    "        ax.set_ylim(h_min - padding, h_max + padding)  # Add padding below h_min and above h_max\n",
    "\n",
    "    plt.show()\n",
    "\n",
    "\n",
    "\n",
    "    # Table of submission and submit button  -------------------------------\n",
    "    k_eq_inputs = [widgets.Text(layout=widgets.Layout(width='100px')) for _ in range(6)]\n",
    "    profile_inputs = [widgets.Text(layout=widgets.Layout(width='100px')) for _ in range(6)]\n",
    "    display(Markdown(r\"\"\"  ## Submission\"\"\"))\n",
    "    display(Markdown(r\"\"\"  ### Enter the values of $K_{eq}$ in $\\mu$/s and the profile number (1-6) for each schematic. <br> Once you have entered the values, click the \"Submit All\" button to check your answers. <br><br>\"\"\"))\n",
    "    \n",
    "    # Create the interactive table\n",
    "    table = widgets.GridBox(\n",
    "        children=[\n",
    "            widgets.Label(value=\"Schematic:\", layout=widgets.Layout(width='100px', height='30px', border='solid 1px black', align_items='center', justify_content='center')),\n",
    "            widgets.Label(value=\"(a)\", layout=widgets.Layout(width='100px', height='30px', border='solid 1px black', align_items='center', justify_content='center')),\n",
    "            widgets.Label(value=\"(b)\", layout=widgets.Layout(width='100px', height='30px', border='solid 1px black', align_items='center', justify_content='center')),\n",
    "            widgets.Label(value=\"(c)\", layout=widgets.Layout(width='100px', height='30px', border='solid 1px black', align_items='center', justify_content='center')),\n",
    "            widgets.Label(value=\"(d)\", layout=widgets.Layout(width='100px', height='30px', border='solid 1px black', align_items='center', justify_content='center')),\n",
    "            widgets.Label(value=\"(e)\", layout=widgets.Layout(width='100px', height='30px', border='solid 1px black', align_items='center', justify_content='center')),\n",
    "            widgets.Label(value=\"(f)\", layout=widgets.Layout(width='100px', height='30px', border='solid 1px black', align_items='center', justify_content='center')),\n",
    "            widgets.Label(\"Keq\", layout=widgets.Layout(width='100px', height='30px', border='solid 1px black', align_items='center', justify_content='center')),\n",
    "            *k_eq_inputs,\n",
    "            widgets.Label(value=\"Profile (1-6):\", layout=widgets.Layout(width='100px', height='30px', border='solid 1px black', align_items='center', justify_content='center')),\n",
    "            *profile_inputs,\n",
    "        ],\n",
    "        layout=widgets.Layout(grid_template_columns=\"150px repeat(6, 100px)\")\n",
    "    )\n",
    "\n",
    "    # Gestion of the correction of submission for the results table\n",
    "    def on_submit(b):\n",
    "            with output:\n",
    "                #clear_output(wait=True)\n",
    "                display(Markdown(r\"\"\"  ## Correction <br> \"\"\"))\n",
    "                display(Markdown(r\"\"\"  ### $K_{eq}$ are obtained from formulas. <br> Profiles can be qualitatively attributed given that K0<K1<K2<K3. <br><br>\"\"\"))\n",
    "    \n",
    "                # Get user inputs\n",
    "                user_K_eq = [float(widget.value) if widget.value else None for widget in k_eq_inputs]\n",
    "                user_profiles = [int(widget.value) if widget.value else None for widget in profile_inputs]\n",
    "\n",
    "                # Create styled K_eq values\n",
    "                styled_K_eq = []\n",
    "                for i, (user_val, correct_val) in enumerate(zip(user_K_eq, correction_K_eq)):\n",
    "                    if user_val is not None and np.isclose(user_val, correct_val, rtol=0.5):  # Adjust rtol as needed\n",
    "                        styled_K_eq.append(f\"<td style='background-color: green;'>{round(correct_val)}</td>\")\n",
    "                    else:\n",
    "                        styled_K_eq.append(f\"<td style='background-color: red;'>{round(correct_val)}</td>\")\n",
    "\n",
    "                # Create styled profile values\n",
    "                styled_profiles = []\n",
    "                for i, (user_val, correct_val) in enumerate(zip(user_profiles, correction_profile_to_schematic)):\n",
    "                    if user_val is not None and user_val == correct_val:\n",
    "                        styled_profiles.append(f\"<td style='background-color: green;'>{round(correct_val)}</td>\")\n",
    "                    else:\n",
    "                        styled_profiles.append(f\"<td style='background-color: red;'>{round(correct_val)}</td>\")\n",
    "\n",
    "                # Create the corrected table with styled values\n",
    "                corrected_table = \"<table>\\n\"\n",
    "                corrected_table += \"  <tr><th>Schematic</th><th>(a)</th><th>(b)</th><th>(c)</th><th>(d)</th><th>(e)</th><th>(f)</th></tr>\\n\"\n",
    "                corrected_table += \"  <tr><th>Keq</th>\" + \"\".join(styled_K_eq) + \"</tr>\\n\"\n",
    "                corrected_table += \"  <tr><th>Profile</th>\" + \"\".join(styled_profiles) + \"</tr>\\n\"\n",
    "                corrected_table += \"</table>\"\n",
    "\n",
    "                display(Markdown(corrected_table))\n",
    "                submit_button.disabled = True\n",
    "\n",
    "\n",
    "    # Submit button\n",
    "    submit_button = widgets.Button(description=\"Submit All\", layout=widgets.Layout(width='150px', height='30px'))\n",
    "    output = widgets.Output()\n",
    "    submit_button.on_click(on_submit)\n",
    "\n",
    "    # Display both\n",
    "    display(table, submit_button, output)\n",
    "\n",
    "\n",
    "#K3 = 5e-5\n",
    "#K2 = 2e-5\n",
    "#K1 = 1e-5\n",
    "#K0 = 5e-6\n",
    "\n"
   ]
  },
  {
   "cell_type": "code",
   "execution_count": null,
   "metadata": {},
   "outputs": [
    {
     "data": {
      "image/png": "[encoded data removed]",
      "text/plain": [
       "<Figure size 746.667x466.667 with 6 Axes>"
      ]
     },
     "metadata": {},
     "output_type": "display_data"
    },
    {
     "data": {
      "image/png": "[encoded data removed]",
      "text/plain": [
       "<Figure size 733.333x466.667 with 6 Axes>"
      ]
     },
     "metadata": {},
     "output_type": "display_data"
    },
    {
     "data": {
      "text/markdown": [
       "  ## Submission"
      ],
      "text/plain": [
       "<IPython.core.display.Markdown object>"
      ]
     },
     "metadata": {},
     "output_type": "display_data"
    },
    {
     "data": {
      "text/markdown": [
       "  ### Enter the values of $K_{eq}$ in $\\mu$/s and the profile number (1-6) for each schematic. <br> Once you have entered the values, click the \"Submit All\" button to check your answers. <br><br>"
      ],
      "text/plain": [
       "<IPython.core.display.Markdown object>"
      ]
     },
     "metadata": {},
     "output_type": "display_data"
    },
    {
     "data": {
      "application/vnd.jupyter.widget-view+json": {
       "model_id": "ccbc9ff904394a4d9d0cc110b020e865",
       "version_major": 2,
       "version_minor": 0
      },
      "text/plain": [
       "GridBox(children=(Label(value='Schematic:', layout=Layout(align_items='center', border_bottom='solid 1px black…"
      ]
     },
     "metadata": {},
     "output_type": "display_data"
    },
    {
     "data": {
      "application/vnd.jupyter.widget-view+json": {
       "model_id": "c20a44a341434915b6551a3fd1a80077",
       "version_major": 2,
       "version_minor": 0
      },
      "text/plain": [
       "Button(description='Submit All', layout=Layout(height='30px', width='150px'), style=ButtonStyle())"
      ]
     },
     "metadata": {},
     "output_type": "display_data"
    },
    {
     "data": {
      "application/vnd.jupyter.widget-view+json": {
       "model_id": "f8645097825d4e52ac19e823c122ee82",
       "version_major": 2,
       "version_minor": 0
      },
      "text/plain": [
       "Output()"
      ]
     },
     "metadata": {},
     "output_type": "display_data"
    }
   ],
   "source": [
    "exercise_aquifers_layered_keq_attribution()"
   ]
  },
  {
   "cell_type": "code",
   "execution_count": null,
   "metadata": {},
   "outputs": [],
   "source": []
  }
 ],
 "metadata": {
  "kernelspec": {
   "display_name": ".venv",
   "language": "python",
   "name": "python3"
  },
  "language_info": {
   "codemirror_mode": {
    "name": "ipython",
    "version": 3
   },
   "file_extension": ".py",
   "mimetype": "text/x-python",
   "name": "python",
   "nbconvert_exporter": "python",
   "pygments_lexer": "ipython3",
   "version": "3.13.2"
  }
 },
 "nbformat": 4,
 "nbformat_minor": 2
}
