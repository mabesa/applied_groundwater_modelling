{
 "cells": [
  {
   "cell_type": "code",
   "execution_count": 1,
   "metadata": {},
   "outputs": [],
   "source": [
    "# Setting up the notebook\n",
    "import sys\n",
    "import os\n",
    "\n",
    "# Import local libraries\n",
    "sys.path.append('../exercises_complements')\n",
    "from shared_functions import check_task_with_solution\n",
    "from darcy_functions import launch_darcy_experiment_interactive"
   ]
  },
  {
   "cell_type": "markdown",
   "metadata": {},
   "source": [
    "# Exercise 4 : Darcy law\n",
    "\n",
    "## Context\n",
    "\n",
    "This exercise helps you to familiarize with Darcy law, for 1D and steady state conditions.\n",
    "\n",
    "A soil layer has the following properties :\n",
    "- length $L$ : 40 $\\text{m}$\n",
    "- hydraulic conductivity $K$ :  $5 \\cdot 10^{-5} \\text{m}\\text{s}^{-1}$\n",
    "\n",
    "The water goes horizontally through the layer. Inflow and outflow specific discharges are equal at steady state. The discharge per unit width of the aquifer can be measured and it is found to be $q$ = $3 \\cdot 10^{-6}\\text{m}^2\\text{s}^{-1}$.\n",
    "\n",
    "An observation wells is installed at $x_0$ and measures the water table hight there: $h(x_0)$= 50m.\n"
   ]
  },
  {
   "cell_type": "code",
   "execution_count": 2,
   "metadata": {},
   "outputs": [
    {
     "data": {
      "text/markdown": [
       "\n",
       "## Task 1:\n",
       "Based on given data, estimate the water table level at $x$ = 200m :\n"
      ],
      "text/plain": [
       "<IPython.core.display.Markdown object>"
      ]
     },
     "metadata": {},
     "output_type": "display_data"
    },
    {
     "data": {
      "application/vnd.jupyter.widget-view+json": {
       "model_id": "4ba2cf5021b14c19abc9993a6d3538eb",
       "version_major": 2,
       "version_minor": 0
      },
      "text/plain": [
       "HBox(children=(FloatText(value=0.0, description='Answer:', style=DescriptionStyle(description_width='initial')…"
      ]
     },
     "metadata": {},
     "output_type": "display_data"
    },
    {
     "data": {
      "application/vnd.jupyter.widget-view+json": {
       "model_id": "687d1844deb9485da0df14c1d7731d1d",
       "version_major": 2,
       "version_minor": 0
      },
      "text/plain": [
       "Output()"
      ]
     },
     "metadata": {},
     "output_type": "display_data"
    },
    {
     "data": {
      "application/vnd.jupyter.widget-view+json": {
       "model_id": "50de2c40b8154c34b36b90a142929cac",
       "version_major": 2,
       "version_minor": 0
      },
      "text/plain": [
       "Button(description='Show Solution', disabled=True, style=ButtonStyle())"
      ]
     },
     "metadata": {},
     "output_type": "display_data"
    },
    {
     "data": {
      "application/vnd.jupyter.widget-view+json": {
       "model_id": "0162022700754fa8928d28bc8d59a92c",
       "version_major": 2,
       "version_minor": 0
      },
      "text/plain": [
       "Output()"
      ]
     },
     "metadata": {},
     "output_type": "display_data"
    },
    {
     "data": {
      "text/markdown": [
       "\n",
       "## Task 2:\n",
       "Based on given data, estimate the water table level at $x$ = 400m :\n"
      ],
      "text/plain": [
       "<IPython.core.display.Markdown object>"
      ]
     },
     "metadata": {},
     "output_type": "display_data"
    },
    {
     "data": {
      "application/vnd.jupyter.widget-view+json": {
       "model_id": "fb14a905bc764d32a99fa58fe7f7b444",
       "version_major": 2,
       "version_minor": 0
      },
      "text/plain": [
       "HBox(children=(FloatText(value=0.0, description='Answer:', style=DescriptionStyle(description_width='initial')…"
      ]
     },
     "metadata": {},
     "output_type": "display_data"
    },
    {
     "data": {
      "application/vnd.jupyter.widget-view+json": {
       "model_id": "3f336fe30b0245b6a382d24f1d98c4d1",
       "version_major": 2,
       "version_minor": 0
      },
      "text/plain": [
       "Output()"
      ]
     },
     "metadata": {},
     "output_type": "display_data"
    },
    {
     "data": {
      "application/vnd.jupyter.widget-view+json": {
       "model_id": "8e6c534a605b478c931050f30f7f1e71",
       "version_major": 2,
       "version_minor": 0
      },
      "text/plain": [
       "Button(description='Show Solution', disabled=True, style=ButtonStyle())"
      ]
     },
     "metadata": {},
     "output_type": "display_data"
    },
    {
     "data": {
      "application/vnd.jupyter.widget-view+json": {
       "model_id": "d9888c3f876649058e36db0fff53f90a",
       "version_major": 2,
       "version_minor": 0
      },
      "text/plain": [
       "Output()"
      ]
     },
     "metadata": {},
     "output_type": "display_data"
    }
   ],
   "source": [
    "\n",
    "\n",
    "# Check the tasks for this exercise\n",
    "check_task_with_solution(\"task04_1\")\n",
    "check_task_with_solution(\"task04_2\")"
   ]
  },
  {
   "cell_type": "markdown",
   "metadata": {},
   "source": [
    "## Interactive exploration\n",
    "\n",
    "The following tool offers an interactive illustration of the situation previously studied. \n",
    "\n",
    "The default values of $K$ and $q$ are the ones fixed previously, which you used for the Tasks 1 and 2. \n",
    "\n",
    "You are encouraged to use the sliders in order to see how changes in $K$ and/or $q$ impact the water table profile $h(x)$."
   ]
  },
  {
   "cell_type": "code",
   "execution_count": 3,
   "metadata": {},
   "outputs": [
    {
     "data": {
      "application/vnd.jupyter.widget-view+json": {
       "model_id": "22fbc398467a4c91b45b0f336fe03ae2",
       "version_major": 2,
       "version_minor": 0
      },
      "text/plain": [
       "interactive(children=(FloatSlider(value=5e-05, description='K:', max=0.0001, min=1e-05, step=1e-05), FloatSlid…"
      ]
     },
     "metadata": {},
     "output_type": "display_data"
    }
   ],
   "source": [
    "\n",
    "# Check the tasks for this exercise\n",
    "launch_darcy_experiment_interactive()"
   ]
  },
  {
   "cell_type": "markdown",
   "metadata": {},
   "source": [
    "Develppment\n"
   ]
  },
  {
   "cell_type": "code",
   "execution_count": 4,
   "metadata": {},
   "outputs": [
    {
     "data": {
      "image/png": "[encoded data removed]",
      "text/plain": [
       "<Figure size 800x400 with 1 Axes>"
      ]
     },
     "metadata": {},
     "output_type": "display_data"
    },
    {
     "data": {
      "text/markdown": [
       "### Submit the value of $h$ at $x = L$"
      ],
      "text/plain": [
       "<IPython.core.display.Markdown object>"
      ]
     },
     "metadata": {},
     "output_type": "display_data"
    },
    {
     "data": {
      "application/vnd.jupyter.widget-view+json": {
       "model_id": "8ed0f1c9ea724d808ac0429ef9f46732",
       "version_major": 2,
       "version_minor": 0
      },
      "text/plain": [
       "HBox(children=(FloatText(value=0.0, description='h(L):', style=DescriptionStyle(description_width='initial')),…"
      ]
     },
     "metadata": {},
     "output_type": "display_data"
    },
    {
     "data": {
      "application/vnd.jupyter.widget-view+json": {
       "model_id": "c60922ce23c24cfd884ca202f59464b4",
       "version_major": 2,
       "version_minor": 0
      },
      "text/plain": [
       "Output()"
      ]
     },
     "metadata": {},
     "output_type": "display_data"
    }
   ],
   "source": [
    "import matplotlib.pyplot as plt\n",
    "import numpy as np\n",
    "import ipywidgets as widgets\n",
    "from IPython.display import display, Markdown, clear_output\n",
    "\n",
    "def interactive_confined_aquifer():\n",
    "    \"\"\"\n",
    "    Interactive tool to visualize a confined aquifer with two layers of differing K values.\n",
    "    Initially, only the schematic is shown, and the student is asked to input h(L).\n",
    "    After submission, the correction is shown, and the h(x) plot is displayed below the schematic.\n",
    "    \"\"\"\n",
    "    # Parameters\n",
    "    L = 10  # Length of each layer (m)\n",
    "    K1 = 5e-5  # Hydraulic conductivity of the first layer (m/s)\n",
    "    K2 = 1e-5  # Hydraulic conductivity of the second layer (m/s)\n",
    "    q = 3e-6  # Specific discharge (m^2/s)\n",
    "    h0 = 50  # Hydraulic head at x = 0 (m)\n",
    "    h2L = 45  # Hydraulic head at x = 2L (m)\n",
    "\n",
    "    # Calculate h(x) for the two layers\n",
    "    x1 = np.linspace(0, L, 100)  # x values for the first layer\n",
    "    x2 = np.linspace(L, 2 * L, 100)  # x values for the second layer\n",
    "    h1 = h0 - (q / K1) * x1  # h(x) in the first layer\n",
    "    h2 = h1[-1] - (q / K2) * (x2 - L)  # h(x) in the second layer\n",
    "\n",
    "    # Function to draw the schematic# Function to draw the schematic\n",
    "    def draw_schematic():\n",
    "        fig, ax = plt.subplots(figsize=(8, 4))\n",
    "\n",
    "        # Draw the two layers\n",
    "        ax.add_patch(plt.Rectangle((0, 4), L, 2, edgecolor=\"black\", facecolor=\"blue\", alpha=0.3, label=\"Layer 1\"))\n",
    "        ax.add_patch(plt.Rectangle((L, 4), L, 2, edgecolor=\"black\", facecolor=\"green\", alpha=0.3, label=\"Layer 2\"))\n",
    "\n",
    "        # Draw the wells as piezometers (tubes)\n",
    "        # Well at x=0\n",
    "        ax.add_patch(plt.Rectangle((-1, 4), 2, 3, edgecolor=\"black\", facecolor=\"white\", label=\"Well at x=0\"))\n",
    "        ax.hlines(6.8, -1, 1, colors=\"blue\", linewidth=2)  # Water table level inside the well\n",
    "\n",
    "        # Well at x=2L\n",
    "        ax.add_patch(plt.Rectangle((2 * L - 1, 4), 2, 3, edgecolor=\"black\", facecolor=\"white\", label=\"Well at x=2L\"))\n",
    "        ax.hlines(6.3, 2 * L - 1, 2 * L + 1, colors=\"blue\", linewidth=2)  # Water table level inside the well\n",
    "\n",
    "        # Well at x=L (Boundary)\n",
    "        ax.vlines(L, 4, 6, colors=\"red\", linewidth=2, label=\"Well at x=L (Boundary)\")\n",
    "\n",
    "        # Add labels for the wells\n",
    "        ax.text(0, 7.5, f\"h(0) = {h0} m\", fontsize=10, ha=\"center\")\n",
    "        ax.text(L, 6.5, \"h(L) = ?\", fontsize=10, ha=\"center\", color=\"red\")\n",
    "        ax.text(2 * L, 7.5, f\"h(2L) = {h2L} m\", fontsize=10, ha=\"center\")\n",
    "\n",
    "        # Add the x-axis at the bottom\n",
    "        ax.hlines(3.5, 0, 2 * L, colors=\"black\", linewidth=1)  # Horizontal line for the x-axis\n",
    "        ax.text(0, 3, \"$x$ = 0\", fontsize=10, ha=\"center\")  # Label for x=0\n",
    "        ax.text(L, 3, \"$x$ = L\", fontsize=10, ha=\"center\")  # Label for x=L\n",
    "        ax.text(2 * L, 3, \"$x$ = 2L\", fontsize=10, ha=\"center\")  # Label for x=2L\n",
    "\n",
    "        # Add ticks on the x-axis\n",
    "        ax.vlines(0, 3.4, 3.6, colors=\"black\", linewidth=1)  # Tick at x=0\n",
    "        ax.vlines(L, 3.4, 3.6, colors=\"black\", linewidth=1)  # Tick at x=L\n",
    "        ax.vlines(2 * L, 3.4, 3.6, colors=\"black\", linewidth=1)  # Tick at x=2L\n",
    "\n",
    "        ax.set_xlim(-5, 2 * L + 5)\n",
    "        ax.set_ylim(0, 10)\n",
    "        ax.set_title(\"Schematic of Confined Aquifer\", fontsize=14)\n",
    "        ax.set_xlabel(\"$x$ [m]\", fontsize=12)\n",
    "        ax.axis(\"off\")\n",
    "        ax.legend(fontsize=10)\n",
    "\n",
    "        plt.tight_layout()\n",
    "        plt.show()\n",
    "\n",
    "    # Function to draw the h(x) plot\n",
    "    def draw_hx_plot():\n",
    "        fig, ax = plt.subplots(figsize=(4, 4))\n",
    "\n",
    "        # Plot h(x)\n",
    "        ax.plot(x1, h1, label=f\"Layer 1 (K = {K1} m/s)\", color=\"blue\")\n",
    "        ax.plot(x2, h2, label=f\"Layer 2 (K = {K2} m/s)\", color=\"green\")\n",
    "        ax.axvline(L, color=\"red\", linestyle=\"--\", label=\"x = L (Boundary)\")\n",
    "\n",
    "        ax.set_title(\"Hydraulic Head $h(x)$ vs Horizontal Location $x$\", fontsize=14)\n",
    "        ax.set_xlabel(\"$x$ [m]\", fontsize=12)\n",
    "        ax.set_ylabel(\"$h(x)$ [m]\", fontsize=12)\n",
    "        ax.legend(fontsize=10)\n",
    "        ax.grid(True)\n",
    "\n",
    "        plt.tight_layout()\n",
    "        plt.show()\n",
    "\n",
    "    # Display the schematic\n",
    "    draw_schematic()\n",
    "\n",
    "    # --- Interactive Input for h(L) ---\n",
    "    display(Markdown(\"### Submit the value of $h$ at $x = L$\"))\n",
    "    h_input = widgets.FloatText(\n",
    "        description=\"h(L):\",\n",
    "        style={'description_width': 'initial'}\n",
    "    )\n",
    "    submit_button = widgets.Button(description=\"Submit\")\n",
    "    output = widgets.Output()\n",
    "\n",
    "    def on_submit(b):\n",
    "        with output:\n",
    "            clear_output(wait=True)\n",
    "            h_L = h_input.value\n",
    "            correct_h_L = h1[-1]  # Theoretical value of h(L)\n",
    "            if np.isclose(h_L, correct_h_L, atol=0.1):\n",
    "                display(Markdown(f\"**Correct!** The value of $h(L)$ is approximately {correct_h_L:.2f} m.\"))\n",
    "            else:\n",
    "                display(Markdown(f\"**Incorrect.** The correct value of $h(L)$ is approximately {correct_h_L:.2f} m.\"))\n",
    "\n",
    "            # Draw the h(x) plot below the schematic\n",
    "            display(Markdown(\"### Hydraulic Head $h(x)$ Plot\"))\n",
    "            draw_hx_plot()\n",
    "\n",
    "    submit_button.on_click(on_submit)\n",
    "    display(widgets.HBox([h_input, submit_button]), output)\n",
    "\n",
    "# Call the function\n",
    "interactive_confined_aquifer()"
   ]
  },
  {
   "cell_type": "code",
   "execution_count": 14,
   "metadata": {},
   "outputs": [
    {
     "data": {
      "image/png": "[encoded data removed]",
      "text/plain": [
       "<Figure size 1500x1000 with 6 Axes>"
      ]
     },
     "metadata": {},
     "output_type": "display_data"
    }
   ],
   "source": [
    "import matplotlib.pyplot as plt\n",
    "import matplotlib.patches as patches\n",
    "\n",
    "def draw_schematic(ax, label, configuration):\n",
    "    \"\"\"\n",
    "    Draws the schematic of the confined aquifer on the given axis based on the configuration.\n",
    "    \"\"\"\n",
    "    L = 100  # Total length of the aquifer (m)\n",
    "    h0 = 50  # Hydraulic head at x = 0 (m)\n",
    "    h2L = 45  # Hydraulic head at x = 2L (m)\n",
    "    type_formula = \"vertical\"  # Default type_formula\n",
    "\n",
    "    # Draw the layers based on the configuration\n",
    "    if configuration == 1:  # Single layer of K1\n",
    "        type_formula = \"vertical\"\n",
    "        ax.add_patch(patches.Rectangle((0, 4), 2*L, 0.67, edgecolor=\"black\", facecolor=\"blue\", alpha=0.3, label=\"Layer K1\"))\n",
    "        ax.add_patch(patches.Rectangle((0, 4.67), 2*L, 0.67, edgecolor=\"black\", facecolor=\"green\", alpha=0.3, label=\"Layer K2\"))\n",
    "        ax.add_patch(patches.Rectangle((0, 5.33), 2*L, 0.67, edgecolor=\"black\", facecolor=\"orange\", alpha=0.3, label=\"Layer K3\"))\n",
    "\n",
    "    elif configuration == 2:  # Vertically 2 layers: 2/3 K1, 1/3 K2\n",
    "        type_formula = \"vertical\"\n",
    "        ax.add_patch(patches.Rectangle((0, 4), 2*L, 1.33, edgecolor=\"black\", facecolor=\"blue\", alpha=0.3, label=\"Layer K1\"))\n",
    "        ax.add_patch(patches.Rectangle((0, 5.33), 2*L, 0.67, edgecolor=\"black\", facecolor=\"green\", alpha=0.3, label=\"Layer K2\"))\n",
    "\n",
    "    elif configuration == 3:  # Vertically 2 layers: 1/3 K1, 2/3 K2\n",
    "        type_formula = \"vertical\"\n",
    "        ax.add_patch(patches.Rectangle((0, 4), 2*L, 0.67, edgecolor=\"black\", facecolor=\"blue\", alpha=0.3, label=\"Layer K1\"))\n",
    "        ax.add_patch(patches.Rectangle((0, 4.67), 2*L, 1.33, edgecolor=\"black\", facecolor=\"green\", alpha=0.3, label=\"Layer K2\"))\n",
    "\n",
    "    elif configuration == 4:  # Vertically 3 layers: 1/3 K1, 1/3 K2, 1/3 K3\n",
    "        type_formula = \"horizontal\"\n",
    "        ax.add_patch(patches.Rectangle((0, 4), 2*L, 2, edgecolor=\"black\", facecolor=\"blue\", alpha=0.3, label=\"Layer K1\"))\n",
    "        \n",
    "    elif configuration == 5:  # Horizontally 1/2 K1 and 1/2 K2\n",
    "        type_formula = \"horizontal\"\n",
    "        ax.add_patch(patches.Rectangle((0, 4), 2*L / 2, 2, edgecolor=\"black\", facecolor=\"blue\", alpha=0.3, label=\"Layer K1\"))\n",
    "        ax.add_patch(patches.Rectangle((2*L / 2, 4), 2*L / 2, 2, edgecolor=\"black\", facecolor=\"green\", alpha=0.3, label=\"Layer K2\"))\n",
    "\n",
    "    elif configuration == 6:  # Horizontally 1/2 K1 and 1/2 K4\n",
    "        type_formula = \"horizontal\"\n",
    "        ax.add_patch(patches.Rectangle((0, 4), 2*L / 2, 2, edgecolor=\"black\", facecolor=\"blue\", alpha=0.3, label=\"Layer K1\"))\n",
    "        ax.add_patch(patches.Rectangle((2*L / 2, 4), 2*L / 2, 2, edgecolor=\"black\", facecolor=\"purple\", alpha=0.3, label=\"Layer K4\"))\n",
    "\n",
    "    # Draw the wells as piezometers (tubes)\n",
    "    # Well at x=0\n",
    "    ax.add_patch(patches.Rectangle((-1, 4), 2, 3, edgecolor=\"black\", facecolor=\"white\", label=\"Well at x=0\"))\n",
    "    ax.hlines(6.8, -1, 1, colors=\"blue\", linewidth=2)  # Water table level inside the well\n",
    "\n",
    "    # Well at x=2L\n",
    "    ax.add_patch(patches.Rectangle((2 * L - 1, 4), 2, 3, edgecolor=\"black\", facecolor=\"white\", label=\"Well at x=2L\"))\n",
    "    ax.hlines(6.4, 2 * L - 1, 2 * L + 1, colors=\"blue\", linewidth=2)  # Water table level inside the well\n",
    "\n",
    "    # Add labels for the wells\n",
    "    ax.text(0, 7.5, f\"h(0) = {h0} m\", fontsize=12, ha=\"center\")\n",
    "    ax.text(2 * L, 7.5, f\"h(2L) = {h2L} m\", fontsize=12, ha=\"center\")\n",
    "\n",
    "    # Add the x-axis at the bottom\n",
    "    ax.hlines(3.5, 0, 2 * L, colors=\"black\", linewidth=1)  # Horizontal line for the x-axis\n",
    "    ax.text(0, 3.2, \"$x$ = 0\", fontsize=12, ha=\"center\")  # Label for x=0\n",
    "    ax.text(2 * L, 3.2, \"$x$ = 2L\", fontsize=12, ha=\"center\")  # Label for x=2L\n",
    "\n",
    "    # Add ticks on the x-axis\n",
    "    ax.vlines(0, 3.4, 3.6, colors=\"black\", linewidth=1)  # Tick at x=0\n",
    "    ax.vlines(L, 3.4, 3.6, colors=\"black\", linewidth=1)  # Tick at x=L\n",
    "    ax.vlines(2 * L, 3.4, 3.6, colors=\"black\", linewidth=1)  # Tick at x=2L\n",
    "\n",
    "    # Add subplot label\n",
    "    ax.text(-10, 9, f\"({label})\", fontsize=14, fontweight=\"bold\", ha=\"left\")\n",
    "\n",
    "    ax.set_xlim(-5, 2 * L + 5)\n",
    "    ax.set_ylim(0, 10)\n",
    "    ax.axis(\"off\")\n",
    "\n",
    "\n",
    "# Create the figure and subplots\n",
    "fig, axes = plt.subplots(2, 3, figsize=(15, 10))  # 2 rows, 3 columns\n",
    "\n",
    "\n",
    "# Labels for the subplots\n",
    "labels = [\"a\", \"b\", \"c\", \"d\", \"e\", \"f\"]\n",
    "\n",
    "# Configurations for each subplot\n",
    "configurations = [1, 2, 3, 4, 5, 6]\n",
    "\n",
    "# Draw the schematic in each subplot\n",
    "for ax, label, config in zip(axes.flat, labels, configurations):\n",
    "    draw_schematic(ax, label, config)\n",
    "\n",
    "# Adjust layout\n",
    "plt.tight_layout()\n",
    "plt.show()"
   ]
  },
  {
   "cell_type": "code",
   "execution_count": null,
   "metadata": {},
   "outputs": [],
   "source": [
    "import matplotlib.pyplot as plt\n",
    "import numpy as np\n",
    "\n",
    "def plot_h_function(type_layers, K1, K2, K3=None, L, h0):\n",
    "    \"\"\"\n",
    "    Plots the hydraulic head h(x) based on the type of layering (vertical or horizontal).\n",
    "\n",
    "    Parameters:\n",
    "        type_layers (str): \"vertical\" or \"horizontal\".\n",
    "        K1 (float): Hydraulic conductivity of the first layer.\n",
    "        K2 (float): Hydraulic conductivity of the second layer.\n",
    "        K3 (float, optional): Hydraulic conductivity of the third layer (for vertical layers).\n",
    "        L (float): Length of the aquifer (m).\n",
    "        h0 (float): Hydraulic head at x=0 (m).\n",
    "    \"\"\"\n",
    "    q=3e-6\n",
    "    x = np.linspace(0, 2 * L, 500)  # x values for the entire domain\n",
    "\n",
    "    if type_layers == \"vertical\":\n",
    "        # For vertical layers: h(x) = h0 - (1 / (K1 + K2 + K3)) * (q / 2L) * x\n",
    "        if K3 is None:\n",
    "            raise ValueError(\"K3 must be provided for vertical layers.\")\n",
    "        K_eff = 1 / (1 / K1 + 1 / K2 + 1 / K3)  # Effective hydraulic conductivity\n",
    "        h = h0 - (q / K_eff) * (x / (2 * L))\n",
    "        plt.plot(x, h, label=\"Vertical Layers\")\n",
    "\n",
    "    elif type_layers == \"horizontal\":\n",
    "        # For horizontal layers:\n",
    "        # h(x < L) = h(0) - (q / K1) * (x / L)\n",
    "        # h(x > L) = h(L) - (q / K2) * ((x - L) / L)\n",
    "        x1 = x[x <= L]\n",
    "        x2 = x[x > L]\n",
    "        h1 = h0 - (q / K1) * (x1 / L)\n",
    "        h_L = h1[-1]  # Hydraulic head at x = L\n",
    "        h2 = h_L - (q / K2) * ((x2 - L) / L)\n",
    "        plt.plot(x1, h1, label=\"Horizontal Layer 1\")\n",
    "        plt.plot(x2, h2, label=\"Horizontal Layer 2\")\n",
    "\n",
    "    else:\n",
    "        raise ValueError(\"Invalid type_layers. Use 'vertical' or 'horizontal'.\")\n",
    "\n",
    "    # Plot settings\n",
    "    plt.title(\"Hydraulic Head h(x)\")\n",
    "    plt.xlabel(\"x [m]\")\n",
    "    plt.ylabel(\"h(x) [m]\")\n",
    "    plt.legend()\n",
    "    plt.grid(True)\n",
    "    plt.show()"
   ]
  },
  {
   "cell_type": "code",
   "execution_count": 20,
   "metadata": {},
   "outputs": [
    {
     "data": {
      "image/png": "[encoded data removed]",
      "text/plain": [
       "<Figure size 640x480 with 1 Axes>"
      ]
     },
     "metadata": {},
     "output_type": "display_data"
    }
   ],
   "source": [
    "plot_h_function(\"horizontal\", 1e-5, 1e-4, 3, L=500, h0=50)"
   ]
  },
  {
   "cell_type": "code",
   "execution_count": null,
   "metadata": {},
   "outputs": [],
   "source": []
  }
 ],
 "metadata": {
  "kernelspec": {
   "display_name": ".venv",
   "language": "python",
   "name": "python3"
  },
  "language_info": {
   "codemirror_mode": {
    "name": "ipython",
    "version": 3
   },
   "file_extension": ".py",
   "mimetype": "text/x-python",
   "name": "python",
   "nbconvert_exporter": "python",
   "pygments_lexer": "ipython3",
   "version": "3.13.2"
  }
 },
 "nbformat": 4,
 "nbformat_minor": 2
}
