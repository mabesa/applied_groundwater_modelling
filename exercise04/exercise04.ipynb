{
 "cells": [
  {
   "cell_type": "markdown",
   "metadata": {},
   "source": [
    "# Exercise 4 : Darcy law\n",
    "\n",
    "## Context\n",
    "\n",
    "This exercise helps you to familiarize with Darcy law, for 1D and steady state conditions.\n",
    "\n",
    "A soil layer has the following properties :\n",
    "- length $L$ : 40 $\\text{m}$\n",
    "- hydraulic conductivity $K$ :  $5 \\cdot 10^{-5} \\text{m}\\text{s}^{-1}$\n",
    "\n",
    "The water goes horizontally through the layer. Inflow and outflow specific discharges are equal at steady state. The discharge per unit width of the aquifer can be measured and it is found to be $q$ = $3 \\cdot 10^{-6}\\text{m}^2\\text{s}^{-1}$.\n",
    "\n",
    "An observation wells is installed at $x_0$ and measures the water table hight there: $h(x_0)$= 50m.\n"
   ]
  },
  {
   "cell_type": "code",
   "execution_count": 3,
   "metadata": {},
   "outputs": [
    {
     "data": {
      "text/markdown": [
       "\n",
       "## Task 1:\n",
       "Based on given data, estimate the water table level at $x$ = 200m :\n"
      ],
      "text/plain": [
       "<IPython.core.display.Markdown object>"
      ]
     },
     "metadata": {},
     "output_type": "display_data"
    },
    {
     "data": {
      "application/vnd.jupyter.widget-view+json": {
       "model_id": "ae2872c2327d4cffa2bced173d8e063c",
       "version_major": 2,
       "version_minor": 0
      },
      "text/plain": [
       "FloatText(value=0.0, description='Answer:', style=DescriptionStyle(description_width='initial'))"
      ]
     },
     "metadata": {},
     "output_type": "display_data"
    },
    {
     "data": {
      "application/vnd.jupyter.widget-view+json": {
       "model_id": "8f246e5202a541edb90aff82f7f93bbb",
       "version_major": 2,
       "version_minor": 0
      },
      "text/plain": [
       "Button(description='Submit', style=ButtonStyle())"
      ]
     },
     "metadata": {},
     "output_type": "display_data"
    },
    {
     "data": {
      "application/vnd.jupyter.widget-view+json": {
       "model_id": "2a92ebe593a14ca89cedcb2d02b14972",
       "version_major": 2,
       "version_minor": 0
      },
      "text/plain": [
       "Output()"
      ]
     },
     "metadata": {},
     "output_type": "display_data"
    },
    {
     "data": {
      "application/vnd.jupyter.widget-view+json": {
       "model_id": "eae4d3bee7394da79a9e0d8dd7133c2d",
       "version_major": 2,
       "version_minor": 0
      },
      "text/plain": [
       "Button(description='Show Solution', disabled=True, style=ButtonStyle())"
      ]
     },
     "metadata": {},
     "output_type": "display_data"
    },
    {
     "data": {
      "application/vnd.jupyter.widget-view+json": {
       "model_id": "e3f9f81ab0eb447fa1ef47248acc69b0",
       "version_major": 2,
       "version_minor": 0
      },
      "text/plain": [
       "Output()"
      ]
     },
     "metadata": {},
     "output_type": "display_data"
    },
    {
     "data": {
      "text/markdown": [
       "\n",
       "## Task 2:\n",
       "Based on given data, estimate the water table level at $x$ = 400m :\n"
      ],
      "text/plain": [
       "<IPython.core.display.Markdown object>"
      ]
     },
     "metadata": {},
     "output_type": "display_data"
    },
    {
     "data": {
      "application/vnd.jupyter.widget-view+json": {
       "model_id": "da6c7f3cb0e74e699305688bc3e36922",
       "version_major": 2,
       "version_minor": 0
      },
      "text/plain": [
       "FloatText(value=0.0, description='Answer:', style=DescriptionStyle(description_width='initial'))"
      ]
     },
     "metadata": {},
     "output_type": "display_data"
    },
    {
     "data": {
      "application/vnd.jupyter.widget-view+json": {
       "model_id": "a027c663c391471381e3c8b70b144199",
       "version_major": 2,
       "version_minor": 0
      },
      "text/plain": [
       "Button(description='Submit', style=ButtonStyle())"
      ]
     },
     "metadata": {},
     "output_type": "display_data"
    },
    {
     "data": {
      "application/vnd.jupyter.widget-view+json": {
       "model_id": "ecf3e7e39eaf4b4985db7b8f3b2353e6",
       "version_major": 2,
       "version_minor": 0
      },
      "text/plain": [
       "Output()"
      ]
     },
     "metadata": {},
     "output_type": "display_data"
    },
    {
     "data": {
      "application/vnd.jupyter.widget-view+json": {
       "model_id": "0f89e47aa2d14791b074f08445025578",
       "version_major": 2,
       "version_minor": 0
      },
      "text/plain": [
       "Button(description='Show Solution', disabled=True, style=ButtonStyle())"
      ]
     },
     "metadata": {},
     "output_type": "display_data"
    },
    {
     "data": {
      "application/vnd.jupyter.widget-view+json": {
       "model_id": "aef6c736962845ff9c2ebe08f1aabac8",
       "version_major": 2,
       "version_minor": 0
      },
      "text/plain": [
       "Output()"
      ]
     },
     "metadata": {},
     "output_type": "display_data"
    }
   ],
   "source": [
    "# Setting up the notebook\n",
    "import sys\n",
    "import os\n",
    "\n",
    "# Import local libraries\n",
    "sys.path.append('../exercises_complements')\n",
    "from shared_functions import check_task_with_solution\n",
    "\n",
    "# Check the tasks for this exercise\n",
    "check_task_with_solution(\"task04_1\")\n",
    "check_task_with_solution(\"task04_2\")"
   ]
  },
  {
   "cell_type": "markdown",
   "metadata": {},
   "source": [
    "## Interactive exploration\n",
    "\n",
    "The following tool offers an interactive illustration of the situation previously studied. \n",
    "\n",
    "The default values of $K$ and $q$ are the ones fixed previously, which you used for the Tasks 1 and 2. \n",
    "\n",
    "You are encouraged to use the sliders in order to see how changes in $K$ and/or $q$ impact the water table profile $h(x)$."
   ]
  },
  {
   "cell_type": "code",
   "execution_count": 4,
   "metadata": {},
   "outputs": [
    {
     "data": {
      "application/vnd.jupyter.widget-view+json": {
       "model_id": "b760e243cd3c4a2c842ba6c5551ea546",
       "version_major": 2,
       "version_minor": 0
      },
      "text/plain": [
       "interactive(children=(FloatSlider(value=5e-05, description='K:', max=0.0001, min=1e-05, step=1e-05), FloatSlid…"
      ]
     },
     "metadata": {},
     "output_type": "display_data"
    }
   ],
   "source": [
    "# Setting up the notebook\n",
    "import sys\n",
    "import os\n",
    "\n",
    "# Import local libraries\n",
    "sys.path.append('../exercises_complements')\n",
    "from darcy_functions import launch_darcy_experiment_interactive\n",
    "\n",
    "# Check the tasks for this exercise\n",
    "launch_darcy_experiment_interactive()"
   ]
  },
  {
   "cell_type": "code",
   "execution_count": null,
   "metadata": {},
   "outputs": [],
   "source": []
  }
 ],
 "metadata": {
  "kernelspec": {
   "display_name": ".venv",
   "language": "python",
   "name": "python3"
  },
  "language_info": {
   "codemirror_mode": {
    "name": "ipython",
    "version": 3
   },
   "file_extension": ".py",
   "mimetype": "text/x-python",
   "name": "python",
   "nbconvert_exporter": "python",
   "pygments_lexer": "ipython3",
   "version": "3.13.2"
  }
 },
 "nbformat": 4,
 "nbformat_minor": 2
}
