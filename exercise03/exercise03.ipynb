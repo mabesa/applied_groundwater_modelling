{
 "cells": [
  {
   "cell_type": "code",
   "execution_count": 6,
   "metadata": {},
   "outputs": [
    {
     "ename": "ImportError",
     "evalue": "cannot import name 'mcp_behaviour_curve' from 'darcy_law_experiment' (/Users/louisenoel/Documents/GroundwaterGit/Clone_bea/applied_groundwater_modelling/exercise03/../exercises_complements/darcy_law_experiment.py)",
     "output_type": "error",
     "traceback": [
      "\u001b[31m---------------------------------------------------------------------------\u001b[39m",
      "\u001b[31mImportError\u001b[39m                               Traceback (most recent call last)",
      "\u001b[36mCell\u001b[39m\u001b[36m \u001b[39m\u001b[32mIn[6]\u001b[39m\u001b[32m, line 9\u001b[39m\n\u001b[32m      7\u001b[39m sys.path.append(\u001b[33m'\u001b[39m\u001b[33m../exercises_complements\u001b[39m\u001b[33m'\u001b[39m)\n\u001b[32m      8\u001b[39m \u001b[38;5;28;01mfrom\u001b[39;00m\u001b[38;5;250m \u001b[39m\u001b[34;01mshared_functions\u001b[39;00m\u001b[38;5;250m \u001b[39m\u001b[38;5;28;01mimport\u001b[39;00m check_task_with_solution\n\u001b[32m----> \u001b[39m\u001b[32m9\u001b[39m \u001b[38;5;28;01mfrom\u001b[39;00m\u001b[38;5;250m \u001b[39m\u001b[34;01mdarcy_law_experiment\u001b[39;00m\u001b[38;5;250m \u001b[39m\u001b[38;5;28;01mimport\u001b[39;00m darcy_experiment_simulation, mcp_behaviour_curve\n",
      "\u001b[31mImportError\u001b[39m: cannot import name 'mcp_behaviour_curve' from 'darcy_law_experiment' (/Users/louisenoel/Documents/GroundwaterGit/Clone_bea/applied_groundwater_modelling/exercise03/../exercises_complements/darcy_law_experiment.py)"
     ]
    }
   ],
   "source": [
    "# Setting up the notebook\n",
    "import sys\n",
    "import os\n",
    "import matplotlib.pyplot as plt\n",
    "\n",
    "# Import local libraries\n",
    "sys.path.append('../exercises_complements')\n",
    "from shared_functions import check_task_with_solution\n",
    "from darcy_law_experiment import darcy_experiment_simulation, mcp_behaviour_curve"
   ]
  },
  {
   "cell_type": "markdown",
   "metadata": {},
   "source": [
    "# Exercise 3 : Darcy experiment"
   ]
  },
  {
   "cell_type": "markdown",
   "metadata": {},
   "source": [
    "\n",
    "## Context \n",
    "\n",
    "You are given a Darcy experiement set-up\n",
    "\n",
    "The following data parameters are known :\n",
    "- Hydraulic conductivity $K$ = 0.0003 $\\text{m}/\\text{s}^{-1}$\n",
    "- Column diameter $d$ = 2.54 cm\n",
    "- Effective porosity $\\phi_e$ = 0.25\n",
    "- Column length $L$ = 1 m\n",
    "\n",
    "You are able to measure the head differenve $\\Delta h$ between at the input and at the output of the water column. \n",
    "\n",
    "The specific discharge $q$ stays unknown to you.\n",
    "\n",
    "\n"
   ]
  },
  {
   "cell_type": "markdown",
   "metadata": {},
   "source": [
    "## Darcy's law theory"
   ]
  },
  {
   "cell_type": "code",
   "execution_count": 2,
   "metadata": {},
   "outputs": [
    {
     "data": {
      "text/markdown": [
       "\n",
       "## Task 1:\n",
       "Let's first check the theory.  Someone observes that $\\Delta h=0.4 m$.\n",
       "- What is your estimate of the specific discharge $q$?\n"
      ],
      "text/plain": [
       "<IPython.core.display.Markdown object>"
      ]
     },
     "metadata": {},
     "output_type": "display_data"
    },
    {
     "data": {
      "application/vnd.jupyter.widget-view+json": {
       "model_id": "7c40cf432b524d068d7799a2c53da2ea",
       "version_major": 2,
       "version_minor": 0
      },
      "text/plain": [
       "HBox(children=(FloatText(value=0.0, description='Answer:', style=DescriptionStyle(description_width='initial')…"
      ]
     },
     "metadata": {},
     "output_type": "display_data"
    },
    {
     "data": {
      "application/vnd.jupyter.widget-view+json": {
       "model_id": "cd17e971c07d4eb495142ea27ddf342c",
       "version_major": 2,
       "version_minor": 0
      },
      "text/plain": [
       "Output()"
      ]
     },
     "metadata": {},
     "output_type": "display_data"
    },
    {
     "data": {
      "application/vnd.jupyter.widget-view+json": {
       "model_id": "5c911ad63d384b2a86138a224eb28647",
       "version_major": 2,
       "version_minor": 0
      },
      "text/plain": [
       "Button(description='Show Solution', disabled=True, style=ButtonStyle())"
      ]
     },
     "metadata": {},
     "output_type": "display_data"
    },
    {
     "data": {
      "application/vnd.jupyter.widget-view+json": {
       "model_id": "f15b34870c024517a7cc48ddada8dd25",
       "version_major": 2,
       "version_minor": 0
      },
      "text/plain": [
       "Output()"
      ]
     },
     "metadata": {},
     "output_type": "display_data"
    }
   ],
   "source": [
    "check_task_with_solution(\"task03_1\")"
   ]
  },
  {
   "cell_type": "markdown",
   "metadata": {},
   "source": [
    "## Darcy's experiment\n",
    "\n",
    "Let's now see how one can derive experimentally the linear relationship between:\n",
    "    - the hydralic gradient I = $\\frac{\\Delta h}{L}$\n",
    "    - the specific discharge $q$.\n",
    "\n",
    "In Darcy's experiment, water flows through the soil column and while varying the hydraulic head difference $\\Delta h$, one notes the specific discharge at the input or at the output $q$.\n",
    "\n",
    "\n",
    "\n"
   ]
  },
  {
   "cell_type": "code",
   "execution_count": 4,
   "metadata": {},
   "outputs": [
    {
     "data": {
      "application/vnd.jupyter.widget-view+json": {
       "model_id": "0d675b30699a47a7a212f11982988346",
       "version_major": 2,
       "version_minor": 0
      },
      "text/plain": [
       "VBox(children=(Output(), RadioButtons(description='Select:', options=('Quadratic', 'Linear', 'Logarithmic'), s…"
      ]
     },
     "metadata": {},
     "output_type": "display_data"
    }
   ],
   "source": [
    "from ipywidgets import RadioButtons, Button, Output, VBox\n",
    "from IPython.display import display, Markdown, clear_output\n",
    "\n",
    "def multiple_choice_question():\n",
    "    \"\"\"\n",
    "    Creates a multiple-choice question with three options:\n",
    "    - Linear\n",
    "    - Quadratic\n",
    "    - Logarithmic\n",
    "\n",
    "    The correct answer is \"Linear\". The solution is displayed when the submit button is clicked.\n",
    "    \"\"\"\n",
    "    # Define the options and the correct answer\n",
    "    options = [\"Quadratic\", \"Linear\", \"Logarithmic\"]\n",
    "    correct_answer = \"Linear\"\n",
    "\n",
    "    # Create widgets\n",
    "    question_output = Output()\n",
    "    answer_output = Output()\n",
    "    radio_buttons = RadioButtons(\n",
    "        options=options,\n",
    "        description=\"Select:\",\n",
    "        style={'description_width': 'initial'}\n",
    "    )\n",
    "    submit_button = Button(description=\"Submit\")\n",
    "\n",
    "    # Function to handle the submit button click\n",
    "    def on_submit(button):\n",
    "        with answer_output:\n",
    "            clear_output(wait=True)\n",
    "            selected_answer = radio_buttons.value\n",
    "            if selected_answer == correct_answer:\n",
    "                display(Markdown(\"**Correct! Darcy's law describes a linear relationship : q = KI.**\"))\n",
    "            else:\n",
    "                display(Markdown(f\"**Incorrect.** The correct answer is **{correct_answer}**.\"))\n",
    "\n",
    "    # Attach the event handler to the submit button\n",
    "    submit_button.on_click(on_submit)\n",
    "\n",
    "    # Display the question and widgets\n",
    "    with question_output:\n",
    "        display(Markdown(\"### What type of fit should we use to fit darcy's experiment plot of $q$ versus $I$?\"))\n",
    "    display(VBox([question_output, radio_buttons, submit_button, answer_output]))\n",
    "\n",
    "# Call the function to display the question\n",
    "multiple_choice_question()"
   ]
  },
  {
   "cell_type": "code",
   "execution_count": 2,
   "metadata": {},
   "outputs": [
    {
     "data": {
      "application/vnd.jupyter.widget-view+json": {
       "model_id": "296fff8af5b84006a1e1ee7eb25c956b",
       "version_major": 2,
       "version_minor": 0
      },
      "text/plain": [
       "VBox(children=(FloatSlider(value=0.5, description='Δh:', max=0.95, min=0.05, step=0.05), Button(description='V…"
      ]
     },
     "metadata": {},
     "output_type": "display_data"
    },
    {
     "data": {
      "text/markdown": [
       "\n",
       "## Task 2:\n",
       "Based on given data, estimate the  discharge $Q$ in the soil column :\n"
      ],
      "text/plain": [
       "<IPython.core.display.Markdown object>"
      ]
     },
     "metadata": {},
     "output_type": "display_data"
    },
    {
     "data": {
      "application/vnd.jupyter.widget-view+json": {
       "model_id": "11d10feef20a41b99cd4336f35f4a867",
       "version_major": 2,
       "version_minor": 0
      },
      "text/plain": [
       "HBox(children=(FloatText(value=0.0, description='Answer:', style=DescriptionStyle(description_width='initial')…"
      ]
     },
     "metadata": {},
     "output_type": "display_data"
    },
    {
     "data": {
      "application/vnd.jupyter.widget-view+json": {
       "model_id": "9e4b83bd607242719734cf41cb67c3df",
       "version_major": 2,
       "version_minor": 0
      },
      "text/plain": [
       "Output()"
      ]
     },
     "metadata": {},
     "output_type": "display_data"
    },
    {
     "data": {
      "application/vnd.jupyter.widget-view+json": {
       "model_id": "cd986d29b44b46819a6e9587773fdf7e",
       "version_major": 2,
       "version_minor": 0
      },
      "text/plain": [
       "Button(description='Show Solution', disabled=True, style=ButtonStyle())"
      ]
     },
     "metadata": {},
     "output_type": "display_data"
    },
    {
     "data": {
      "application/vnd.jupyter.widget-view+json": {
       "model_id": "5510b22c1e6241f9b78190280383a6c4",
       "version_major": 2,
       "version_minor": 0
      },
      "text/plain": [
       "Output()"
      ]
     },
     "metadata": {},
     "output_type": "display_data"
    }
   ],
   "source": [
    "darcy_experiment_simulation()\n"
   ]
  },
  {
   "cell_type": "code",
   "execution_count": 3,
   "metadata": {},
   "outputs": [
    {
     "ename": "ImportError",
     "evalue": "cannot import name 'check_task_with_solution' from partially initialized module 'shared_functions' (most likely due to a circular import) (/Users/louisenoel/Documents/GroundwaterGit/Clone_bea/applied_groundwater_modelling/exercise03/../exercises_complements/shared_functions.py)",
     "output_type": "error",
     "traceback": [
      "\u001b[31m---------------------------------------------------------------------------\u001b[39m",
      "\u001b[31mImportError\u001b[39m                               Traceback (most recent call last)",
      "\u001b[36mCell\u001b[39m\u001b[36m \u001b[39m\u001b[32mIn[3]\u001b[39m\u001b[32m, line 8\u001b[39m\n\u001b[32m      6\u001b[39m \u001b[38;5;28;01mimport\u001b[39;00m\u001b[38;5;250m \u001b[39m\u001b[34;01mmatplotlib\u001b[39;00m\u001b[34;01m.\u001b[39;00m\u001b[34;01mpyplot\u001b[39;00m\u001b[38;5;250m \u001b[39m\u001b[38;5;28;01mas\u001b[39;00m\u001b[38;5;250m \u001b[39m\u001b[34;01mplt\u001b[39;00m\n\u001b[32m      7\u001b[39m \u001b[38;5;28;01mimport\u001b[39;00m\u001b[38;5;250m \u001b[39m\u001b[34;01mnumpy\u001b[39;00m\u001b[38;5;250m \u001b[39m\u001b[38;5;28;01mas\u001b[39;00m\u001b[38;5;250m \u001b[39m\u001b[34;01mnp\u001b[39;00m\n\u001b[32m----> \u001b[39m\u001b[32m8\u001b[39m \u001b[38;5;28;01mfrom\u001b[39;00m\u001b[38;5;250m \u001b[39m\u001b[34;01mshared_functions\u001b[39;00m\u001b[38;5;250m \u001b[39m\u001b[38;5;28;01mimport\u001b[39;00m check_task_with_solution\n\u001b[32m     10\u001b[39m \u001b[38;5;28;01mdef\u001b[39;00m\u001b[38;5;250m \u001b[39m\u001b[34mdarcy_experiment_simulation\u001b[39m():\n\u001b[32m     11\u001b[39m \u001b[38;5;250m    \u001b[39m\u001b[33;03m\"\"\"\u001b[39;00m\n\u001b[32m     12\u001b[39m \u001b[33;03m    Simulates a Darcy experiment:\u001b[39;00m\n\u001b[32m     13\u001b[39m \u001b[33;03m    - Starts with the point (0.4, 0.00012) already plotted in green.\u001b[39;00m\n\u001b[32m   (...)\u001b[39m\u001b[32m     18\u001b[39m \u001b[33;03m    - Adds an \"End Experiment\" button to finalize the experiment.\u001b[39;00m\n\u001b[32m     19\u001b[39m \u001b[33;03m    \"\"\"\u001b[39;00m\n",
      "\u001b[36mFile \u001b[39m\u001b[32m~/Documents/GroundwaterGit/Clone_bea/applied_groundwater_modelling/exercise03/../exercises_complements/shared_functions.py:4\u001b[39m\n\u001b[32m      2\u001b[39m \u001b[38;5;28;01mimport\u001b[39;00m\u001b[38;5;250m \u001b[39m\u001b[34;01mipywidgets\u001b[39;00m\u001b[38;5;250m \u001b[39m\u001b[38;5;28;01mas\u001b[39;00m\u001b[38;5;250m \u001b[39m\u001b[34;01mwidgets\u001b[39;00m\n\u001b[32m      3\u001b[39m \u001b[38;5;28;01mfrom\u001b[39;00m\u001b[38;5;250m \u001b[39m\u001b[34;01mIPython\u001b[39;00m\u001b[34;01m.\u001b[39;00m\u001b[34;01mdisplay\u001b[39;00m\u001b[38;5;250m \u001b[39m\u001b[38;5;28;01mimport\u001b[39;00m display, Markdown, clear_output\n\u001b[32m----> \u001b[39m\u001b[32m4\u001b[39m \u001b[38;5;28;01mfrom\u001b[39;00m\u001b[38;5;250m \u001b[39m\u001b[34;01mtasks_data\u001b[39;00m\u001b[38;5;250m \u001b[39m\u001b[38;5;28;01mimport\u001b[39;00m solutions, solutions_exact, solution_unit, questions_markdown, solutions_markdown, task_functions, task_functions_start\n\u001b[32m      5\u001b[39m \u001b[38;5;28;01mfrom\u001b[39;00m\u001b[38;5;250m \u001b[39m\u001b[34;01muncertainty_plot\u001b[39;00m\u001b[38;5;250m \u001b[39m\u001b[38;5;28;01mimport\u001b[39;00m display_disc_area_interactive\n\u001b[32m      6\u001b[39m \u001b[38;5;28;01mfrom\u001b[39;00m\u001b[38;5;250m \u001b[39m\u001b[34;01mprint_images\u001b[39;00m\u001b[38;5;250m \u001b[39m\u001b[38;5;28;01mimport\u001b[39;00m display_image\n",
      "\u001b[36mFile \u001b[39m\u001b[32m~/Documents/GroundwaterGit/Clone_bea/applied_groundwater_modelling/exercise03/../exercises_complements/tasks_data.py:3\u001b[39m\n\u001b[32m      1\u001b[39m \u001b[38;5;28;01mfrom\u001b[39;00m\u001b[38;5;250m \u001b[39m\u001b[34;01muncertainty_plot\u001b[39;00m\u001b[38;5;250m \u001b[39m\u001b[38;5;28;01mimport\u001b[39;00m display_disc_area_interactive\n\u001b[32m      2\u001b[39m \u001b[38;5;28;01mfrom\u001b[39;00m\u001b[38;5;250m \u001b[39m\u001b[34;01mprint_images\u001b[39;00m\u001b[38;5;250m \u001b[39m\u001b[38;5;28;01mimport\u001b[39;00m display_image\n\u001b[32m----> \u001b[39m\u001b[32m3\u001b[39m \u001b[38;5;28;01mfrom\u001b[39;00m\u001b[38;5;250m \u001b[39m\u001b[34;01mdarcy_law_experiment\u001b[39;00m\u001b[38;5;250m \u001b[39m\u001b[38;5;28;01mimport\u001b[39;00m darcy_experiment_simulation\n\u001b[32m      5\u001b[39m \u001b[38;5;66;03m### File to define the questions and solutions of tasks / all necessary data\u001b[39;00m\n\u001b[32m      6\u001b[39m \n\u001b[32m      7\u001b[39m \u001b[38;5;66;03m# question to ask (Markdown)\u001b[39;00m\n\u001b[32m   (...)\u001b[39m\u001b[32m     12\u001b[39m \n\u001b[32m     13\u001b[39m \u001b[38;5;66;03m#------ Dictionary to store the markdown to diplay the question asked\u001b[39;00m\n\u001b[32m     14\u001b[39m questions_markdown = {\n\u001b[32m     15\u001b[39m \u001b[33m\"\u001b[39m\u001b[33mtask01_1\u001b[39m\u001b[33m\"\u001b[39m:  \u001b[33mr\u001b[39m\u001b[33m\"\"\"\u001b[39m\n\u001b[32m     16\u001b[39m \u001b[33m## Task 1:\u001b[39m\n\u001b[32m   (...)\u001b[39m\u001b[32m     63\u001b[39m \u001b[33m\"\"\"\u001b[39m\n\u001b[32m     64\u001b[39m }\n",
      "\u001b[36mFile \u001b[39m\u001b[32m~/Documents/GroundwaterGit/Clone_bea/applied_groundwater_modelling/exercise03/../exercises_complements/darcy_law_experiment.py:9\u001b[39m\n\u001b[32m      7\u001b[39m \u001b[38;5;28;01mimport\u001b[39;00m\u001b[38;5;250m \u001b[39m\u001b[34;01mmatplotlib\u001b[39;00m\u001b[34;01m.\u001b[39;00m\u001b[34;01mpyplot\u001b[39;00m\u001b[38;5;250m \u001b[39m\u001b[38;5;28;01mas\u001b[39;00m\u001b[38;5;250m \u001b[39m\u001b[34;01mplt\u001b[39;00m\n\u001b[32m      8\u001b[39m \u001b[38;5;28;01mimport\u001b[39;00m\u001b[38;5;250m \u001b[39m\u001b[34;01mnumpy\u001b[39;00m\u001b[38;5;250m \u001b[39m\u001b[38;5;28;01mas\u001b[39;00m\u001b[38;5;250m \u001b[39m\u001b[34;01mnp\u001b[39;00m\n\u001b[32m----> \u001b[39m\u001b[32m9\u001b[39m \u001b[38;5;28;01mfrom\u001b[39;00m\u001b[38;5;250m \u001b[39m\u001b[34;01mshared_functions\u001b[39;00m\u001b[38;5;250m \u001b[39m\u001b[38;5;28;01mimport\u001b[39;00m check_task_with_solution\n\u001b[32m     11\u001b[39m \u001b[38;5;28;01mdef\u001b[39;00m\u001b[38;5;250m \u001b[39m\u001b[34mdarcy_experiment_simulation\u001b[39m():\n\u001b[32m     12\u001b[39m \u001b[38;5;250m    \u001b[39m\u001b[33;03m\"\"\"\u001b[39;00m\n\u001b[32m     13\u001b[39m \u001b[33;03m    Simulates a Darcy experiment:\u001b[39;00m\n\u001b[32m     14\u001b[39m \u001b[33;03m    - Starts with the point (0.4, 0.00012) already plotted in green.\u001b[39;00m\n\u001b[32m   (...)\u001b[39m\u001b[32m     19\u001b[39m \u001b[33;03m    - Adds an \"End Experiment\" button to finalize the experiment.\u001b[39;00m\n\u001b[32m     20\u001b[39m \u001b[33;03m    \"\"\"\u001b[39;00m\n",
      "\u001b[31mImportError\u001b[39m: cannot import name 'check_task_with_solution' from partially initialized module 'shared_functions' (most likely due to a circular import) (/Users/louisenoel/Documents/GroundwaterGit/Clone_bea/applied_groundwater_modelling/exercise03/../exercises_complements/shared_functions.py)"
     ]
    }
   ],
   "source": [
    "# Import widgets and Markdown for interactive functionality\n",
    "from ipywidgets import Output, VBox, FloatSlider, Button\n",
    "from IPython.display import Markdown, display, clear_output\n",
    "import sys\n",
    "import os\n",
    "import matplotlib.pyplot as plt\n",
    "import numpy as np\n",
    "from shared_functions import check_task_with_solution\n",
    "\n",
    "def darcy_experiment_simulation():\n",
    "    \"\"\"\n",
    "    Simulates a Darcy experiment:\n",
    "    - Starts with the point (0.4, 0.00012) already plotted in green.\n",
    "    - Allows the user to select Δh values using a slider.\n",
    "    - Plots the corresponding q values on a graph (q in mm/s).\n",
    "    - Updates the plot dynamically as points are validated.\n",
    "    - Adds a \"Plot Fit\" button to plot the fit line after more than 5 points are added.\n",
    "    - Adds an \"End Experiment\" button to finalize the experiment.\n",
    "    \"\"\"\n",
    "    # Initialize variables\n",
    "    delta_h_values = [0.4]  # Start with the point (0.4, 0.00012)\n",
    "    q_values = [0.00012]  # Corresponding q value\n",
    "    output = Output()\n",
    "    feedback_output = Output()  # For feedback messages\n",
    "    feedback_texts = []  # To keep track of all feedback messages\n",
    "    point_count = 1  # Start with 1 point already added\n",
    "    fit_coefficients = None  # Store the fit coefficients\n",
    "\n",
    "    # Darcy's law function\n",
    "    def darcy_law(K, dh_L):\n",
    "        return K * dh_L\n",
    "\n",
    "    # Function to update the plot\n",
    "    def update_plot(show_fit=False, highlight_first_point=False):\n",
    "        with output:\n",
    "            clear_output(wait=True)  # Clear the output to refresh the plot\n",
    "            fig, ax = plt.subplots(figsize=(6, 4))\n",
    "            ax.set_title(\"Darcy Experiment: Δh vs q\")\n",
    "            ax.set_xlabel(\"Δh (m)\")\n",
    "            ax.set_ylabel(\"q (mm/s)\")\n",
    "            ax.grid(True)\n",
    "\n",
    "            # Set fixed axis limits\n",
    "            ax.set_xlim(0, 1)\n",
    "            ax.set_ylim(0, 0.3)  # Convert 0.0003 m/s to mm/s\n",
    "\n",
    "            # Plot the points\n",
    "            ax.scatter(delta_h_values[:1], [q * 1000 for q in q_values[:1]], color='green')  # First point in green\n",
    "            ax.scatter(delta_h_values[1:], [q * 1000 for q in q_values[1:]], color='blue')  # Other points in blue\n",
    "\n",
    "            # Highlight the first point again if requested\n",
    "            if highlight_first_point:\n",
    "                ax.scatter(delta_h_values[:1], [q * 1000 for q in q_values[:1]], color='green', edgecolor='black', s=100)\n",
    "\n",
    "            # Plot the fit line if it has been calculated\n",
    "            if fit_coefficients is not None:\n",
    "                fit_line = np.poly1d(fit_coefficients)\n",
    "                x_fit = np.linspace(0, 1, 100)\n",
    "                y_fit = fit_line(x_fit)\n",
    "                ax.plot(x_fit, [y * 1000 for y in y_fit], color='red')  # Convert q to mm/s\n",
    "\n",
    "            plt.show()\n",
    "\n",
    "    # Function to handle point validation\n",
    "    def on_validate_point(button):\n",
    "        nonlocal point_count\n",
    "        with feedback_output:\n",
    "            delta_h = slider.value\n",
    "            if delta_h in delta_h_values:\n",
    "                display(Markdown(f\"**Error:** Δh = {delta_h:.2f} has already been added.\"))\n",
    "                return\n",
    "\n",
    "            # Calculate q using Darcy's law (assuming K = 0.0003 m/s)\n",
    "            q = darcy_law(0.0003, delta_h)\n",
    "            delta_h_values.append(delta_h)\n",
    "            q_values.append(q)\n",
    "            point_count += 1\n",
    "\n",
    "            # Update the plot dynamically\n",
    "            update_plot()\n",
    "\n",
    "            # Enable the \"Plot Fit\" button if more than 5 points are added\n",
    "            if len(delta_h_values) > 5:\n",
    "                plot_fit_button.disabled = False\n",
    "\n",
    "            # Add feedback message\n",
    "            feedback_text = f\"**Point {point_count} added:** Δh = {delta_h:.2f}, q = {q * 1000:.6f} mm/s\"\n",
    "            feedback_texts.append(feedback_text)\n",
    "            clear_output(wait=True)\n",
    "            for text in feedback_texts:\n",
    "                display(Markdown(text))\n",
    "\n",
    "    # Function to handle the \"Plot Fit\" button\n",
    "    def on_plot_fit(button):\n",
    "        nonlocal fit_coefficients\n",
    "        # Fit a line to the points\n",
    "        fit_coefficients = np.polyfit(delta_h_values, q_values, 1)\n",
    "        update_plot(show_fit=True)\n",
    "        end_experiment_button.disabled = False  # Enable the \"End Experiment\" button\n",
    "\n",
    "    # Function to handle the \"End Experiment\" button\n",
    "    def on_end_experiment(button):\n",
    "        update_plot(highlight_first_point=True)  # Highlight the first point again\n",
    "        check_task_with_solution(\"Task03_2\")  # Call the function to check the solution\n",
    "\n",
    "    # Create the slider and buttons\n",
    "    slider = FloatSlider(value=0.5, min=0.05, max=0.95, step=0.05, description='Δh:')\n",
    "    validate_button = Button(description=\"Validate Point\")\n",
    "    validate_button.on_click(on_validate_point)\n",
    "\n",
    "    plot_fit_button = Button(description=\"Plot Fit\", disabled=True)  # Initially disabled\n",
    "    plot_fit_button.on_click(on_plot_fit)\n",
    "\n",
    "    end_experiment_button = Button(description=\"End Experiment\", disabled=True)  # Initially disabled\n",
    "    end_experiment_button.on_click(on_end_experiment)\n",
    "\n",
    "    # Display the widgets and output\n",
    "    display(VBox([slider, validate_button, plot_fit_button, end_experiment_button, feedback_output, output]))\n",
    "\n",
    "    # Initial plot with the pre-added point\n",
    "    update_plot()\n",
    "    with feedback_output:\n",
    "        feedback_text = f\"**Point 1 added from previous question:** Δh = 0.4, q = 0.12 mm/s\"\n",
    "        feedback_texts.append(feedback_text)\n",
    "        for text in feedback_texts:\n",
    "            display(Markdown(text))\n",
    "\n",
    "# Call the function\n",
    "darcy_experiment_simulation()"
   ]
  },
  {
   "cell_type": "code",
   "execution_count": null,
   "metadata": {},
   "outputs": [],
   "source": []
  }
 ],
 "metadata": {
  "kernelspec": {
   "display_name": ".venv",
   "language": "python",
   "name": "python3"
  },
  "language_info": {
   "codemirror_mode": {
    "name": "ipython",
    "version": 3
   },
   "file_extension": ".py",
   "mimetype": "text/x-python",
   "name": "python",
   "nbconvert_exporter": "python",
   "pygments_lexer": "ipython3",
   "version": "3.13.2"
  }
 },
 "nbformat": 4,
 "nbformat_minor": 2
}
