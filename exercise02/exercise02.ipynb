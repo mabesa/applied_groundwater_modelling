{
 "cells": [
  {
   "cell_type": "markdown",
   "metadata": {},
   "source": [
    "# Exercise 2 : Porosity & Representative Elementary Volume\n",
    "\n",
    "## Objectives\n",
    "Porosity is a measure of the void spaces in a material, and is a fraction of the volume of voids over the total volume. In this exercise, we explore the concept of porosity and the Representative Elementary Volume (REV) of a porous material in a 2-dimensional space. We expect that you have an understanding of the concept of porosity from your Bachelors degree. If you need to refresh your memory, please read the Chapter on Porosity and pore-size distribution in the Encyclopedia of Soils in the Environment (Nimmo et al., 2023). We try to answer the following questions:  \n",
    "- How large should a sample be to be representative of the whole material?\n",
    "- How does the porosity of a material change with the size of the sample?\n",
    "- How does the porosity of a material change with the spatial correlation and structure of the pores (simplified here with the term \"blobbiness\" for simplicity)?\n",
    "\n",
    "Note: We summarize properties of spacial correlation and structure of the pores as \"blobbiness\" in this exercise, re-using the term from the porespy package (Gostick et al., 2019). If you are interested in more details in how pore structure influences flow, please refer to the reference at the end of this notebook. \n",
    "\n",
    "## Motivation\n",
    "Why is it important to understand the concept of porosity and the REV of a material?  \n",
    "- *Scale Bridging*: The REV is the smallest volume of a material that can be considered representative of the whole material. It is important to understand the REV to bridge the gap between the microscale and macroscale properties of a material.  \n",
    "- *Appropriate Grid Sizing*: Understanding the REV helps in choosing the appropriate grid size for numerical simulations of porous materials. Cells which are too small may capture stochastic variations that aren't meaningful. \n",
    "- *Validity of Darcy's Law*: Darcy's Law is a fundamental equation in fluid flow through porous media. It is valid only when the sample size is larger than the REV. Below REV scale, flow patterns are not representative of the whole material.\n",
    "- *Parameterization*: Properties like hydraulic conductivity, porosity, and specific storage only have consistent, meaningful values when measured at the REV scale or larger. \n",
    "- *Upscaling Challenges*: When transitioning from high-resolution lab measurements to field-scale models, understanding how properties change with scale (upscaling) requires knowledge of the REV concept.\n",
    "- *Numerical Stability*: In numerical simulations, the REV helps in choosing the appropriate grid size to ensure numerical stability and accuracy.\n",
    "\n",
    "## Instructions\n",
    "1. Run the code cell below to generate a random porous material with a specified porosity and pore blobbiness.\n",
    "2. Start with porosity and blobbiness as default values and define several rectangles of variable size with click and drag on the plot. Points will appear in the plot to the right of the porous material. These points represent the porosity of the selected rectangle.\n",
    "3. Observe how the porosity changes with the size of the selected rectangle.\n",
    "4. Change the blobbiness of the porous material and repeat steps 2 and 3. Observe how the porosity changes with the spatial correlation and structure of the pores.\n",
    "5. Now change the porosity of the porous material and repeat steps 2 and 3. Observe the influence of porosity on the REV of the material. Try randomizing the 2D-porous material.\n",
    "6. Answer the questions at the end of the notebook to test your understanding of the concept of porosity and the REV of a material. "
   ]
  },
  {
   "cell_type": "code",
   "execution_count": 3,
   "metadata": {},
   "outputs": [
    {
     "data": {
      "application/vnd.jupyter.widget-view+json": {
       "model_id": "6c8b00ae0a4b4711926eb5d5db96f7a9",
       "version_major": 2,
       "version_minor": 0
      },
      "text/plain": [
       "VBox(children=(HTML(value='<b>Instructions:</b> Click and drag on the left image to select an area. The area a…"
      ]
     },
     "metadata": {},
     "output_type": "display_data"
    }
   ],
   "source": [
    "# Run this cell to start the interactive explorer\n",
    "%matplotlib widget\n",
    "\n",
    "import numpy as np\n",
    "import matplotlib.pyplot as plt\n",
    "from matplotlib.widgets import Slider, Button, RectangleSelector\n",
    "import porespy as ps\n",
    "from IPython.display import display, clear_output\n",
    "import ipywidgets as widgets\n",
    "import matplotlib.colors as mcolors\n",
    "\n",
    "# Import local module\n",
    "from tools.REVExplorer import REVExplorer\n",
    "\n",
    "# Prevent automatic display of figures\n",
    "plt.ioff()\n",
    "\n",
    "# Create and show the interactive explorer\n",
    "explorer = REVExplorer()\n",
    "explorer.show()"
   ]
  },
  {
   "cell_type": "markdown",
   "metadata": {},
   "source": [
    "## Interactive Q & A\n",
    "With the following questions you can test if you have grasped the concept of porosity and the REV of a material."
   ]
  },
  {
   "cell_type": "code",
   "execution_count": null,
   "metadata": {},
   "outputs": [
    {
     "data": {
      "application/vnd.jupyter.widget-view+json": {
       "model_id": "1af2cdb50d6646cf95255b22575f6664",
       "version_major": 2,
       "version_minor": 0
      },
      "text/plain": [
       "VBox(children=(HTML(value='<h3>Question 1/10</h3><p><strong>Observation:</strong> As you increased the size of…"
      ]
     },
     "metadata": {},
     "output_type": "display_data"
    }
   ],
   "source": [
    "# Run this cell to start the interactive Q&A\n",
    "%matplotlib widget\n",
    "from tools.InteractiveQA import InteractiveQA, rev_questions\n",
    "\n",
    "# Create and display the interactive Q&A\n",
    "qa_module = InteractiveQA(rev_questions)\n",
    "qa_module.display()"
   ]
  },
  {
   "cell_type": "markdown",
   "metadata": {},
   "source": [
    "## References\n",
    "Gostick J, Khan ZA, Tranter TG, Kok MDR, Agnaou M, Sadeghi MA, Jervis R. PoreSpy: A Python Toolkit for Quantitative Analysis of Porous Media Images. Journal of Open Source Software, 2019. doi:10.21105/joss.01296\n",
    "\n",
    "John R. Nimmo, Sheela Katuwal, Maik Lucas: Porosity and pore-size distribution, in: Encyclopedia of Soils in the Environment (Second Edition), Academic Press, 2023, Pages 16-24, ISBN 9780323951333, https://doi.org/10.1016/B978-0-12-822974-3.00139-7. "
   ]
  }
 ],
 "metadata": {
  "kernelspec": {
   "display_name": "gw_course_312",
   "language": "python",
   "name": "python3"
  },
  "language_info": {
   "codemirror_mode": {
    "name": "ipython",
    "version": 3
   },
   "file_extension": ".py",
   "mimetype": "text/x-python",
   "name": "python",
   "nbconvert_exporter": "python",
   "pygments_lexer": "ipython3",
   "version": "3.12.2"
  }
 },
 "nbformat": 4,
 "nbformat_minor": 2
}
